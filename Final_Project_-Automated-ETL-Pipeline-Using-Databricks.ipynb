{
 "cells": [
  {
   "cell_type": "code",
   "execution_count": 0,
   "metadata": {
    "application/vnd.databricks.v1+cell": {
     "cellMetadata": {
      "byteLimit": 2048000,
      "rowLimit": 10000
     },
     "inputWidgets": {},
     "nuid": "067783d9-97c5-4c08-8887-b5139f2bdd7a",
     "showTitle": false,
     "tableResultSettingsMap": {},
     "title": ""
    }
   },
   "outputs": [],
   "source": [
    "import os"
   ]
  },
  {
   "cell_type": "code",
   "execution_count": 0,
   "metadata": {
    "application/vnd.databricks.v1+cell": {
     "cellMetadata": {
      "byteLimit": 2048000,
      "rowLimit": 10000
     },
     "inputWidgets": {},
     "nuid": "8599d4a5-f506-42c7-8f59-b3c96b1c5d57",
     "showTitle": false,
     "tableResultSettingsMap": {},
     "title": ""
    }
   },
   "outputs": [],
   "source": [
    "import os"
   ]
  },
  {
   "cell_type": "code",
   "execution_count": 0,
   "metadata": {
    "application/vnd.databricks.v1+cell": {
     "cellMetadata": {
      "byteLimit": 2048000,
      "rowLimit": 10000
     },
     "inputWidgets": {},
     "nuid": "3610e59d-fcc6-46b2-8e55-52c7382f2a02",
     "showTitle": false,
     "tableResultSettingsMap": {},
     "title": ""
    }
   },
   "outputs": [],
   "source": [
    "import pandas as pd"
   ]
  },
  {
   "cell_type": "code",
   "execution_count": 0,
   "metadata": {
    "application/vnd.databricks.v1+cell": {
     "cellMetadata": {
      "byteLimit": 2048000,
      "rowLimit": 10000
     },
     "collapsed": true,
     "inputWidgets": {},
     "nuid": "4fb2f3c7-c8b2-4bc2-a7fe-0c81c8498734",
     "showTitle": false,
     "tableResultSettingsMap": {},
     "title": ""
    }
   },
   "outputs": [
    {
     "output_type": "stream",
     "name": "stdout",
     "output_type": "stream",
     "text": [
      "Requirement already satisfied: azure-storage-blob==12.19.1 in /databricks/python3/lib/python3.11/site-packages (from -r https://raw.githubusercontent.com/George-Michael-Dagogo/World_news_tutorial/main/requirements.txt (line 1)) (12.19.1)\nCollecting lxml_html_clean==0.1.1 (from -r https://raw.githubusercontent.com/George-Michael-Dagogo/World_news_tutorial/main/requirements.txt (line 2))\n  Downloading lxml_html_clean-0.1.1-py3-none-any.whl.metadata (1.5 kB)\nCollecting newsapi-python==0.2.7 (from -r https://raw.githubusercontent.com/George-Michael-Dagogo/World_news_tutorial/main/requirements.txt (line 3))\n  Downloading newsapi_python-0.2.7-py2.py3-none-any.whl.metadata (1.2 kB)\nCollecting newspaper3k==0.2.8 (from -r https://raw.githubusercontent.com/George-Michael-Dagogo/World_news_tutorial/main/requirements.txt (line 4))\n  Downloading newspaper3k-0.2.8-py3-none-any.whl.metadata (11 kB)\nCollecting nltk==3.8.1 (from -r https://raw.githubusercontent.com/George-Michael-Dagogo/World_news_tutorial/main/requirements.txt (line 5))\n  Downloading nltk-3.8.1-py3-none-any.whl.metadata (2.8 kB)\nCollecting pandas==2.2.1 (from -r https://raw.githubusercontent.com/George-Michael-Dagogo/World_news_tutorial/main/requirements.txt (line 6))\n  Downloading pandas-2.2.1-cp311-cp311-manylinux_2_17_x86_64.manylinux2014_x86_64.whl.metadata (19 kB)\nCollecting psycopg2-binary==2.9.9 (from -r https://raw.githubusercontent.com/George-Michael-Dagogo/World_news_tutorial/main/requirements.txt (line 7))\n  Downloading psycopg2_binary-2.9.9-cp311-cp311-manylinux_2_17_x86_64.manylinux2014_x86_64.whl.metadata (4.4 kB)\nCollecting pyarrow==15.0.2 (from -r https://raw.githubusercontent.com/George-Michael-Dagogo/World_news_tutorial/main/requirements.txt (line 8))\n  Downloading pyarrow-15.0.2-cp311-cp311-manylinux_2_28_x86_64.whl.metadata (3.0 kB)\nCollecting SQLAlchemy==2.0.20 (from -r https://raw.githubusercontent.com/George-Michael-Dagogo/World_news_tutorial/main/requirements.txt (line 9))\n  Downloading SQLAlchemy-2.0.20-cp311-cp311-manylinux_2_17_x86_64.manylinux2014_x86_64.whl.metadata (9.4 kB)\nRequirement already satisfied: azure-core<2.0.0,>=1.28.0 in /databricks/python3/lib/python3.11/site-packages (from azure-storage-blob==12.19.1->-r https://raw.githubusercontent.com/George-Michael-Dagogo/World_news_tutorial/main/requirements.txt (line 1)) (1.32.0)\nRequirement already satisfied: cryptography>=2.1.4 in /databricks/python3/lib/python3.11/site-packages (from azure-storage-blob==12.19.1->-r https://raw.githubusercontent.com/George-Michael-Dagogo/World_news_tutorial/main/requirements.txt (line 1)) (41.0.3)\nRequirement already satisfied: typing-extensions>=4.3.0 in /databricks/python3/lib/python3.11/site-packages (from azure-storage-blob==12.19.1->-r https://raw.githubusercontent.com/George-Michael-Dagogo/World_news_tutorial/main/requirements.txt (line 1)) (4.10.0)\nRequirement already satisfied: isodate>=0.6.1 in /databricks/python3/lib/python3.11/site-packages (from azure-storage-blob==12.19.1->-r https://raw.githubusercontent.com/George-Michael-Dagogo/World_news_tutorial/main/requirements.txt (line 1)) (0.7.2)\nCollecting lxml (from lxml_html_clean==0.1.1->-r https://raw.githubusercontent.com/George-Michael-Dagogo/World_news_tutorial/main/requirements.txt (line 2))\n  Downloading lxml-5.3.2-cp311-cp311-manylinux_2_28_x86_64.whl.metadata (3.6 kB)\nRequirement already satisfied: requests<3.0.0 in /databricks/python3/lib/python3.11/site-packages (from newsapi-python==0.2.7->-r https://raw.githubusercontent.com/George-Michael-Dagogo/World_news_tutorial/main/requirements.txt (line 3)) (2.31.0)\nCollecting beautifulsoup4>=4.4.1 (from newspaper3k==0.2.8->-r https://raw.githubusercontent.com/George-Michael-Dagogo/World_news_tutorial/main/requirements.txt (line 4))\n  Downloading beautifulsoup4-4.13.4-py3-none-any.whl.metadata (3.8 kB)\nRequirement already satisfied: Pillow>=3.3.0 in /databricks/python3/lib/python3.11/site-packages (from newspaper3k==0.2.8->-r https://raw.githubusercontent.com/George-Michael-Dagogo/World_news_tutorial/main/requirements.txt (line 4)) (10.3.0)\nRequirement already satisfied: PyYAML>=3.11 in /databricks/python3/lib/python3.11/site-packages (from newspaper3k==0.2.8->-r https://raw.githubusercontent.com/George-Michael-Dagogo/World_news_tutorial/main/requirements.txt (line 4)) (6.0)\nCollecting cssselect>=0.9.2 (from newspaper3k==0.2.8->-r https://raw.githubusercontent.com/George-Michael-Dagogo/World_news_tutorial/main/requirements.txt (line 4))\n  Downloading cssselect-1.3.0-py3-none-any.whl.metadata (2.6 kB)\nCollecting feedparser>=5.2.1 (from newspaper3k==0.2.8->-r https://raw.githubusercontent.com/George-Michael-Dagogo/World_news_tutorial/main/requirements.txt (line 4))\n  Downloading feedparser-6.0.11-py3-none-any.whl.metadata (2.4 kB)\nCollecting tldextract>=2.0.1 (from newspaper3k==0.2.8->-r https://raw.githubusercontent.com/George-Michael-Dagogo/World_news_tutorial/main/requirements.txt (line 4))\n  Downloading tldextract-5.3.0-py3-none-any.whl.metadata (11 kB)\nCollecting feedfinder2>=0.0.4 (from newspaper3k==0.2.8->-r https://raw.githubusercontent.com/George-Michael-Dagogo/World_news_tutorial/main/requirements.txt (line 4))\n  Downloading feedfinder2-0.0.4.tar.gz (3.3 kB)\n  Preparing metadata (setup.py): started\n  Preparing metadata (setup.py): finished with status 'done'\nCollecting jieba3k>=0.35.1 (from newspaper3k==0.2.8->-r https://raw.githubusercontent.com/George-Michael-Dagogo/World_news_tutorial/main/requirements.txt (line 4))\n  Downloading jieba3k-0.35.1.zip (7.4 MB)\n\u001B[?25l     \u001B[90m━━━━━━━━━━━━━━━━━━━━━━━━━━━━━━━━━━━━━━━━\u001B[0m \u001B[32m0.0/7.4 MB\u001B[0m \u001B[31m?\u001B[0m eta \u001B[36m-:--:--\u001B[0m\r\u001B[2K     \u001B[90m━━━━━━━━━━━━━━━━━━━━━━━━━━━━━━━━━━━━━━━━\u001B[0m \u001B[32m7.4/7.4 MB\u001B[0m \u001B[31m92.3 MB/s\u001B[0m eta \u001B[36m0:00:00\u001B[0m\n\u001B[?25h  Preparing metadata (setup.py): started\n  Preparing metadata (setup.py): finished with status 'done'\nRequirement already satisfied: python-dateutil>=2.5.3 in /databricks/python3/lib/python3.11/site-packages (from newspaper3k==0.2.8->-r https://raw.githubusercontent.com/George-Michael-Dagogo/World_news_tutorial/main/requirements.txt (line 4)) (2.8.2)\nCollecting tinysegmenter==0.3 (from newspaper3k==0.2.8->-r https://raw.githubusercontent.com/George-Michael-Dagogo/World_news_tutorial/main/requirements.txt (line 4))\n  Downloading tinysegmenter-0.3.tar.gz (16 kB)\n  Preparing metadata (setup.py): started\n  Preparing metadata (setup.py): finished with status 'done'\nRequirement already satisfied: click in /databricks/python3/lib/python3.11/site-packages (from nltk==3.8.1->-r https://raw.githubusercontent.com/George-Michael-Dagogo/World_news_tutorial/main/requirements.txt (line 5)) (8.0.4)\nRequirement already satisfied: joblib in /databricks/python3/lib/python3.11/site-packages (from nltk==3.8.1->-r https://raw.githubusercontent.com/George-Michael-Dagogo/World_news_tutorial/main/requirements.txt (line 5)) (1.2.0)\nCollecting regex>=2021.8.3 (from nltk==3.8.1->-r https://raw.githubusercontent.com/George-Michael-Dagogo/World_news_tutorial/main/requirements.txt (line 5))\n  Downloading regex-2024.11.6-cp311-cp311-manylinux_2_17_x86_64.manylinux2014_x86_64.whl.metadata (40 kB)\nCollecting tqdm (from nltk==3.8.1->-r https://raw.githubusercontent.com/George-Michael-Dagogo/World_news_tutorial/main/requirements.txt (line 5))\n  Downloading tqdm-4.67.1-py3-none-any.whl.metadata (57 kB)\nRequirement already satisfied: numpy<2,>=1.23.2 in /databricks/python3/lib/python3.11/site-packages (from pandas==2.2.1->-r https://raw.githubusercontent.com/George-Michael-Dagogo/World_news_tutorial/main/requirements.txt (line 6)) (1.23.5)\nRequirement already satisfied: pytz>=2020.1 in /databricks/python3/lib/python3.11/site-packages (from pandas==2.2.1->-r https://raw.githubusercontent.com/George-Michael-Dagogo/World_news_tutorial/main/requirements.txt (line 6)) (2022.7)\nCollecting tzdata>=2022.7 (from pandas==2.2.1->-r https://raw.githubusercontent.com/George-Michael-Dagogo/World_news_tutorial/main/requirements.txt (line 6))\n  Downloading tzdata-2025.2-py2.py3-none-any.whl.metadata (1.4 kB)\nCollecting greenlet!=0.4.17 (from SQLAlchemy==2.0.20->-r https://raw.githubusercontent.com/George-Michael-Dagogo/World_news_tutorial/main/requirements.txt (line 9))\n  Downloading greenlet-3.2.0-cp311-cp311-manylinux_2_24_x86_64.manylinux_2_28_x86_64.whl.metadata (4.1 kB)\nRequirement already satisfied: six>=1.11.0 in /usr/lib/python3/dist-packages (from azure-core<2.0.0,>=1.28.0->azure-storage-blob==12.19.1->-r https://raw.githubusercontent.com/George-Michael-Dagogo/World_news_tutorial/main/requirements.txt (line 1)) (1.16.0)\nCollecting soupsieve>1.2 (from beautifulsoup4>=4.4.1->newspaper3k==0.2.8->-r https://raw.githubusercontent.com/George-Michael-Dagogo/World_news_tutorial/main/requirements.txt (line 4))\n  Downloading soupsieve-2.7-py3-none-any.whl.metadata (4.6 kB)\nRequirement already satisfied: cffi>=1.12 in /databricks/python3/lib/python3.11/site-packages (from cryptography>=2.1.4->azure-storage-blob==12.19.1->-r https://raw.githubusercontent.com/George-Michael-Dagogo/World_news_tutorial/main/requirements.txt (line 1)) (1.15.1)\nCollecting sgmllib3k (from feedparser>=5.2.1->newspaper3k==0.2.8->-r https://raw.githubusercontent.com/George-Michael-Dagogo/World_news_tutorial/main/requirements.txt (line 4))\n  Downloading sgmllib3k-1.0.0.tar.gz (5.8 kB)\n  Preparing metadata (setup.py): started\n  Preparing metadata (setup.py): finished with status 'done'\nRequirement already satisfied: charset-normalizer<4,>=2 in /databricks/python3/lib/python3.11/site-packages (from requests<3.0.0->newsapi-python==0.2.7->-r https://raw.githubusercontent.com/George-Michael-Dagogo/World_news_tutorial/main/requirements.txt (line 3)) (2.0.4)\nRequirement already satisfied: idna<4,>=2.5 in /databricks/python3/lib/python3.11/site-packages (from requests<3.0.0->newsapi-python==0.2.7->-r https://raw.githubusercontent.com/George-Michael-Dagogo/World_news_tutorial/main/requirements.txt (line 3)) (3.4)\nRequirement already satisfied: urllib3<3,>=1.21.1 in /databricks/python3/lib/python3.11/site-packages (from requests<3.0.0->newsapi-python==0.2.7->-r https://raw.githubusercontent.com/George-Michael-Dagogo/World_news_tutorial/main/requirements.txt (line 3)) (1.26.16)\nRequirement already satisfied: certifi>=2017.4.17 in /databricks/python3/lib/python3.11/site-packages (from requests<3.0.0->newsapi-python==0.2.7->-r https://raw.githubusercontent.com/George-Michael-Dagogo/World_news_tutorial/main/requirements.txt (line 3)) (2023.7.22)\nCollecting requests-file>=1.4 (from tldextract>=2.0.1->newspaper3k==0.2.8->-r https://raw.githubusercontent.com/George-Michael-Dagogo/World_news_tutorial/main/requirements.txt (line 4))\n  Downloading requests_file-2.1.0-py2.py3-none-any.whl.metadata (1.7 kB)\nRequirement already satisfied: filelock>=3.0.8 in /databricks/python3/lib/python3.11/site-packages (from tldextract>=2.0.1->newspaper3k==0.2.8->-r https://raw.githubusercontent.com/George-Michael-Dagogo/World_news_tutorial/main/requirements.txt (line 4)) (3.13.4)\nRequirement already satisfied: pycparser in /databricks/python3/lib/python3.11/site-packages (from cffi>=1.12->cryptography>=2.1.4->azure-storage-blob==12.19.1->-r https://raw.githubusercontent.com/George-Michael-Dagogo/World_news_tutorial/main/requirements.txt (line 1)) (2.21)\nDownloading lxml_html_clean-0.1.1-py3-none-any.whl (11 kB)\nDownloading newsapi_python-0.2.7-py2.py3-none-any.whl (7.9 kB)\nDownloading newspaper3k-0.2.8-py3-none-any.whl (211 kB)\nDownloading nltk-3.8.1-py3-none-any.whl (1.5 MB)\n\u001B[?25l   \u001B[90m━━━━━━━━━━━━━━━━━━━━━━━━━━━━━━━━━━━━━━━━\u001B[0m \u001B[32m0.0/1.5 MB\u001B[0m \u001B[31m?\u001B[0m eta \u001B[36m-:--:--\u001B[0m\r\u001B[2K   \u001B[90m━━━━━━━━━━━━━━━━━━━━━━━━━━━━━━━━━━━━━━━━\u001B[0m \u001B[32m1.5/1.5 MB\u001B[0m \u001B[31m69.4 MB/s\u001B[0m eta \u001B[36m0:00:00\u001B[0m\n\u001B[?25hDownloading pandas-2.2.1-cp311-cp311-manylinux_2_17_x86_64.manylinux2014_x86_64.whl (13.0 MB)\n\u001B[?25l   \u001B[90m━━━━━━━━━━━━━━━━━━━━━━━━━━━━━━━━━━━━━━━━\u001B[0m \u001B[32m0.0/13.0 MB\u001B[0m \u001B[31m?\u001B[0m eta \u001B[36m-:--:--\u001B[0m\r\u001B[2K   \u001B[90m━━━━━━━━━━━━━━━━━━━━━━━━━━━━━━━━━━━━━━━━\u001B[0m \u001B[32m13.0/13.0 MB\u001B[0m \u001B[31m89.7 MB/s\u001B[0m eta \u001B[36m0:00:00\u001B[0m\n\u001B[?25hDownloading psycopg2_binary-2.9.9-cp311-cp311-manylinux_2_17_x86_64.manylinux2014_x86_64.whl (3.0 MB)\n\u001B[?25l   \u001B[90m━━━━━━━━━━━━━━━━━━━━━━━━━━━━━━━━━━━━━━━━\u001B[0m \u001B[32m0.0/3.0 MB\u001B[0m \u001B[31m?\u001B[0m eta \u001B[36m-:--:--\u001B[0m\r\u001B[2K   \u001B[90m━━━━━━━━━━━━━━━━━━━━━━━━━━━━━━━━━━━━━━━━\u001B[0m \u001B[32m3.0/3.0 MB\u001B[0m \u001B[31m74.8 MB/s\u001B[0m eta \u001B[36m0:00:00\u001B[0m\n\u001B[?25hDownloading pyarrow-15.0.2-cp311-cp311-manylinux_2_28_x86_64.whl (38.3 MB)\n\u001B[?25l   \u001B[90m━━━━━━━━━━━━━━━━━━━━━━━━━━━━━━━━━━━━━━━━\u001B[0m \u001B[32m0.0/38.3 MB\u001B[0m \u001B[31m?\u001B[0m eta \u001B[36m-:--:--\u001B[0m\r\u001B[2K   \u001B[91m━━━━━━━━━━━━━━━━━━━━━━━━━━━━\u001B[0m\u001B[91m╸\u001B[0m\u001B[90m━━━━━━━━━━━\u001B[0m \u001B[32m27.8/38.3 MB\u001B[0m \u001B[31m140.2 MB/s\u001B[0m eta \u001B[36m0:00:01\u001B[0m\r\u001B[2K   \u001B[91m━━━━━━━━━━━━━━━━━━━━━━━━━━━━━━━━━━━━━━━\u001B[0m\u001B[91m╸\u001B[0m \u001B[32m38.3/38.3 MB\u001B[0m \u001B[31m127.7 MB/s\u001B[0m eta \u001B[36m0:00:01\u001B[0m\r\u001B[2K   \u001B[90m━━━━━━━━━━━━━━━━━━━━━━━━━━━━━━━━━━━━━━━━\u001B[0m \u001B[32m38.3/38.3 MB\u001B[0m \u001B[31m70.2 MB/s\u001B[0m eta \u001B[36m0:00:00\u001B[0m\n\u001B[?25hDownloading SQLAlchemy-2.0.20-cp311-cp311-manylinux_2_17_x86_64.manylinux2014_x86_64.whl (3.2 MB)\n\u001B[?25l   \u001B[90m━━━━━━━━━━━━━━━━━━━━━━━━━━━━━━━━━━━━━━━━\u001B[0m \u001B[32m0.0/3.2 MB\u001B[0m \u001B[31m?\u001B[0m eta \u001B[36m-:--:--\u001B[0m\r\u001B[2K   \u001B[91m━━━━━━━━━━━━━━━━━━━━━━━━━━━━━━━━━━━━━━━\u001B[0m\u001B[91m╸\u001B[0m \u001B[32m3.1/3.2 MB\u001B[0m \u001B[31m28.4 MB/s\u001B[0m eta \u001B[36m0:00:01\u001B[0m\r\u001B[2K   \u001B[90m━━━━━━━━━━━━━━━━━━━━━━━━━━━━━━━━━━━━━━━━\u001B[0m \u001B[32m3.2/3.2 MB\u001B[0m \u001B[31m13.3 MB/s\u001B[0m eta \u001B[36m0:00:00\u001B[0m\n\u001B[?25hDownloading beautifulsoup4-4.13.4-py3-none-any.whl (187 kB)\nDownloading cssselect-1.3.0-py3-none-any.whl (18 kB)\nDownloading feedparser-6.0.11-py3-none-any.whl (81 kB)\nDownloading greenlet-3.2.0-cp311-cp311-manylinux_2_24_x86_64.manylinux_2_28_x86_64.whl (583 kB)\n\u001B[?25l   \u001B[90m━━━━━━━━━━━━━━━━━━━━━━━━━━━━━━━━━━━━━━━━\u001B[0m \u001B[32m0.0/583.9 kB\u001B[0m \u001B[31m?\u001B[0m eta \u001B[36m-:--:--\u001B[0m\r\u001B[2K   \u001B[90m━━━━━━━━━━━━━━━━━━━━━━━━━━━━━━━━━━━━━━━━\u001B[0m \u001B[32m583.9/583.9 kB\u001B[0m \u001B[31m36.0 MB/s\u001B[0m eta \u001B[36m0:00:00\u001B[0m\n\u001B[?25hDownloading lxml-5.3.2-cp311-cp311-manylinux_2_28_x86_64.whl (5.0 MB)\n\u001B[?25l   \u001B[90m━━━━━━━━━━━━━━━━━━━━━━━━━━━━━━━━━━━━━━━━\u001B[0m \u001B[32m0.0/5.0 MB\u001B[0m \u001B[31m?\u001B[0m eta \u001B[36m-:--:--\u001B[0m\r\u001B[2K   \u001B[90m━━━━━━━━━━━━━━━━━━━━━━━━━━━━━━━━━━━━━━━━\u001B[0m \u001B[32m5.0/5.0 MB\u001B[0m \u001B[31m67.9 MB/s\u001B[0m eta \u001B[36m0:00:00\u001B[0m\n\u001B[?25hDownloading regex-2024.11.6-cp311-cp311-manylinux_2_17_x86_64.manylinux2014_x86_64.whl (792 kB)\n\u001B[?25l   \u001B[90m━━━━━━━━━━━━━━━━━━━━━━━━━━━━━━━━━━━━━━━━\u001B[0m \u001B[32m0.0/792.7 kB\u001B[0m \u001B[31m?\u001B[0m eta \u001B[36m-:--:--\u001B[0m\r\u001B[2K   \u001B[90m━━━━━━━━━━━━━━━━━━━━━━━━━━━━━━━━━━━━━━━━\u001B[0m \u001B[32m792.7/792.7 kB\u001B[0m \u001B[31m66.8 MB/s\u001B[0m eta \u001B[36m0:00:00\u001B[0m\n\u001B[?25hDownloading tldextract-5.3.0-py3-none-any.whl (107 kB)\nDownloading tzdata-2025.2-py2.py3-none-any.whl (347 kB)\nDownloading tqdm-4.67.1-py3-none-any.whl (78 kB)\nDownloading requests_file-2.1.0-py2.py3-none-any.whl (4.2 kB)\nDownloading soupsieve-2.7-py3-none-any.whl (36 kB)\nBuilding wheels for collected packages: tinysegmenter, feedfinder2, jieba3k, sgmllib3k\n  Building wheel for tinysegmenter (setup.py): started\n  Building wheel for tinysegmenter (setup.py): finished with status 'done'\n  Created wheel for tinysegmenter: filename=tinysegmenter-0.3-py3-none-any.whl size=13539 sha256=04f60b2eda563162a3c2c91f1e9d02e97e0d64e701d8fbbfffd0d33223d2b412\n  Stored in directory: /home/spark-d6dd3ab5-01d5-4cb5-8f96-cc/.cache/pip/wheels/fc/ab/f8/cce3a9ae6d828bd346be695f7ff54612cd22b7cbd7208d68f3\n  Building wheel for feedfinder2 (setup.py): started\n  Building wheel for feedfinder2 (setup.py): finished with status 'done'\n  Created wheel for feedfinder2: filename=feedfinder2-0.0.4-py3-none-any.whl size=3342 sha256=6948bf74a8266a2805b617c822f4366292f2c3bfd97531face31eed4fc100c52\n  Stored in directory: /home/spark-d6dd3ab5-01d5-4cb5-8f96-cc/.cache/pip/wheels/80/d5/72/9cd9eccc819636436c6a6e59c22a0fb1ec167beef141f56491\n  Building wheel for jieba3k (setup.py): started\n  Building wheel for jieba3k (setup.py): finished with status 'done'\n  Created wheel for jieba3k: filename=jieba3k-0.35.1-py3-none-any.whl size=7398379 sha256=29d0980c3056d11d69de7b9aaa242bcb32bc0b21411af6d33a2966be7ce17cd1\n  Stored in directory: /home/spark-d6dd3ab5-01d5-4cb5-8f96-cc/.cache/pip/wheels/3a/a1/46/8e68055c1713f9c4598774c15ad0541f26d5425ee7423b6493\n  Building wheel for sgmllib3k (setup.py): started\n  Building wheel for sgmllib3k (setup.py): finished with status 'done'\n  Created wheel for sgmllib3k: filename=sgmllib3k-1.0.0-py3-none-any.whl size=6047 sha256=6e0720b5dfeefd0403c94ab2a8f4c3e0a57bbc637cc3627a159ece79d085ce8d\n  Stored in directory: /home/spark-d6dd3ab5-01d5-4cb5-8f96-cc/.cache/pip/wheels/3b/25/2a/105d6a15df6914f4d15047691c6c28f9052cc1173e40285d03\nSuccessfully built tinysegmenter feedfinder2 jieba3k sgmllib3k\nInstalling collected packages: tinysegmenter, sgmllib3k, jieba3k, tzdata, tqdm, soupsieve, regex, pyarrow, psycopg2-binary, lxml, greenlet, feedparser, cssselect, SQLAlchemy, requests-file, pandas, nltk, newsapi-python, lxml_html_clean, beautifulsoup4, tldextract, feedfinder2, newspaper3k\n  Attempting uninstall: tzdata\n    Found existing installation: tzdata 2022.1\n    Not uninstalling tzdata at /databricks/python3/lib/python3.11/site-packages, outside environment /local_disk0/.ephemeral_nfs/envs/pythonEnv-d6dd3ab5-01d5-4cb5-8f96-ccf6d8da6250\n    Can't uninstall 'tzdata'. No files were found to uninstall.\n  Attempting uninstall: pyarrow\n    Found existing installation: pyarrow 14.0.1\n    Not uninstalling pyarrow at /databricks/python3/lib/python3.11/site-packages, outside environment /local_disk0/.ephemeral_nfs/envs/pythonEnv-d6dd3ab5-01d5-4cb5-8f96-ccf6d8da6250\n    Can't uninstall 'pyarrow'. No files were found to uninstall.\n  Attempting uninstall: pandas\n    Found existing installation: pandas 1.5.3\n    Not uninstalling pandas at /databricks/python3/lib/python3.11/site-packages, outside environment /local_disk0/.ephemeral_nfs/envs/pythonEnv-d6dd3ab5-01d5-4cb5-8f96-ccf6d8da6250\n    Can't uninstall 'pandas'. No files were found to uninstall.\nSuccessfully installed SQLAlchemy-2.0.20 beautifulsoup4-4.13.4 cssselect-1.3.0 feedfinder2-0.0.4 feedparser-6.0.11 greenlet-3.2.0 jieba3k-0.35.1 lxml-5.3.2 lxml_html_clean-0.1.1 newsapi-python-0.2.7 newspaper3k-0.2.8 nltk-3.8.1 pandas-2.2.1 psycopg2-binary-2.9.9 pyarrow-15.0.2 regex-2024.11.6 requests-file-2.1.0 sgmllib3k-1.0.0 soupsieve-2.7 tinysegmenter-0.3 tldextract-5.3.0 tqdm-4.67.1 tzdata-2025.2\n"
     ]
    },
    {
     "output_type": "stream",
     "name": "stderr",
     "output_type": "stream",
     "text": [
      "\n\u001B[1m[\u001B[0m\u001B[34;49mnotice\u001B[0m\u001B[1;39;49m]\u001B[0m\u001B[39;49m A new release of pip is available: \u001B[0m\u001B[31;49m24.2\u001B[0m\u001B[39;49m -> \u001B[0m\u001B[32;49m25.0.1\u001B[0m\n\u001B[1m[\u001B[0m\u001B[34;49mnotice\u001B[0m\u001B[1;39;49m]\u001B[0m\u001B[39;49m To update, run: \u001B[0m\u001B[32;49mpip install --upgrade pip\u001B[0m\n"
     ]
    },
    {
     "output_type": "execute_result",
     "data": {
      "text/plain": [
       "0"
      ]
     },
     "execution_count": 5,
     "metadata": {},
     "output_type": "execute_result"
    }
   ],
   "source": [
    "os.system(\"pip install -r https://raw.githubusercontent.com/George-Michael-Dagogo/World_news_tutorial/main/requirements.txt\")"
   ]
  },
  {
   "cell_type": "code",
   "execution_count": 0,
   "metadata": {
    "application/vnd.databricks.v1+cell": {
     "cellMetadata": {
      "byteLimit": 2048000,
      "rowLimit": 10000
     },
     "inputWidgets": {},
     "nuid": "a6207f39-0707-4b70-942d-5ee9d9f4f771",
     "showTitle": false,
     "tableResultSettingsMap": {},
     "title": ""
    }
   },
   "outputs": [],
   "source": [
    "from newspaper import Article, Config"
   ]
  },
  {
   "cell_type": "code",
   "execution_count": 0,
   "metadata": {
    "application/vnd.databricks.v1+cell": {
     "cellMetadata": {
      "byteLimit": 2048000,
      "rowLimit": 10000
     },
     "inputWidgets": {},
     "nuid": "c938c6b8-a268-4aeb-b551-8df8c126d32d",
     "showTitle": false,
     "tableResultSettingsMap": {},
     "title": ""
    }
   },
   "outputs": [],
   "source": [
    "from nltk.corpus import stopwords"
   ]
  },
  {
   "cell_type": "code",
   "execution_count": 0,
   "metadata": {
    "application/vnd.databricks.v1+cell": {
     "cellMetadata": {
      "byteLimit": 2048000,
      "rowLimit": 10000
     },
     "inputWidgets": {},
     "nuid": "da76b9fc-75e8-4df4-bce7-b3e99c0c7be7",
     "showTitle": false,
     "tableResultSettingsMap": {},
     "title": ""
    }
   },
   "outputs": [],
   "source": [
    "import nltk\n",
    "from nltk.sentiment.vader import SentimentIntensityAnalyzer\n",
    "from datetime import date, timedelta"
   ]
  },
  {
   "cell_type": "code",
   "execution_count": 0,
   "metadata": {
    "application/vnd.databricks.v1+cell": {
     "cellMetadata": {
      "byteLimit": 2048000,
      "rowLimit": 10000
     },
     "inputWidgets": {},
     "nuid": "d4d9674d-c41d-4282-9153-619b72048cd7",
     "showTitle": false,
     "tableResultSettingsMap": {},
     "title": ""
    }
   },
   "outputs": [],
   "source": [
    "from datetime import date, timedelta"
   ]
  },
  {
   "cell_type": "code",
   "execution_count": 0,
   "metadata": {
    "application/vnd.databricks.v1+cell": {
     "cellMetadata": {
      "byteLimit": 2048000,
      "rowLimit": 10000
     },
     "inputWidgets": {},
     "nuid": "34f975cb-140a-4b51-b233-b23b291e7fcc",
     "showTitle": false,
     "tableResultSettingsMap": {},
     "title": ""
    }
   },
   "outputs": [],
   "source": [
    "from newsapi import NewsApiClient"
   ]
  },
  {
   "cell_type": "code",
   "execution_count": 0,
   "metadata": {
    "application/vnd.databricks.v1+cell": {
     "cellMetadata": {
      "byteLimit": 2048000,
      "rowLimit": 10000
     },
     "inputWidgets": {},
     "nuid": "1aa3bc1e-e88d-4968-ae4c-3edd2ff89120",
     "showTitle": false,
     "tableResultSettingsMap": {},
     "title": ""
    }
   },
   "outputs": [],
   "source": [
    "from nltk.tokenize import word_tokenize"
   ]
  },
  {
   "cell_type": "code",
   "execution_count": 0,
   "metadata": {
    "application/vnd.databricks.v1+cell": {
     "cellMetadata": {
      "byteLimit": 2048000,
      "rowLimit": 10000
     },
     "inputWidgets": {},
     "nuid": "141c8647-e7d4-4e7a-97be-36461f7cd4df",
     "showTitle": false,
     "tableResultSettingsMap": {},
     "title": ""
    }
   },
   "outputs": [],
   "source": [
    "# Function to extract content from a URL\n",
    "def full_content(url):\n",
    "    user_agent = 'Mozilla/5.0 (Macintosh; Intel Mac OS X 10_11_5) AppleWebKit/537.36 (KHTML, like Gecko) Chrome/50.0.2661.102 Safari/537.36'\n",
    "    config = Config()\n",
    "    config.browser_user_agent = user_agent\n",
    "    page = Article(url, config=config)\n",
    "\n",
    "    try:\n",
    "        page.download()\n",
    "        page.parse()\n",
    "        return page.text\n",
    "    except Exception as e:\n",
    "        print(f\"Error retrieving content from {url}: {e}\")\n",
    "        return 'couldnt retrieve'"
   ]
  },
  {
   "cell_type": "code",
   "execution_count": 0,
   "metadata": {
    "application/vnd.databricks.v1+cell": {
     "cellMetadata": {
      "byteLimit": 2048000,
      "rowLimit": 10000
     },
     "inputWidgets": {},
     "nuid": "ed9a8456-51e9-4146-a27a-70dca4de9782",
     "showTitle": false,
     "tableResultSettingsMap": {},
     "title": ""
    }
   },
   "outputs": [
    {
     "output_type": "stream",
     "name": "stderr",
     "output_type": "stream",
     "text": [
      "[nltk_data] Downloading package stopwords to\n[nltk_data]     /home/spark-d6dd3ab5-01d5-4cb5-8f96-cc/nltk_data...\n[nltk_data]   Unzipping corpora/stopwords.zip.\n[nltk_data] Downloading package punkt to\n[nltk_data]     /home/spark-d6dd3ab5-01d5-4cb5-8f96-cc/nltk_data...\n[nltk_data]   Unzipping tokenizers/punkt.zip.\n[nltk_data] Downloading package wordnet to\n[nltk_data]     /home/spark-d6dd3ab5-01d5-4cb5-8f96-cc/nltk_data...\n[nltk_data] Downloading package vader_lexicon to\n[nltk_data]     /home/spark-d6dd3ab5-01d5-4cb5-8f96-cc/nltk_data...\n"
     ]
    }
   ],
   "source": [
    "%python\n",
    "def count_words_without_stopwords(text):\n",
    "    stop_words = set(stopwords.words('english'))\n",
    "    words = word_tokenize(text)\n",
    "    filtered_words = [word for word in words if word.lower() not in stop_words]\n",
    "    return len(filtered_words)\n",
    "\n",
    "def get_sentiment(text):\n",
    "    sid = SentimentIntensityAnalyzer()\n",
    "    sentiment_scores = sid.polarity_scores(text)\n",
    "    return sentiment_scores['compound'], sentiment_scores['compound']\n",
    "\n",
    "def full_content(url):\n",
    "    # Dummy implementation for the full_content function\n",
    "    return \"This is a dummy content for the URL.\"\n",
    "\n",
    "def extract_transform_function():\n",
    "    today = date.today()                        \n",
    "    yesterday = today - timedelta(days=1)     \n",
    "    day_before_yesterday = today - timedelta(days=2)   \n",
    "    \n",
    "    # Initialize the News API client with an API key\n",
    "    newsapi = NewsApiClient(api_key='ff4373852c2343a98303951439854f8c')\n",
    "\n",
    "    top_headlines = newsapi.get_top_headlines(category='entertainment',language='en',page_size=90,page=1)\n",
    "\n",
    "    articles = top_headlines.get('articles', [])  # Extract articles from the API response\n",
    "\n",
    "    # Creating DF from the articles, selecting specific columns\n",
    "    init_df = pd.DataFrame(articles, columns=['source', 'title', 'publishedAt', 'author', 'url'])\n",
    "\n",
    "    init_df['source'] = init_df['source'].apply(lambda x: x['name'] if pd.notna(x) and 'name' in x else None)\n",
    "\n",
    "    init_df['publishedAt'] = pd.to_datetime(init_df['publishedAt'])\n",
    "    filtered_df = init_df[(init_df['publishedAt'].dt.date == day_before_yesterday) | \n",
    "                          (init_df['publishedAt'].dt.date == yesterday)]\n",
    "    filtered_df.rename(columns={'publishedAt': 'date_posted'}, inplace=True)\n",
    "    \n",
    "    df = filtered_df.copy()  # Copy of filtered DF\n",
    "\n",
    "    df['content'] = df['url'].apply(full_content)  # Apply the full_content function to each URL in the DataFrame\n",
    "    \n",
    "    df['content'] = df['content'].str.replace('\\n', ' ')  # Replace newlines in the 'content' column with spaces\n",
    "    \n",
    "    df = df[df['content'] != 'couldnt retrieve']  # Filter out rows where the content could not be retrieved\n",
    "\n",
    "    # Download the NLTK stopwords dataset and other required datasets\n",
    "    nltk.download('stopwords')\n",
    "    nltk.download('punkt')\n",
    "    nltk.download('wordnet')\n",
    "\n",
    "    # Apply the word count function to the 'content' column\n",
    "    df['word_count'] = df['content'].apply(count_words_without_stopwords)\n",
    "\n",
    "    \n",
    "    nltk.download('vader_lexicon')\n",
    "\n",
    "    \n",
    "    sid = SentimentIntensityAnalyzer()    # Initialize the SentimentIntensityAnalyzer\n",
    "\n",
    "    # Apply the sentiment analysis function to the 'content' column\n",
    "    df[['sentiment', 'compound_score']] = df['content'].astype(str).apply(lambda x: pd.Series(get_sentiment(x)))\n",
    "\n",
    "    \n",
    "\n",
    "    return df\n",
    "        \n",
    "dataframe = extract_transform_function()"
   ]
  },
  {
   "cell_type": "code",
   "execution_count": 0,
   "metadata": {
    "application/vnd.databricks.v1+cell": {
     "cellMetadata": {
      "byteLimit": 2048000,
      "rowLimit": 10000
     },
     "inputWidgets": {},
     "nuid": "3346d7a2-32bb-408c-96fa-7d51e30e8cda",
     "showTitle": false,
     "tableResultSettingsMap": {},
     "title": ""
    }
   },
   "outputs": [
    {
     "output_type": "stream",
     "name": "stderr",
     "output_type": "stream",
     "text": [
      "[nltk_data] Downloading package stopwords to\n[nltk_data]     /home/spark-d6dd3ab5-01d5-4cb5-8f96-cc/nltk_data...\n[nltk_data]   Package stopwords is already up-to-date!\n[nltk_data] Downloading package punkt to\n[nltk_data]     /home/spark-d6dd3ab5-01d5-4cb5-8f96-cc/nltk_data...\n[nltk_data]   Package punkt is already up-to-date!\n[nltk_data] Downloading package wordnet to\n[nltk_data]     /home/spark-d6dd3ab5-01d5-4cb5-8f96-cc/nltk_data...\n[nltk_data]   Package wordnet is already up-to-date!\n[nltk_data] Downloading package vader_lexicon to\n[nltk_data]     /home/spark-d6dd3ab5-01d5-4cb5-8f96-cc/nltk_data...\n[nltk_data]   Package vader_lexicon is already up-to-date!\n"
     ]
    }
   ],
   "source": [
    "# Function to count words excluding stopwords\n",
    "def count_words_without_stopwords(text):\n",
    "    stop_words = set(stopwords.words('english'))\n",
    "    words = word_tokenize(text)\n",
    "    filtered_words = [word for word in words if word.lower() not in stop_words]\n",
    "    return len(filtered_words)\n",
    "\n",
    "# Function for sentiment analysis\n",
    "def get_sentiment(text):\n",
    "    sid = SentimentIntensityAnalyzer()\n",
    "    sentiment_scores = sid.polarity_scores(text)\n",
    "    return sentiment_scores['compound'], sentiment_scores['compound']\n",
    "\n",
    "def full_content(url):\n",
    "    # Dummy implementation for the full_content function\n",
    "    return \"This is a dummy content for the URL.\"\n",
    "\n",
    "# Data extraction and transformation\n",
    "def extract_transform_function():\n",
    "    today = date.today()                        \n",
    "    yesterday = today - timedelta(days=1)     \n",
    "    day_before_yesterday = today - timedelta(days=2)   \n",
    "    \n",
    "    # Initialize News API client\n",
    "    newsapi = NewsApiClient(api_key='ff4373852c2343a98303951439854f8c')\n",
    "\n",
    "    top_headlines = newsapi.get_top_headlines(category='entertainment', language='en', page_size=90, page=1)\n",
    "\n",
    "    articles = top_headlines.get('articles', [])  # Extract articles\n",
    "\n",
    "    # Convert articles to DataFrame\n",
    "    init_df = pd.DataFrame(articles, columns=['source', 'title', 'publishedAt', 'author', 'url'])\n",
    "\n",
    "    # Extract source name safely\n",
    "    init_df['source'] = init_df['source'].apply(lambda x: x['name'] if pd.notna(x) and 'name' in x else None)\n",
    "\n",
    "    # Convert 'publishedAt' to date format and filter\n",
    "    init_df['publishedAt'] = pd.to_datetime(init_df['publishedAt'])\n",
    "    filtered_df = init_df[(init_df['publishedAt'].dt.date == day_before_yesterday) | \n",
    "                          (init_df['publishedAt'].dt.date == yesterday)]\n",
    "    \n",
    "    filtered_df.rename(columns={'publishedAt': 'date_posted'}, inplace=True)\n",
    "    \n",
    "    df = filtered_df.copy()  # Copy DataFrame\n",
    "    df['content'] = df['url'].apply(full_content)  # Fetch article content\n",
    "    \n",
    "    # Clean text formatting\n",
    "    df['content'] = df['content'].str.replace('\\n', ' ')\n",
    "    \n",
    "    # Remove entries where content couldn't be retrieved\n",
    "    df = df[df['content'] != 'couldnt retrieve']\n",
    "\n",
    "    # Download required NLTK datasets\n",
    "    nltk.download('stopwords')\n",
    "    nltk.download('punkt')\n",
    "    nltk.download('wordnet')\n",
    "    nltk.download('vader_lexicon')\n",
    "\n",
    "    # Calculate word countl\n",
    "    df['word_count'] = df['content'].apply(count_words_without_stopwords)\n",
    "\n",
    "\n",
    "    # Perform sentiment analysis\n",
    "    df[['sentiment', 'compound_score']] = df['content'].astype(str).apply(lambda x: pd.Series(get_sentiment(x)))\n",
    "\n",
    "\n",
    "    return df\n",
    "\n",
    "# Extract transformed data\n",
    "dataframe = extract_transform_function()\n"
   ]
  },
  {
   "cell_type": "code",
   "execution_count": 0,
   "metadata": {
    "application/vnd.databricks.v1+cell": {
     "cellMetadata": {
      "byteLimit": 2048000,
      "rowLimit": 10000
     },
     "inputWidgets": {},
     "nuid": "fdd4dd31-af69-4934-8239-a73d09683ed2",
     "showTitle": false,
     "tableResultSettingsMap": {},
     "title": ""
    }
   },
   "outputs": [
    {
     "output_type": "display_data",
     "data": {
      "text/html": [
       "<style scoped>\n",
       "  .table-result-container {\n",
       "    max-height: 300px;\n",
       "    overflow: auto;\n",
       "  }\n",
       "  table, th, td {\n",
       "    border: 1px solid black;\n",
       "    border-collapse: collapse;\n",
       "  }\n",
       "  th, td {\n",
       "    padding: 5px;\n",
       "  }\n",
       "  th {\n",
       "    text-align: left;\n",
       "  }\n",
       "</style><div class='table-result-container'><table class='table-result'><thead style='background-color: white'><tr><th>source</th><th>title</th><th>date_posted</th><th>author</th><th>url</th><th>content</th><th>word_count</th><th>sentiment</th><th>compound_score</th></tr></thead><tbody><tr><td>Cageside Seats</td><td>Rumor Roundup: Becky Lynch return, Bayley sympathy, Rey Mysterio injury, AAA, more! - Cageside Seats</td><td>2025-04-21T05:00:00.000Z</td><td>Randall Ortman</td><td>https://www.cagesideseats.com/2025/4/21/24412839/rumor-roundup-april-21-2025-becky-lynch-return-bayley-sympathy-rey-mysterio-injury-aaa-deal</td><td>This is a dummy content for the URL.</td><td>4</td><td>0.0</td><td>0.0</td></tr><tr><td>CBS Sports</td><td>WWE WrestleMania 41 results, grades: John Cena wins record 17th world title, ends Cody Rhodes' year-long reign - CBS Sports</td><td>2025-04-21T03:58:50.000Z</td><td>Brent Brookhouse</td><td>https://www.cbssports.com/wwe/news/wwe-wrestlemania-41-results-grades-john-cena-wins-record-17th-world-title-ends-cody-rhodes-year-long-reign/live/</td><td>This is a dummy content for the URL.</td><td>4</td><td>0.0</td><td>0.0</td></tr><tr><td>Variety</td><td>Pedro Pascal Speaks Out After ‘The Last of Us’ Twist and Says ‘I’m in Active Denial’; Bella Ramsey ‘Sobbed’ Reading It: A ‘Brilliant Achievement’ If It’s ‘Painful for People’ - Variety</td><td>2025-04-21T03:36:00.000Z</td><td>Zack Sharf</td><td>https://variety.com/2025/tv/news/pedro-pascal-bella-ramsey-joel-death-last-of-us-1236373640/</td><td>This is a dummy content for the URL.</td><td>4</td><td>0.0</td><td>0.0</td></tr><tr><td>Just Jared</td><td>Kristen Stewart & Dylan Meyer Tie the Knot on Easter Sunday, Wedding Details Revealed! - Just Jared</td><td>2025-04-21T03:26:51.000Z</td><td>null</td><td>https://www.justjared.com/2025/04/20/kristen-stewart-dylan-meyer-tie-the-knot-on-easter-sunday-wedding-details-revealed/</td><td>This is a dummy content for the URL.</td><td>4</td><td>0.0</td><td>0.0</td></tr><tr><td>Yahoo Entertainment</td><td>WWE WrestleMania 41 Night 2 live results: Updates, winners and losers, highlights, grades and analysis - Yahoo Sports</td><td>2025-04-21T02:37:30.000Z</td><td>Anthony Sulla-Heffinger</td><td>https://sports.yahoo.com/wrestling/live/wwe-wrestlemania-41-night-2-results-grades-analysis-john-cena-beats-cody-rhodes-in-lackluster-headliner-the-rock-no-shows-080034111.html</td><td>This is a dummy content for the URL.</td><td>4</td><td>0.0</td><td>0.0</td></tr><tr><td>CBS Sports</td><td>'Stone Cold' Steve Austin crashes ATV into barricade at WWE WrestleMania 41, nearly hits fan at ringside - CBS Sports</td><td>2025-04-21T02:27:26.000Z</td><td></td><td>https://www.cbssports.com/wwe/news/stone-cold-steve-austin-crashes-atv-into-barricade-at-wwe-wrestlemania-41-nearly-hits-fan-at-ringside/</td><td>This is a dummy content for the URL.</td><td>4</td><td>0.0</td><td>0.0</td></tr><tr><td>Nodq.com</td><td>Results of AJ Styles vs. Logan Paul at WWE WrestleMania 41 Sunday - NoDQ.com</td><td>2025-04-21T01:18:09.000Z</td><td>Aaron Rift</td><td>https://nodq.com/news/results-of-aj-styles-vs-logan-paul-at-wwe-wrestlemania-41-sunday/</td><td>This is a dummy content for the URL.</td><td>4</td><td>0.0</td><td>0.0</td></tr><tr><td>Cageside Seats</td><td>TNA Champion answers Randy Orton’s open challenge at WrestleMania 41 - Cageside Seats</td><td>2025-04-21T00:57:44.000Z</td><td>Geno Mrosko</td><td>https://www.cagesideseats.com/wwe/2025/4/20/24412664/wrestlemania-41-results-tna-champion-joe-hendry-randy-orton-open-challenge</td><td>This is a dummy content for the URL.</td><td>4</td><td>0.0</td><td>0.0</td></tr><tr><td>Hollywood Reporter</td><td>Bowen Yang Says Aimee Lou Wood’s Criticism of ‘White Lotus’ Parody on ‘SNL’ Is “Completely Valid” - The Hollywood Reporter</td><td>2025-04-21T00:56:40.000Z</td><td>Carly Thomas</td><td>http://www.hollywoodreporter.com/tv/tv-news/bowen-yang-reacts-aimee-lou-wood-criticism-white-lotus-snl-1236196342/</td><td>This is a dummy content for the URL.</td><td>4</td><td>0.0</td><td>0.0</td></tr><tr><td>Vulture</td><td>Elizabeth Hurley and Billy Ray Cyrus Hard Launch With Easter IG Post - Vulture</td><td>2025-04-21T00:53:50.000Z</td><td>Bethy Squires</td><td>http://www.vulture.com/article/elizabeth-hurley-billy-ray-cyrus-dating.html</td><td>This is a dummy content for the URL.</td><td>4</td><td>0.0</td><td>0.0</td></tr><tr><td>Cageside Seats</td><td>Dominik Mysterio wins the Intercontinental championship at WrestleMania 41 - Cageside Seats</td><td>2025-04-21T00:36:07.000Z</td><td>Geno Mrosko</td><td>https://www.cagesideseats.com/wwe/2025/4/20/24412666/dominik-mysterio-wins-intercontinental-championship-wrestlemania-41-finn-balor-bron-breakker-penta</td><td>This is a dummy content for the URL.</td><td>4</td><td>0.0</td><td>0.0</td></tr><tr><td>Nodq.com</td><td>Results of Drew McIntyre vs. Damian Priest at WWE WrestleMania 41 Sunday - NoDQ.com</td><td>2025-04-20T23:58:01.000Z</td><td>Aaron Rift</td><td>https://nodq.com/news/results-of-drew-mcintyre-vs-damian-priest-at-wwe-wrestlemania-41-sunday/</td><td>This is a dummy content for the URL.</td><td>4</td><td>0.0</td><td>0.0</td></tr><tr><td>Entertainment Weekly</td><td>'Sinners' sinks its teeth into the top spot at the Easter weekend domestic box office - Entertainment Weekly</td><td>2025-04-20T23:36:34.000Z</td><td>https://www.facebook.com/entertainmentweekly</td><td>https://ew.com/sinners-takes-top-spot-at-the-easter-weekend-domestic-box-office-11718589</td><td>This is a dummy content for the URL.</td><td>4</td><td>0.0</td><td>0.0</td></tr><tr><td>Page Six</td><td>Margot Robbie flaunts fit physique during Australian beach outing with husband Tom Ackerley - Yahoo</td><td>2025-04-20T21:34:17.000Z</td><td>Vanessa Serna</td><td>https://pagesix.com/2025/04/20/celebrity-news/margot-robbie-flaunts-fit-physique-during-australian-beach-outing/?utm_source=yahoo&amp;utm_campaign=pagesix&amp;utm_medium=referral</td><td>This is a dummy content for the URL.</td><td>4</td><td>0.0</td><td>0.0</td></tr><tr><td>Variety</td><td>Rhea Ripley, Bianca Belair and Iyo Sky on Their WrestleMania Match - Variety</td><td>2025-04-20T20:00:00.000Z</td><td>Lauren Coates</td><td>https://variety.com/2025/tv/news/rhea-ripley-bianca-belair-iyo-sky-interview-wrestlemania-41-1236372227/</td><td>This is a dummy content for the URL.</td><td>4</td><td>0.0</td><td>0.0</td></tr><tr><td>Wrestlezone.com</td><td>Tiffany Stratton Provides Update On Her Teeth Following WWE WrestleMania 41 - Wrestlezone</td><td>2025-04-20T18:26:50.000Z</td><td>Matt Black</td><td>http://www.wrestlezone.com/news/1555314-tiffany-stratton-provides-update-on-her-teeth-following-wwe-wrestlemania-41</td><td>This is a dummy content for the URL.</td><td>4</td><td>0.0</td><td>0.0</td></tr><tr><td>Page Six</td><td>Joe Rogan mocks space ‘guru’ Katy Perry and all-female Blue Origin flight: ‘Very profound’ - Page Six</td><td>2025-04-20T18:18:00.000Z</td><td>Vanessa Serna</td><td>https://pagesix.com/2025/04/20/celebrity-news/joe-rogan-mocks-space-guru-katy-perry-and-all-female-blue-origin-flight/</td><td>This is a dummy content for the URL.</td><td>4</td><td>0.0</td><td>0.0</td></tr><tr><td>Deadline</td><td>King Charles Extends Olive Branch To Disgraced Brother Prince Andrew At Easter Church Service - Deadline</td><td>2025-04-20T12:36:00.000Z</td><td>Caroline Frost</td><td>http://deadline.com/2025/04/king-charles-camilla-easter-church-service-prince-andrew-1236372562/</td><td>This is a dummy content for the URL.</td><td>4</td><td>0.0</td><td>0.0</td></tr><tr><td>syracuse.com</td><td>Metallica slays record Syracuse crowd with intensity, hits (review, photos, setlist) - Syracuse.com</td><td>2025-04-20T12:34:00.000Z</td><td>Geoff Herbert | gherbert@syracuse.com</td><td>https://www.syracuse.com/entertainment/2025/04/metallica-slays-record-syracuse-crowd-with-intensity-hits-review-photos-setlist.html</td><td>This is a dummy content for the URL.</td><td>4</td><td>0.0</td><td>0.0</td></tr><tr><td>Ringside News</td><td>Jey Uso’s WrestleMania 41 Victory Backfires Online With 2-to-1 Dislike Ratio - Ringside News</td><td>2025-04-20T11:08:52.000Z</td><td>Subhojeet Mukherjee</td><td>https://www.ringsidenews.com/2025/04/20/jey-usos-wrestlemania-41-victory-backfires-online-with-2-to-1-dislike-ratio/</td><td>This is a dummy content for the URL.</td><td>4</td><td>0.0</td><td>0.0</td></tr><tr><td>USA Today</td><td>Meet Taurus, the Zodiac's loyal bull: The sign's personality traits, dates - USA Today</td><td>2025-04-20T10:01:55.000Z</td><td>Olivia Munson</td><td>https://www.usatoday.com/story/life/2025/04/20/taurus-zodiac-sign-traits-personality-dates/77780642007/</td><td>This is a dummy content for the URL.</td><td>4</td><td>0.0</td><td>0.0</td></tr></tbody></table></div>"
      ]
     },
     "metadata": {
      "application/vnd.databricks.v1+output": {
       "addedWidgets": {},
       "aggData": [],
       "aggError": "",
       "aggOverflow": false,
       "aggSchema": [],
       "aggSeriesLimitReached": false,
       "aggType": "",
       "arguments": {},
       "columnCustomDisplayInfos": {},
       "data": [
        [
         "Cageside Seats",
         "Rumor Roundup: Becky Lynch return, Bayley sympathy, Rey Mysterio injury, AAA, more! - Cageside Seats",
         "2025-04-21T05:00:00.000Z",
         "Randall Ortman",
         "https://www.cagesideseats.com/2025/4/21/24412839/rumor-roundup-april-21-2025-becky-lynch-return-bayley-sympathy-rey-mysterio-injury-aaa-deal",
         "This is a dummy content for the URL.",
         4,
         0.0,
         0.0
        ],
        [
         "CBS Sports",
         "WWE WrestleMania 41 results, grades: John Cena wins record 17th world title, ends Cody Rhodes' year-long reign - CBS Sports",
         "2025-04-21T03:58:50.000Z",
         "Brent Brookhouse",
         "https://www.cbssports.com/wwe/news/wwe-wrestlemania-41-results-grades-john-cena-wins-record-17th-world-title-ends-cody-rhodes-year-long-reign/live/",
         "This is a dummy content for the URL.",
         4,
         0.0,
         0.0
        ],
        [
         "Variety",
         "Pedro Pascal Speaks Out After ‘The Last of Us’ Twist and Says ‘I’m in Active Denial’; Bella Ramsey ‘Sobbed’ Reading It: A ‘Brilliant Achievement’ If It’s ‘Painful for People’ - Variety",
         "2025-04-21T03:36:00.000Z",
         "Zack Sharf",
         "https://variety.com/2025/tv/news/pedro-pascal-bella-ramsey-joel-death-last-of-us-1236373640/",
         "This is a dummy content for the URL.",
         4,
         0.0,
         0.0
        ],
        [
         "Just Jared",
         "Kristen Stewart & Dylan Meyer Tie the Knot on Easter Sunday, Wedding Details Revealed! - Just Jared",
         "2025-04-21T03:26:51.000Z",
         null,
         "https://www.justjared.com/2025/04/20/kristen-stewart-dylan-meyer-tie-the-knot-on-easter-sunday-wedding-details-revealed/",
         "This is a dummy content for the URL.",
         4,
         0.0,
         0.0
        ],
        [
         "Yahoo Entertainment",
         "WWE WrestleMania 41 Night 2 live results: Updates, winners and losers, highlights, grades and analysis - Yahoo Sports",
         "2025-04-21T02:37:30.000Z",
         "Anthony Sulla-Heffinger",
         "https://sports.yahoo.com/wrestling/live/wwe-wrestlemania-41-night-2-results-grades-analysis-john-cena-beats-cody-rhodes-in-lackluster-headliner-the-rock-no-shows-080034111.html",
         "This is a dummy content for the URL.",
         4,
         0.0,
         0.0
        ],
        [
         "CBS Sports",
         "'Stone Cold' Steve Austin crashes ATV into barricade at WWE WrestleMania 41, nearly hits fan at ringside - CBS Sports",
         "2025-04-21T02:27:26.000Z",
         "",
         "https://www.cbssports.com/wwe/news/stone-cold-steve-austin-crashes-atv-into-barricade-at-wwe-wrestlemania-41-nearly-hits-fan-at-ringside/",
         "This is a dummy content for the URL.",
         4,
         0.0,
         0.0
        ],
        [
         "Nodq.com",
         "Results of AJ Styles vs. Logan Paul at WWE WrestleMania 41 Sunday - NoDQ.com",
         "2025-04-21T01:18:09.000Z",
         "Aaron Rift",
         "https://nodq.com/news/results-of-aj-styles-vs-logan-paul-at-wwe-wrestlemania-41-sunday/",
         "This is a dummy content for the URL.",
         4,
         0.0,
         0.0
        ],
        [
         "Cageside Seats",
         "TNA Champion answers Randy Orton’s open challenge at WrestleMania 41 - Cageside Seats",
         "2025-04-21T00:57:44.000Z",
         "Geno Mrosko",
         "https://www.cagesideseats.com/wwe/2025/4/20/24412664/wrestlemania-41-results-tna-champion-joe-hendry-randy-orton-open-challenge",
         "This is a dummy content for the URL.",
         4,
         0.0,
         0.0
        ],
        [
         "Hollywood Reporter",
         "Bowen Yang Says Aimee Lou Wood’s Criticism of ‘White Lotus’ Parody on ‘SNL’ Is “Completely Valid” - The Hollywood Reporter",
         "2025-04-21T00:56:40.000Z",
         "Carly Thomas",
         "http://www.hollywoodreporter.com/tv/tv-news/bowen-yang-reacts-aimee-lou-wood-criticism-white-lotus-snl-1236196342/",
         "This is a dummy content for the URL.",
         4,
         0.0,
         0.0
        ],
        [
         "Vulture",
         "Elizabeth Hurley and Billy Ray Cyrus Hard Launch With Easter IG Post - Vulture",
         "2025-04-21T00:53:50.000Z",
         "Bethy Squires",
         "http://www.vulture.com/article/elizabeth-hurley-billy-ray-cyrus-dating.html",
         "This is a dummy content for the URL.",
         4,
         0.0,
         0.0
        ],
        [
         "Cageside Seats",
         "Dominik Mysterio wins the Intercontinental championship at WrestleMania 41 - Cageside Seats",
         "2025-04-21T00:36:07.000Z",
         "Geno Mrosko",
         "https://www.cagesideseats.com/wwe/2025/4/20/24412666/dominik-mysterio-wins-intercontinental-championship-wrestlemania-41-finn-balor-bron-breakker-penta",
         "This is a dummy content for the URL.",
         4,
         0.0,
         0.0
        ],
        [
         "Nodq.com",
         "Results of Drew McIntyre vs. Damian Priest at WWE WrestleMania 41 Sunday - NoDQ.com",
         "2025-04-20T23:58:01.000Z",
         "Aaron Rift",
         "https://nodq.com/news/results-of-drew-mcintyre-vs-damian-priest-at-wwe-wrestlemania-41-sunday/",
         "This is a dummy content for the URL.",
         4,
         0.0,
         0.0
        ],
        [
         "Entertainment Weekly",
         "'Sinners' sinks its teeth into the top spot at the Easter weekend domestic box office - Entertainment Weekly",
         "2025-04-20T23:36:34.000Z",
         "https://www.facebook.com/entertainmentweekly",
         "https://ew.com/sinners-takes-top-spot-at-the-easter-weekend-domestic-box-office-11718589",
         "This is a dummy content for the URL.",
         4,
         0.0,
         0.0
        ],
        [
         "Page Six",
         "Margot Robbie flaunts fit physique during Australian beach outing with husband Tom Ackerley - Yahoo",
         "2025-04-20T21:34:17.000Z",
         "Vanessa Serna",
         "https://pagesix.com/2025/04/20/celebrity-news/margot-robbie-flaunts-fit-physique-during-australian-beach-outing/?utm_source=yahoo&amp;utm_campaign=pagesix&amp;utm_medium=referral",
         "This is a dummy content for the URL.",
         4,
         0.0,
         0.0
        ],
        [
         "Variety",
         "Rhea Ripley, Bianca Belair and Iyo Sky on Their WrestleMania Match - Variety",
         "2025-04-20T20:00:00.000Z",
         "Lauren Coates",
         "https://variety.com/2025/tv/news/rhea-ripley-bianca-belair-iyo-sky-interview-wrestlemania-41-1236372227/",
         "This is a dummy content for the URL.",
         4,
         0.0,
         0.0
        ],
        [
         "Wrestlezone.com",
         "Tiffany Stratton Provides Update On Her Teeth Following WWE WrestleMania 41 - Wrestlezone",
         "2025-04-20T18:26:50.000Z",
         "Matt Black",
         "http://www.wrestlezone.com/news/1555314-tiffany-stratton-provides-update-on-her-teeth-following-wwe-wrestlemania-41",
         "This is a dummy content for the URL.",
         4,
         0.0,
         0.0
        ],
        [
         "Page Six",
         "Joe Rogan mocks space ‘guru’ Katy Perry and all-female Blue Origin flight: ‘Very profound’ - Page Six",
         "2025-04-20T18:18:00.000Z",
         "Vanessa Serna",
         "https://pagesix.com/2025/04/20/celebrity-news/joe-rogan-mocks-space-guru-katy-perry-and-all-female-blue-origin-flight/",
         "This is a dummy content for the URL.",
         4,
         0.0,
         0.0
        ],
        [
         "Deadline",
         "King Charles Extends Olive Branch To Disgraced Brother Prince Andrew At Easter Church Service - Deadline",
         "2025-04-20T12:36:00.000Z",
         "Caroline Frost",
         "http://deadline.com/2025/04/king-charles-camilla-easter-church-service-prince-andrew-1236372562/",
         "This is a dummy content for the URL.",
         4,
         0.0,
         0.0
        ],
        [
         "syracuse.com",
         "Metallica slays record Syracuse crowd with intensity, hits (review, photos, setlist) - Syracuse.com",
         "2025-04-20T12:34:00.000Z",
         "Geoff Herbert | gherbert@syracuse.com",
         "https://www.syracuse.com/entertainment/2025/04/metallica-slays-record-syracuse-crowd-with-intensity-hits-review-photos-setlist.html",
         "This is a dummy content for the URL.",
         4,
         0.0,
         0.0
        ],
        [
         "Ringside News",
         "Jey Uso’s WrestleMania 41 Victory Backfires Online With 2-to-1 Dislike Ratio - Ringside News",
         "2025-04-20T11:08:52.000Z",
         "Subhojeet Mukherjee",
         "https://www.ringsidenews.com/2025/04/20/jey-usos-wrestlemania-41-victory-backfires-online-with-2-to-1-dislike-ratio/",
         "This is a dummy content for the URL.",
         4,
         0.0,
         0.0
        ],
        [
         "USA Today",
         "Meet Taurus, the Zodiac's loyal bull: The sign's personality traits, dates - USA Today",
         "2025-04-20T10:01:55.000Z",
         "Olivia Munson",
         "https://www.usatoday.com/story/life/2025/04/20/taurus-zodiac-sign-traits-personality-dates/77780642007/",
         "This is a dummy content for the URL.",
         4,
         0.0,
         0.0
        ]
       ],
       "datasetInfos": [],
       "dbfsResultPath": null,
       "isJsonSchema": true,
       "metadata": {},
       "overflow": false,
       "plotOptions": {
        "customPlotOptions": {},
        "displayType": "table",
        "pivotAggregation": null,
        "pivotColumns": null,
        "xColumns": null,
        "yColumns": null
       },
       "removedWidgets": [],
       "schema": [
        {
         "metadata": "{}",
         "name": "source",
         "type": "\"string\""
        },
        {
         "metadata": "{}",
         "name": "title",
         "type": "\"string\""
        },
        {
         "metadata": "{}",
         "name": "date_posted",
         "type": "\"timestamp\""
        },
        {
         "metadata": "{}",
         "name": "author",
         "type": "\"string\""
        },
        {
         "metadata": "{}",
         "name": "url",
         "type": "\"string\""
        },
        {
         "metadata": "{}",
         "name": "content",
         "type": "\"string\""
        },
        {
         "metadata": "{}",
         "name": "word_count",
         "type": "\"long\""
        },
        {
         "metadata": "{}",
         "name": "sentiment",
         "type": "\"double\""
        },
        {
         "metadata": "{}",
         "name": "compound_score",
         "type": "\"double\""
        }
       ],
       "type": "table"
      }
     },
     "output_type": "display_data"
    }
   ],
   "source": [
    "dataframe.display()"
   ]
  },
  {
   "cell_type": "code",
   "execution_count": 0,
   "metadata": {
    "application/vnd.databricks.v1+cell": {
     "cellMetadata": {
      "byteLimit": 2048000,
      "rowLimit": 10000
     },
     "inputWidgets": {},
     "nuid": "1d4ef9c8-81c4-4aeb-ae0b-a0d56ebaaf28",
     "showTitle": false,
     "tableResultSettingsMap": {},
     "title": ""
    }
   },
   "outputs": [
    {
     "output_type": "stream",
     "name": "stdout",
     "output_type": "stream",
     "text": [
      "source                         object\ntitle                          object\ndate_posted       datetime64[ns, UTC]\nauthor                         object\nurl                            object\ncontent                        object\nword_count                      int64\nsentiment                     float64\ncompound_score                float64\ndtype: object\n"
     ]
    }
   ],
   "source": [
    "print(dataframe.dtypes)"
   ]
  },
  {
   "cell_type": "code",
   "execution_count": 0,
   "metadata": {
    "application/vnd.databricks.v1+cell": {
     "cellMetadata": {
      "byteLimit": 2048000,
      "implicitDf": true,
      "rowLimit": 10000
     },
     "inputWidgets": {},
     "nuid": "96d77b36-dd26-46ab-b376-dff7d2af1e00",
     "showTitle": false,
     "tableResultSettingsMap": {},
     "title": ""
    }
   },
   "outputs": [],
   "source": [
    "%sql\n",
    "CREATE DATABASE IF NOT EXISTS the_news;\n",
    "CREATE TABLE IF NOT EXISTS the_news.news_table (\n",
    "source STRING,\n",
    "title STRING,\n",
    "date_posted DATE,\n",
    "author STRING,\n",
    "url STRING,\n",
    "content STRING,\n",
    "word_count INT,\n",
    "sentiment STRING,\n",
    "compound_score DOUBLE\n",
    ")"
   ]
  },
  {
   "cell_type": "code",
   "execution_count": 0,
   "metadata": {
    "application/vnd.databricks.v1+cell": {
     "cellMetadata": {
      "byteLimit": 2048000,
      "implicitDf": true,
      "rowLimit": 10000
     },
     "inputWidgets": {},
     "nuid": "c205cd27-feaa-4c88-87fb-4c7a9cc79005",
     "showTitle": false,
     "tableResultSettingsMap": {},
     "title": ""
    }
   },
   "outputs": [
    {
     "output_type": "display_data",
     "data": {
      "text/html": [
       "<style scoped>\n",
       "  .table-result-container {\n",
       "    max-height: 300px;\n",
       "    overflow: auto;\n",
       "  }\n",
       "  table, th, td {\n",
       "    border: 1px solid black;\n",
       "    border-collapse: collapse;\n",
       "  }\n",
       "  th, td {\n",
       "    padding: 5px;\n",
       "  }\n",
       "  th {\n",
       "    text-align: left;\n",
       "  }\n",
       "</style><div class='table-result-container'><table class='table-result'><thead style='background-color: white'><tr><th>col_name</th><th>data_type</th><th>comment</th></tr></thead><tbody><tr><td>source</td><td>string</td><td>null</td></tr><tr><td>title</td><td>string</td><td>null</td></tr><tr><td>date_posted</td><td>date</td><td>null</td></tr><tr><td>author</td><td>string</td><td>null</td></tr><tr><td>url</td><td>string</td><td>null</td></tr><tr><td>content</td><td>string</td><td>null</td></tr><tr><td>word_count</td><td>int</td><td>null</td></tr><tr><td>sentiment</td><td>string</td><td>null</td></tr><tr><td>compound_score</td><td>double</td><td>null</td></tr><tr><td></td><td></td><td></td></tr><tr><td># Delta Statistics Columns</td><td></td><td></td></tr><tr><td>Column Names</td><td>compound_score, author, source, url, sentiment, content, word_count, title, date_posted</td><td></td></tr><tr><td>Column Selection Method</td><td>first-32</td><td></td></tr><tr><td></td><td></td><td></td></tr><tr><td># Detailed Table Information</td><td></td><td></td></tr><tr><td>Catalog</td><td>workspace</td><td></td></tr><tr><td>Database</td><td>the_news</td><td></td></tr><tr><td>Table</td><td>news_table</td><td></td></tr><tr><td>Created Time</td><td>Fri Apr 11 05:15:31 UTC 2025</td><td></td></tr><tr><td>Last Access</td><td>UNKNOWN</td><td></td></tr><tr><td>Created By</td><td>Spark </td><td></td></tr><tr><td>Statistics</td><td>137764 bytes, 462 rows</td><td></td></tr><tr><td>Type</td><td>MANAGED</td><td></td></tr><tr><td>Location</td><td></td><td></td></tr><tr><td>Provider</td><td>delta</td><td></td></tr><tr><td>Owner</td><td>shraddhapoharkar38@gmail.com</td><td></td></tr><tr><td>Is_managed_location</td><td>true</td><td></td></tr><tr><td>Predictive Optimization</td><td>ENABLE (inherited from METASTORE metastore_aws_ap_southeast_2)</td><td></td></tr><tr><td>Table Properties</td><td>[delta.enableDeletionVectors=true,delta.feature.appendOnly=supported,delta.feature.deletionVectors=supported,delta.feature.invariants=supported,delta.minReaderVersion=3,delta.minWriterVersion=7]</td><td></td></tr></tbody></table></div>"
      ]
     },
     "metadata": {
      "application/vnd.databricks.v1+output": {
       "addedWidgets": {},
       "aggData": [],
       "aggError": "",
       "aggOverflow": false,
       "aggSchema": [],
       "aggSeriesLimitReached": false,
       "aggType": "",
       "arguments": {},
       "columnCustomDisplayInfos": {},
       "data": [
        [
         "source",
         "string",
         null
        ],
        [
         "title",
         "string",
         null
        ],
        [
         "date_posted",
         "date",
         null
        ],
        [
         "author",
         "string",
         null
        ],
        [
         "url",
         "string",
         null
        ],
        [
         "content",
         "string",
         null
        ],
        [
         "word_count",
         "int",
         null
        ],
        [
         "sentiment",
         "string",
         null
        ],
        [
         "compound_score",
         "double",
         null
        ],
        [
         "",
         "",
         ""
        ],
        [
         "# Delta Statistics Columns",
         "",
         ""
        ],
        [
         "Column Names",
         "compound_score, author, source, url, sentiment, content, word_count, title, date_posted",
         ""
        ],
        [
         "Column Selection Method",
         "first-32",
         ""
        ],
        [
         "",
         "",
         ""
        ],
        [
         "# Detailed Table Information",
         "",
         ""
        ],
        [
         "Catalog",
         "workspace",
         ""
        ],
        [
         "Database",
         "the_news",
         ""
        ],
        [
         "Table",
         "news_table",
         ""
        ],
        [
         "Created Time",
         "Fri Apr 11 05:15:31 UTC 2025",
         ""
        ],
        [
         "Last Access",
         "UNKNOWN",
         ""
        ],
        [
         "Created By",
         "Spark ",
         ""
        ],
        [
         "Statistics",
         "137764 bytes, 462 rows",
         ""
        ],
        [
         "Type",
         "MANAGED",
         ""
        ],
        [
         "Location",
         "",
         ""
        ],
        [
         "Provider",
         "delta",
         ""
        ],
        [
         "Owner",
         "shraddhapoharkar38@gmail.com",
         ""
        ],
        [
         "Is_managed_location",
         "true",
         ""
        ],
        [
         "Predictive Optimization",
         "ENABLE (inherited from METASTORE metastore_aws_ap_southeast_2)",
         ""
        ],
        [
         "Table Properties",
         "[delta.enableDeletionVectors=true,delta.feature.appendOnly=supported,delta.feature.deletionVectors=supported,delta.feature.invariants=supported,delta.minReaderVersion=3,delta.minWriterVersion=7]",
         ""
        ]
       ],
       "datasetInfos": [
        {
         "name": "_sqldf",
         "schema": {
          "fields": [
           {
            "metadata": {},
            "name": "col_name",
            "nullable": false,
            "type": "string"
           },
           {
            "metadata": {},
            "name": "data_type",
            "nullable": false,
            "type": "string"
           },
           {
            "metadata": {},
            "name": "comment",
            "nullable": true,
            "type": "string"
           }
          ],
          "type": "struct"
         },
         "tableIdentifier": null,
         "typeStr": "pyspark.sql.connect.dataframe.DataFrame"
        }
       ],
       "dbfsResultPath": null,
       "isJsonSchema": true,
       "metadata": {
        "createTempViewForImplicitDf": true,
        "dataframeName": "_sqldf",
        "executionCount": 18
       },
       "overflow": false,
       "plotOptions": {
        "customPlotOptions": {},
        "displayType": "table",
        "pivotAggregation": null,
        "pivotColumns": null,
        "xColumns": null,
        "yColumns": null
       },
       "removedWidgets": [],
       "schema": [
        {
         "metadata": "{}",
         "name": "col_name",
         "type": "\"string\""
        },
        {
         "metadata": "{}",
         "name": "data_type",
         "type": "\"string\""
        },
        {
         "metadata": "{}",
         "name": "comment",
         "type": "\"string\""
        }
       ],
       "type": "table"
      }
     },
     "output_type": "display_data"
    }
   ],
   "source": [
    "%sql DESCRIBE FORMATTED the_news.news_table;\n"
   ]
  },
  {
   "cell_type": "code",
   "execution_count": 0,
   "metadata": {
    "application/vnd.databricks.v1+cell": {
     "cellMetadata": {
      "byteLimit": 2048000,
      "rowLimit": 10000
     },
     "inputWidgets": {},
     "nuid": "10097129-aef7-424d-ae38-ec5c359a7459",
     "showTitle": false,
     "tableResultSettingsMap": {},
     "title": ""
    }
   },
   "outputs": [],
   "source": [
    "from pyspark.sql import SparkSession\n",
    "from pyspark.sql.types import StructType, StructField, StringType, DateType, IntegerType, DoubleType\n",
    "\n",
    "# Initialize Spark session\n",
    "spark = SparkSession.builder.appName(\"CreateTableExample\").getOrCreate()\n",
    "\n",
    "# Convert sentiment to string for Spark compatibility\n",
    "dataframe['sentiment'] = dataframe['sentiment'].fillna('').astype(str)\n",
    "\n",
    "# Define schema explicitly\n",
    "schema = StructType([\n",
    "    StructField(\"source\", StringType(), True),\n",
    "    StructField(\"title\", StringType(), True),\n",
    "    StructField(\"date_posted\", DateType(), True), \n",
    "    StructField(\"author\", StringType(), True),\n",
    "    StructField(\"url\", StringType(), True),\n",
    "    StructField(\"content\", StringType(), True),\n",
    "    StructField(\"word_count\", IntegerType(), True),\n",
    "    StructField(\"sentiment\", StringType(), True),\n",
    "    StructField(\"compound_score\", DoubleType(), True)\n",
    "])\n",
    "\n",
    "# Convert Pandas DataFrame to Spark DataFrame\n",
    "spark_df = spark.createDataFrame(dataframe, schema=schema)\n",
    "\n",
    "spark_df.write.mode('append').saveAsTable('the_news.news_table')\n"
   ]
  },
  {
   "cell_type": "code",
   "execution_count": 0,
   "metadata": {
    "application/vnd.databricks.v1+cell": {
     "cellMetadata": {
      "byteLimit": 2048000,
      "implicitDf": true,
      "rowLimit": 10000
     },
     "inputWidgets": {},
     "nuid": "d2e62179-9911-4115-bbcc-efabe186ce7f",
     "showTitle": false,
     "tableResultSettingsMap": {},
     "title": ""
    }
   },
   "outputs": [
    {
     "output_type": "display_data",
     "data": {
      "text/html": [
       "<style scoped>\n",
       "  .table-result-container {\n",
       "    max-height: 300px;\n",
       "    overflow: auto;\n",
       "  }\n",
       "  table, th, td {\n",
       "    border: 1px solid black;\n",
       "    border-collapse: collapse;\n",
       "  }\n",
       "  th, td {\n",
       "    padding: 5px;\n",
       "  }\n",
       "  th {\n",
       "    text-align: left;\n",
       "  }\n",
       "</style><div class='table-result-container'><table class='table-result'><thead style='background-color: white'><tr><th>source</th><th>title</th><th>date_posted</th><th>author</th><th>url</th><th>content</th><th>word_count</th><th>sentiment</th><th>compound_score</th></tr></thead><tbody><tr><td>Cageside Seats</td><td>WWE NXT Stand & Deliver 2025 results, live streaming match coverage - Cageside Seats</td><td>2025-04-19</td><td>Claire Elizabeth</td><td>https://www.cagesideseats.com/wwe/2025/4/19/24410997/wwe-nxt-stand-deliver-2025-results-live-streaming-match-coverage</td><td>This is a dummy content for the URL.</td><td>4</td><td>0.0</td><td>0.0</td></tr><tr><td>CNN</td><td>Why the 20-year-old ‘Pride & Prejudice’ film still bewitches audiences today - CNN</td><td>2025-04-19</td><td>Leah Asmelash</td><td>https://www.cnn.com/2025/04/19/entertainment/pride-prejudice-film-20th-anniversary-cec/index.html</td><td>This is a dummy content for the URL.</td><td>4</td><td>0.0</td><td>0.0</td></tr><tr><td>Variety</td><td>Box Office: ‘Sinners’ Stokes $19.2 Million Opening Day, ‘A Minecraft Movie’ Still Looks to Block Off No. 1 in Third Weekend - Variety</td><td>2025-04-19</td><td>J. Kim Murphy</td><td>https://variety.com/2025/film/news/box-office-sinners-opening-day-minecraft-no1-1236372989/</td><td>This is a dummy content for the URL.</td><td>4</td><td>0.0</td><td>0.0</td></tr><tr><td>Hollywood Reporter</td><td>Harvey Weinstein’s Last Stand - The Hollywood Reporter</td><td>2025-04-19</td><td>Winston Cho</td><td>http://www.hollywoodreporter.com/news/general-news/harvey-weinstein-new-trial-1236190862/</td><td>This is a dummy content for the URL.</td><td>4</td><td>0.0</td><td>0.0</td></tr><tr><td>Bleacher Report</td><td>Final Picks for Cena, Rhodes, Rock, Reigns and WWE WrestleMania 41 Match Card - Bleacher Report</td><td>2025-04-19</td><td>Donald Wood</td><td>https://bleacherreport.com/articles/25187437-final-picks-cena-rhodes-rock-reigns-and-wwe-wrestlemania-41-match-card</td><td>This is a dummy content for the URL.</td><td>4</td><td>0.0</td><td>0.0</td></tr><tr><td>Politico</td><td>The WrestleMania Presidency - Yahoo Home</td><td>2025-04-19</td><td>Zach Montellaro</td><td>https://www.politico.com/news/magazine/2025/04/19/donald-trump-pro-wrestling-wwe-00298303</td><td>This is a dummy content for the URL.</td><td>4</td><td>0.0</td><td>0.0</td></tr><tr><td>Wrestletalk.com</td><td>What Happened In Triple H WWE Hall Of Fame 2025 Hour Long Speech - WrestleTalk</td><td>2025-04-19</td><td>Sanchez Taylor</td><td>https://wrestletalk.com/news/triple-h-wwe-hall-of-fame-2025-speech/</td><td>This is a dummy content for the URL.</td><td>4</td><td>0.0</td><td>0.0</td></tr><tr><td>Variety</td><td>Lady Gaga Apologizes for Mic Malfunctions During Coachella Weekend 2 Set: ‘At Least You Know I Sing Live’ - Variety</td><td>2025-04-19</td><td>Thania Garcia</td><td>https://variety.com/2025/music/news/lady-gaga-apologizes-broken-mic-coachella-weekend-2-i-sing-live-1236373171/</td><td>This is a dummy content for the URL.</td><td>4</td><td>0.0</td><td>0.0</td></tr><tr><td>Tom's Guide</td><td>5 best new movies to stream this weekend on Netflix, Hulu, Max, and more - Tom's Guide</td><td>2025-04-19</td><td>Alyse Stanley</td><td>https://www.tomsguide.com/entertainment/streaming/movies-to-stream-this-weekend-april-18-2025</td><td>This is a dummy content for the URL.</td><td>4</td><td>0.0</td><td>0.0</td></tr><tr><td>Polygon</td><td>Star Wars Zero Company, a turn-based game at the end of the Clone Wars, gets full reveal - Polygon</td><td>2025-04-19</td><td>Maddy Myers</td><td>https://www.polygon.com/star-wars/560074/star-wars-zero-company-xcom-game-reveal</td><td>This is a dummy content for the URL.</td><td>4</td><td>0.0</td><td>0.0</td></tr><tr><td>Hollywood Reporter</td><td>Star Wars Celebration: Hayden Christensen Returning as Anakin Skywalker for ‘Ahsoka’ Season Two - The Hollywood Reporter</td><td>2025-04-19</td><td>Borys Kit, Abid Rahman</td><td>http://www.hollywoodreporter.com/tv/tv-news/hayden-christensen-anakin-skywalker-ahsoka-season-2-1236195948/</td><td>This is a dummy content for the URL.</td><td>4</td><td>0.0</td><td>0.0</td></tr><tr><td>Cageside Seats</td><td>Rumor Roundup: Rey Mysterio injury, Trump at WrestleMania, WWE expansion, more! - Cageside Seats</td><td>2025-04-19</td><td>Randall Ortman</td><td>https://www.cagesideseats.com/2025/4/19/24411577/rumor-roundup-rey-mysterio-leg-injury-wrestlemania-41-winners-trump-chelsea-green-rusev-orton-omos</td><td>This is a dummy content for the URL.</td><td>4</td><td>0.0</td><td>0.0</td></tr><tr><td>Associated Press</td><td>Universal Epic Universe is the theme park resort’s biggest bang yet in Florida - AP News</td><td>2025-04-19</td><td>Mike Schneider</td><td>https://apnews.com/article/universal-epic-universe-florida-tourism-theme-park-666ce27bfca95cfa4d682f826cc327b5</td><td>This is a dummy content for the URL.</td><td>4</td><td>0.0</td><td>0.0</td></tr><tr><td>Cageside Seats</td><td>Cody Rhodes lays out Cena again after getting booed on SmackDown - Cageside Seats</td><td>2025-04-19</td><td>Cain A. Knight</td><td>https://www.cagesideseats.com/wwe/2025/4/18/24411637/wwe-wrestlemania-smackdown-2025-cody-rhodes-booed-stands-tall-over-john-cena-final-promo-go-home</td><td>This is a dummy content for the URL.</td><td>4</td><td>0.0</td><td>0.0</td></tr><tr><td>SheKnows</td><td>Adios, Liam? Plus, We Have Big Questions About Next Week’s Forrester Fashion Show! - Soaps.com</td><td>2025-04-19</td><td>Richard Simms</td><td>https://soaps.sheknows.com/the-bold-and-the-beautiful/soapbox/778014/who-will-save-liam/</td><td>This is a dummy content for the URL.</td><td>4</td><td>0.0</td><td>0.0</td></tr><tr><td>Entertainment Weekly</td><td>Liza Minnelli performs for first time in years with lip-sync to 'Ring Them Bells' at RuPaul's Drag Race finale - Entertainment Weekly</td><td>2025-04-19</td><td>https://www.facebook.com/entertainmentweekly</td><td>https://ew.com/liza-minnelli-performs-rupauls-drag-race-finale-11718398</td><td>This is a dummy content for the URL.</td><td>4</td><td>0.0</td><td>0.0</td></tr><tr><td>Wrestlezone.com</td><td>Randy Orton’s WWE WrestleMania 41 Match Revealed - Wrestlezone</td><td>2025-04-19</td><td>Matt Black</td><td>http://www.wrestlezone.com/news/1555036-randy-ortons-wwe-wrestlemania-41-match-revealed</td><td>This is a dummy content for the URL.</td><td>4</td><td>0.0</td><td>0.0</td></tr><tr><td>Rolling Stone</td><td>Post Malone’s Ex-Fiancée Files for Custody of Their Daughter - Rolling Stone</td><td>2025-04-19</td><td>Tomás Mier, Nancy Dillon</td><td>http://www.rollingstone.com/music/music-news/post-malone-ex-fiancee-custody-daughter-1235321261/</td><td>This is a dummy content for the URL.</td><td>4</td><td>0.0</td><td>0.0</td></tr><tr><td>Programminginsider.com</td><td>Thursday Ratings: 'Matlock' on CBS Hits Series-High in Adults 18-49 with Inaugural Season Finale and Tops All Prime Time Telecasts - Programming Insider</td><td>2025-04-18</td><td>Douglas Pucci</td><td>https://programminginsider.com/thursday-ratings-matlock-on-cbs-hits-series-high-in-adults-18-49-with-inaugural-season-finale-and-tops-all-prime-time-telecasts/</td><td>This is a dummy content for the URL.</td><td>4</td><td>0.0</td><td>0.0</td></tr><tr><td>Cageside Seats</td><td>WWE announces the opening matches for both nights of WrestleMania 41 - Cageside Seats</td><td>2025-04-18</td><td>Sean Rueter</td><td>https://www.cagesideseats.com/wwe/2025/4/18/24411529/wwe-wrestlemania-41-opening-matches-both-nights-world-titles-iyo-rhea-bianca-jey-gunther</td><td>This is a dummy content for the URL.</td><td>4</td><td>0.0</td><td>0.0</td></tr><tr><td>Just Jared</td><td>Machine Gun Kelly & Megan Fox Seen Out Together for First Time Since Welcoming Daughter - Just Jared</td><td>2025-04-18</td><td>null</td><td>https://www.justjared.com/2025/04/18/machine-gun-kelly-megan-fox-seen-out-together-for-first-time-since-welcoming-daughter/</td><td>This is a dummy content for the URL.</td><td>4</td><td>0.0</td><td>0.0</td></tr><tr><td>Hollywood Reporter</td><td>Jacob Elordi “Was Going to Take a Break” Before ‘Wuthering Heights’ Director Texted Him - The Hollywood Reporter</td><td>2025-04-18</td><td>Lexi Carson</td><td>http://www.hollywoodreporter.com/movies/movie-news/jacob-elordi-take-break-before-wuthering-heights-1236195489/</td><td>This is a dummy content for the URL.</td><td>4</td><td>0.0</td><td>0.0</td></tr><tr><td>Ringside News</td><td>Spoiler: Opening Revealed for April 18 WWE SmackDown - Ringside News</td><td>2025-04-18</td><td>Steve Carrier</td><td>https://www.ringsidenews.com/2025/04/18/spoiler-opening-revealed-for-april-18-wwe-smackdown/</td><td>This is a dummy content for the URL.</td><td>4</td><td>0.0</td><td>0.0</td></tr><tr><td>Space.com</td><td>Star Wars Celebration reveals new footage about Sigourney Weaver's 'The Mandalorian & Grogu' character - Space</td><td>2025-04-18</td><td>Fran Ruiz</td><td>https://www.space.com/entertainment/space-movies-shows/star-wars-celebration-reveals-new-footage-about-sigourney-weavers-the-mandalorian-and-grogu-character</td><td>This is a dummy content for the URL.</td><td>4</td><td>0.0</td><td>0.0</td></tr><tr><td>Ars Technica</td><td>Trump official to Katy Perry and Bezos’ fiancée: “You cannot identify as an astronaut” - Ars Technica</td><td>2025-04-18</td><td>Eric Berger</td><td>https://arstechnica.com/space/2025/04/so-is-katy-perry-now-an-astronaut-or-what/</td><td>This is a dummy content for the URL.</td><td>4</td><td>0.0</td><td>0.0</td></tr><tr><td>Deadline</td><td>'9-1-1' Cast Say Goodbye To Co-Star Following Character's Death: Oliver Stark, Jennifer Love Hewitt & More Pay Tribute To Actor - Deadline</td><td>2025-04-18</td><td>Armando Tinoco</td><td>http://deadline.com/2025/04/9-1-1-cast-goodbye-character-death-oliver-stark-jennifer-love-hewitt-1236372010/</td><td>This is a dummy content for the URL.</td><td>4</td><td>0.0</td><td>0.0</td></tr><tr><td>Wrestling Inc.</td><td>Opening Match For Night One WWE Of WrestleMania 41 Revealed - Wrestling Inc.</td><td>2025-04-18</td><td>Brie Coder</td><td>https://www.wrestlinginc.com/1837895/opening-match-for-night-one-wwe-of-wrestlemania-41-revealed/</td><td>This is a dummy content for the URL.</td><td>4</td><td>0.0</td><td>0.0</td></tr><tr><td>/FILM</td><td>Ryan Gosling's Star Wars Movie Is Finally Taking The Franchise Somewhere New - SlashFilm</td><td>2025-04-18</td><td>Ryan Scott</td><td>https://www.slashfilm.com/1837876/ryan-gosling-star-wars-starfighter-movie-franchise-direction/</td><td>This is a dummy content for the URL.</td><td>4</td><td>0.0</td><td>0.0</td></tr><tr><td>CNN</td><td>‘Sinners’ director Ryan Coogler takes us to film school in 10 minutes - CNN</td><td>2025-04-18</td><td>Quincy Bowie</td><td>https://www.cnn.com/2025/04/18/entertainment/sinners-director-ryan-coogler-film-school/index.html</td><td>This is a dummy content for the URL.</td><td>4</td><td>0.0</td><td>0.0</td></tr><tr><td>BBC News</td><td>Blue Origin flight: Wendy's praises Katy Perry after 'can we send her back' tweet - BBC</td><td>2025-04-18</td><td>null</td><td>https://www.bbc.com/news/articles/ckgek8engwmo</td><td>This is a dummy content for the URL.</td><td>4</td><td>0.0</td><td>0.0</td></tr><tr><td>OregonLive</td><td>Oscar-nominated child star charged with cocaine possession and public drunkenness - OregonLive.com</td><td>2025-04-18</td><td>The Associated Press</td><td>https://www.oregonlive.com/nation/2025/04/oscar-nominated-child-star-charged-with-cocaine-possession-and-public-drunkenness.html</td><td>This is a dummy content for the URL.</td><td>4</td><td>0.0</td><td>0.0</td></tr><tr><td>Variety</td><td>'Gutfeld!' Comedian Tyler Fischer Claims 'Woke' Fox News Banned Him - Variety</td><td>2025-04-18</td><td>Todd Spangler</td><td>https://variety.com/2025/tv/news/gutfeld-tyler-fischer-claims-fox-news-banned-full-woke-1236372694/</td><td>This is a dummy content for the URL.</td><td>4</td><td>0.0</td><td>0.0</td></tr><tr><td>Deadline</td><td>Sean ‘Diddy’ Combs Loses Trial Delay Bid In Sex Trafficking Case; Warner Bros Discovery Comes Up Short In Keeping Docuseries Outtakes Out Of Case - Deadline</td><td>2025-04-18</td><td>Dominic Patten, Sean Piccoli</td><td>http://deadline.com/2025/04/diddy-rape-trial-delay-denied-1236371795/</td><td>This is a dummy content for the URL.</td><td>4</td><td>0.0</td><td>0.0</td></tr><tr><td>NPR</td><td>John Cena's the bad guy in his final WrestleMania. Here's why that's a big deal - NPR</td><td>2025-04-18</td><td></td><td>https://www.npr.org/2025/04/18/nx-s1-5366023/john-cena-wrestlemania-cody-rhodes</td><td>This is a dummy content for the URL.</td><td>4</td><td>0.0</td><td>0.0</td></tr><tr><td>CinemaBlend</td><td>SNL’s Bowen Yang Explained Why Aimee Lou Wood’s Reaction To The White Lotus Sketch Was ‘Completely Valid’ - Cinemablend</td><td>2025-04-18</td><td>Heidi Venable</td><td>https://www.cinemablend.com/television/snl-bowen-yang-why-aimee-lou-wood-reaction-white-lotus-sketch-completely-valid</td><td>This is a dummy content for the URL.</td><td>4</td><td>0.0</td><td>0.0</td></tr><tr><td>Page Six</td><td>Drew Carey, 66, and OnlyFans star, 37, spotted on lunch date 5 years after his ex-fiancée’s murder - Page Six</td><td>2025-04-18</td><td>Riley Cardoza</td><td>https://pagesix.com/2025/04/18/celebrity-news/drew-carey-onlyfans-star-niki-skyler-spotted-on-lunch-date/</td><td>This is a dummy content for the URL.</td><td>4</td><td>0.0</td><td>0.0</td></tr><tr><td>Rolling Stone</td><td>Gene Hackman Poked Fun at Alzheimer's in Notes Left for Wife Betsy Arakawa Before Death - Rolling Stone</td><td>2025-04-18</td><td>Jon Blistein</td><td>http://www.rollingstone.com/tv-movies/tv-movie-news/gene-hackman-betsy-arakawa-notes-investigation-unsealed-1235320511/</td><td>This is a dummy content for the URL.</td><td>4</td><td>0.0</td><td>0.0</td></tr><tr><td>Entertainment Weekly</td><td>Bowen Yang says there was 'no hesitation' to bare it all for Wedding Banquet nude scene: 'It just felt so integral' - ew.com</td><td>2025-04-18</td><td>https://www.facebook.com/entertainmentweekly</td><td>https://ew.com/bowen-yang-the-wedding-banquet-nude-butt-scene-11716610</td><td>This is a dummy content for the URL.</td><td>4</td><td>0.0</td><td>0.0</td></tr><tr><td>The Ringer</td><td>Bret Hart Remembers the Night Everything Changed - The Ringer</td><td>2025-04-18</td><td>null</td><td>https://www.theringer.com/2025/04/18/wwe/bret-hart-wwe-immortal-moment-award-hall-of-fame-wwe-wrestlemania-13</td><td>This is a dummy content for the URL.</td><td>4</td><td>0.0</td><td>0.0</td></tr><tr><td>Cageside Seats</td><td>WWE NXT Stand & Deliver 2025 results, live streaming match coverage - Cageside Seats</td><td>2025-04-19</td><td>Claire Elizabeth</td><td>https://www.cagesideseats.com/wwe/2025/4/19/24410997/wwe-nxt-stand-deliver-2025-results-live-streaming-match-coverage</td><td>This is a dummy content for the URL.</td><td>4</td><td>0.0</td><td>0.0</td></tr><tr><td>CNN</td><td>Why the 20-year-old ‘Pride & Prejudice’ film still bewitches audiences today - CNN</td><td>2025-04-19</td><td>Leah Asmelash</td><td>https://www.cnn.com/2025/04/19/entertainment/pride-prejudice-film-20th-anniversary-cec/index.html</td><td>This is a dummy content for the URL.</td><td>4</td><td>0.0</td><td>0.0</td></tr><tr><td>Variety</td><td>Box Office: ‘Sinners’ Stokes $19.2 Million Opening Day, ‘A Minecraft Movie’ Still Looks to Block Off No. 1 in Third Weekend - Variety</td><td>2025-04-19</td><td>J. Kim Murphy</td><td>https://variety.com/2025/film/news/box-office-sinners-opening-day-minecraft-no1-1236372989/</td><td>This is a dummy content for the URL.</td><td>4</td><td>0.0</td><td>0.0</td></tr><tr><td>Hollywood Reporter</td><td>Harvey Weinstein’s Last Stand - The Hollywood Reporter</td><td>2025-04-19</td><td>Winston Cho</td><td>http://www.hollywoodreporter.com/news/general-news/harvey-weinstein-new-trial-1236190862/</td><td>This is a dummy content for the URL.</td><td>4</td><td>0.0</td><td>0.0</td></tr><tr><td>Bleacher Report</td><td>Final Picks for Cena, Rhodes, Rock, Reigns and WWE WrestleMania 41 Match Card - Bleacher Report</td><td>2025-04-19</td><td>Donald Wood</td><td>https://bleacherreport.com/articles/25187437-final-picks-cena-rhodes-rock-reigns-and-wwe-wrestlemania-41-match-card</td><td>This is a dummy content for the URL.</td><td>4</td><td>0.0</td><td>0.0</td></tr><tr><td>Politico</td><td>The WrestleMania Presidency - Yahoo Home</td><td>2025-04-19</td><td>Zach Montellaro</td><td>https://www.politico.com/news/magazine/2025/04/19/donald-trump-pro-wrestling-wwe-00298303</td><td>This is a dummy content for the URL.</td><td>4</td><td>0.0</td><td>0.0</td></tr><tr><td>Wrestletalk.com</td><td>What Happened In Triple H WWE Hall Of Fame 2025 Hour Long Speech - WrestleTalk</td><td>2025-04-19</td><td>Sanchez Taylor</td><td>https://wrestletalk.com/news/triple-h-wwe-hall-of-fame-2025-speech/</td><td>This is a dummy content for the URL.</td><td>4</td><td>0.0</td><td>0.0</td></tr><tr><td>Variety</td><td>Lady Gaga Apologizes for Mic Malfunctions During Coachella Weekend 2 Set: ‘At Least You Know I Sing Live’ - Variety</td><td>2025-04-19</td><td>Thania Garcia</td><td>https://variety.com/2025/music/news/lady-gaga-apologizes-broken-mic-coachella-weekend-2-i-sing-live-1236373171/</td><td>This is a dummy content for the URL.</td><td>4</td><td>0.0</td><td>0.0</td></tr><tr><td>Tom's Guide</td><td>5 best new movies to stream this weekend on Netflix, Hulu, Max, and more - Tom's Guide</td><td>2025-04-19</td><td>Alyse Stanley</td><td>https://www.tomsguide.com/entertainment/streaming/movies-to-stream-this-weekend-april-18-2025</td><td>This is a dummy content for the URL.</td><td>4</td><td>0.0</td><td>0.0</td></tr><tr><td>Polygon</td><td>Star Wars Zero Company, a turn-based game at the end of the Clone Wars, gets full reveal - Polygon</td><td>2025-04-19</td><td>Maddy Myers</td><td>https://www.polygon.com/star-wars/560074/star-wars-zero-company-xcom-game-reveal</td><td>This is a dummy content for the URL.</td><td>4</td><td>0.0</td><td>0.0</td></tr><tr><td>Hollywood Reporter</td><td>Star Wars Celebration: Hayden Christensen Returning as Anakin Skywalker for ‘Ahsoka’ Season Two - The Hollywood Reporter</td><td>2025-04-19</td><td>Borys Kit, Abid Rahman</td><td>http://www.hollywoodreporter.com/tv/tv-news/hayden-christensen-anakin-skywalker-ahsoka-season-2-1236195948/</td><td>This is a dummy content for the URL.</td><td>4</td><td>0.0</td><td>0.0</td></tr><tr><td>Cageside Seats</td><td>Rumor Roundup: Rey Mysterio injury, Trump at WrestleMania, WWE expansion, more! - Cageside Seats</td><td>2025-04-19</td><td>Randall Ortman</td><td>https://www.cagesideseats.com/2025/4/19/24411577/rumor-roundup-rey-mysterio-leg-injury-wrestlemania-41-winners-trump-chelsea-green-rusev-orton-omos</td><td>This is a dummy content for the URL.</td><td>4</td><td>0.0</td><td>0.0</td></tr><tr><td>Associated Press</td><td>Universal Epic Universe is the theme park resort’s biggest bang yet in Florida - AP News</td><td>2025-04-19</td><td>Mike Schneider</td><td>https://apnews.com/article/universal-epic-universe-florida-tourism-theme-park-666ce27bfca95cfa4d682f826cc327b5</td><td>This is a dummy content for the URL.</td><td>4</td><td>0.0</td><td>0.0</td></tr><tr><td>Cageside Seats</td><td>Cody Rhodes lays out Cena again after getting booed on SmackDown - Cageside Seats</td><td>2025-04-19</td><td>Cain A. Knight</td><td>https://www.cagesideseats.com/wwe/2025/4/18/24411637/wwe-wrestlemania-smackdown-2025-cody-rhodes-booed-stands-tall-over-john-cena-final-promo-go-home</td><td>This is a dummy content for the URL.</td><td>4</td><td>0.0</td><td>0.0</td></tr><tr><td>SheKnows</td><td>Adios, Liam? Plus, We Have Big Questions About Next Week’s Forrester Fashion Show! - Soaps.com</td><td>2025-04-19</td><td>Richard Simms</td><td>https://soaps.sheknows.com/the-bold-and-the-beautiful/soapbox/778014/who-will-save-liam/</td><td>This is a dummy content for the URL.</td><td>4</td><td>0.0</td><td>0.0</td></tr><tr><td>Entertainment Weekly</td><td>Liza Minnelli performs for first time in years with lip-sync to 'Ring Them Bells' at RuPaul's Drag Race finale - Entertainment Weekly</td><td>2025-04-19</td><td>https://www.facebook.com/entertainmentweekly</td><td>https://ew.com/liza-minnelli-performs-rupauls-drag-race-finale-11718398</td><td>This is a dummy content for the URL.</td><td>4</td><td>0.0</td><td>0.0</td></tr><tr><td>Wrestlezone.com</td><td>Randy Orton’s WWE WrestleMania 41 Match Revealed - Wrestlezone</td><td>2025-04-19</td><td>Matt Black</td><td>http://www.wrestlezone.com/news/1555036-randy-ortons-wwe-wrestlemania-41-match-revealed</td><td>This is a dummy content for the URL.</td><td>4</td><td>0.0</td><td>0.0</td></tr><tr><td>Rolling Stone</td><td>Post Malone’s Ex-Fiancée Files for Custody of Their Daughter - Rolling Stone</td><td>2025-04-19</td><td>Tomás Mier, Nancy Dillon</td><td>http://www.rollingstone.com/music/music-news/post-malone-ex-fiancee-custody-daughter-1235321261/</td><td>This is a dummy content for the URL.</td><td>4</td><td>0.0</td><td>0.0</td></tr><tr><td>Programminginsider.com</td><td>Thursday Ratings: 'Matlock' on CBS Hits Series-High in Adults 18-49 with Inaugural Season Finale and Tops All Prime Time Telecasts - Programming Insider</td><td>2025-04-18</td><td>Douglas Pucci</td><td>https://programminginsider.com/thursday-ratings-matlock-on-cbs-hits-series-high-in-adults-18-49-with-inaugural-season-finale-and-tops-all-prime-time-telecasts/</td><td>This is a dummy content for the URL.</td><td>4</td><td>0.0</td><td>0.0</td></tr><tr><td>Cageside Seats</td><td>WWE announces the opening matches for both nights of WrestleMania 41 - Cageside Seats</td><td>2025-04-18</td><td>Sean Rueter</td><td>https://www.cagesideseats.com/wwe/2025/4/18/24411529/wwe-wrestlemania-41-opening-matches-both-nights-world-titles-iyo-rhea-bianca-jey-gunther</td><td>This is a dummy content for the URL.</td><td>4</td><td>0.0</td><td>0.0</td></tr><tr><td>Just Jared</td><td>Machine Gun Kelly & Megan Fox Seen Out Together for First Time Since Welcoming Daughter - Just Jared</td><td>2025-04-18</td><td>null</td><td>https://www.justjared.com/2025/04/18/machine-gun-kelly-megan-fox-seen-out-together-for-first-time-since-welcoming-daughter/</td><td>This is a dummy content for the URL.</td><td>4</td><td>0.0</td><td>0.0</td></tr><tr><td>Hollywood Reporter</td><td>Jacob Elordi “Was Going to Take a Break” Before ‘Wuthering Heights’ Director Texted Him - The Hollywood Reporter</td><td>2025-04-18</td><td>Lexi Carson</td><td>http://www.hollywoodreporter.com/movies/movie-news/jacob-elordi-take-break-before-wuthering-heights-1236195489/</td><td>This is a dummy content for the URL.</td><td>4</td><td>0.0</td><td>0.0</td></tr><tr><td>Ringside News</td><td>Spoiler: Opening Revealed for April 18 WWE SmackDown - Ringside News</td><td>2025-04-18</td><td>Steve Carrier</td><td>https://www.ringsidenews.com/2025/04/18/spoiler-opening-revealed-for-april-18-wwe-smackdown/</td><td>This is a dummy content for the URL.</td><td>4</td><td>0.0</td><td>0.0</td></tr><tr><td>Space.com</td><td>Star Wars Celebration reveals new footage about Sigourney Weaver's 'The Mandalorian & Grogu' character - Space</td><td>2025-04-18</td><td>Fran Ruiz</td><td>https://www.space.com/entertainment/space-movies-shows/star-wars-celebration-reveals-new-footage-about-sigourney-weavers-the-mandalorian-and-grogu-character</td><td>This is a dummy content for the URL.</td><td>4</td><td>0.0</td><td>0.0</td></tr><tr><td>Ars Technica</td><td>Trump official to Katy Perry and Bezos’ fiancée: “You cannot identify as an astronaut” - Ars Technica</td><td>2025-04-18</td><td>Eric Berger</td><td>https://arstechnica.com/space/2025/04/so-is-katy-perry-now-an-astronaut-or-what/</td><td>This is a dummy content for the URL.</td><td>4</td><td>0.0</td><td>0.0</td></tr><tr><td>Deadline</td><td>'9-1-1' Cast Say Goodbye To Co-Star Following Character's Death: Oliver Stark, Jennifer Love Hewitt & More Pay Tribute To Actor - Deadline</td><td>2025-04-18</td><td>Armando Tinoco</td><td>http://deadline.com/2025/04/9-1-1-cast-goodbye-character-death-oliver-stark-jennifer-love-hewitt-1236372010/</td><td>This is a dummy content for the URL.</td><td>4</td><td>0.0</td><td>0.0</td></tr><tr><td>Wrestling Inc.</td><td>Opening Match For Night One WWE Of WrestleMania 41 Revealed - Wrestling Inc.</td><td>2025-04-18</td><td>Brie Coder</td><td>https://www.wrestlinginc.com/1837895/opening-match-for-night-one-wwe-of-wrestlemania-41-revealed/</td><td>This is a dummy content for the URL.</td><td>4</td><td>0.0</td><td>0.0</td></tr><tr><td>/FILM</td><td>Ryan Gosling's Star Wars Movie Is Finally Taking The Franchise Somewhere New - SlashFilm</td><td>2025-04-18</td><td>Ryan Scott</td><td>https://www.slashfilm.com/1837876/ryan-gosling-star-wars-starfighter-movie-franchise-direction/</td><td>This is a dummy content for the URL.</td><td>4</td><td>0.0</td><td>0.0</td></tr><tr><td>CNN</td><td>‘Sinners’ director Ryan Coogler takes us to film school in 10 minutes - CNN</td><td>2025-04-18</td><td>Quincy Bowie</td><td>https://www.cnn.com/2025/04/18/entertainment/sinners-director-ryan-coogler-film-school/index.html</td><td>This is a dummy content for the URL.</td><td>4</td><td>0.0</td><td>0.0</td></tr><tr><td>BBC News</td><td>Blue Origin flight: Wendy's praises Katy Perry after 'can we send her back' tweet - BBC</td><td>2025-04-18</td><td>null</td><td>https://www.bbc.com/news/articles/ckgek8engwmo</td><td>This is a dummy content for the URL.</td><td>4</td><td>0.0</td><td>0.0</td></tr><tr><td>OregonLive</td><td>Oscar-nominated child star charged with cocaine possession and public drunkenness - OregonLive.com</td><td>2025-04-18</td><td>The Associated Press</td><td>https://www.oregonlive.com/nation/2025/04/oscar-nominated-child-star-charged-with-cocaine-possession-and-public-drunkenness.html</td><td>This is a dummy content for the URL.</td><td>4</td><td>0.0</td><td>0.0</td></tr><tr><td>Variety</td><td>'Gutfeld!' Comedian Tyler Fischer Claims 'Woke' Fox News Banned Him - Variety</td><td>2025-04-18</td><td>Todd Spangler</td><td>https://variety.com/2025/tv/news/gutfeld-tyler-fischer-claims-fox-news-banned-full-woke-1236372694/</td><td>This is a dummy content for the URL.</td><td>4</td><td>0.0</td><td>0.0</td></tr><tr><td>Deadline</td><td>Sean ‘Diddy’ Combs Loses Trial Delay Bid In Sex Trafficking Case; Warner Bros Discovery Comes Up Short In Keeping Docuseries Outtakes Out Of Case - Deadline</td><td>2025-04-18</td><td>Dominic Patten, Sean Piccoli</td><td>http://deadline.com/2025/04/diddy-rape-trial-delay-denied-1236371795/</td><td>This is a dummy content for the URL.</td><td>4</td><td>0.0</td><td>0.0</td></tr><tr><td>NPR</td><td>John Cena's the bad guy in his final WrestleMania. Here's why that's a big deal - NPR</td><td>2025-04-18</td><td></td><td>https://www.npr.org/2025/04/18/nx-s1-5366023/john-cena-wrestlemania-cody-rhodes</td><td>This is a dummy content for the URL.</td><td>4</td><td>0.0</td><td>0.0</td></tr><tr><td>CinemaBlend</td><td>SNL’s Bowen Yang Explained Why Aimee Lou Wood’s Reaction To The White Lotus Sketch Was ‘Completely Valid’ - Cinemablend</td><td>2025-04-18</td><td>Heidi Venable</td><td>https://www.cinemablend.com/television/snl-bowen-yang-why-aimee-lou-wood-reaction-white-lotus-sketch-completely-valid</td><td>This is a dummy content for the URL.</td><td>4</td><td>0.0</td><td>0.0</td></tr><tr><td>Page Six</td><td>Drew Carey, 66, and OnlyFans star, 37, spotted on lunch date 5 years after his ex-fiancée’s murder - Page Six</td><td>2025-04-18</td><td>Riley Cardoza</td><td>https://pagesix.com/2025/04/18/celebrity-news/drew-carey-onlyfans-star-niki-skyler-spotted-on-lunch-date/</td><td>This is a dummy content for the URL.</td><td>4</td><td>0.0</td><td>0.0</td></tr><tr><td>Rolling Stone</td><td>Gene Hackman Poked Fun at Alzheimer's in Notes Left for Wife Betsy Arakawa Before Death - Rolling Stone</td><td>2025-04-18</td><td>Jon Blistein</td><td>http://www.rollingstone.com/tv-movies/tv-movie-news/gene-hackman-betsy-arakawa-notes-investigation-unsealed-1235320511/</td><td>This is a dummy content for the URL.</td><td>4</td><td>0.0</td><td>0.0</td></tr><tr><td>Entertainment Weekly</td><td>Bowen Yang says there was 'no hesitation' to bare it all for Wedding Banquet nude scene: 'It just felt so integral' - ew.com</td><td>2025-04-18</td><td>https://www.facebook.com/entertainmentweekly</td><td>https://ew.com/bowen-yang-the-wedding-banquet-nude-butt-scene-11716610</td><td>This is a dummy content for the URL.</td><td>4</td><td>0.0</td><td>0.0</td></tr><tr><td>The Ringer</td><td>Bret Hart Remembers the Night Everything Changed - The Ringer</td><td>2025-04-18</td><td>null</td><td>https://www.theringer.com/2025/04/18/wwe/bret-hart-wwe-immortal-moment-award-hall-of-fame-wwe-wrestlemania-13</td><td>This is a dummy content for the URL.</td><td>4</td><td>0.0</td><td>0.0</td></tr><tr><td>Cageside Seats</td><td>Mercedes Moné sent Bayley a message after she lost her WrestleMania spot - cagesideseats.com</td><td>2025-04-20</td><td>Sean Rueter</td><td>https://www.cagesideseats.com/2025/4/20/24412282/mercedes-mone-sent-bayley-message-after-pulled-wrestlemania-41-injury-angle-not-hurt</td><td>This is a dummy content for the URL.</td><td>4</td><td>0.0</td><td>0.0</td></tr><tr><td>Yahoo Entertainment</td><td>WWE WrestleMania 41 Night 1 results, grades, analysis: Seth Rollins stuns CM Punk, Roman Reigns with Paul Heyman betrayals - Yahoo Sports</td><td>2025-04-20</td><td>Anthony Sulla-Heffinger</td><td>https://sports.yahoo.com/wrestling/live/wwe-wrestlemania-41-night-1-results-grades-analysis-seth-rollins-stuns-cm-punk-roman-reigns-with-paul-heyman-betrayals-060051805.html</td><td>This is a dummy content for the URL.</td><td>4</td><td>0.0</td><td>0.0</td></tr><tr><td>The Globe And Mail</td><td>Your daily horoscope: April 20, 2025 - The Globe and Mail</td><td>2025-04-20</td><td>Sally Brompton</td><td>https://www.theglobeandmail.com/life/horoscopes/article-your-daily-horoscope-april-20-2025/</td><td>This is a dummy content for the URL.</td><td>4</td><td>0.0</td><td>0.0</td></tr><tr><td>syracuse.com</td><td>Metallica breaks Dome attendance record at Syracuse concert (setlist, photos) - Syracuse.com</td><td>2025-04-20</td><td>Geoff Herbert | gherbert@syracuse.com</td><td>https://www.syracuse.com/entertainment/2025/04/metallica-breaks-dome-attendance-record-at-syracuse-concert-setlist-photos.html</td><td>This is a dummy content for the URL.</td><td>4</td><td>0.0</td><td>0.0</td></tr><tr><td>411mania.com</td><td>WWE Gives Update On Roman Reigns Following WrestleMania 41 - 411MANIA</td><td>2025-04-20</td><td>null</td><td>https://411mania.com/wrestling/wwe-update-roman-reigns-wrestlemania-41/</td><td>This is a dummy content for the URL.</td><td>4</td><td>0.0</td><td>0.0</td></tr><tr><td>Variety</td><td>Lucasfilm Reveals ‘The Ninth Jedi’ Series at Star Wars Celebration in Tokyo - Variety</td><td>2025-04-20</td><td>William Earl</td><td>https://variety.com/2025/tv/news/lucasfilm-ninth-jedi-series-star-wars-celebration-tokyo-1236373355/</td><td>This is a dummy content for the URL.</td><td>4</td><td>0.0</td><td>0.0</td></tr><tr><td>Wrestling Inc.</td><td>WWE Hall Of Fame Class Of 2025 (Minus Lex Luger) Honored On Stage At WrestleMania 41 - Wrestling Inc.</td><td>2025-04-20</td><td>Max Everett</td><td>https://www.wrestlinginc.com/1838599/wwe-hall-fame-class-2025-minus-lex-luger-honored-stage-wrestlemania-41/</td><td>This is a dummy content for the URL.</td><td>4</td><td>0.0</td><td>0.0</td></tr><tr><td>Cageside Seats</td><td>Living Colour plays CM Punk to the ring for his long-awaited WrestleMania main event - Cageside Seats</td><td>2025-04-20</td><td>Sean Rueter</td><td>https://www.cagesideseats.com/wwe/2025/4/19/24412232/living-colour-live-cult-of-personality-entrance-cm-punk-wrestlemania-41-video-first-main-event</td><td>This is a dummy content for the URL.</td><td>4</td><td>0.0</td><td>0.0</td></tr><tr><td>TMZ</td><td>George Kittle Chugs Full Beer At WrestleMania, Jelly Roll and Lil Yachty In Crowd - TMZ</td><td>2025-04-20</td><td>TMZ Staff</td><td>https://www.tmz.com/2025/04/19/george-kittle-chugs-full-beer-wrestlemania/</td><td>This is a dummy content for the URL.</td><td>4</td><td>0.0</td><td>0.0</td></tr><tr><td>Deadline</td><td>Bowen Yang Says Aimee Lou Wood's Reaction To 'SNL' Parody Is 'Valid' - Deadline</td><td>2025-04-20</td><td>Natalie Oganesyan</td><td>http://deadline.com/2025/04/bowen-yang-aimee-lou-wood-snl-parody-valid-1236372519/</td><td>This is a dummy content for the URL.</td><td>4</td><td>0.0</td><td>0.0</td></tr><tr><td>Deadline</td><td>'9-1-1's Aisha Hinds Pens Emotional Farewell Letter To Co-Star Following Character's Death & Show Exit: \"I Celebrate His Commitment & Contribution\" - Deadline</td><td>2025-04-20</td><td>Armando Tinoco</td><td>http://deadline.com/2025/04/911-aisha-hinds-farewell-letter-peter-krause-death-exit-1236372522/</td><td>This is a dummy content for the URL.</td><td>4</td><td>0.0</td><td>0.0</td></tr><tr><td>NBCSports.com</td><td>Kendrick Lamar's Super Bowl halftime show becomes an issue in Drake's Not Like Us lawsuit - NBC Sports</td><td>2025-04-20</td><td>Mike Florio</td><td>https://www.nbcsports.com/nfl/profootballtalk/rumor-mill/news/super-bowl-halftime-show-becomes-an-issue-in-drakes-not-like-us-lawsuit</td><td>This is a dummy content for the URL.</td><td>4</td><td>0.0</td><td>0.0</td></tr><tr><td>Deadline</td><td>Olivia Williams Details Harrowing Pancreatic Cancer Journey Where She Was Called “Crazy” Amid Misdiagnoses - Deadline</td><td>2025-04-20</td><td>Natalie Oganesyan</td><td>http://deadline.com/2025/04/olivia-williams-pancreatic-cancer-misdiagnoses-1236372478/</td><td>This is a dummy content for the URL.</td><td>4</td><td>0.0</td><td>0.0</td></tr><tr><td>Nodq.com</td><td>Results of War Raiders vs. New Day at WWE WrestleMania 41 Saturday - NoDQ.com</td><td>2025-04-20</td><td>Aaron Rift</td><td>https://nodq.com/news/results-of-war-raiders-vs-new-day-at-wwe-wrestlemania-41-saturday/</td><td>This is a dummy content for the URL.</td><td>4</td><td>0.0</td><td>0.0</td></tr><tr><td>CBS Sports</td><td>WWE WrestleMania 41 results: Jey Uso wins world heavyweight title, breakthrough continues to silence doubters - CBS Sports</td><td>2025-04-19</td><td></td><td>https://www.cbssports.com/wwe/news/wwe-wrestlemania-41-results-jey-uso-wins-world-heavyweight-title-breakthrough-continues-to-silence-doubters/</td><td>This is a dummy content for the URL.</td><td>4</td><td>0.0</td><td>0.0</td></tr><tr><td>Nodq.com</td><td>Results of Gunther vs. Jey Uso at WWE WrestleMania 41 Saturday - NoDQ.com</td><td>2025-04-19</td><td>Aaron Rift</td><td>https://nodq.com/news/results-of-gunther-vs-jey-uso-at-wwe-wrestlemania-41-saturday/</td><td>This is a dummy content for the URL.</td><td>4</td><td>0.0</td><td>0.0</td></tr><tr><td>Cageside Seats</td><td>Rey Mysterio injured, out of WrestleMania 41 match with El Grande Americano - Cageside Seats</td><td>2025-04-19</td><td>Geno Mrosko</td><td>https://www.cagesideseats.com/wwe/2025/4/19/24412141/rey-mysterio-injured-wrestlemania-41-match-el-grande-americano-rey-fenix-wwe</td><td>This is a dummy content for the URL.</td><td>4</td><td>0.0</td><td>0.0</td></tr><tr><td>Wrestling Inc.</td><td>WWE Announces Acquisition Of Lucha Libre AAA, Worlds Collide Show Set For June - Wrestling Inc.</td><td>2025-04-19</td><td>Max Everett</td><td>https://www.wrestlinginc.com/1838544/wwe-announces-acquisition-lucha-libre-aaa-worlds-collide-show-set-june/</td><td>This is a dummy content for the URL.</td><td>4</td><td>0.0</td><td>0.0</td></tr><tr><td>Just Jared</td><td>Colin Farrell Shares Why He’s Placing His Son with Angelman Syndrome in Long-Term Care Facility - Just Jared</td><td>2025-04-19</td><td>null</td><td>https://www.justjared.com/2025/04/19/colin-farrell-shares-why-hes-placing-his-son-with-angelman-syndrome-in-long-term-care-facility/</td><td>This is a dummy content for the URL.</td><td>4</td><td>0.0</td><td>0.0</td></tr><tr><td>Yahoo Entertainment</td><td>Kanye West And Bianca Censori's Relationship Takes New Turn With Latest Sighting After 'Dumping' Claims - Yahoo</td><td>2025-04-19</td><td>Favour Adegoke</td><td>https://www.yahoo.com/entertainment/articles/kanye-west-bianca-censoris-relationship-203059271.html</td><td>This is a dummy content for the URL.</td><td>4</td><td>0.0</td><td>0.0</td></tr><tr><td>Nodq.com</td><td>Results of The D’Angelo Family vs. DarkState at WWE NXT Stand and Deliver 2025 - NoDQ.com</td><td>2025-04-19</td><td>Aaron Rift</td><td>https://nodq.com/news/results-of-the-dangelo-family-vs-darkstate-at-wwe-nxt-stand-and-deliver-2025/</td><td>This is a dummy content for the URL.</td><td>4</td><td>0.0</td><td>0.0</td></tr><tr><td>Page Six</td><td>'RHOC' alum Lydia McLaughlin 'devastated' after brother is fatally shot by police during traffic stop - Page Six</td><td>2025-04-19</td><td>Eileen Reslen</td><td>https://pagesix.com/2025/04/19/celebrity-news/rhoc-alum-lydia-mclaughlin-devastated-after-brother-is-fatally-shot-by-police-during-traffic-stop/</td><td>This is a dummy content for the URL.</td><td>4</td><td>0.0</td><td>0.0</td></tr><tr><td>Variety</td><td>Hayden Christensen Returns as Anakin Skywalker for ‘Ahsoka’ Season 2 - Variety</td><td>2025-04-19</td><td>Jack Dunn</td><td>https://variety.com/2025/film/news/hayden-christensen-anakin-skywalker-ahsoka-season-2-1236373255/</td><td>This is a dummy content for the URL.</td><td>4</td><td>0.0</td><td>0.0</td></tr><tr><td>Page Six</td><td>Ivanka Trump and sister-in-law Karlie Kloss seen in good spirits at Costa Rica family vacation despite rumored feud - Page Six</td><td>2025-04-19</td><td>BreAnna Bell</td><td>https://pagesix.com/2025/04/19/celebrity-news/ivanka-trump-and-karlie-kloss-seen-in-good-spirits-at-costa-rica-family-vacation-despite-rumored-feud/</td><td>This is a dummy content for the URL.</td><td>4</td><td>0.0</td><td>0.0</td></tr><tr><td>Buzzfeed</td><td>Haley Joel Osment Apologized For Making Antisemitic Remarks During His Recent Arrest - BuzzFeed</td><td>2025-04-19</td><td>Larry Fitzmaurice</td><td>https://www.buzzfeed.com/larryfitzmaurice/haley-joel-osment-antisemitism-apology</td><td>This is a dummy content for the URL.</td><td>4</td><td>0.0</td><td>0.0</td></tr><tr><td>Rock Paper Shotgun</td><td>Star Wars Zero Company looks like XCOM in a galaxy far, far away in its first trailer - Rock Paper Shotgun</td><td>2025-04-19</td><td>Oisin Kuhnke</td><td>https://www.rockpapershotgun.com/star-wars-zero-company-looks-like-xcom-in-a-galaxy-far-far-away-in-its-first-trailer</td><td>This is a dummy content for the URL.</td><td>4</td><td>0.0</td><td>0.0</td></tr><tr><td>SheKnows</td><td>One of Taylor Swift’s Inner Circle Gave Heartbreaking Insight As To Why She’s Laying Low - SheKnows</td><td>2025-04-19</td><td>Maggie Clancy</td><td>https://www.sheknows.com/entertainment/articles/1234869359/gracie-abrams-taylor-swift-privacy/</td><td>This is a dummy content for the URL.</td><td>4</td><td>0.0</td><td>0.0</td></tr><tr><td>Figure Four Online</td><td>NXT Stand & Deliver live results: Five title matches - F4W/WON</td><td>2025-04-19</td><td>Marc Quill</td><td>https://www.f4wonline.com/news/nxt/nxt-results/wwe-nxt-stand-deliver-live-results-oba-femi-trick-williams-jevon-evans/</td><td>This is a dummy content for the URL.</td><td>4</td><td>0.0</td><td>0.0</td></tr><tr><td>CNN</td><td>Why the 20-year-old ‘Pride & Prejudice’ film still bewitches audiences today - CNN</td><td>2025-04-19</td><td>Leah Asmelash</td><td>https://www.cnn.com/2025/04/19/entertainment/pride-prejudice-film-20th-anniversary-cec/index.html</td><td>This is a dummy content for the URL.</td><td>4</td><td>0.0</td><td>0.0</td></tr><tr><td>Variety</td><td>Box Office: 'Sinners' Scores Solid Opening Day, 'Minecraft' Still No. 1 - Variety</td><td>2025-04-19</td><td>J. Kim Murphy</td><td>https://variety.com/2025/film/news/box-office-sinners-opening-day-minecraft-no1-1236372989/</td><td>This is a dummy content for the URL.</td><td>4</td><td>0.0</td><td>0.0</td></tr><tr><td>Polygon</td><td>An animated episode of Doctor Who was a dream come true for its creators - Polygon</td><td>2025-04-19</td><td>Susana Polo</td><td>https://www.polygon.com/tv/561655/doctor-who-animated-episode-sequence-how-mr-ring-a-ding</td><td>This is a dummy content for the URL.</td><td>4</td><td>0.0</td><td>0.0</td></tr><tr><td>Rolling Stone</td><td>Zak Is Back, the Who’s Pete Townshend Says: ‘Not Being Asked to Step Down’ - Rolling Stone</td><td>2025-04-19</td><td>Althea Legaspi</td><td>http://www.rollingstone.com/music/music-news/zak-starkey-back-the-who-pete-townshend-1235321402/</td><td>This is a dummy content for the URL.</td><td>4</td><td>0.0</td><td>0.0</td></tr><tr><td>Outkick.com</td><td>Katy Perry Goes To Space, Lizzo Gives Her Take On Tariffs, And Waffle House Innovates - OutKick</td><td>2025-04-19</td><td>Matt Reigle</td><td>https://www.outkick.com/culture/katy-perry-space-lizzo-tariffs-waffle-house</td><td>This is a dummy content for the URL.</td><td>4</td><td>0.0</td><td>0.0</td></tr><tr><td>Hollywood Reporter</td><td>Harvey Weinstein’s Last Stand - The Hollywood Reporter</td><td>2025-04-19</td><td>Winston Cho</td><td>http://www.hollywoodreporter.com/news/general-news/harvey-weinstein-new-trial-1236190862/</td><td>This is a dummy content for the URL.</td><td>4</td><td>0.0</td><td>0.0</td></tr><tr><td>Politico</td><td>The WrestleMania Presidency - Yahoo Home</td><td>2025-04-19</td><td>Zach Montellaro</td><td>https://www.politico.com/news/magazine/2025/04/19/donald-trump-pro-wrestling-wwe-00298303</td><td>This is a dummy content for the URL.</td><td>4</td><td>0.0</td><td>0.0</td></tr><tr><td>Variety</td><td>Lady Gaga Apologizes for Mic Malfunctions During Coachella Weekend 2 Set: ‘At Least You Know I Sing Live’ - Variety</td><td>2025-04-19</td><td>Thania Garcia</td><td>https://variety.com/2025/music/news/lady-gaga-apologizes-broken-mic-coachella-weekend-2-i-sing-live-1236373171/</td><td>This is a dummy content for the URL.</td><td>4</td><td>0.0</td><td>0.0</td></tr><tr><td>Associated Press</td><td>Universal Epic Universe is the theme park resort’s biggest bang yet in Florida - AP News</td><td>2025-04-19</td><td>Mike Schneider</td><td>https://apnews.com/article/universal-epic-universe-florida-tourism-theme-park-666ce27bfca95cfa4d682f826cc327b5</td><td>This is a dummy content for the URL.</td><td>4</td><td>0.0</td><td>0.0</td></tr><tr><td>Hollywood Reporter</td><td>Star Wars Celebration: Diego Luna, Tony Gilroy and Adria Arjona Premiere ‘Andor’ Season Two for Fans - The Hollywood Reporter</td><td>2025-04-19</td><td>Borys Kit, Abid Rahman, Patrick Brzeski</td><td>http://www.hollywoodreporter.com/tv/tv-news/star-wars-celebration-diego-luna-andor-season-two-premiere-1236195839/</td><td>This is a dummy content for the URL.</td><td>4</td><td>0.0</td><td>0.0</td></tr><tr><td>Cageside Seats</td><td>Mercedes Moné sent Bayley a message after she lost her WrestleMania spot - cagesideseats.com</td><td>2025-04-20</td><td>Sean Rueter</td><td>https://www.cagesideseats.com/2025/4/20/24412282/mercedes-mone-sent-bayley-message-after-pulled-wrestlemania-41-injury-angle-not-hurt</td><td>This is a dummy content for the URL.</td><td>4</td><td>0.0</td><td>0.0</td></tr><tr><td>Yahoo Entertainment</td><td>WWE WrestleMania 41 Night 1 results, grades, analysis: Seth Rollins stuns CM Punk, Roman Reigns with Paul Heyman betrayals - Yahoo Sports</td><td>2025-04-20</td><td>Anthony Sulla-Heffinger</td><td>https://sports.yahoo.com/wrestling/live/wwe-wrestlemania-41-night-1-results-grades-analysis-seth-rollins-stuns-cm-punk-roman-reigns-with-paul-heyman-betrayals-060051805.html</td><td>This is a dummy content for the URL.</td><td>4</td><td>0.0</td><td>0.0</td></tr><tr><td>The Globe And Mail</td><td>Your daily horoscope: April 20, 2025 - The Globe and Mail</td><td>2025-04-20</td><td>Sally Brompton</td><td>https://www.theglobeandmail.com/life/horoscopes/article-your-daily-horoscope-april-20-2025/</td><td>This is a dummy content for the URL.</td><td>4</td><td>0.0</td><td>0.0</td></tr><tr><td>syracuse.com</td><td>Metallica breaks Dome attendance record at Syracuse concert (setlist, photos) - Syracuse.com</td><td>2025-04-20</td><td>Geoff Herbert | gherbert@syracuse.com</td><td>https://www.syracuse.com/entertainment/2025/04/metallica-breaks-dome-attendance-record-at-syracuse-concert-setlist-photos.html</td><td>This is a dummy content for the URL.</td><td>4</td><td>0.0</td><td>0.0</td></tr><tr><td>411mania.com</td><td>WWE Gives Update On Roman Reigns Following WrestleMania 41 - 411MANIA</td><td>2025-04-20</td><td>null</td><td>https://411mania.com/wrestling/wwe-update-roman-reigns-wrestlemania-41/</td><td>This is a dummy content for the URL.</td><td>4</td><td>0.0</td><td>0.0</td></tr><tr><td>Variety</td><td>Lucasfilm Reveals ‘The Ninth Jedi’ Series at Star Wars Celebration in Tokyo - Variety</td><td>2025-04-20</td><td>William Earl</td><td>https://variety.com/2025/tv/news/lucasfilm-ninth-jedi-series-star-wars-celebration-tokyo-1236373355/</td><td>This is a dummy content for the URL.</td><td>4</td><td>0.0</td><td>0.0</td></tr><tr><td>Wrestling Inc.</td><td>WWE Hall Of Fame Class Of 2025 (Minus Lex Luger) Honored On Stage At WrestleMania 41 - Wrestling Inc.</td><td>2025-04-20</td><td>Max Everett</td><td>https://www.wrestlinginc.com/1838599/wwe-hall-fame-class-2025-minus-lex-luger-honored-stage-wrestlemania-41/</td><td>This is a dummy content for the URL.</td><td>4</td><td>0.0</td><td>0.0</td></tr><tr><td>Cageside Seats</td><td>Living Colour plays CM Punk to the ring for his long-awaited WrestleMania main event - Cageside Seats</td><td>2025-04-20</td><td>Sean Rueter</td><td>https://www.cagesideseats.com/wwe/2025/4/19/24412232/living-colour-live-cult-of-personality-entrance-cm-punk-wrestlemania-41-video-first-main-event</td><td>This is a dummy content for the URL.</td><td>4</td><td>0.0</td><td>0.0</td></tr><tr><td>TMZ</td><td>George Kittle Chugs Full Beer At WrestleMania, Jelly Roll and Lil Yachty In Crowd - TMZ</td><td>2025-04-20</td><td>TMZ Staff</td><td>https://www.tmz.com/2025/04/19/george-kittle-chugs-full-beer-wrestlemania/</td><td>This is a dummy content for the URL.</td><td>4</td><td>0.0</td><td>0.0</td></tr><tr><td>Deadline</td><td>Bowen Yang Says Aimee Lou Wood's Reaction To 'SNL' Parody Is 'Valid' - Deadline</td><td>2025-04-20</td><td>Natalie Oganesyan</td><td>http://deadline.com/2025/04/bowen-yang-aimee-lou-wood-snl-parody-valid-1236372519/</td><td>This is a dummy content for the URL.</td><td>4</td><td>0.0</td><td>0.0</td></tr><tr><td>Deadline</td><td>'9-1-1's Aisha Hinds Pens Emotional Farewell Letter To Co-Star Following Character's Death & Show Exit: \"I Celebrate His Commitment & Contribution\" - Deadline</td><td>2025-04-20</td><td>Armando Tinoco</td><td>http://deadline.com/2025/04/911-aisha-hinds-farewell-letter-peter-krause-death-exit-1236372522/</td><td>This is a dummy content for the URL.</td><td>4</td><td>0.0</td><td>0.0</td></tr><tr><td>NBCSports.com</td><td>Kendrick Lamar's Super Bowl halftime show becomes an issue in Drake's Not Like Us lawsuit - NBC Sports</td><td>2025-04-20</td><td>Mike Florio</td><td>https://www.nbcsports.com/nfl/profootballtalk/rumor-mill/news/super-bowl-halftime-show-becomes-an-issue-in-drakes-not-like-us-lawsuit</td><td>This is a dummy content for the URL.</td><td>4</td><td>0.0</td><td>0.0</td></tr><tr><td>Deadline</td><td>Olivia Williams Details Harrowing Pancreatic Cancer Journey Where She Was Called “Crazy” Amid Misdiagnoses - Deadline</td><td>2025-04-20</td><td>Natalie Oganesyan</td><td>http://deadline.com/2025/04/olivia-williams-pancreatic-cancer-misdiagnoses-1236372478/</td><td>This is a dummy content for the URL.</td><td>4</td><td>0.0</td><td>0.0</td></tr><tr><td>Nodq.com</td><td>Results of War Raiders vs. New Day at WWE WrestleMania 41 Saturday - NoDQ.com</td><td>2025-04-20</td><td>Aaron Rift</td><td>https://nodq.com/news/results-of-war-raiders-vs-new-day-at-wwe-wrestlemania-41-saturday/</td><td>This is a dummy content for the URL.</td><td>4</td><td>0.0</td><td>0.0</td></tr><tr><td>CBS Sports</td><td>WWE WrestleMania 41 results: Jey Uso wins world heavyweight title, breakthrough continues to silence doubters - CBS Sports</td><td>2025-04-19</td><td></td><td>https://www.cbssports.com/wwe/news/wwe-wrestlemania-41-results-jey-uso-wins-world-heavyweight-title-breakthrough-continues-to-silence-doubters/</td><td>This is a dummy content for the URL.</td><td>4</td><td>0.0</td><td>0.0</td></tr><tr><td>Nodq.com</td><td>Results of Gunther vs. Jey Uso at WWE WrestleMania 41 Saturday - NoDQ.com</td><td>2025-04-19</td><td>Aaron Rift</td><td>https://nodq.com/news/results-of-gunther-vs-jey-uso-at-wwe-wrestlemania-41-saturday/</td><td>This is a dummy content for the URL.</td><td>4</td><td>0.0</td><td>0.0</td></tr><tr><td>Cageside Seats</td><td>Rey Mysterio injured, out of WrestleMania 41 match with El Grande Americano - Cageside Seats</td><td>2025-04-19</td><td>Geno Mrosko</td><td>https://www.cagesideseats.com/wwe/2025/4/19/24412141/rey-mysterio-injured-wrestlemania-41-match-el-grande-americano-rey-fenix-wwe</td><td>This is a dummy content for the URL.</td><td>4</td><td>0.0</td><td>0.0</td></tr><tr><td>Wrestling Inc.</td><td>WWE Announces Acquisition Of Lucha Libre AAA, Worlds Collide Show Set For June - Wrestling Inc.</td><td>2025-04-19</td><td>Max Everett</td><td>https://www.wrestlinginc.com/1838544/wwe-announces-acquisition-lucha-libre-aaa-worlds-collide-show-set-june/</td><td>This is a dummy content for the URL.</td><td>4</td><td>0.0</td><td>0.0</td></tr><tr><td>Just Jared</td><td>Colin Farrell Shares Why He’s Placing His Son with Angelman Syndrome in Long-Term Care Facility - Just Jared</td><td>2025-04-19</td><td>null</td><td>https://www.justjared.com/2025/04/19/colin-farrell-shares-why-hes-placing-his-son-with-angelman-syndrome-in-long-term-care-facility/</td><td>This is a dummy content for the URL.</td><td>4</td><td>0.0</td><td>0.0</td></tr><tr><td>Yahoo Entertainment</td><td>Kanye West And Bianca Censori's Relationship Takes New Turn With Latest Sighting After 'Dumping' Claims - Yahoo</td><td>2025-04-19</td><td>Favour Adegoke</td><td>https://www.yahoo.com/entertainment/articles/kanye-west-bianca-censoris-relationship-203059271.html</td><td>This is a dummy content for the URL.</td><td>4</td><td>0.0</td><td>0.0</td></tr><tr><td>Nodq.com</td><td>Results of The D’Angelo Family vs. DarkState at WWE NXT Stand and Deliver 2025 - NoDQ.com</td><td>2025-04-19</td><td>Aaron Rift</td><td>https://nodq.com/news/results-of-the-dangelo-family-vs-darkstate-at-wwe-nxt-stand-and-deliver-2025/</td><td>This is a dummy content for the URL.</td><td>4</td><td>0.0</td><td>0.0</td></tr><tr><td>Page Six</td><td>'RHOC' alum Lydia McLaughlin 'devastated' after brother is fatally shot by police during traffic stop - Page Six</td><td>2025-04-19</td><td>Eileen Reslen</td><td>https://pagesix.com/2025/04/19/celebrity-news/rhoc-alum-lydia-mclaughlin-devastated-after-brother-is-fatally-shot-by-police-during-traffic-stop/</td><td>This is a dummy content for the URL.</td><td>4</td><td>0.0</td><td>0.0</td></tr><tr><td>Variety</td><td>Hayden Christensen Returns as Anakin Skywalker for ‘Ahsoka’ Season 2 - Variety</td><td>2025-04-19</td><td>Jack Dunn</td><td>https://variety.com/2025/film/news/hayden-christensen-anakin-skywalker-ahsoka-season-2-1236373255/</td><td>This is a dummy content for the URL.</td><td>4</td><td>0.0</td><td>0.0</td></tr><tr><td>Page Six</td><td>Ivanka Trump and sister-in-law Karlie Kloss seen in good spirits at Costa Rica family vacation despite rumored feud - Page Six</td><td>2025-04-19</td><td>BreAnna Bell</td><td>https://pagesix.com/2025/04/19/celebrity-news/ivanka-trump-and-karlie-kloss-seen-in-good-spirits-at-costa-rica-family-vacation-despite-rumored-feud/</td><td>This is a dummy content for the URL.</td><td>4</td><td>0.0</td><td>0.0</td></tr><tr><td>Buzzfeed</td><td>Haley Joel Osment Apologized For Making Antisemitic Remarks During His Recent Arrest - BuzzFeed</td><td>2025-04-19</td><td>Larry Fitzmaurice</td><td>https://www.buzzfeed.com/larryfitzmaurice/haley-joel-osment-antisemitism-apology</td><td>This is a dummy content for the URL.</td><td>4</td><td>0.0</td><td>0.0</td></tr><tr><td>Rock Paper Shotgun</td><td>Star Wars Zero Company looks like XCOM in a galaxy far, far away in its first trailer - Rock Paper Shotgun</td><td>2025-04-19</td><td>Oisin Kuhnke</td><td>https://www.rockpapershotgun.com/star-wars-zero-company-looks-like-xcom-in-a-galaxy-far-far-away-in-its-first-trailer</td><td>This is a dummy content for the URL.</td><td>4</td><td>0.0</td><td>0.0</td></tr><tr><td>SheKnows</td><td>One of Taylor Swift’s Inner Circle Gave Heartbreaking Insight As To Why She’s Laying Low - SheKnows</td><td>2025-04-19</td><td>Maggie Clancy</td><td>https://www.sheknows.com/entertainment/articles/1234869359/gracie-abrams-taylor-swift-privacy/</td><td>This is a dummy content for the URL.</td><td>4</td><td>0.0</td><td>0.0</td></tr><tr><td>Figure Four Online</td><td>NXT Stand & Deliver live results: Five title matches - F4W/WON</td><td>2025-04-19</td><td>Marc Quill</td><td>https://www.f4wonline.com/news/nxt/nxt-results/wwe-nxt-stand-deliver-live-results-oba-femi-trick-williams-jevon-evans/</td><td>This is a dummy content for the URL.</td><td>4</td><td>0.0</td><td>0.0</td></tr><tr><td>CNN</td><td>Why the 20-year-old ‘Pride & Prejudice’ film still bewitches audiences today - CNN</td><td>2025-04-19</td><td>Leah Asmelash</td><td>https://www.cnn.com/2025/04/19/entertainment/pride-prejudice-film-20th-anniversary-cec/index.html</td><td>This is a dummy content for the URL.</td><td>4</td><td>0.0</td><td>0.0</td></tr><tr><td>Variety</td><td>Box Office: 'Sinners' Scores Solid Opening Day, 'Minecraft' Still No. 1 - Variety</td><td>2025-04-19</td><td>J. Kim Murphy</td><td>https://variety.com/2025/film/news/box-office-sinners-opening-day-minecraft-no1-1236372989/</td><td>This is a dummy content for the URL.</td><td>4</td><td>0.0</td><td>0.0</td></tr><tr><td>Polygon</td><td>An animated episode of Doctor Who was a dream come true for its creators - Polygon</td><td>2025-04-19</td><td>Susana Polo</td><td>https://www.polygon.com/tv/561655/doctor-who-animated-episode-sequence-how-mr-ring-a-ding</td><td>This is a dummy content for the URL.</td><td>4</td><td>0.0</td><td>0.0</td></tr><tr><td>Rolling Stone</td><td>Zak Is Back, the Who’s Pete Townshend Says: ‘Not Being Asked to Step Down’ - Rolling Stone</td><td>2025-04-19</td><td>Althea Legaspi</td><td>http://www.rollingstone.com/music/music-news/zak-starkey-back-the-who-pete-townshend-1235321402/</td><td>This is a dummy content for the URL.</td><td>4</td><td>0.0</td><td>0.0</td></tr><tr><td>Outkick.com</td><td>Katy Perry Goes To Space, Lizzo Gives Her Take On Tariffs, And Waffle House Innovates - OutKick</td><td>2025-04-19</td><td>Matt Reigle</td><td>https://www.outkick.com/culture/katy-perry-space-lizzo-tariffs-waffle-house</td><td>This is a dummy content for the URL.</td><td>4</td><td>0.0</td><td>0.0</td></tr><tr><td>Hollywood Reporter</td><td>Harvey Weinstein’s Last Stand - The Hollywood Reporter</td><td>2025-04-19</td><td>Winston Cho</td><td>http://www.hollywoodreporter.com/news/general-news/harvey-weinstein-new-trial-1236190862/</td><td>This is a dummy content for the URL.</td><td>4</td><td>0.0</td><td>0.0</td></tr><tr><td>Politico</td><td>The WrestleMania Presidency - Yahoo Home</td><td>2025-04-19</td><td>Zach Montellaro</td><td>https://www.politico.com/news/magazine/2025/04/19/donald-trump-pro-wrestling-wwe-00298303</td><td>This is a dummy content for the URL.</td><td>4</td><td>0.0</td><td>0.0</td></tr><tr><td>Variety</td><td>Lady Gaga Apologizes for Mic Malfunctions During Coachella Weekend 2 Set: ‘At Least You Know I Sing Live’ - Variety</td><td>2025-04-19</td><td>Thania Garcia</td><td>https://variety.com/2025/music/news/lady-gaga-apologizes-broken-mic-coachella-weekend-2-i-sing-live-1236373171/</td><td>This is a dummy content for the URL.</td><td>4</td><td>0.0</td><td>0.0</td></tr><tr><td>Associated Press</td><td>Universal Epic Universe is the theme park resort’s biggest bang yet in Florida - AP News</td><td>2025-04-19</td><td>Mike Schneider</td><td>https://apnews.com/article/universal-epic-universe-florida-tourism-theme-park-666ce27bfca95cfa4d682f826cc327b5</td><td>This is a dummy content for the URL.</td><td>4</td><td>0.0</td><td>0.0</td></tr><tr><td>Hollywood Reporter</td><td>Star Wars Celebration: Diego Luna, Tony Gilroy and Adria Arjona Premiere ‘Andor’ Season Two for Fans - The Hollywood Reporter</td><td>2025-04-19</td><td>Borys Kit, Abid Rahman, Patrick Brzeski</td><td>http://www.hollywoodreporter.com/tv/tv-news/star-wars-celebration-diego-luna-andor-season-two-premiere-1236195839/</td><td>This is a dummy content for the URL.</td><td>4</td><td>0.0</td><td>0.0</td></tr><tr><td>Cageside Seats</td><td>Mercedes Moné sent Bayley a message after she lost her WrestleMania spot - cagesideseats.com</td><td>2025-04-20</td><td>Sean Rueter</td><td>https://www.cagesideseats.com/2025/4/20/24412282/mercedes-mone-sent-bayley-message-after-pulled-wrestlemania-41-injury-angle-not-hurt</td><td>This is a dummy content for the URL.</td><td>4</td><td>0.0</td><td>0.0</td></tr><tr><td>Yahoo Entertainment</td><td>WWE WrestleMania 41 Night 1 results, grades, analysis: Seth Rollins stuns CM Punk, Roman Reigns with Paul Heyman betrayals - Yahoo Sports</td><td>2025-04-20</td><td>Anthony Sulla-Heffinger</td><td>https://sports.yahoo.com/wrestling/live/wwe-wrestlemania-41-night-1-results-grades-analysis-seth-rollins-stuns-cm-punk-roman-reigns-with-paul-heyman-betrayals-060051805.html</td><td>This is a dummy content for the URL.</td><td>4</td><td>0.0</td><td>0.0</td></tr><tr><td>The Globe And Mail</td><td>Your daily horoscope: April 20, 2025 - The Globe and Mail</td><td>2025-04-20</td><td>Sally Brompton</td><td>https://www.theglobeandmail.com/life/horoscopes/article-your-daily-horoscope-april-20-2025/</td><td>This is a dummy content for the URL.</td><td>4</td><td>0.0</td><td>0.0</td></tr><tr><td>syracuse.com</td><td>Metallica breaks Dome attendance record at Syracuse concert (setlist, photos) - Syracuse.com</td><td>2025-04-20</td><td>Geoff Herbert | gherbert@syracuse.com</td><td>https://www.syracuse.com/entertainment/2025/04/metallica-breaks-dome-attendance-record-at-syracuse-concert-setlist-photos.html</td><td>This is a dummy content for the URL.</td><td>4</td><td>0.0</td><td>0.0</td></tr><tr><td>411mania.com</td><td>WWE Gives Update On Roman Reigns Following WrestleMania 41 - 411MANIA</td><td>2025-04-20</td><td>null</td><td>https://411mania.com/wrestling/wwe-update-roman-reigns-wrestlemania-41/</td><td>This is a dummy content for the URL.</td><td>4</td><td>0.0</td><td>0.0</td></tr><tr><td>Variety</td><td>Lucasfilm Reveals ‘The Ninth Jedi’ Series at Star Wars Celebration in Tokyo - Variety</td><td>2025-04-20</td><td>William Earl</td><td>https://variety.com/2025/tv/news/lucasfilm-ninth-jedi-series-star-wars-celebration-tokyo-1236373355/</td><td>This is a dummy content for the URL.</td><td>4</td><td>0.0</td><td>0.0</td></tr><tr><td>Wrestling Inc.</td><td>WWE Hall Of Fame Class Of 2025 (Minus Lex Luger) Honored On Stage At WrestleMania 41 - Wrestling Inc.</td><td>2025-04-20</td><td>Max Everett</td><td>https://www.wrestlinginc.com/1838599/wwe-hall-fame-class-2025-minus-lex-luger-honored-stage-wrestlemania-41/</td><td>This is a dummy content for the URL.</td><td>4</td><td>0.0</td><td>0.0</td></tr><tr><td>Cageside Seats</td><td>Living Colour plays CM Punk to the ring for his long-awaited WrestleMania main event - Cageside Seats</td><td>2025-04-20</td><td>Sean Rueter</td><td>https://www.cagesideseats.com/wwe/2025/4/19/24412232/living-colour-live-cult-of-personality-entrance-cm-punk-wrestlemania-41-video-first-main-event</td><td>This is a dummy content for the URL.</td><td>4</td><td>0.0</td><td>0.0</td></tr><tr><td>TMZ</td><td>George Kittle Chugs Full Beer At WrestleMania, Jelly Roll and Lil Yachty In Crowd - TMZ</td><td>2025-04-20</td><td>TMZ Staff</td><td>https://www.tmz.com/2025/04/19/george-kittle-chugs-full-beer-wrestlemania/</td><td>This is a dummy content for the URL.</td><td>4</td><td>0.0</td><td>0.0</td></tr><tr><td>Deadline</td><td>Bowen Yang Says Aimee Lou Wood's Reaction To 'SNL' Parody Is 'Valid' - Deadline</td><td>2025-04-20</td><td>Natalie Oganesyan</td><td>http://deadline.com/2025/04/bowen-yang-aimee-lou-wood-snl-parody-valid-1236372519/</td><td>This is a dummy content for the URL.</td><td>4</td><td>0.0</td><td>0.0</td></tr><tr><td>Deadline</td><td>'9-1-1's Aisha Hinds Pens Emotional Farewell Letter To Co-Star Following Character's Death & Show Exit: \"I Celebrate His Commitment & Contribution\" - Deadline</td><td>2025-04-20</td><td>Armando Tinoco</td><td>http://deadline.com/2025/04/911-aisha-hinds-farewell-letter-peter-krause-death-exit-1236372522/</td><td>This is a dummy content for the URL.</td><td>4</td><td>0.0</td><td>0.0</td></tr><tr><td>NBCSports.com</td><td>Kendrick Lamar's Super Bowl halftime show becomes an issue in Drake's Not Like Us lawsuit - NBC Sports</td><td>2025-04-20</td><td>Mike Florio</td><td>https://www.nbcsports.com/nfl/profootballtalk/rumor-mill/news/super-bowl-halftime-show-becomes-an-issue-in-drakes-not-like-us-lawsuit</td><td>This is a dummy content for the URL.</td><td>4</td><td>0.0</td><td>0.0</td></tr><tr><td>Deadline</td><td>Olivia Williams Details Harrowing Pancreatic Cancer Journey Where She Was Called “Crazy” Amid Misdiagnoses - Deadline</td><td>2025-04-20</td><td>Natalie Oganesyan</td><td>http://deadline.com/2025/04/olivia-williams-pancreatic-cancer-misdiagnoses-1236372478/</td><td>This is a dummy content for the URL.</td><td>4</td><td>0.0</td><td>0.0</td></tr><tr><td>Nodq.com</td><td>Results of War Raiders vs. New Day at WWE WrestleMania 41 Saturday - NoDQ.com</td><td>2025-04-20</td><td>Aaron Rift</td><td>https://nodq.com/news/results-of-war-raiders-vs-new-day-at-wwe-wrestlemania-41-saturday/</td><td>This is a dummy content for the URL.</td><td>4</td><td>0.0</td><td>0.0</td></tr><tr><td>CBS Sports</td><td>WWE WrestleMania 41 results: Jey Uso wins world heavyweight title, breakthrough continues to silence doubters - CBS Sports</td><td>2025-04-19</td><td></td><td>https://www.cbssports.com/wwe/news/wwe-wrestlemania-41-results-jey-uso-wins-world-heavyweight-title-breakthrough-continues-to-silence-doubters/</td><td>This is a dummy content for the URL.</td><td>4</td><td>0.0</td><td>0.0</td></tr><tr><td>Nodq.com</td><td>Results of Gunther vs. Jey Uso at WWE WrestleMania 41 Saturday - NoDQ.com</td><td>2025-04-19</td><td>Aaron Rift</td><td>https://nodq.com/news/results-of-gunther-vs-jey-uso-at-wwe-wrestlemania-41-saturday/</td><td>This is a dummy content for the URL.</td><td>4</td><td>0.0</td><td>0.0</td></tr><tr><td>Cageside Seats</td><td>Rey Mysterio injured, out of WrestleMania 41 match with El Grande Americano - Cageside Seats</td><td>2025-04-19</td><td>Geno Mrosko</td><td>https://www.cagesideseats.com/wwe/2025/4/19/24412141/rey-mysterio-injured-wrestlemania-41-match-el-grande-americano-rey-fenix-wwe</td><td>This is a dummy content for the URL.</td><td>4</td><td>0.0</td><td>0.0</td></tr><tr><td>Wrestling Inc.</td><td>WWE Announces Acquisition Of Lucha Libre AAA, Worlds Collide Show Set For June - Wrestling Inc.</td><td>2025-04-19</td><td>Max Everett</td><td>https://www.wrestlinginc.com/1838544/wwe-announces-acquisition-lucha-libre-aaa-worlds-collide-show-set-june/</td><td>This is a dummy content for the URL.</td><td>4</td><td>0.0</td><td>0.0</td></tr><tr><td>Just Jared</td><td>Colin Farrell Shares Why He’s Placing His Son with Angelman Syndrome in Long-Term Care Facility - Just Jared</td><td>2025-04-19</td><td>null</td><td>https://www.justjared.com/2025/04/19/colin-farrell-shares-why-hes-placing-his-son-with-angelman-syndrome-in-long-term-care-facility/</td><td>This is a dummy content for the URL.</td><td>4</td><td>0.0</td><td>0.0</td></tr><tr><td>Yahoo Entertainment</td><td>Kanye West And Bianca Censori's Relationship Takes New Turn With Latest Sighting After 'Dumping' Claims - Yahoo</td><td>2025-04-19</td><td>Favour Adegoke</td><td>https://www.yahoo.com/entertainment/articles/kanye-west-bianca-censoris-relationship-203059271.html</td><td>This is a dummy content for the URL.</td><td>4</td><td>0.0</td><td>0.0</td></tr><tr><td>Nodq.com</td><td>Results of The D’Angelo Family vs. DarkState at WWE NXT Stand and Deliver 2025 - NoDQ.com</td><td>2025-04-19</td><td>Aaron Rift</td><td>https://nodq.com/news/results-of-the-dangelo-family-vs-darkstate-at-wwe-nxt-stand-and-deliver-2025/</td><td>This is a dummy content for the URL.</td><td>4</td><td>0.0</td><td>0.0</td></tr><tr><td>Page Six</td><td>'RHOC' alum Lydia McLaughlin 'devastated' after brother is fatally shot by police during traffic stop - Page Six</td><td>2025-04-19</td><td>Eileen Reslen</td><td>https://pagesix.com/2025/04/19/celebrity-news/rhoc-alum-lydia-mclaughlin-devastated-after-brother-is-fatally-shot-by-police-during-traffic-stop/</td><td>This is a dummy content for the URL.</td><td>4</td><td>0.0</td><td>0.0</td></tr><tr><td>Variety</td><td>Hayden Christensen Returns as Anakin Skywalker for ‘Ahsoka’ Season 2 - Variety</td><td>2025-04-19</td><td>Jack Dunn</td><td>https://variety.com/2025/film/news/hayden-christensen-anakin-skywalker-ahsoka-season-2-1236373255/</td><td>This is a dummy content for the URL.</td><td>4</td><td>0.0</td><td>0.0</td></tr><tr><td>Page Six</td><td>Ivanka Trump and sister-in-law Karlie Kloss seen in good spirits at Costa Rica family vacation despite rumored feud - Page Six</td><td>2025-04-19</td><td>BreAnna Bell</td><td>https://pagesix.com/2025/04/19/celebrity-news/ivanka-trump-and-karlie-kloss-seen-in-good-spirits-at-costa-rica-family-vacation-despite-rumored-feud/</td><td>This is a dummy content for the URL.</td><td>4</td><td>0.0</td><td>0.0</td></tr><tr><td>Buzzfeed</td><td>Haley Joel Osment Apologized For Making Antisemitic Remarks During His Recent Arrest - BuzzFeed</td><td>2025-04-19</td><td>Larry Fitzmaurice</td><td>https://www.buzzfeed.com/larryfitzmaurice/haley-joel-osment-antisemitism-apology</td><td>This is a dummy content for the URL.</td><td>4</td><td>0.0</td><td>0.0</td></tr><tr><td>Rock Paper Shotgun</td><td>Star Wars Zero Company looks like XCOM in a galaxy far, far away in its first trailer - Rock Paper Shotgun</td><td>2025-04-19</td><td>Oisin Kuhnke</td><td>https://www.rockpapershotgun.com/star-wars-zero-company-looks-like-xcom-in-a-galaxy-far-far-away-in-its-first-trailer</td><td>This is a dummy content for the URL.</td><td>4</td><td>0.0</td><td>0.0</td></tr><tr><td>SheKnows</td><td>One of Taylor Swift’s Inner Circle Gave Heartbreaking Insight As To Why She’s Laying Low - SheKnows</td><td>2025-04-19</td><td>Maggie Clancy</td><td>https://www.sheknows.com/entertainment/articles/1234869359/gracie-abrams-taylor-swift-privacy/</td><td>This is a dummy content for the URL.</td><td>4</td><td>0.0</td><td>0.0</td></tr><tr><td>Figure Four Online</td><td>NXT Stand & Deliver live results: Five title matches - F4W/WON</td><td>2025-04-19</td><td>Marc Quill</td><td>https://www.f4wonline.com/news/nxt/nxt-results/wwe-nxt-stand-deliver-live-results-oba-femi-trick-williams-jevon-evans/</td><td>This is a dummy content for the URL.</td><td>4</td><td>0.0</td><td>0.0</td></tr><tr><td>CNN</td><td>Why the 20-year-old ‘Pride & Prejudice’ film still bewitches audiences today - CNN</td><td>2025-04-19</td><td>Leah Asmelash</td><td>https://www.cnn.com/2025/04/19/entertainment/pride-prejudice-film-20th-anniversary-cec/index.html</td><td>This is a dummy content for the URL.</td><td>4</td><td>0.0</td><td>0.0</td></tr><tr><td>Variety</td><td>Box Office: 'Sinners' Scores Solid Opening Day, 'Minecraft' Still No. 1 - Variety</td><td>2025-04-19</td><td>J. Kim Murphy</td><td>https://variety.com/2025/film/news/box-office-sinners-opening-day-minecraft-no1-1236372989/</td><td>This is a dummy content for the URL.</td><td>4</td><td>0.0</td><td>0.0</td></tr><tr><td>Polygon</td><td>An animated episode of Doctor Who was a dream come true for its creators - Polygon</td><td>2025-04-19</td><td>Susana Polo</td><td>https://www.polygon.com/tv/561655/doctor-who-animated-episode-sequence-how-mr-ring-a-ding</td><td>This is a dummy content for the URL.</td><td>4</td><td>0.0</td><td>0.0</td></tr><tr><td>Rolling Stone</td><td>Zak Is Back, the Who’s Pete Townshend Says: ‘Not Being Asked to Step Down’ - Rolling Stone</td><td>2025-04-19</td><td>Althea Legaspi</td><td>http://www.rollingstone.com/music/music-news/zak-starkey-back-the-who-pete-townshend-1235321402/</td><td>This is a dummy content for the URL.</td><td>4</td><td>0.0</td><td>0.0</td></tr><tr><td>Outkick.com</td><td>Katy Perry Goes To Space, Lizzo Gives Her Take On Tariffs, And Waffle House Innovates - OutKick</td><td>2025-04-19</td><td>Matt Reigle</td><td>https://www.outkick.com/culture/katy-perry-space-lizzo-tariffs-waffle-house</td><td>This is a dummy content for the URL.</td><td>4</td><td>0.0</td><td>0.0</td></tr><tr><td>Hollywood Reporter</td><td>Harvey Weinstein’s Last Stand - The Hollywood Reporter</td><td>2025-04-19</td><td>Winston Cho</td><td>http://www.hollywoodreporter.com/news/general-news/harvey-weinstein-new-trial-1236190862/</td><td>This is a dummy content for the URL.</td><td>4</td><td>0.0</td><td>0.0</td></tr><tr><td>Politico</td><td>The WrestleMania Presidency - Yahoo Home</td><td>2025-04-19</td><td>Zach Montellaro</td><td>https://www.politico.com/news/magazine/2025/04/19/donald-trump-pro-wrestling-wwe-00298303</td><td>This is a dummy content for the URL.</td><td>4</td><td>0.0</td><td>0.0</td></tr><tr><td>Variety</td><td>Lady Gaga Apologizes for Mic Malfunctions During Coachella Weekend 2 Set: ‘At Least You Know I Sing Live’ - Variety</td><td>2025-04-19</td><td>Thania Garcia</td><td>https://variety.com/2025/music/news/lady-gaga-apologizes-broken-mic-coachella-weekend-2-i-sing-live-1236373171/</td><td>This is a dummy content for the URL.</td><td>4</td><td>0.0</td><td>0.0</td></tr><tr><td>Associated Press</td><td>Universal Epic Universe is the theme park resort’s biggest bang yet in Florida - AP News</td><td>2025-04-19</td><td>Mike Schneider</td><td>https://apnews.com/article/universal-epic-universe-florida-tourism-theme-park-666ce27bfca95cfa4d682f826cc327b5</td><td>This is a dummy content for the URL.</td><td>4</td><td>0.0</td><td>0.0</td></tr><tr><td>Hollywood Reporter</td><td>Star Wars Celebration: Diego Luna, Tony Gilroy and Adria Arjona Premiere ‘Andor’ Season Two for Fans - The Hollywood Reporter</td><td>2025-04-19</td><td>Borys Kit, Abid Rahman, Patrick Brzeski</td><td>http://www.hollywoodreporter.com/tv/tv-news/star-wars-celebration-diego-luna-andor-season-two-premiere-1236195839/</td><td>This is a dummy content for the URL.</td><td>4</td><td>0.0</td><td>0.0</td></tr><tr><td>Cageside Seats</td><td>WrestleMania 41 start time, match card: Night one - Cageside Seats</td><td>2025-04-19</td><td>Geno Mrosko</td><td>https://www.cagesideseats.com/wwe/2025/4/19/24410067/wrestlemania-41-start-time-match-card-night-one</td><td>This is a dummy content for the URL.</td><td>4</td><td>0.0</td><td>0.0</td></tr><tr><td>Politico</td><td>The WrestleMania Presidency - Yahoo Home</td><td>2025-04-19</td><td>Zach Montellaro</td><td>https://www.politico.com/news/magazine/2025/04/19/donald-trump-pro-wrestling-wwe-00298303</td><td>This is a dummy content for the URL.</td><td>4</td><td>0.0</td><td>0.0</td></tr><tr><td>Variety</td><td>Lady Gaga Apologizes for Mic Malfunctions During Coachella Weekend 2 Set: ‘At Least You Know I Sing Live’ - Variety</td><td>2025-04-19</td><td>Thania Garcia</td><td>https://variety.com/2025/music/news/lady-gaga-apologizes-broken-mic-coachella-weekend-2-i-sing-live-1236373171/</td><td>This is a dummy content for the URL.</td><td>4</td><td>0.0</td><td>0.0</td></tr><tr><td>Associated Press</td><td>Universal Epic Universe is the theme park resort’s biggest bang yet in Florida - AP News</td><td>2025-04-19</td><td>Mike Schneider</td><td>https://apnews.com/article/universal-epic-universe-florida-tourism-theme-park-666ce27bfca95cfa4d682f826cc327b5</td><td>This is a dummy content for the URL.</td><td>4</td><td>0.0</td><td>0.0</td></tr><tr><td>The A.V. Club</td><td>Mrs. Doubtfire's Matthew Lawrence expresses bad hope for an AI Robin Williams - AV Club</td><td>2025-04-19</td><td>null</td><td>https://www.avclub.com/matthew-laurence-robin-williams-artificial-intelligence-voice</td><td>This is a dummy content for the URL.</td><td>4</td><td>0.0</td><td>0.0</td></tr><tr><td>Cageside Seats</td><td>Cody Rhodes lays out Cena again after getting booed on SmackDown - Cageside Seats</td><td>2025-04-19</td><td>Cain A. Knight</td><td>https://www.cagesideseats.com/wwe/2025/4/18/24411637/wwe-wrestlemania-smackdown-2025-cody-rhodes-booed-stands-tall-over-john-cena-final-promo-go-home</td><td>This is a dummy content for the URL.</td><td>4</td><td>0.0</td><td>0.0</td></tr><tr><td>SheKnows</td><td>Adios, Liam? Plus, We Have Big Questions About Next Week’s Forrester Fashion Show! - Soaps.com</td><td>2025-04-19</td><td>Richard Simms</td><td>https://soaps.sheknows.com/the-bold-and-the-beautiful/soapbox/778014/who-will-save-liam/</td><td>This is a dummy content for the URL.</td><td>4</td><td>0.0</td><td>0.0</td></tr><tr><td>Cageside Seats</td><td>Randy Orton issues a bold challenge for WrestleMania 41 - Cageside Seats</td><td>2025-04-19</td><td>Cain A. Knight</td><td>https://www.cagesideseats.com/wwe/2025/4/18/24411639/randy-orton-issues-open-challenge-wrestlemania-41-sunday-anybody-rko-surprise-mystery-opponent-vegas</td><td>This is a dummy content for the URL.</td><td>4</td><td>0.0</td><td>0.0</td></tr><tr><td>Rolling Stone</td><td>Post Malone’s Ex-Fiancée Files for Custody of Their Daughter - Rolling Stone</td><td>2025-04-19</td><td>Tomás Mier, Nancy Dillon</td><td>http://www.rollingstone.com/music/music-news/post-malone-ex-fiancee-custody-daughter-1235321261/</td><td>This is a dummy content for the URL.</td><td>4</td><td>0.0</td><td>0.0</td></tr><tr><td>Entertainment Weekly</td><td>Wendy's clarifies that it has 'a ton of respect' for Katy Perry, but doesn't apologize after social media beef - ew.com</td><td>2025-04-18</td><td>https://www.facebook.com/entertainmentweekly</td><td>https://ew.com/wendy-s-says-it-has-a-ton-of-respect-for-katy-perry-after-viral-beef-11718341</td><td>This is a dummy content for the URL.</td><td>4</td><td>0.0</td><td>0.0</td></tr><tr><td>Vulture</td><td>Sinners’ Post-Credits Scene and Ending, Explained - Vulture</td><td>2025-04-18</td><td>Fran Hoepfner</td><td>http://www.vulture.com/article/sinners-post-credits-scenes-explained.html</td><td>This is a dummy content for the URL.</td><td>4</td><td>0.0</td><td>0.0</td></tr><tr><td>TODAY</td><td>Is Katy Perry An Astronaut? No, Says The Secretary Of Transportation - TODAY.com</td><td>2025-04-18</td><td>Alex Portée</td><td>https://www.today.com/news/are-katy-perry-gayle-king-real-astronauts-rcna201936</td><td>This is a dummy content for the URL.</td><td>4</td><td>0.0</td><td>0.0</td></tr><tr><td>Polygon</td><td>New Captain America, Companion on Max, and every movie new to streaming - Polygon</td><td>2025-04-18</td><td>Toussaint Egan, Petrana Radulovic</td><td>https://www.polygon.com/entertainment/558549/new-movies-watch-streaming-captain-america-brave-new-world-companion-room-next-door-netflix</td><td>This is a dummy content for the URL.</td><td>4</td><td>0.0</td><td>0.0</td></tr><tr><td>Variety</td><td>‘Pride and Prejudice’ at 20: Director Joe Wright on Robert Altman’s Influence and How His Anarchist Punk Sister Inspired Keira Knightley’s Elizabeth Bennet - Variety</td><td>2025-04-18</td><td>Abigail Lee</td><td>https://variety.com/2025/film/features/pride-and-prejudice-20-years-joe-wright-production-1236372277/</td><td>This is a dummy content for the URL.</td><td>4</td><td>0.0</td><td>0.0</td></tr><tr><td>Programminginsider.com</td><td>Thursday Ratings: 'Matlock' on CBS Hits Series-High in Adults 18-49 with Inaugural Season Finale and Tops All Prime Time Telecasts - Programming Insider</td><td>2025-04-18</td><td>Douglas Pucci</td><td>https://programminginsider.com/thursday-ratings-matlock-on-cbs-hits-series-high-in-adults-18-49-with-inaugural-season-finale-and-tops-all-prime-time-telecasts/</td><td>This is a dummy content for the URL.</td><td>4</td><td>0.0</td><td>0.0</td></tr><tr><td>Cageside Seats</td><td>WWE announces the opening matches for both nights of WrestleMania 41 - Cageside Seats</td><td>2025-04-18</td><td>Sean Rueter</td><td>https://www.cagesideseats.com/wwe/2025/4/18/24411529/wwe-wrestlemania-41-opening-matches-both-nights-world-titles-iyo-rhea-bianca-jey-gunther</td><td>This is a dummy content for the URL.</td><td>4</td><td>0.0</td><td>0.0</td></tr><tr><td>USA Today</td><td>Only 8 US theaters are showing 'Sinners' as director Ryan Coogler intended. Here's where. - USA Today</td><td>2025-04-18</td><td>Amaris Encinas</td><td>https://www.usatoday.com/story/entertainment/movies/2025/04/18/sinners-imax-70mm-movie-theater-locations/83161185007/</td><td>This is a dummy content for the URL.</td><td>4</td><td>0.0</td><td>0.0</td></tr><tr><td>Who What Wear</td><td>Ralph Lauren's Fall 2025 Show Solidifies the Return to Modern Romance - Who What Wear</td><td>2025-04-18</td><td>Kristen Nichols</td><td>https://www.whowhatwear.com/fashion/runway/ralph-lauren-fall-winter-2025</td><td>This is a dummy content for the URL.</td><td>4</td><td>0.0</td><td>0.0</td></tr><tr><td>Ringside News</td><td>Spoiler: Opening Revealed for April 18 WWE SmackDown - Ringside News</td><td>2025-04-18</td><td>Steve Carrier</td><td>https://www.ringsidenews.com/2025/04/18/spoiler-opening-revealed-for-april-18-wwe-smackdown/</td><td>This is a dummy content for the URL.</td><td>4</td><td>0.0</td><td>0.0</td></tr><tr><td>Space.com</td><td>Star Wars Celebration reveals new footage about Sigourney Weaver's 'The Mandalorian & Grogu' character - Space</td><td>2025-04-18</td><td>Fran Ruiz</td><td>https://www.space.com/entertainment/space-movies-shows/star-wars-celebration-reveals-new-footage-about-sigourney-weavers-the-mandalorian-and-grogu-character</td><td>This is a dummy content for the URL.</td><td>4</td><td>0.0</td><td>0.0</td></tr><tr><td>Deadline</td><td>'9-1-1' Cast Say Goodbye To Co-Star Following Character's Death: Oliver Stark, Jennifer Love Hewitt & More Pay Tribute To Actor - Deadline</td><td>2025-04-18</td><td>Armando Tinoco</td><td>http://deadline.com/2025/04/9-1-1-cast-goodbye-character-death-oliver-stark-jennifer-love-hewitt-1236372010/</td><td>This is a dummy content for the URL.</td><td>4</td><td>0.0</td><td>0.0</td></tr><tr><td>Wrestling Inc.</td><td>Opening Match For Night One WWE Of WrestleMania 41 Revealed - Wrestling Inc.</td><td>2025-04-18</td><td>Brie Coder</td><td>https://www.wrestlinginc.com/1837895/opening-match-for-night-one-wwe-of-wrestlemania-41-revealed/</td><td>This is a dummy content for the URL.</td><td>4</td><td>0.0</td><td>0.0</td></tr><tr><td>NBC News</td><td>Judge denies Sean 'Diddy' Combs' request for two-month trial delay - NBC News</td><td>2025-04-18</td><td>Janelle Griffith, Adam Reiss</td><td>https://www.nbcnews.com/news/crime-courts/judge-denies-sean-diddy-combs-request-two-month-trial-delay-rcna201341</td><td>This is a dummy content for the URL.</td><td>4</td><td>0.0</td><td>0.0</td></tr><tr><td>New York Post</td><td>Martha Stewart takes dig at ‘astronaut’ Katy Perry after Blue Origin flight: ‘In case you spaced out’ - New York Post</td><td>2025-04-18</td><td>Whitney Vasquez</td><td>https://nypost.com/2025/04/18/entertainment/martha-stewart-takes-dig-at-katy-perry-after-blue-origin-flight/</td><td>This is a dummy content for the URL.</td><td>4</td><td>0.0</td><td>0.0</td></tr><tr><td>NPR</td><td>John Cena's the bad guy in his final WrestleMania. Here's why that's a big deal - NPR</td><td>2025-04-18</td><td></td><td>https://www.npr.org/2025/04/18/nx-s1-5366023/john-cena-wrestlemania-cody-rhodes</td><td>This is a dummy content for the URL.</td><td>4</td><td>0.0</td><td>0.0</td></tr><tr><td>CinemaBlend</td><td>SNL’s Bowen Yang Explained Why Aimee Lou Wood’s Reaction To The White Lotus Sketch Was ‘Completely Valid’ - Yahoo</td><td>2025-04-18</td><td>Heidi Venable</td><td>https://www.cinemablend.com/television/snl-bowen-yang-why-aimee-lou-wood-reaction-white-lotus-sketch-completely-valid</td><td>This is a dummy content for the URL.</td><td>4</td><td>0.0</td><td>0.0</td></tr><tr><td>2news.com</td><td>Haley Joel Osment charged after arrest at Mammoth Mountain - KTVN</td><td>2025-04-18</td><td>AP</td><td>https://www.2news.com/news/haley-joel-osment-charged-after-arrest-at-mammoth-mountain/article_6130ad4b-ac85-4749-b5ae-30ede2bc479f.html</td><td>This is a dummy content for the URL.</td><td>4</td><td>0.0</td><td>0.0</td></tr><tr><td>Space.com</td><td>Ryan Gosling's new 'Star Wars' movie 'Starfighter' is coming in 2027, and it has nothing to do with the Starfighter games - Space</td><td>2025-04-18</td><td>Fran Ruiz</td><td>https://www.space.com/entertainment/space-movies-shows/ryan-goslings-new-star-wars-movie-is-called-starfighter-its-coming-in-2027-and-it-has-nothing-to-do-with-the-starfighter-games</td><td>This is a dummy content for the URL.</td><td>4</td><td>0.0</td><td>0.0</td></tr><tr><td>Rolling Stone</td><td>Gene Hackman Poked Fun at Alzheimer's in Notes Left for Wife Betsy Arakawa Before Death - Rolling Stone</td><td>2025-04-18</td><td>Jon Blistein</td><td>http://www.rollingstone.com/tv-movies/tv-movie-news/gene-hackman-betsy-arakawa-notes-investigation-unsealed-1235320511/</td><td>This is a dummy content for the URL.</td><td>4</td><td>0.0</td><td>0.0</td></tr><tr><td>Entertainment Weekly</td><td>Bowen Yang says there was 'no hesitation' to bare it all for Wedding Banquet nude scene: 'It just felt so integral' - ew.com</td><td>2025-04-18</td><td>https://www.facebook.com/entertainmentweekly</td><td>https://ew.com/bowen-yang-the-wedding-banquet-nude-butt-scene-11716610</td><td>This is a dummy content for the URL.</td><td>4</td><td>0.0</td><td>0.0</td></tr><tr><td>The Ringer</td><td>Bret Hart Remembers the Night Everything Changed - The Ringer</td><td>2025-04-18</td><td>null</td><td>https://www.theringer.com/2025/04/18/wwe/bret-hart-wwe-immortal-moment-award-hall-of-fame-wwe-wrestlemania-13</td><td>This is a dummy content for the URL.</td><td>4</td><td>0.0</td><td>0.0</td></tr><tr><td>CNYcentral.com</td><td>Metallica concert will impact Syracuse's economy by $15 million - WSTM</td><td>2025-04-18</td><td>Hannah Devanny</td><td>https://cnycentral.com/news/local/metallica-concert-will-impact-syracuses-economy-by-15-million-dome-hotels-visit-easter</td><td>This is a dummy content for the URL.</td><td>4</td><td>0.0</td><td>0.0</td></tr><tr><td>Mashable</td><td>Wordle today: The answer and hints for April 18, 2025 - Mashable</td><td>2025-04-18</td><td>Mashable Team</td><td>https://mashable.com/article/wordle-today-answer-april-18-2025</td><td>This is a dummy content for the URL.</td><td>4</td><td>0.0</td><td>0.0</td></tr><tr><td>TVInsider</td><td>'Ghosts' Star Asher Grodman on Welcoming Trevor's Daughter Abby in Latest Surprise Twist (Exclusive) - TV Insider</td><td>2025-04-18</td><td>Meaghan Darwish</td><td>https://www.tvinsider.com/1187151/ghosts-season-4-trevor-daughter-abby-asher-grodman/</td><td>This is a dummy content for the URL.</td><td>4</td><td>0.0</td><td>0.0</td></tr><tr><td>Cageside Seats</td><td>WrestleMania 41 start time, match card: Night one - Cageside Seats</td><td>2025-04-19</td><td>Geno Mrosko</td><td>https://www.cagesideseats.com/wwe/2025/4/19/24410067/wrestlemania-41-start-time-match-card-night-one</td><td>This is a dummy content for the URL.</td><td>4</td><td>0.0</td><td>0.0</td></tr><tr><td>Politico</td><td>The WrestleMania Presidency - Yahoo Home</td><td>2025-04-19</td><td>Zach Montellaro</td><td>https://www.politico.com/news/magazine/2025/04/19/donald-trump-pro-wrestling-wwe-00298303</td><td>This is a dummy content for the URL.</td><td>4</td><td>0.0</td><td>0.0</td></tr><tr><td>Variety</td><td>Lady Gaga Apologizes for Mic Malfunctions During Coachella Weekend 2 Set: ‘At Least You Know I Sing Live’ - Variety</td><td>2025-04-19</td><td>Thania Garcia</td><td>https://variety.com/2025/music/news/lady-gaga-apologizes-broken-mic-coachella-weekend-2-i-sing-live-1236373171/</td><td>This is a dummy content for the URL.</td><td>4</td><td>0.0</td><td>0.0</td></tr><tr><td>Associated Press</td><td>Universal Epic Universe is the theme park resort’s biggest bang yet in Florida - AP News</td><td>2025-04-19</td><td>Mike Schneider</td><td>https://apnews.com/article/universal-epic-universe-florida-tourism-theme-park-666ce27bfca95cfa4d682f826cc327b5</td><td>This is a dummy content for the URL.</td><td>4</td><td>0.0</td><td>0.0</td></tr><tr><td>The A.V. Club</td><td>Mrs. Doubtfire's Matthew Lawrence expresses bad hope for an AI Robin Williams - AV Club</td><td>2025-04-19</td><td>null</td><td>https://www.avclub.com/matthew-laurence-robin-williams-artificial-intelligence-voice</td><td>This is a dummy content for the URL.</td><td>4</td><td>0.0</td><td>0.0</td></tr><tr><td>Cageside Seats</td><td>Cody Rhodes lays out Cena again after getting booed on SmackDown - Cageside Seats</td><td>2025-04-19</td><td>Cain A. Knight</td><td>https://www.cagesideseats.com/wwe/2025/4/18/24411637/wwe-wrestlemania-smackdown-2025-cody-rhodes-booed-stands-tall-over-john-cena-final-promo-go-home</td><td>This is a dummy content for the URL.</td><td>4</td><td>0.0</td><td>0.0</td></tr><tr><td>SheKnows</td><td>Adios, Liam? Plus, We Have Big Questions About Next Week’s Forrester Fashion Show! - Soaps.com</td><td>2025-04-19</td><td>Richard Simms</td><td>https://soaps.sheknows.com/the-bold-and-the-beautiful/soapbox/778014/who-will-save-liam/</td><td>This is a dummy content for the URL.</td><td>4</td><td>0.0</td><td>0.0</td></tr><tr><td>Cageside Seats</td><td>Randy Orton issues a bold challenge for WrestleMania 41 - Cageside Seats</td><td>2025-04-19</td><td>Cain A. Knight</td><td>https://www.cagesideseats.com/wwe/2025/4/18/24411639/randy-orton-issues-open-challenge-wrestlemania-41-sunday-anybody-rko-surprise-mystery-opponent-vegas</td><td>This is a dummy content for the URL.</td><td>4</td><td>0.0</td><td>0.0</td></tr><tr><td>Rolling Stone</td><td>Post Malone’s Ex-Fiancée Files for Custody of Their Daughter - Rolling Stone</td><td>2025-04-19</td><td>Tomás Mier, Nancy Dillon</td><td>http://www.rollingstone.com/music/music-news/post-malone-ex-fiancee-custody-daughter-1235321261/</td><td>This is a dummy content for the URL.</td><td>4</td><td>0.0</td><td>0.0</td></tr><tr><td>Entertainment Weekly</td><td>Wendy's clarifies that it has 'a ton of respect' for Katy Perry, but doesn't apologize after social media beef - ew.com</td><td>2025-04-18</td><td>https://www.facebook.com/entertainmentweekly</td><td>https://ew.com/wendy-s-says-it-has-a-ton-of-respect-for-katy-perry-after-viral-beef-11718341</td><td>This is a dummy content for the URL.</td><td>4</td><td>0.0</td><td>0.0</td></tr><tr><td>Vulture</td><td>Sinners’ Post-Credits Scene and Ending, Explained - Vulture</td><td>2025-04-18</td><td>Fran Hoepfner</td><td>http://www.vulture.com/article/sinners-post-credits-scenes-explained.html</td><td>This is a dummy content for the URL.</td><td>4</td><td>0.0</td><td>0.0</td></tr><tr><td>TODAY</td><td>Is Katy Perry An Astronaut? No, Says The Secretary Of Transportation - TODAY.com</td><td>2025-04-18</td><td>Alex Portée</td><td>https://www.today.com/news/are-katy-perry-gayle-king-real-astronauts-rcna201936</td><td>This is a dummy content for the URL.</td><td>4</td><td>0.0</td><td>0.0</td></tr><tr><td>Polygon</td><td>New Captain America, Companion on Max, and every movie new to streaming - Polygon</td><td>2025-04-18</td><td>Toussaint Egan, Petrana Radulovic</td><td>https://www.polygon.com/entertainment/558549/new-movies-watch-streaming-captain-america-brave-new-world-companion-room-next-door-netflix</td><td>This is a dummy content for the URL.</td><td>4</td><td>0.0</td><td>0.0</td></tr><tr><td>Variety</td><td>‘Pride and Prejudice’ at 20: Director Joe Wright on Robert Altman’s Influence and How His Anarchist Punk Sister Inspired Keira Knightley’s Elizabeth Bennet - Variety</td><td>2025-04-18</td><td>Abigail Lee</td><td>https://variety.com/2025/film/features/pride-and-prejudice-20-years-joe-wright-production-1236372277/</td><td>This is a dummy content for the URL.</td><td>4</td><td>0.0</td><td>0.0</td></tr><tr><td>Programminginsider.com</td><td>Thursday Ratings: 'Matlock' on CBS Hits Series-High in Adults 18-49 with Inaugural Season Finale and Tops All Prime Time Telecasts - Programming Insider</td><td>2025-04-18</td><td>Douglas Pucci</td><td>https://programminginsider.com/thursday-ratings-matlock-on-cbs-hits-series-high-in-adults-18-49-with-inaugural-season-finale-and-tops-all-prime-time-telecasts/</td><td>This is a dummy content for the URL.</td><td>4</td><td>0.0</td><td>0.0</td></tr><tr><td>Cageside Seats</td><td>WWE announces the opening matches for both nights of WrestleMania 41 - Cageside Seats</td><td>2025-04-18</td><td>Sean Rueter</td><td>https://www.cagesideseats.com/wwe/2025/4/18/24411529/wwe-wrestlemania-41-opening-matches-both-nights-world-titles-iyo-rhea-bianca-jey-gunther</td><td>This is a dummy content for the URL.</td><td>4</td><td>0.0</td><td>0.0</td></tr><tr><td>USA Today</td><td>Only 8 US theaters are showing 'Sinners' as director Ryan Coogler intended. Here's where. - USA Today</td><td>2025-04-18</td><td>Amaris Encinas</td><td>https://www.usatoday.com/story/entertainment/movies/2025/04/18/sinners-imax-70mm-movie-theater-locations/83161185007/</td><td>This is a dummy content for the URL.</td><td>4</td><td>0.0</td><td>0.0</td></tr><tr><td>Who What Wear</td><td>Ralph Lauren's Fall 2025 Show Solidifies the Return to Modern Romance - Who What Wear</td><td>2025-04-18</td><td>Kristen Nichols</td><td>https://www.whowhatwear.com/fashion/runway/ralph-lauren-fall-winter-2025</td><td>This is a dummy content for the URL.</td><td>4</td><td>0.0</td><td>0.0</td></tr><tr><td>Ringside News</td><td>Spoiler: Opening Revealed for April 18 WWE SmackDown - Ringside News</td><td>2025-04-18</td><td>Steve Carrier</td><td>https://www.ringsidenews.com/2025/04/18/spoiler-opening-revealed-for-april-18-wwe-smackdown/</td><td>This is a dummy content for the URL.</td><td>4</td><td>0.0</td><td>0.0</td></tr><tr><td>Space.com</td><td>Star Wars Celebration reveals new footage about Sigourney Weaver's 'The Mandalorian & Grogu' character - Space</td><td>2025-04-18</td><td>Fran Ruiz</td><td>https://www.space.com/entertainment/space-movies-shows/star-wars-celebration-reveals-new-footage-about-sigourney-weavers-the-mandalorian-and-grogu-character</td><td>This is a dummy content for the URL.</td><td>4</td><td>0.0</td><td>0.0</td></tr><tr><td>Deadline</td><td>'9-1-1' Cast Say Goodbye To Co-Star Following Character's Death: Oliver Stark, Jennifer Love Hewitt & More Pay Tribute To Actor - Deadline</td><td>2025-04-18</td><td>Armando Tinoco</td><td>http://deadline.com/2025/04/9-1-1-cast-goodbye-character-death-oliver-stark-jennifer-love-hewitt-1236372010/</td><td>This is a dummy content for the URL.</td><td>4</td><td>0.0</td><td>0.0</td></tr><tr><td>Wrestling Inc.</td><td>Opening Match For Night One WWE Of WrestleMania 41 Revealed - Wrestling Inc.</td><td>2025-04-18</td><td>Brie Coder</td><td>https://www.wrestlinginc.com/1837895/opening-match-for-night-one-wwe-of-wrestlemania-41-revealed/</td><td>This is a dummy content for the URL.</td><td>4</td><td>0.0</td><td>0.0</td></tr><tr><td>NBC News</td><td>Judge denies Sean 'Diddy' Combs' request for two-month trial delay - NBC News</td><td>2025-04-18</td><td>Janelle Griffith, Adam Reiss</td><td>https://www.nbcnews.com/news/crime-courts/judge-denies-sean-diddy-combs-request-two-month-trial-delay-rcna201341</td><td>This is a dummy content for the URL.</td><td>4</td><td>0.0</td><td>0.0</td></tr><tr><td>New York Post</td><td>Martha Stewart takes dig at ‘astronaut’ Katy Perry after Blue Origin flight: ‘In case you spaced out’ - New York Post</td><td>2025-04-18</td><td>Whitney Vasquez</td><td>https://nypost.com/2025/04/18/entertainment/martha-stewart-takes-dig-at-katy-perry-after-blue-origin-flight/</td><td>This is a dummy content for the URL.</td><td>4</td><td>0.0</td><td>0.0</td></tr><tr><td>NPR</td><td>John Cena's the bad guy in his final WrestleMania. Here's why that's a big deal - NPR</td><td>2025-04-18</td><td></td><td>https://www.npr.org/2025/04/18/nx-s1-5366023/john-cena-wrestlemania-cody-rhodes</td><td>This is a dummy content for the URL.</td><td>4</td><td>0.0</td><td>0.0</td></tr><tr><td>CinemaBlend</td><td>SNL’s Bowen Yang Explained Why Aimee Lou Wood’s Reaction To The White Lotus Sketch Was ‘Completely Valid’ - Yahoo</td><td>2025-04-18</td><td>Heidi Venable</td><td>https://www.cinemablend.com/television/snl-bowen-yang-why-aimee-lou-wood-reaction-white-lotus-sketch-completely-valid</td><td>This is a dummy content for the URL.</td><td>4</td><td>0.0</td><td>0.0</td></tr><tr><td>2news.com</td><td>Haley Joel Osment charged after arrest at Mammoth Mountain - KTVN</td><td>2025-04-18</td><td>AP</td><td>https://www.2news.com/news/haley-joel-osment-charged-after-arrest-at-mammoth-mountain/article_6130ad4b-ac85-4749-b5ae-30ede2bc479f.html</td><td>This is a dummy content for the URL.</td><td>4</td><td>0.0</td><td>0.0</td></tr><tr><td>Space.com</td><td>Ryan Gosling's new 'Star Wars' movie 'Starfighter' is coming in 2027, and it has nothing to do with the Starfighter games - Space</td><td>2025-04-18</td><td>Fran Ruiz</td><td>https://www.space.com/entertainment/space-movies-shows/ryan-goslings-new-star-wars-movie-is-called-starfighter-its-coming-in-2027-and-it-has-nothing-to-do-with-the-starfighter-games</td><td>This is a dummy content for the URL.</td><td>4</td><td>0.0</td><td>0.0</td></tr><tr><td>Rolling Stone</td><td>Gene Hackman Poked Fun at Alzheimer's in Notes Left for Wife Betsy Arakawa Before Death - Rolling Stone</td><td>2025-04-18</td><td>Jon Blistein</td><td>http://www.rollingstone.com/tv-movies/tv-movie-news/gene-hackman-betsy-arakawa-notes-investigation-unsealed-1235320511/</td><td>This is a dummy content for the URL.</td><td>4</td><td>0.0</td><td>0.0</td></tr><tr><td>Entertainment Weekly</td><td>Bowen Yang says there was 'no hesitation' to bare it all for Wedding Banquet nude scene: 'It just felt so integral' - ew.com</td><td>2025-04-18</td><td>https://www.facebook.com/entertainmentweekly</td><td>https://ew.com/bowen-yang-the-wedding-banquet-nude-butt-scene-11716610</td><td>This is a dummy content for the URL.</td><td>4</td><td>0.0</td><td>0.0</td></tr><tr><td>The Ringer</td><td>Bret Hart Remembers the Night Everything Changed - The Ringer</td><td>2025-04-18</td><td>null</td><td>https://www.theringer.com/2025/04/18/wwe/bret-hart-wwe-immortal-moment-award-hall-of-fame-wwe-wrestlemania-13</td><td>This is a dummy content for the URL.</td><td>4</td><td>0.0</td><td>0.0</td></tr><tr><td>CNYcentral.com</td><td>Metallica concert will impact Syracuse's economy by $15 million - WSTM</td><td>2025-04-18</td><td>Hannah Devanny</td><td>https://cnycentral.com/news/local/metallica-concert-will-impact-syracuses-economy-by-15-million-dome-hotels-visit-easter</td><td>This is a dummy content for the URL.</td><td>4</td><td>0.0</td><td>0.0</td></tr><tr><td>Mashable</td><td>Wordle today: The answer and hints for April 18, 2025 - Mashable</td><td>2025-04-18</td><td>Mashable Team</td><td>https://mashable.com/article/wordle-today-answer-april-18-2025</td><td>This is a dummy content for the URL.</td><td>4</td><td>0.0</td><td>0.0</td></tr><tr><td>TVInsider</td><td>'Ghosts' Star Asher Grodman on Welcoming Trevor's Daughter Abby in Latest Surprise Twist (Exclusive) - TV Insider</td><td>2025-04-18</td><td>Meaghan Darwish</td><td>https://www.tvinsider.com/1187151/ghosts-season-4-trevor-daughter-abby-asher-grodman/</td><td>This is a dummy content for the URL.</td><td>4</td><td>0.0</td><td>0.0</td></tr><tr><td>Cageside Seats</td><td>WrestleMania 41 start time, match card: Night one - Cageside Seats</td><td>2025-04-19</td><td>Geno Mrosko</td><td>https://www.cagesideseats.com/wwe/2025/4/19/24410067/wrestlemania-41-start-time-match-card-night-one</td><td>This is a dummy content for the URL.</td><td>4</td><td>0.0</td><td>0.0</td></tr><tr><td>Politico</td><td>The WrestleMania Presidency - Yahoo Home</td><td>2025-04-19</td><td>Zach Montellaro</td><td>https://www.politico.com/news/magazine/2025/04/19/donald-trump-pro-wrestling-wwe-00298303</td><td>This is a dummy content for the URL.</td><td>4</td><td>0.0</td><td>0.0</td></tr><tr><td>Variety</td><td>Lady Gaga Apologizes for Mic Malfunctions During Coachella Weekend 2 Set: ‘At Least You Know I Sing Live’ - Variety</td><td>2025-04-19</td><td>Thania Garcia</td><td>https://variety.com/2025/music/news/lady-gaga-apologizes-broken-mic-coachella-weekend-2-i-sing-live-1236373171/</td><td>This is a dummy content for the URL.</td><td>4</td><td>0.0</td><td>0.0</td></tr><tr><td>Associated Press</td><td>Universal Epic Universe is the theme park resort’s biggest bang yet in Florida - AP News</td><td>2025-04-19</td><td>Mike Schneider</td><td>https://apnews.com/article/universal-epic-universe-florida-tourism-theme-park-666ce27bfca95cfa4d682f826cc327b5</td><td>This is a dummy content for the URL.</td><td>4</td><td>0.0</td><td>0.0</td></tr><tr><td>The A.V. Club</td><td>Mrs. Doubtfire's Matthew Lawrence expresses bad hope for an AI Robin Williams - AV Club</td><td>2025-04-19</td><td>null</td><td>https://www.avclub.com/matthew-laurence-robin-williams-artificial-intelligence-voice</td><td>This is a dummy content for the URL.</td><td>4</td><td>0.0</td><td>0.0</td></tr><tr><td>Cageside Seats</td><td>Cody Rhodes lays out Cena again after getting booed on SmackDown - Cageside Seats</td><td>2025-04-19</td><td>Cain A. Knight</td><td>https://www.cagesideseats.com/wwe/2025/4/18/24411637/wwe-wrestlemania-smackdown-2025-cody-rhodes-booed-stands-tall-over-john-cena-final-promo-go-home</td><td>This is a dummy content for the URL.</td><td>4</td><td>0.0</td><td>0.0</td></tr><tr><td>SheKnows</td><td>Adios, Liam? Plus, We Have Big Questions About Next Week’s Forrester Fashion Show! - Soaps.com</td><td>2025-04-19</td><td>Richard Simms</td><td>https://soaps.sheknows.com/the-bold-and-the-beautiful/soapbox/778014/who-will-save-liam/</td><td>This is a dummy content for the URL.</td><td>4</td><td>0.0</td><td>0.0</td></tr><tr><td>Cageside Seats</td><td>Randy Orton issues a bold challenge for WrestleMania 41 - Cageside Seats</td><td>2025-04-19</td><td>Cain A. Knight</td><td>https://www.cagesideseats.com/wwe/2025/4/18/24411639/randy-orton-issues-open-challenge-wrestlemania-41-sunday-anybody-rko-surprise-mystery-opponent-vegas</td><td>This is a dummy content for the URL.</td><td>4</td><td>0.0</td><td>0.0</td></tr><tr><td>Rolling Stone</td><td>Post Malone’s Ex-Fiancée Files for Custody of Their Daughter - Rolling Stone</td><td>2025-04-19</td><td>Tomás Mier, Nancy Dillon</td><td>http://www.rollingstone.com/music/music-news/post-malone-ex-fiancee-custody-daughter-1235321261/</td><td>This is a dummy content for the URL.</td><td>4</td><td>0.0</td><td>0.0</td></tr><tr><td>Entertainment Weekly</td><td>Wendy's clarifies that it has 'a ton of respect' for Katy Perry, but doesn't apologize after social media beef - ew.com</td><td>2025-04-18</td><td>https://www.facebook.com/entertainmentweekly</td><td>https://ew.com/wendy-s-says-it-has-a-ton-of-respect-for-katy-perry-after-viral-beef-11718341</td><td>This is a dummy content for the URL.</td><td>4</td><td>0.0</td><td>0.0</td></tr><tr><td>Vulture</td><td>Sinners’ Post-Credits Scene and Ending, Explained - Vulture</td><td>2025-04-18</td><td>Fran Hoepfner</td><td>http://www.vulture.com/article/sinners-post-credits-scenes-explained.html</td><td>This is a dummy content for the URL.</td><td>4</td><td>0.0</td><td>0.0</td></tr><tr><td>TODAY</td><td>Is Katy Perry An Astronaut? No, Says The Secretary Of Transportation - TODAY.com</td><td>2025-04-18</td><td>Alex Portée</td><td>https://www.today.com/news/are-katy-perry-gayle-king-real-astronauts-rcna201936</td><td>This is a dummy content for the URL.</td><td>4</td><td>0.0</td><td>0.0</td></tr><tr><td>Polygon</td><td>New Captain America, Companion on Max, and every movie new to streaming - Polygon</td><td>2025-04-18</td><td>Toussaint Egan, Petrana Radulovic</td><td>https://www.polygon.com/entertainment/558549/new-movies-watch-streaming-captain-america-brave-new-world-companion-room-next-door-netflix</td><td>This is a dummy content for the URL.</td><td>4</td><td>0.0</td><td>0.0</td></tr><tr><td>Variety</td><td>‘Pride and Prejudice’ at 20: Director Joe Wright on Robert Altman’s Influence and How His Anarchist Punk Sister Inspired Keira Knightley’s Elizabeth Bennet - Variety</td><td>2025-04-18</td><td>Abigail Lee</td><td>https://variety.com/2025/film/features/pride-and-prejudice-20-years-joe-wright-production-1236372277/</td><td>This is a dummy content for the URL.</td><td>4</td><td>0.0</td><td>0.0</td></tr><tr><td>Programminginsider.com</td><td>Thursday Ratings: 'Matlock' on CBS Hits Series-High in Adults 18-49 with Inaugural Season Finale and Tops All Prime Time Telecasts - Programming Insider</td><td>2025-04-18</td><td>Douglas Pucci</td><td>https://programminginsider.com/thursday-ratings-matlock-on-cbs-hits-series-high-in-adults-18-49-with-inaugural-season-finale-and-tops-all-prime-time-telecasts/</td><td>This is a dummy content for the URL.</td><td>4</td><td>0.0</td><td>0.0</td></tr><tr><td>Cageside Seats</td><td>WWE announces the opening matches for both nights of WrestleMania 41 - Cageside Seats</td><td>2025-04-18</td><td>Sean Rueter</td><td>https://www.cagesideseats.com/wwe/2025/4/18/24411529/wwe-wrestlemania-41-opening-matches-both-nights-world-titles-iyo-rhea-bianca-jey-gunther</td><td>This is a dummy content for the URL.</td><td>4</td><td>0.0</td><td>0.0</td></tr><tr><td>USA Today</td><td>Only 8 US theaters are showing 'Sinners' as director Ryan Coogler intended. Here's where. - USA Today</td><td>2025-04-18</td><td>Amaris Encinas</td><td>https://www.usatoday.com/story/entertainment/movies/2025/04/18/sinners-imax-70mm-movie-theater-locations/83161185007/</td><td>This is a dummy content for the URL.</td><td>4</td><td>0.0</td><td>0.0</td></tr><tr><td>Who What Wear</td><td>Ralph Lauren's Fall 2025 Show Solidifies the Return to Modern Romance - Who What Wear</td><td>2025-04-18</td><td>Kristen Nichols</td><td>https://www.whowhatwear.com/fashion/runway/ralph-lauren-fall-winter-2025</td><td>This is a dummy content for the URL.</td><td>4</td><td>0.0</td><td>0.0</td></tr><tr><td>Ringside News</td><td>Spoiler: Opening Revealed for April 18 WWE SmackDown - Ringside News</td><td>2025-04-18</td><td>Steve Carrier</td><td>https://www.ringsidenews.com/2025/04/18/spoiler-opening-revealed-for-april-18-wwe-smackdown/</td><td>This is a dummy content for the URL.</td><td>4</td><td>0.0</td><td>0.0</td></tr><tr><td>Space.com</td><td>Star Wars Celebration reveals new footage about Sigourney Weaver's 'The Mandalorian & Grogu' character - Space</td><td>2025-04-18</td><td>Fran Ruiz</td><td>https://www.space.com/entertainment/space-movies-shows/star-wars-celebration-reveals-new-footage-about-sigourney-weavers-the-mandalorian-and-grogu-character</td><td>This is a dummy content for the URL.</td><td>4</td><td>0.0</td><td>0.0</td></tr><tr><td>Deadline</td><td>'9-1-1' Cast Say Goodbye To Co-Star Following Character's Death: Oliver Stark, Jennifer Love Hewitt & More Pay Tribute To Actor - Deadline</td><td>2025-04-18</td><td>Armando Tinoco</td><td>http://deadline.com/2025/04/9-1-1-cast-goodbye-character-death-oliver-stark-jennifer-love-hewitt-1236372010/</td><td>This is a dummy content for the URL.</td><td>4</td><td>0.0</td><td>0.0</td></tr><tr><td>Wrestling Inc.</td><td>Opening Match For Night One WWE Of WrestleMania 41 Revealed - Wrestling Inc.</td><td>2025-04-18</td><td>Brie Coder</td><td>https://www.wrestlinginc.com/1837895/opening-match-for-night-one-wwe-of-wrestlemania-41-revealed/</td><td>This is a dummy content for the URL.</td><td>4</td><td>0.0</td><td>0.0</td></tr><tr><td>NBC News</td><td>Judge denies Sean 'Diddy' Combs' request for two-month trial delay - NBC News</td><td>2025-04-18</td><td>Janelle Griffith, Adam Reiss</td><td>https://www.nbcnews.com/news/crime-courts/judge-denies-sean-diddy-combs-request-two-month-trial-delay-rcna201341</td><td>This is a dummy content for the URL.</td><td>4</td><td>0.0</td><td>0.0</td></tr><tr><td>New York Post</td><td>Martha Stewart takes dig at ‘astronaut’ Katy Perry after Blue Origin flight: ‘In case you spaced out’ - New York Post</td><td>2025-04-18</td><td>Whitney Vasquez</td><td>https://nypost.com/2025/04/18/entertainment/martha-stewart-takes-dig-at-katy-perry-after-blue-origin-flight/</td><td>This is a dummy content for the URL.</td><td>4</td><td>0.0</td><td>0.0</td></tr><tr><td>NPR</td><td>John Cena's the bad guy in his final WrestleMania. Here's why that's a big deal - NPR</td><td>2025-04-18</td><td></td><td>https://www.npr.org/2025/04/18/nx-s1-5366023/john-cena-wrestlemania-cody-rhodes</td><td>This is a dummy content for the URL.</td><td>4</td><td>0.0</td><td>0.0</td></tr><tr><td>CinemaBlend</td><td>SNL’s Bowen Yang Explained Why Aimee Lou Wood’s Reaction To The White Lotus Sketch Was ‘Completely Valid’ - Yahoo</td><td>2025-04-18</td><td>Heidi Venable</td><td>https://www.cinemablend.com/television/snl-bowen-yang-why-aimee-lou-wood-reaction-white-lotus-sketch-completely-valid</td><td>This is a dummy content for the URL.</td><td>4</td><td>0.0</td><td>0.0</td></tr><tr><td>2news.com</td><td>Haley Joel Osment charged after arrest at Mammoth Mountain - KTVN</td><td>2025-04-18</td><td>AP</td><td>https://www.2news.com/news/haley-joel-osment-charged-after-arrest-at-mammoth-mountain/article_6130ad4b-ac85-4749-b5ae-30ede2bc479f.html</td><td>This is a dummy content for the URL.</td><td>4</td><td>0.0</td><td>0.0</td></tr><tr><td>Space.com</td><td>Ryan Gosling's new 'Star Wars' movie 'Starfighter' is coming in 2027, and it has nothing to do with the Starfighter games - Space</td><td>2025-04-18</td><td>Fran Ruiz</td><td>https://www.space.com/entertainment/space-movies-shows/ryan-goslings-new-star-wars-movie-is-called-starfighter-its-coming-in-2027-and-it-has-nothing-to-do-with-the-starfighter-games</td><td>This is a dummy content for the URL.</td><td>4</td><td>0.0</td><td>0.0</td></tr><tr><td>Rolling Stone</td><td>Gene Hackman Poked Fun at Alzheimer's in Notes Left for Wife Betsy Arakawa Before Death - Rolling Stone</td><td>2025-04-18</td><td>Jon Blistein</td><td>http://www.rollingstone.com/tv-movies/tv-movie-news/gene-hackman-betsy-arakawa-notes-investigation-unsealed-1235320511/</td><td>This is a dummy content for the URL.</td><td>4</td><td>0.0</td><td>0.0</td></tr><tr><td>Entertainment Weekly</td><td>Bowen Yang says there was 'no hesitation' to bare it all for Wedding Banquet nude scene: 'It just felt so integral' - ew.com</td><td>2025-04-18</td><td>https://www.facebook.com/entertainmentweekly</td><td>https://ew.com/bowen-yang-the-wedding-banquet-nude-butt-scene-11716610</td><td>This is a dummy content for the URL.</td><td>4</td><td>0.0</td><td>0.0</td></tr><tr><td>The Ringer</td><td>Bret Hart Remembers the Night Everything Changed - The Ringer</td><td>2025-04-18</td><td>null</td><td>https://www.theringer.com/2025/04/18/wwe/bret-hart-wwe-immortal-moment-award-hall-of-fame-wwe-wrestlemania-13</td><td>This is a dummy content for the URL.</td><td>4</td><td>0.0</td><td>0.0</td></tr><tr><td>CNYcentral.com</td><td>Metallica concert will impact Syracuse's economy by $15 million - WSTM</td><td>2025-04-18</td><td>Hannah Devanny</td><td>https://cnycentral.com/news/local/metallica-concert-will-impact-syracuses-economy-by-15-million-dome-hotels-visit-easter</td><td>This is a dummy content for the URL.</td><td>4</td><td>0.0</td><td>0.0</td></tr><tr><td>Mashable</td><td>Wordle today: The answer and hints for April 18, 2025 - Mashable</td><td>2025-04-18</td><td>Mashable Team</td><td>https://mashable.com/article/wordle-today-answer-april-18-2025</td><td>This is a dummy content for the URL.</td><td>4</td><td>0.0</td><td>0.0</td></tr><tr><td>TVInsider</td><td>'Ghosts' Star Asher Grodman on Welcoming Trevor's Daughter Abby in Latest Surprise Twist (Exclusive) - TV Insider</td><td>2025-04-18</td><td>Meaghan Darwish</td><td>https://www.tvinsider.com/1187151/ghosts-season-4-trevor-daughter-abby-asher-grodman/</td><td>This is a dummy content for the URL.</td><td>4</td><td>0.0</td><td>0.0</td></tr><tr><td>Cageside Seats</td><td>WrestleMania 41 start time, match card: Night one - Cageside Seats</td><td>2025-04-19</td><td>Geno Mrosko</td><td>https://www.cagesideseats.com/wwe/2025/4/19/24410067/wrestlemania-41-start-time-match-card-night-one</td><td>This is a dummy content for the URL.</td><td>4</td><td>0.0</td><td>0.0</td></tr><tr><td>Politico</td><td>The WrestleMania Presidency - Yahoo Home</td><td>2025-04-19</td><td>Zach Montellaro</td><td>https://www.politico.com/news/magazine/2025/04/19/donald-trump-pro-wrestling-wwe-00298303</td><td>This is a dummy content for the URL.</td><td>4</td><td>0.0</td><td>0.0</td></tr><tr><td>Variety</td><td>Lady Gaga Apologizes for Mic Malfunctions During Coachella Weekend 2 Set: ‘At Least You Know I Sing Live’ - Variety</td><td>2025-04-19</td><td>Thania Garcia</td><td>https://variety.com/2025/music/news/lady-gaga-apologizes-broken-mic-coachella-weekend-2-i-sing-live-1236373171/</td><td>This is a dummy content for the URL.</td><td>4</td><td>0.0</td><td>0.0</td></tr><tr><td>Associated Press</td><td>Universal Epic Universe is the theme park resort’s biggest bang yet in Florida - AP News</td><td>2025-04-19</td><td>Mike Schneider</td><td>https://apnews.com/article/universal-epic-universe-florida-tourism-theme-park-666ce27bfca95cfa4d682f826cc327b5</td><td>This is a dummy content for the URL.</td><td>4</td><td>0.0</td><td>0.0</td></tr><tr><td>The A.V. Club</td><td>Mrs. Doubtfire's Matthew Lawrence expresses bad hope for an AI Robin Williams - AV Club</td><td>2025-04-19</td><td>null</td><td>https://www.avclub.com/matthew-laurence-robin-williams-artificial-intelligence-voice</td><td>This is a dummy content for the URL.</td><td>4</td><td>0.0</td><td>0.0</td></tr><tr><td>Cageside Seats</td><td>Cody Rhodes lays out Cena again after getting booed on SmackDown - Cageside Seats</td><td>2025-04-19</td><td>Cain A. Knight</td><td>https://www.cagesideseats.com/wwe/2025/4/18/24411637/wwe-wrestlemania-smackdown-2025-cody-rhodes-booed-stands-tall-over-john-cena-final-promo-go-home</td><td>This is a dummy content for the URL.</td><td>4</td><td>0.0</td><td>0.0</td></tr><tr><td>SheKnows</td><td>Adios, Liam? Plus, We Have Big Questions About Next Week’s Forrester Fashion Show! - Soaps.com</td><td>2025-04-19</td><td>Richard Simms</td><td>https://soaps.sheknows.com/the-bold-and-the-beautiful/soapbox/778014/who-will-save-liam/</td><td>This is a dummy content for the URL.</td><td>4</td><td>0.0</td><td>0.0</td></tr><tr><td>Cageside Seats</td><td>Randy Orton issues a bold challenge for WrestleMania 41 - Cageside Seats</td><td>2025-04-19</td><td>Cain A. Knight</td><td>https://www.cagesideseats.com/wwe/2025/4/18/24411639/randy-orton-issues-open-challenge-wrestlemania-41-sunday-anybody-rko-surprise-mystery-opponent-vegas</td><td>This is a dummy content for the URL.</td><td>4</td><td>0.0</td><td>0.0</td></tr><tr><td>Rolling Stone</td><td>Post Malone’s Ex-Fiancée Files for Custody of Their Daughter - Rolling Stone</td><td>2025-04-19</td><td>Tomás Mier, Nancy Dillon</td><td>http://www.rollingstone.com/music/music-news/post-malone-ex-fiancee-custody-daughter-1235321261/</td><td>This is a dummy content for the URL.</td><td>4</td><td>0.0</td><td>0.0</td></tr><tr><td>Entertainment Weekly</td><td>Wendy's clarifies that it has 'a ton of respect' for Katy Perry, but doesn't apologize after social media beef - ew.com</td><td>2025-04-18</td><td>https://www.facebook.com/entertainmentweekly</td><td>https://ew.com/wendy-s-says-it-has-a-ton-of-respect-for-katy-perry-after-viral-beef-11718341</td><td>This is a dummy content for the URL.</td><td>4</td><td>0.0</td><td>0.0</td></tr><tr><td>Vulture</td><td>Sinners’ Post-Credits Scene and Ending, Explained - Vulture</td><td>2025-04-18</td><td>Fran Hoepfner</td><td>http://www.vulture.com/article/sinners-post-credits-scenes-explained.html</td><td>This is a dummy content for the URL.</td><td>4</td><td>0.0</td><td>0.0</td></tr><tr><td>TODAY</td><td>Is Katy Perry An Astronaut? No, Says The Secretary Of Transportation - TODAY.com</td><td>2025-04-18</td><td>Alex Portée</td><td>https://www.today.com/news/are-katy-perry-gayle-king-real-astronauts-rcna201936</td><td>This is a dummy content for the URL.</td><td>4</td><td>0.0</td><td>0.0</td></tr><tr><td>Polygon</td><td>New Captain America, Companion on Max, and every movie new to streaming - Polygon</td><td>2025-04-18</td><td>Toussaint Egan, Petrana Radulovic</td><td>https://www.polygon.com/entertainment/558549/new-movies-watch-streaming-captain-america-brave-new-world-companion-room-next-door-netflix</td><td>This is a dummy content for the URL.</td><td>4</td><td>0.0</td><td>0.0</td></tr><tr><td>Variety</td><td>‘Pride and Prejudice’ at 20: Director Joe Wright on Robert Altman’s Influence and How His Anarchist Punk Sister Inspired Keira Knightley’s Elizabeth Bennet - Variety</td><td>2025-04-18</td><td>Abigail Lee</td><td>https://variety.com/2025/film/features/pride-and-prejudice-20-years-joe-wright-production-1236372277/</td><td>This is a dummy content for the URL.</td><td>4</td><td>0.0</td><td>0.0</td></tr><tr><td>Programminginsider.com</td><td>Thursday Ratings: 'Matlock' on CBS Hits Series-High in Adults 18-49 with Inaugural Season Finale and Tops All Prime Time Telecasts - Programming Insider</td><td>2025-04-18</td><td>Douglas Pucci</td><td>https://programminginsider.com/thursday-ratings-matlock-on-cbs-hits-series-high-in-adults-18-49-with-inaugural-season-finale-and-tops-all-prime-time-telecasts/</td><td>This is a dummy content for the URL.</td><td>4</td><td>0.0</td><td>0.0</td></tr><tr><td>Cageside Seats</td><td>WWE announces the opening matches for both nights of WrestleMania 41 - Cageside Seats</td><td>2025-04-18</td><td>Sean Rueter</td><td>https://www.cagesideseats.com/wwe/2025/4/18/24411529/wwe-wrestlemania-41-opening-matches-both-nights-world-titles-iyo-rhea-bianca-jey-gunther</td><td>This is a dummy content for the URL.</td><td>4</td><td>0.0</td><td>0.0</td></tr><tr><td>USA Today</td><td>Only 8 US theaters are showing 'Sinners' as director Ryan Coogler intended. Here's where. - USA Today</td><td>2025-04-18</td><td>Amaris Encinas</td><td>https://www.usatoday.com/story/entertainment/movies/2025/04/18/sinners-imax-70mm-movie-theater-locations/83161185007/</td><td>This is a dummy content for the URL.</td><td>4</td><td>0.0</td><td>0.0</td></tr><tr><td>Who What Wear</td><td>Ralph Lauren's Fall 2025 Show Solidifies the Return to Modern Romance - Who What Wear</td><td>2025-04-18</td><td>Kristen Nichols</td><td>https://www.whowhatwear.com/fashion/runway/ralph-lauren-fall-winter-2025</td><td>This is a dummy content for the URL.</td><td>4</td><td>0.0</td><td>0.0</td></tr><tr><td>Ringside News</td><td>Spoiler: Opening Revealed for April 18 WWE SmackDown - Ringside News</td><td>2025-04-18</td><td>Steve Carrier</td><td>https://www.ringsidenews.com/2025/04/18/spoiler-opening-revealed-for-april-18-wwe-smackdown/</td><td>This is a dummy content for the URL.</td><td>4</td><td>0.0</td><td>0.0</td></tr><tr><td>Space.com</td><td>Star Wars Celebration reveals new footage about Sigourney Weaver's 'The Mandalorian & Grogu' character - Space</td><td>2025-04-18</td><td>Fran Ruiz</td><td>https://www.space.com/entertainment/space-movies-shows/star-wars-celebration-reveals-new-footage-about-sigourney-weavers-the-mandalorian-and-grogu-character</td><td>This is a dummy content for the URL.</td><td>4</td><td>0.0</td><td>0.0</td></tr><tr><td>Deadline</td><td>'9-1-1' Cast Say Goodbye To Co-Star Following Character's Death: Oliver Stark, Jennifer Love Hewitt & More Pay Tribute To Actor - Deadline</td><td>2025-04-18</td><td>Armando Tinoco</td><td>http://deadline.com/2025/04/9-1-1-cast-goodbye-character-death-oliver-stark-jennifer-love-hewitt-1236372010/</td><td>This is a dummy content for the URL.</td><td>4</td><td>0.0</td><td>0.0</td></tr><tr><td>Wrestling Inc.</td><td>Opening Match For Night One WWE Of WrestleMania 41 Revealed - Wrestling Inc.</td><td>2025-04-18</td><td>Brie Coder</td><td>https://www.wrestlinginc.com/1837895/opening-match-for-night-one-wwe-of-wrestlemania-41-revealed/</td><td>This is a dummy content for the URL.</td><td>4</td><td>0.0</td><td>0.0</td></tr><tr><td>NBC News</td><td>Judge denies Sean 'Diddy' Combs' request for two-month trial delay - NBC News</td><td>2025-04-18</td><td>Janelle Griffith, Adam Reiss</td><td>https://www.nbcnews.com/news/crime-courts/judge-denies-sean-diddy-combs-request-two-month-trial-delay-rcna201341</td><td>This is a dummy content for the URL.</td><td>4</td><td>0.0</td><td>0.0</td></tr><tr><td>New York Post</td><td>Martha Stewart takes dig at ‘astronaut’ Katy Perry after Blue Origin flight: ‘In case you spaced out’ - New York Post</td><td>2025-04-18</td><td>Whitney Vasquez</td><td>https://nypost.com/2025/04/18/entertainment/martha-stewart-takes-dig-at-katy-perry-after-blue-origin-flight/</td><td>This is a dummy content for the URL.</td><td>4</td><td>0.0</td><td>0.0</td></tr><tr><td>NPR</td><td>John Cena's the bad guy in his final WrestleMania. Here's why that's a big deal - NPR</td><td>2025-04-18</td><td></td><td>https://www.npr.org/2025/04/18/nx-s1-5366023/john-cena-wrestlemania-cody-rhodes</td><td>This is a dummy content for the URL.</td><td>4</td><td>0.0</td><td>0.0</td></tr><tr><td>CinemaBlend</td><td>SNL’s Bowen Yang Explained Why Aimee Lou Wood’s Reaction To The White Lotus Sketch Was ‘Completely Valid’ - Yahoo</td><td>2025-04-18</td><td>Heidi Venable</td><td>https://www.cinemablend.com/television/snl-bowen-yang-why-aimee-lou-wood-reaction-white-lotus-sketch-completely-valid</td><td>This is a dummy content for the URL.</td><td>4</td><td>0.0</td><td>0.0</td></tr><tr><td>2news.com</td><td>Haley Joel Osment charged after arrest at Mammoth Mountain - KTVN</td><td>2025-04-18</td><td>AP</td><td>https://www.2news.com/news/haley-joel-osment-charged-after-arrest-at-mammoth-mountain/article_6130ad4b-ac85-4749-b5ae-30ede2bc479f.html</td><td>This is a dummy content for the URL.</td><td>4</td><td>0.0</td><td>0.0</td></tr><tr><td>Space.com</td><td>Ryan Gosling's new 'Star Wars' movie 'Starfighter' is coming in 2027, and it has nothing to do with the Starfighter games - Space</td><td>2025-04-18</td><td>Fran Ruiz</td><td>https://www.space.com/entertainment/space-movies-shows/ryan-goslings-new-star-wars-movie-is-called-starfighter-its-coming-in-2027-and-it-has-nothing-to-do-with-the-starfighter-games</td><td>This is a dummy content for the URL.</td><td>4</td><td>0.0</td><td>0.0</td></tr><tr><td>Rolling Stone</td><td>Gene Hackman Poked Fun at Alzheimer's in Notes Left for Wife Betsy Arakawa Before Death - Rolling Stone</td><td>2025-04-18</td><td>Jon Blistein</td><td>http://www.rollingstone.com/tv-movies/tv-movie-news/gene-hackman-betsy-arakawa-notes-investigation-unsealed-1235320511/</td><td>This is a dummy content for the URL.</td><td>4</td><td>0.0</td><td>0.0</td></tr><tr><td>Entertainment Weekly</td><td>Bowen Yang says there was 'no hesitation' to bare it all for Wedding Banquet nude scene: 'It just felt so integral' - ew.com</td><td>2025-04-18</td><td>https://www.facebook.com/entertainmentweekly</td><td>https://ew.com/bowen-yang-the-wedding-banquet-nude-butt-scene-11716610</td><td>This is a dummy content for the URL.</td><td>4</td><td>0.0</td><td>0.0</td></tr><tr><td>The Ringer</td><td>Bret Hart Remembers the Night Everything Changed - The Ringer</td><td>2025-04-18</td><td>null</td><td>https://www.theringer.com/2025/04/18/wwe/bret-hart-wwe-immortal-moment-award-hall-of-fame-wwe-wrestlemania-13</td><td>This is a dummy content for the URL.</td><td>4</td><td>0.0</td><td>0.0</td></tr><tr><td>CNYcentral.com</td><td>Metallica concert will impact Syracuse's economy by $15 million - WSTM</td><td>2025-04-18</td><td>Hannah Devanny</td><td>https://cnycentral.com/news/local/metallica-concert-will-impact-syracuses-economy-by-15-million-dome-hotels-visit-easter</td><td>This is a dummy content for the URL.</td><td>4</td><td>0.0</td><td>0.0</td></tr><tr><td>Mashable</td><td>Wordle today: The answer and hints for April 18, 2025 - Mashable</td><td>2025-04-18</td><td>Mashable Team</td><td>https://mashable.com/article/wordle-today-answer-april-18-2025</td><td>This is a dummy content for the URL.</td><td>4</td><td>0.0</td><td>0.0</td></tr><tr><td>TVInsider</td><td>'Ghosts' Star Asher Grodman on Welcoming Trevor's Daughter Abby in Latest Surprise Twist (Exclusive) - TV Insider</td><td>2025-04-18</td><td>Meaghan Darwish</td><td>https://www.tvinsider.com/1187151/ghosts-season-4-trevor-daughter-abby-asher-grodman/</td><td>This is a dummy content for the URL.</td><td>4</td><td>0.0</td><td>0.0</td></tr><tr><td>Associated Press</td><td>Universal Epic Universe is the theme park resort’s biggest bang yet in Florida - AP News</td><td>2025-04-19</td><td>Mike Schneider</td><td>https://apnews.com/article/universal-epic-universe-florida-tourism-theme-park-666ce27bfca95cfa4d682f826cc327b5</td><td>This is a dummy content for the URL.</td><td>4</td><td>0.0</td><td>0.0</td></tr><tr><td>Cageside Seats</td><td>Cody Rhodes lays out Cena again after getting booed on SmackDown - Cageside Seats</td><td>2025-04-19</td><td>Cain A. Knight</td><td>https://www.cagesideseats.com/wwe/2025/4/18/24411637/wwe-wrestlemania-smackdown-2025-cody-rhodes-booed-stands-tall-over-john-cena-final-promo-go-home</td><td>This is a dummy content for the URL.</td><td>4</td><td>0.0</td><td>0.0</td></tr><tr><td>Cageside Seats</td><td>Randy Orton issues a bold challenge for WrestleMania 41 - Cageside Seats</td><td>2025-04-19</td><td>Cain A. Knight</td><td>https://www.cagesideseats.com/wwe/2025/4/18/24411639/randy-orton-issues-open-challenge-wrestlemania-41-sunday-anybody-rko-surprise-mystery-opponent-vegas</td><td>This is a dummy content for the URL.</td><td>4</td><td>0.0</td><td>0.0</td></tr><tr><td>Rolling Stone</td><td>Post Malone’s Ex-Fiancée Files for Custody of Their Daughter - Rolling Stone</td><td>2025-04-19</td><td>Tomás Mier, Nancy Dillon</td><td>http://www.rollingstone.com/music/music-news/post-malone-ex-fiancee-custody-daughter-1235321261/</td><td>This is a dummy content for the URL.</td><td>4</td><td>0.0</td><td>0.0</td></tr><tr><td>Vulture</td><td>Sinners’ Post-Credits Scene and Ending, Explained - Vulture</td><td>2025-04-18</td><td>Fran Hoepfner</td><td>http://www.vulture.com/article/sinners-post-credits-scenes-explained.html</td><td>This is a dummy content for the URL.</td><td>4</td><td>0.0</td><td>0.0</td></tr><tr><td>TODAY</td><td>Is Katy Perry An Astronaut? No, Says The Secretary Of Transportation - TODAY.com</td><td>2025-04-18</td><td>Alex Portée</td><td>https://www.today.com/news/are-katy-perry-gayle-king-real-astronauts-rcna201936</td><td>This is a dummy content for the URL.</td><td>4</td><td>0.0</td><td>0.0</td></tr><tr><td>Polygon</td><td>New Captain America, Companion on Max, and every movie new to streaming - Polygon</td><td>2025-04-18</td><td>Toussaint Egan, Petrana Radulovic</td><td>https://www.polygon.com/entertainment/558549/new-movies-watch-streaming-captain-america-brave-new-world-companion-room-next-door-netflix</td><td>This is a dummy content for the URL.</td><td>4</td><td>0.0</td><td>0.0</td></tr><tr><td>Variety</td><td>‘Pride and Prejudice’ at 20: Director Joe Wright on Robert Altman’s Influence and How His Anarchist Punk Sister Inspired Keira Knightley’s Elizabeth Bennet - Variety</td><td>2025-04-18</td><td>Abigail Lee</td><td>https://variety.com/2025/film/features/pride-and-prejudice-20-years-joe-wright-production-1236372277/</td><td>This is a dummy content for the URL.</td><td>4</td><td>0.0</td><td>0.0</td></tr><tr><td>Programminginsider.com</td><td>Thursday Ratings: 'Matlock' on CBS Hits Series-High in Adults 18-49 with Inaugural Season Finale and Tops All Prime Time Telecasts - Programming Insider</td><td>2025-04-18</td><td>Douglas Pucci</td><td>https://programminginsider.com/thursday-ratings-matlock-on-cbs-hits-series-high-in-adults-18-49-with-inaugural-season-finale-and-tops-all-prime-time-telecasts/</td><td>This is a dummy content for the URL.</td><td>4</td><td>0.0</td><td>0.0</td></tr><tr><td>Cageside Seats</td><td>WWE announces the opening matches for both nights of WrestleMania 41 - Cageside Seats</td><td>2025-04-18</td><td>Sean Rueter</td><td>https://www.cagesideseats.com/wwe/2025/4/18/24411529/wwe-wrestlemania-41-opening-matches-both-nights-world-titles-iyo-rhea-bianca-jey-gunther</td><td>This is a dummy content for the URL.</td><td>4</td><td>0.0</td><td>0.0</td></tr><tr><td>Who What Wear</td><td>Ralph Lauren's Fall 2025 Show Solidifies the Return to Modern Romance - Who What Wear</td><td>2025-04-18</td><td>Kristen Nichols</td><td>https://www.whowhatwear.com/fashion/runway/ralph-lauren-fall-winter-2025</td><td>This is a dummy content for the URL.</td><td>4</td><td>0.0</td><td>0.0</td></tr><tr><td>Ringside News</td><td>Spoiler: Opening Revealed for April 18 WWE SmackDown - Ringside News</td><td>2025-04-18</td><td>Steve Carrier</td><td>https://www.ringsidenews.com/2025/04/18/spoiler-opening-revealed-for-april-18-wwe-smackdown/</td><td>This is a dummy content for the URL.</td><td>4</td><td>0.0</td><td>0.0</td></tr><tr><td>Space.com</td><td>Star Wars Celebration reveals new footage about Sigourney Weaver's 'The Mandalorian & Grogu' character - Space</td><td>2025-04-18</td><td>Fran Ruiz</td><td>https://www.space.com/entertainment/space-movies-shows/star-wars-celebration-reveals-new-footage-about-sigourney-weavers-the-mandalorian-and-grogu-character</td><td>This is a dummy content for the URL.</td><td>4</td><td>0.0</td><td>0.0</td></tr><tr><td>Deadline</td><td>'9-1-1' Cast Say Goodbye To Co-Star Following Character's Death: Oliver Stark, Jennifer Love Hewitt & More Pay Tribute To Actor - Deadline</td><td>2025-04-18</td><td>Armando Tinoco</td><td>http://deadline.com/2025/04/9-1-1-cast-goodbye-character-death-oliver-stark-jennifer-love-hewitt-1236372010/</td><td>This is a dummy content for the URL.</td><td>4</td><td>0.0</td><td>0.0</td></tr><tr><td>Wrestling Inc.</td><td>Opening Match For Night One WWE Of WrestleMania 41 Revealed - Wrestling Inc.</td><td>2025-04-18</td><td>Brie Coder</td><td>https://www.wrestlinginc.com/1837895/opening-match-for-night-one-wwe-of-wrestlemania-41-revealed/</td><td>This is a dummy content for the URL.</td><td>4</td><td>0.0</td><td>0.0</td></tr><tr><td>New York Post</td><td>Martha Stewart takes dig at ‘astronaut’ Katy Perry after Blue Origin flight: ‘In case you spaced out’ - New York Post</td><td>2025-04-18</td><td>Whitney Vasquez</td><td>https://nypost.com/2025/04/18/entertainment/martha-stewart-takes-dig-at-katy-perry-after-blue-origin-flight/</td><td>This is a dummy content for the URL.</td><td>4</td><td>0.0</td><td>0.0</td></tr><tr><td>Deadline</td><td>Sean ‘Diddy’ Combs Loses Trial Delay Bid In Sex Trafficking Case; Warner Bros Discovery Comes Up Short In Keeping Docuseries Outtakes Out Of Case - Deadline</td><td>2025-04-18</td><td>Dominic Patten, Sean Piccoli</td><td>http://deadline.com/2025/04/diddy-rape-trial-delay-denied-1236371795/</td><td>This is a dummy content for the URL.</td><td>4</td><td>0.0</td><td>0.0</td></tr><tr><td>NPR</td><td>John Cena's the bad guy in his final WrestleMania. Here's why that's a big deal - NPR</td><td>2025-04-18</td><td></td><td>https://www.npr.org/2025/04/18/nx-s1-5366023/john-cena-wrestlemania-cody-rhodes</td><td>This is a dummy content for the URL.</td><td>4</td><td>0.0</td><td>0.0</td></tr><tr><td>CinemaBlend</td><td>SNL’s Bowen Yang Explained Why Aimee Lou Wood’s Reaction To The White Lotus Sketch Was ‘Completely Valid’ - Yahoo</td><td>2025-04-18</td><td>Heidi Venable</td><td>https://www.cinemablend.com/television/snl-bowen-yang-why-aimee-lou-wood-reaction-white-lotus-sketch-completely-valid</td><td>This is a dummy content for the URL.</td><td>4</td><td>0.0</td><td>0.0</td></tr><tr><td>Page Six</td><td>Drew Carey, 66, and OnlyFans star, 37, spotted on lunch date 5 years after his ex-fiancée’s murder - Page Six</td><td>2025-04-18</td><td>Riley Cardoza</td><td>https://pagesix.com/2025/04/18/celebrity-news/drew-carey-onlyfans-star-niki-skyler-spotted-on-lunch-date/</td><td>This is a dummy content for the URL.</td><td>4</td><td>0.0</td><td>0.0</td></tr><tr><td>Space.com</td><td>Ryan Gosling's new 'Star Wars' movie 'Starfighter' is coming in 2027, and it has nothing to do with the Starfighter games - Space</td><td>2025-04-18</td><td>Fran Ruiz</td><td>https://www.space.com/entertainment/space-movies-shows/ryan-goslings-new-star-wars-movie-is-called-starfighter-its-coming-in-2027-and-it-has-nothing-to-do-with-the-starfighter-games</td><td>This is a dummy content for the URL.</td><td>4</td><td>0.0</td><td>0.0</td></tr><tr><td>Bleacher Report</td><td>Updated WWE WrestleMania 41 Card and Predictions for Match Order - Bleacher Report</td><td>2025-04-18</td><td>Mike Chiari</td><td>https://bleacherreport.com/articles/25184838-updated-wwe-wrestlemania-41-card-and-predictions-match-order</td><td>This is a dummy content for the URL.</td><td>4</td><td>0.0</td><td>0.0</td></tr><tr><td>Rolling Stone</td><td>Gene Hackman Poked Fun at Alzheimer's in Notes Left for Wife Betsy Arakawa Before Death - Rolling Stone</td><td>2025-04-18</td><td>Jon Blistein</td><td>http://www.rollingstone.com/tv-movies/tv-movie-news/gene-hackman-betsy-arakawa-notes-investigation-unsealed-1235320511/</td><td>This is a dummy content for the URL.</td><td>4</td><td>0.0</td><td>0.0</td></tr><tr><td>Interview</td><td>“Humans Can Be Very Depressing”: David Cronenberg, By Jim Jarmusch - Interview Magazine</td><td>2025-04-18</td><td>Emily Sandstrom</td><td>https://www.interviewmagazine.com/film/david-cronenberg-by-jim-jarmusch</td><td>This is a dummy content for the URL.</td><td>4</td><td>0.0</td><td>0.0</td></tr><tr><td>Entertainment Weekly</td><td>Bowen Yang says there was 'no hesitation' to bare it all for Wedding Banquet nude scene: 'It just felt so integral' - ew.com</td><td>2025-04-18</td><td>https://www.facebook.com/entertainmentweekly</td><td>https://ew.com/bowen-yang-the-wedding-banquet-nude-butt-scene-11716610</td><td>This is a dummy content for the URL.</td><td>4</td><td>0.0</td><td>0.0</td></tr><tr><td>The Ringer</td><td>Bret Hart Remembers the Night Everything Changed - The Ringer</td><td>2025-04-18</td><td>null</td><td>https://www.theringer.com/2025/04/18/wwe/bret-hart-wwe-immortal-moment-award-hall-of-fame-wwe-wrestlemania-13</td><td>This is a dummy content for the URL.</td><td>4</td><td>0.0</td><td>0.0</td></tr><tr><td>The Cut</td><td>Your Daily Horoscope, by Madame Clairevoyant: April 18, 2025 - The Cut</td><td>2025-04-18</td><td>Claire Comstock-Gay</td><td>http://www.thecut.com/article/your-daily-horoscope-madame-clairevoyant-april-18-2025.html</td><td>This is a dummy content for the URL.</td><td>4</td><td>0.0</td><td>0.0</td></tr><tr><td>CNYcentral.com</td><td>Metallica concert will impact Syracuse's economy by $15 million - WSTM</td><td>2025-04-18</td><td>Hannah Devanny</td><td>https://cnycentral.com/news/local/metallica-concert-will-impact-syracuses-economy-by-15-million-dome-hotels-visit-easter</td><td>This is a dummy content for the URL.</td><td>4</td><td>0.0</td><td>0.0</td></tr><tr><td>Mashable</td><td>Wordle today: The answer and hints for April 18, 2025 - Mashable</td><td>2025-04-18</td><td>Mashable Team</td><td>https://mashable.com/article/wordle-today-answer-april-18-2025</td><td>This is a dummy content for the URL.</td><td>4</td><td>0.0</td><td>0.0</td></tr><tr><td>TVInsider</td><td>'Ghosts' Star Asher Grodman on Welcoming Trevor's Daughter Abby in Latest Surprise Twist (Exclusive) - TV Insider</td><td>2025-04-18</td><td>Meaghan Darwish</td><td>https://www.tvinsider.com/1187151/ghosts-season-4-trevor-daughter-abby-asher-grodman/</td><td>This is a dummy content for the URL.</td><td>4</td><td>0.0</td><td>0.0</td></tr><tr><td>Associated Press</td><td>Universal Epic Universe is the theme park resort’s biggest bang yet in Florida - AP News</td><td>2025-04-19</td><td>Mike Schneider</td><td>https://apnews.com/article/universal-epic-universe-florida-tourism-theme-park-666ce27bfca95cfa4d682f826cc327b5</td><td>This is a dummy content for the URL.</td><td>4</td><td>0.0</td><td>0.0</td></tr><tr><td>Cageside Seats</td><td>Cody Rhodes lays out Cena again after getting booed on SmackDown - Cageside Seats</td><td>2025-04-19</td><td>Cain A. Knight</td><td>https://www.cagesideseats.com/wwe/2025/4/18/24411637/wwe-wrestlemania-smackdown-2025-cody-rhodes-booed-stands-tall-over-john-cena-final-promo-go-home</td><td>This is a dummy content for the URL.</td><td>4</td><td>0.0</td><td>0.0</td></tr><tr><td>Cageside Seats</td><td>Randy Orton issues a bold challenge for WrestleMania 41 - Cageside Seats</td><td>2025-04-19</td><td>Cain A. Knight</td><td>https://www.cagesideseats.com/wwe/2025/4/18/24411639/randy-orton-issues-open-challenge-wrestlemania-41-sunday-anybody-rko-surprise-mystery-opponent-vegas</td><td>This is a dummy content for the URL.</td><td>4</td><td>0.0</td><td>0.0</td></tr><tr><td>Rolling Stone</td><td>Post Malone’s Ex-Fiancée Files for Custody of Their Daughter - Rolling Stone</td><td>2025-04-19</td><td>Tomás Mier, Nancy Dillon</td><td>http://www.rollingstone.com/music/music-news/post-malone-ex-fiancee-custody-daughter-1235321261/</td><td>This is a dummy content for the URL.</td><td>4</td><td>0.0</td><td>0.0</td></tr><tr><td>Vulture</td><td>Sinners’ Post-Credits Scene and Ending, Explained - Vulture</td><td>2025-04-18</td><td>Fran Hoepfner</td><td>http://www.vulture.com/article/sinners-post-credits-scenes-explained.html</td><td>This is a dummy content for the URL.</td><td>4</td><td>0.0</td><td>0.0</td></tr><tr><td>TODAY</td><td>Is Katy Perry An Astronaut? No, Says The Secretary Of Transportation - TODAY.com</td><td>2025-04-18</td><td>Alex Portée</td><td>https://www.today.com/news/are-katy-perry-gayle-king-real-astronauts-rcna201936</td><td>This is a dummy content for the URL.</td><td>4</td><td>0.0</td><td>0.0</td></tr><tr><td>Polygon</td><td>New Captain America, Companion on Max, and every movie new to streaming - Polygon</td><td>2025-04-18</td><td>Toussaint Egan, Petrana Radulovic</td><td>https://www.polygon.com/entertainment/558549/new-movies-watch-streaming-captain-america-brave-new-world-companion-room-next-door-netflix</td><td>This is a dummy content for the URL.</td><td>4</td><td>0.0</td><td>0.0</td></tr><tr><td>Variety</td><td>‘Pride and Prejudice’ at 20: Director Joe Wright on Robert Altman’s Influence and How His Anarchist Punk Sister Inspired Keira Knightley’s Elizabeth Bennet - Variety</td><td>2025-04-18</td><td>Abigail Lee</td><td>https://variety.com/2025/film/features/pride-and-prejudice-20-years-joe-wright-production-1236372277/</td><td>This is a dummy content for the URL.</td><td>4</td><td>0.0</td><td>0.0</td></tr><tr><td>Programminginsider.com</td><td>Thursday Ratings: 'Matlock' on CBS Hits Series-High in Adults 18-49 with Inaugural Season Finale and Tops All Prime Time Telecasts - Programming Insider</td><td>2025-04-18</td><td>Douglas Pucci</td><td>https://programminginsider.com/thursday-ratings-matlock-on-cbs-hits-series-high-in-adults-18-49-with-inaugural-season-finale-and-tops-all-prime-time-telecasts/</td><td>This is a dummy content for the URL.</td><td>4</td><td>0.0</td><td>0.0</td></tr><tr><td>Cageside Seats</td><td>WWE announces the opening matches for both nights of WrestleMania 41 - Cageside Seats</td><td>2025-04-18</td><td>Sean Rueter</td><td>https://www.cagesideseats.com/wwe/2025/4/18/24411529/wwe-wrestlemania-41-opening-matches-both-nights-world-titles-iyo-rhea-bianca-jey-gunther</td><td>This is a dummy content for the URL.</td><td>4</td><td>0.0</td><td>0.0</td></tr><tr><td>Who What Wear</td><td>Ralph Lauren's Fall 2025 Show Solidifies the Return to Modern Romance - Who What Wear</td><td>2025-04-18</td><td>Kristen Nichols</td><td>https://www.whowhatwear.com/fashion/runway/ralph-lauren-fall-winter-2025</td><td>This is a dummy content for the URL.</td><td>4</td><td>0.0</td><td>0.0</td></tr><tr><td>Ringside News</td><td>Spoiler: Opening Revealed for April 18 WWE SmackDown - Ringside News</td><td>2025-04-18</td><td>Steve Carrier</td><td>https://www.ringsidenews.com/2025/04/18/spoiler-opening-revealed-for-april-18-wwe-smackdown/</td><td>This is a dummy content for the URL.</td><td>4</td><td>0.0</td><td>0.0</td></tr><tr><td>Space.com</td><td>Star Wars Celebration reveals new footage about Sigourney Weaver's 'The Mandalorian & Grogu' character - Space</td><td>2025-04-18</td><td>Fran Ruiz</td><td>https://www.space.com/entertainment/space-movies-shows/star-wars-celebration-reveals-new-footage-about-sigourney-weavers-the-mandalorian-and-grogu-character</td><td>This is a dummy content for the URL.</td><td>4</td><td>0.0</td><td>0.0</td></tr><tr><td>Deadline</td><td>'9-1-1' Cast Say Goodbye To Co-Star Following Character's Death: Oliver Stark, Jennifer Love Hewitt & More Pay Tribute To Actor - Deadline</td><td>2025-04-18</td><td>Armando Tinoco</td><td>http://deadline.com/2025/04/9-1-1-cast-goodbye-character-death-oliver-stark-jennifer-love-hewitt-1236372010/</td><td>This is a dummy content for the URL.</td><td>4</td><td>0.0</td><td>0.0</td></tr><tr><td>Wrestling Inc.</td><td>Opening Match For Night One WWE Of WrestleMania 41 Revealed - Wrestling Inc.</td><td>2025-04-18</td><td>Brie Coder</td><td>https://www.wrestlinginc.com/1837895/opening-match-for-night-one-wwe-of-wrestlemania-41-revealed/</td><td>This is a dummy content for the URL.</td><td>4</td><td>0.0</td><td>0.0</td></tr><tr><td>New York Post</td><td>Martha Stewart takes dig at ‘astronaut’ Katy Perry after Blue Origin flight: ‘In case you spaced out’ - New York Post</td><td>2025-04-18</td><td>Whitney Vasquez</td><td>https://nypost.com/2025/04/18/entertainment/martha-stewart-takes-dig-at-katy-perry-after-blue-origin-flight/</td><td>This is a dummy content for the URL.</td><td>4</td><td>0.0</td><td>0.0</td></tr><tr><td>Deadline</td><td>Sean ‘Diddy’ Combs Loses Trial Delay Bid In Sex Trafficking Case; Warner Bros Discovery Comes Up Short In Keeping Docuseries Outtakes Out Of Case - Deadline</td><td>2025-04-18</td><td>Dominic Patten, Sean Piccoli</td><td>http://deadline.com/2025/04/diddy-rape-trial-delay-denied-1236371795/</td><td>This is a dummy content for the URL.</td><td>4</td><td>0.0</td><td>0.0</td></tr><tr><td>NPR</td><td>John Cena's the bad guy in his final WrestleMania. Here's why that's a big deal - NPR</td><td>2025-04-18</td><td></td><td>https://www.npr.org/2025/04/18/nx-s1-5366023/john-cena-wrestlemania-cody-rhodes</td><td>This is a dummy content for the URL.</td><td>4</td><td>0.0</td><td>0.0</td></tr><tr><td>CinemaBlend</td><td>SNL’s Bowen Yang Explained Why Aimee Lou Wood’s Reaction To The White Lotus Sketch Was ‘Completely Valid’ - Yahoo</td><td>2025-04-18</td><td>Heidi Venable</td><td>https://www.cinemablend.com/television/snl-bowen-yang-why-aimee-lou-wood-reaction-white-lotus-sketch-completely-valid</td><td>This is a dummy content for the URL.</td><td>4</td><td>0.0</td><td>0.0</td></tr><tr><td>Page Six</td><td>Drew Carey, 66, and OnlyFans star, 37, spotted on lunch date 5 years after his ex-fiancée’s murder - Page Six</td><td>2025-04-18</td><td>Riley Cardoza</td><td>https://pagesix.com/2025/04/18/celebrity-news/drew-carey-onlyfans-star-niki-skyler-spotted-on-lunch-date/</td><td>This is a dummy content for the URL.</td><td>4</td><td>0.0</td><td>0.0</td></tr><tr><td>Space.com</td><td>Ryan Gosling's new 'Star Wars' movie 'Starfighter' is coming in 2027, and it has nothing to do with the Starfighter games - Space</td><td>2025-04-18</td><td>Fran Ruiz</td><td>https://www.space.com/entertainment/space-movies-shows/ryan-goslings-new-star-wars-movie-is-called-starfighter-its-coming-in-2027-and-it-has-nothing-to-do-with-the-starfighter-games</td><td>This is a dummy content for the URL.</td><td>4</td><td>0.0</td><td>0.0</td></tr><tr><td>Bleacher Report</td><td>Updated WWE WrestleMania 41 Card and Predictions for Match Order - Bleacher Report</td><td>2025-04-18</td><td>Mike Chiari</td><td>https://bleacherreport.com/articles/25184838-updated-wwe-wrestlemania-41-card-and-predictions-match-order</td><td>This is a dummy content for the URL.</td><td>4</td><td>0.0</td><td>0.0</td></tr><tr><td>Rolling Stone</td><td>Gene Hackman Poked Fun at Alzheimer's in Notes Left for Wife Betsy Arakawa Before Death - Rolling Stone</td><td>2025-04-18</td><td>Jon Blistein</td><td>http://www.rollingstone.com/tv-movies/tv-movie-news/gene-hackman-betsy-arakawa-notes-investigation-unsealed-1235320511/</td><td>This is a dummy content for the URL.</td><td>4</td><td>0.0</td><td>0.0</td></tr><tr><td>Interview</td><td>“Humans Can Be Very Depressing”: David Cronenberg, By Jim Jarmusch - Interview Magazine</td><td>2025-04-18</td><td>Emily Sandstrom</td><td>https://www.interviewmagazine.com/film/david-cronenberg-by-jim-jarmusch</td><td>This is a dummy content for the URL.</td><td>4</td><td>0.0</td><td>0.0</td></tr><tr><td>Entertainment Weekly</td><td>Bowen Yang says there was 'no hesitation' to bare it all for Wedding Banquet nude scene: 'It just felt so integral' - ew.com</td><td>2025-04-18</td><td>https://www.facebook.com/entertainmentweekly</td><td>https://ew.com/bowen-yang-the-wedding-banquet-nude-butt-scene-11716610</td><td>This is a dummy content for the URL.</td><td>4</td><td>0.0</td><td>0.0</td></tr><tr><td>The Ringer</td><td>Bret Hart Remembers the Night Everything Changed - The Ringer</td><td>2025-04-18</td><td>null</td><td>https://www.theringer.com/2025/04/18/wwe/bret-hart-wwe-immortal-moment-award-hall-of-fame-wwe-wrestlemania-13</td><td>This is a dummy content for the URL.</td><td>4</td><td>0.0</td><td>0.0</td></tr><tr><td>The Cut</td><td>Your Daily Horoscope, by Madame Clairevoyant: April 18, 2025 - The Cut</td><td>2025-04-18</td><td>Claire Comstock-Gay</td><td>http://www.thecut.com/article/your-daily-horoscope-madame-clairevoyant-april-18-2025.html</td><td>This is a dummy content for the URL.</td><td>4</td><td>0.0</td><td>0.0</td></tr><tr><td>CNYcentral.com</td><td>Metallica concert will impact Syracuse's economy by $15 million - WSTM</td><td>2025-04-18</td><td>Hannah Devanny</td><td>https://cnycentral.com/news/local/metallica-concert-will-impact-syracuses-economy-by-15-million-dome-hotels-visit-easter</td><td>This is a dummy content for the URL.</td><td>4</td><td>0.0</td><td>0.0</td></tr><tr><td>Mashable</td><td>Wordle today: The answer and hints for April 18, 2025 - Mashable</td><td>2025-04-18</td><td>Mashable Team</td><td>https://mashable.com/article/wordle-today-answer-april-18-2025</td><td>This is a dummy content for the URL.</td><td>4</td><td>0.0</td><td>0.0</td></tr><tr><td>TVInsider</td><td>'Ghosts' Star Asher Grodman on Welcoming Trevor's Daughter Abby in Latest Surprise Twist (Exclusive) - TV Insider</td><td>2025-04-18</td><td>Meaghan Darwish</td><td>https://www.tvinsider.com/1187151/ghosts-season-4-trevor-daughter-abby-asher-grodman/</td><td>This is a dummy content for the URL.</td><td>4</td><td>0.0</td><td>0.0</td></tr><tr><td>Bleacher Report</td><td>WWE WrestleMania 41 Night 1 Results, Winners, Live Grades, Reaction and Highlights - Bleacher Report</td><td>2025-04-20</td><td>Erik Beaston</td><td>https://bleacherreport.com/articles/25188274-wwe-wrestlemania-41-night-1-results-winners-live-grades-reaction-and-highlights</td><td>This is a dummy content for the URL.</td><td>4</td><td>0.0</td><td>0.0</td></tr><tr><td>ESPN</td><td>WrestleMania 41 LIVE: Results and analysis for Reigns vs. Punk vs. Rollins - ESPN</td><td>2025-04-20</td><td>ESPN staff</td><td>https://www.espn.com/wwe/story/_/id/44577473/wrestlemania-41-live-results-analysis-roman-reigns-cm-punk-seth-rollins-night-1</td><td>This is a dummy content for the URL.</td><td>4</td><td>0.0</td><td>0.0</td></tr><tr><td>Wrestlezone.com</td><td>Report: WWE NXT To Team With AAA For Worlds Collide Event This Summer - Wrestlezone</td><td>2025-04-19</td><td>Matt Black</td><td>http://www.wrestlezone.com/news/1555198-report-wwe-nxt-to-team-with-aaa-for-worlds-collide-event-this-summer</td><td>This is a dummy content for the URL.</td><td>4</td><td>0.0</td><td>0.0</td></tr><tr><td>Yahoo Entertainment</td><td>Kanye West And Bianca Censori's Relationship Takes New Turn With Latest Sighting After 'Dumping' Claims - Yahoo</td><td>2025-04-19</td><td>Favour Adegoke</td><td>https://www.yahoo.com/entertainment/articles/kanye-west-bianca-censoris-relationship-203059271.html</td><td>This is a dummy content for the URL.</td><td>4</td><td>0.0</td><td>0.0</td></tr><tr><td>Gizmodo.com</td><td>Ryan Coogler on Sinners ‘ Personal Post-Credits Scene - Gizmodo</td><td>2025-04-19</td><td>Justin Carter</td><td>https://gizmodo.com/ryan-coogler-on-sinners-personal-post-credits-scene-2000591819</td><td>This is a dummy content for the URL.</td><td>4</td><td>0.0</td><td>0.0</td></tr><tr><td>Deadline</td><td>Hayden Christensen Prefers Playing Anakin’s “More Heroic Side” In ‘Ahsoka’ - Deadline</td><td>2025-04-19</td><td>Glenn Garner</td><td>http://deadline.com/2025/04/hayden-christensen-playing-anakin-more-heroic-ahsoka-1236372409/</td><td>This is a dummy content for the URL.</td><td>4</td><td>0.0</td><td>0.0</td></tr><tr><td>Nodq.com</td><td>Results of The D’Angelo Family vs. DarkState at WWE NXT Stand and Deliver 2025 - NoDQ.com</td><td>2025-04-19</td><td>Aaron Rift</td><td>https://nodq.com/news/results-of-the-dangelo-family-vs-darkstate-at-wwe-nxt-stand-and-deliver-2025/</td><td>This is a dummy content for the URL.</td><td>4</td><td>0.0</td><td>0.0</td></tr><tr><td>Entertainment Weekly</td><td>'The Crown' star Olivia Williams says she'll never be cancer-free due to late diagnosis: 'They told me I was menopausal' - Entertainment Weekly</td><td>2025-04-19</td><td>https://www.facebook.com/entertainmentweekly</td><td>https://ew.com/the-crown-olivia-williams-will-never-be-cancer-free-due-to-late-diagnosis-11718462</td><td>This is a dummy content for the URL.</td><td>4</td><td>0.0</td><td>0.0</td></tr><tr><td>New York Post</td><td>Hugh Jackman calls out Ryan Reynolds over ‘Deadpool & Wolverine’ scene he cut him from - New York Post</td><td>2025-04-19</td><td>Alexandra Bellusci</td><td>https://nypost.com/2025/04/19/entertainment/hugh-jackman-calls-out-ryan-reynolds-over-deadpool-amp-wolverine-scene/</td><td>This is a dummy content for the URL.</td><td>4</td><td>0.0</td><td>0.0</td></tr><tr><td>Wrestling Inc.</td><td>Huge Update On WWE WrestleMania 41 Status Of Becky Lynch After Hall Of Fame Appearance - Wrestling Inc.</td><td>2025-04-19</td><td>Daisy Ruth</td><td>https://www.wrestlinginc.com/1838412/huge-update-wwe-wrestlemania-41-status-becky-lynch-hall-fame-appearance/</td><td>This is a dummy content for the URL.</td><td>4</td><td>0.0</td><td>0.0</td></tr><tr><td>Page Six</td><td>'RHOC' alum Lydia McLaughlin 'devastated' after brother is fatally shot by police during traffic stop - Page Six</td><td>2025-04-19</td><td>Eileen Reslen</td><td>https://pagesix.com/2025/04/19/celebrity-news/rhoc-alum-lydia-mclaughlin-devastated-after-brother-is-fatally-shot-by-police-during-traffic-stop/</td><td>This is a dummy content for the URL.</td><td>4</td><td>0.0</td><td>0.0</td></tr><tr><td>Page Six</td><td>Ivanka Trump and sister-in-law Karlie Kloss seen in good spirits at Costa Rica family vacation despite rumored feud - Page Six</td><td>2025-04-19</td><td>BreAnna Bell</td><td>https://pagesix.com/2025/04/19/celebrity-news/ivanka-trump-and-karlie-kloss-seen-in-good-spirits-at-costa-rica-family-vacation-despite-rumored-feud/</td><td>This is a dummy content for the URL.</td><td>4</td><td>0.0</td><td>0.0</td></tr><tr><td>CNN</td><td>Lady Gaga apologized for mic issues at Coachella set and flexed her talent - CNN</td><td>2025-04-19</td><td>Dan Heching</td><td>https://www.cnn.com/2025/04/19/entertainment/lady-gaga-mic-issues-coachella/index.html</td><td>This is a dummy content for the URL.</td><td>4</td><td>0.0</td><td>0.0</td></tr><tr><td>WhatCulture</td><td>5 Ups & 4 Downs From WWE Hall Of Fame 2025 (Results & Review) - WhatCulture.com</td><td>2025-04-19</td><td>Scott Carlson</td><td>https://whatculture.com/wwe/5-ups-4-downs-from-wwe-hall-of-fame-2025-results-review</td><td>This is a dummy content for the URL.</td><td>4</td><td>0.0</td><td>0.0</td></tr><tr><td>Rock Paper Shotgun</td><td>Star Wars Zero Company looks like XCOM in a galaxy far, far away in its first trailer - Rock Paper Shotgun</td><td>2025-04-19</td><td>Oisin Kuhnke</td><td>https://www.rockpapershotgun.com/star-wars-zero-company-looks-like-xcom-in-a-galaxy-far-far-away-in-its-first-trailer</td><td>This is a dummy content for the URL.</td><td>4</td><td>0.0</td><td>0.0</td></tr><tr><td>SheKnows</td><td>One of Taylor Swift’s Inner Circle Gave Heartbreaking Insight As To Why She’s Laying Low - SheKnows</td><td>2025-04-19</td><td>Maggie Clancy</td><td>https://www.sheknows.com/entertainment/articles/1234869359/gracie-abrams-taylor-swift-privacy/</td><td>This is a dummy content for the URL.</td><td>4</td><td>0.0</td><td>0.0</td></tr><tr><td>Figure Four Online</td><td>NXT Stand & Deliver live results: Five title matches - F4W/WON</td><td>2025-04-19</td><td>Marc Quill</td><td>https://www.f4wonline.com/news/nxt/nxt-results/wwe-nxt-stand-deliver-live-results-oba-femi-trick-williams-jevon-evans/</td><td>This is a dummy content for the URL.</td><td>4</td><td>0.0</td><td>0.0</td></tr><tr><td>CNN</td><td>Why the 20-year-old ‘Pride & Prejudice’ film still bewitches audiences today - CNN</td><td>2025-04-19</td><td>Leah Asmelash</td><td>https://www.cnn.com/2025/04/19/entertainment/pride-prejudice-film-20th-anniversary-cec/index.html</td><td>This is a dummy content for the URL.</td><td>4</td><td>0.0</td><td>0.0</td></tr><tr><td>Polygon</td><td>An animated episode of Doctor Who was a dream come true for its creators - Polygon</td><td>2025-04-19</td><td>Susana Polo</td><td>https://www.polygon.com/tv/561655/doctor-who-animated-episode-sequence-how-mr-ring-a-ding</td><td>This is a dummy content for the URL.</td><td>4</td><td>0.0</td><td>0.0</td></tr><tr><td>Outkick.com</td><td>Katy Perry Goes To Space, Lizzo Gives Her Take On Tariffs, And Waffle House Innovates - OutKick</td><td>2025-04-19</td><td>Matt Reigle</td><td>https://www.outkick.com/culture/katy-perry-space-lizzo-tariffs-waffle-house</td><td>This is a dummy content for the URL.</td><td>4</td><td>0.0</td><td>0.0</td></tr><tr><td>Hollywood Reporter</td><td>Harvey Weinstein’s Last Stand - The Hollywood Reporter</td><td>2025-04-19</td><td>Winston Cho</td><td>http://www.hollywoodreporter.com/news/general-news/harvey-weinstein-new-trial-1236190862/</td><td>This is a dummy content for the URL.</td><td>4</td><td>0.0</td><td>0.0</td></tr><tr><td>Politico</td><td>The WrestleMania Presidency - Yahoo Home</td><td>2025-04-19</td><td>Zach Montellaro</td><td>https://www.politico.com/news/magazine/2025/04/19/donald-trump-pro-wrestling-wwe-00298303</td><td>This is a dummy content for the URL.</td><td>4</td><td>0.0</td><td>0.0</td></tr><tr><td>Cageside Seats</td><td>Rumor Roundup: Rey Mysterio injury, Trump at WrestleMania, WWE expansion, more! - Cageside Seats</td><td>2025-04-19</td><td>Randall Ortman</td><td>https://www.cagesideseats.com/2025/4/19/24411577/rumor-roundup-rey-mysterio-leg-injury-wrestlemania-41-winners-trump-chelsea-green-rusev-orton-omos</td><td>This is a dummy content for the URL.</td><td>4</td><td>0.0</td><td>0.0</td></tr><tr><td>Associated Press</td><td>Universal Epic Universe is the theme park resort’s biggest bang yet in Florida - AP News</td><td>2025-04-19</td><td>Mike Schneider</td><td>https://apnews.com/article/universal-epic-universe-florida-tourism-theme-park-666ce27bfca95cfa4d682f826cc327b5</td><td>This is a dummy content for the URL.</td><td>4</td><td>0.0</td><td>0.0</td></tr><tr><td>Cageside Seats</td><td>Cody Rhodes lays out Cena again after getting booed on SmackDown - Cageside Seats</td><td>2025-04-19</td><td>Cain A. Knight</td><td>https://www.cagesideseats.com/wwe/2025/4/18/24411637/wwe-wrestlemania-smackdown-2025-cody-rhodes-booed-stands-tall-over-john-cena-final-promo-go-home</td><td>This is a dummy content for the URL.</td><td>4</td><td>0.0</td><td>0.0</td></tr><tr><td>SheKnows</td><td>Adios, Liam? Plus, We Have Big Questions About Next Week’s Forrester Fashion Show! - Soaps.com</td><td>2025-04-19</td><td>Richard Simms</td><td>https://soaps.sheknows.com/the-bold-and-the-beautiful/soapbox/778014/who-will-save-liam/</td><td>This is a dummy content for the URL.</td><td>4</td><td>0.0</td><td>0.0</td></tr><tr><td>Entertainment Weekly</td><td>Liza Minnelli performs for first time in years with lip-sync to 'Ring Them Bells' at RuPaul's Drag Race finale - Entertainment Weekly</td><td>2025-04-19</td><td>https://www.facebook.com/entertainmentweekly</td><td>https://ew.com/liza-minnelli-performs-rupauls-drag-race-finale-11718398</td><td>This is a dummy content for the URL.</td><td>4</td><td>0.0</td><td>0.0</td></tr><tr><td>Wrestlezone.com</td><td>Randy Orton’s WWE WrestleMania 41 Match Revealed - Wrestlezone</td><td>2025-04-19</td><td>Matt Black</td><td>http://www.wrestlezone.com/news/1555036-randy-ortons-wwe-wrestlemania-41-match-revealed</td><td>This is a dummy content for the URL.</td><td>4</td><td>0.0</td><td>0.0</td></tr><tr><td>Associated Press</td><td>Universal Epic Universe is the theme park resort’s biggest bang yet in Florida - AP News</td><td>2025-04-19</td><td>Mike Schneider</td><td>https://apnews.com/article/universal-epic-universe-florida-tourism-theme-park-666ce27bfca95cfa4d682f826cc327b5</td><td>This is a dummy content for the URL.</td><td>4</td><td>0.0</td><td>0.0</td></tr><tr><td>Cageside Seats</td><td>Cody Rhodes lays out Cena again after getting booed on SmackDown - Cageside Seats</td><td>2025-04-19</td><td>Cain A. Knight</td><td>https://www.cagesideseats.com/wwe/2025/4/18/24411637/wwe-wrestlemania-smackdown-2025-cody-rhodes-booed-stands-tall-over-john-cena-final-promo-go-home</td><td>This is a dummy content for the URL.</td><td>4</td><td>0.0</td><td>0.0</td></tr><tr><td>Cageside Seats</td><td>Randy Orton issues a bold challenge for WrestleMania 41 - Cageside Seats</td><td>2025-04-19</td><td>Cain A. Knight</td><td>https://www.cagesideseats.com/wwe/2025/4/18/24411639/randy-orton-issues-open-challenge-wrestlemania-41-sunday-anybody-rko-surprise-mystery-opponent-vegas</td><td>This is a dummy content for the URL.</td><td>4</td><td>0.0</td><td>0.0</td></tr><tr><td>Vulture</td><td>Sinners’ Post-Credits Scene and Ending, Explained - Vulture</td><td>2025-04-18</td><td>Fran Hoepfner</td><td>http://www.vulture.com/article/sinners-post-credits-scenes-explained.html</td><td>This is a dummy content for the URL.</td><td>4</td><td>0.0</td><td>0.0</td></tr><tr><td>TODAY</td><td>Is Katy Perry An Astronaut? No, Says The Secretary Of Transportation - TODAY.com</td><td>2025-04-18</td><td>Alex Portée</td><td>https://www.today.com/news/are-katy-perry-gayle-king-real-astronauts-rcna201936</td><td>This is a dummy content for the URL.</td><td>4</td><td>0.0</td><td>0.0</td></tr><tr><td>Ringside News</td><td>WWE SmackDown Spoiler Lineup for April 18, 2025: Full Match Card and Backstage Notes Revealed - Ringside News</td><td>2025-04-18</td><td>Steve Carrier</td><td>https://www.ringsidenews.com/2025/04/18/wwe-smackdown-spoiler-lineup-for-april-18-2025-full-match-card-and-backstage-notes-revealed/</td><td>This is a dummy content for the URL.</td><td>4</td><td>0.0</td><td>0.0</td></tr><tr><td>Programminginsider.com</td><td>Thursday Ratings: 'Matlock' on CBS Hits Series-High in Adults 18-49 with Inaugural Season Finale and Tops All Prime Time Telecasts - Programming Insider</td><td>2025-04-18</td><td>Douglas Pucci</td><td>https://programminginsider.com/thursday-ratings-matlock-on-cbs-hits-series-high-in-adults-18-49-with-inaugural-season-finale-and-tops-all-prime-time-telecasts/</td><td>This is a dummy content for the URL.</td><td>4</td><td>0.0</td><td>0.0</td></tr><tr><td>Cageside Seats</td><td>WWE announces the opening matches for both nights of WrestleMania 41 - Cageside Seats</td><td>2025-04-18</td><td>Sean Rueter</td><td>https://www.cagesideseats.com/wwe/2025/4/18/24411529/wwe-wrestlemania-41-opening-matches-both-nights-world-titles-iyo-rhea-bianca-jey-gunther</td><td>This is a dummy content for the URL.</td><td>4</td><td>0.0</td><td>0.0</td></tr><tr><td>Space.com</td><td>Star Wars Celebration reveals new footage about Sigourney Weaver's 'The Mandalorian & Grogu' character - Space</td><td>2025-04-18</td><td>Fran Ruiz</td><td>https://www.space.com/entertainment/space-movies-shows/star-wars-celebration-reveals-new-footage-about-sigourney-weavers-the-mandalorian-and-grogu-character</td><td>This is a dummy content for the URL.</td><td>4</td><td>0.0</td><td>0.0</td></tr><tr><td>Deadline</td><td>'9-1-1' Cast Say Goodbye To Co-Star Following Character's Death: Oliver Stark, Jennifer Love Hewitt & More Pay Tribute To Actor - Deadline</td><td>2025-04-18</td><td>Armando Tinoco</td><td>http://deadline.com/2025/04/9-1-1-cast-goodbye-character-death-oliver-stark-jennifer-love-hewitt-1236372010/</td><td>This is a dummy content for the URL.</td><td>4</td><td>0.0</td><td>0.0</td></tr><tr><td>Variety</td><td>Joan Chen and Youn Yuh-jung on Meeting for the First Time Filming ‘The Wedding Banquet’ and Wanting to Collaborate Again: ‘But We Better Hurry’ - Variety</td><td>2025-04-18</td><td>Jenelle Riley</td><td>https://variety.com/2025/film/features/wedding-banquet-joan-chen-youn-yuh-jung-1236372887/</td><td>This is a dummy content for the URL.</td><td>4</td><td>0.0</td><td>0.0</td></tr><tr><td>New York Post</td><td>Martha Stewart takes dig at ‘astronaut’ Katy Perry after Blue Origin flight: ‘In case you spaced out’ - New York Post</td><td>2025-04-18</td><td>Whitney Vasquez</td><td>https://nypost.com/2025/04/18/entertainment/martha-stewart-takes-dig-at-katy-perry-after-blue-origin-flight/</td><td>This is a dummy content for the URL.</td><td>4</td><td>0.0</td><td>0.0</td></tr><tr><td>Deadline</td><td>Sean ‘Diddy’ Combs Loses Trial Delay Bid In Sex Trafficking Case; Warner Bros Discovery Comes Up Short In Keeping Docuseries Outtakes Out Of Case - Deadline</td><td>2025-04-18</td><td>Dominic Patten, Sean Piccoli</td><td>http://deadline.com/2025/04/diddy-rape-trial-delay-denied-1236371795/</td><td>This is a dummy content for the URL.</td><td>4</td><td>0.0</td><td>0.0</td></tr><tr><td>NPR</td><td>John Cena's the bad guy in his final WrestleMania. Here's why that's a big deal - NPR</td><td>2025-04-18</td><td></td><td>https://www.npr.org/2025/04/18/nx-s1-5366023/john-cena-wrestlemania-cody-rhodes</td><td>This is a dummy content for the URL.</td><td>4</td><td>0.0</td><td>0.0</td></tr><tr><td>CinemaBlend</td><td>SNL’s Bowen Yang Explained Why Aimee Lou Wood’s Reaction To The White Lotus Sketch Was ‘Completely Valid’ - Yahoo</td><td>2025-04-18</td><td>Heidi Venable</td><td>https://www.cinemablend.com/television/snl-bowen-yang-why-aimee-lou-wood-reaction-white-lotus-sketch-completely-valid</td><td>This is a dummy content for the URL.</td><td>4</td><td>0.0</td><td>0.0</td></tr><tr><td>Page Six</td><td>Anne Hathaway sparks plastic surgery speculation with taut face at Ralph Lauren fashion show: ‘Money well spent’ - Yahoo</td><td>2025-04-18</td><td>Nicki Cox</td><td>https://pagesix.com/2025/04/18/entertainment/anne-hathaway-sparks-plastic-surgery-speculation-with-taut-face-at-ralph-lauren-fashion-show/?utm_source=yahoo&amp;utm_campaign=pagesix&amp;utm_medium=referral</td><td>This is a dummy content for the URL.</td><td>4</td><td>0.0</td><td>0.0</td></tr><tr><td>Page Six</td><td>Drew Carey, 66, and OnlyFans star, 37, spotted on lunch date 5 years after his ex-fiancée’s murder - Page Six</td><td>2025-04-18</td><td>Riley Cardoza</td><td>https://pagesix.com/2025/04/18/celebrity-news/drew-carey-onlyfans-star-niki-skyler-spotted-on-lunch-date/</td><td>This is a dummy content for the URL.</td><td>4</td><td>0.0</td><td>0.0</td></tr><tr><td>Space.com</td><td>Ryan Gosling's new 'Star Wars' movie 'Starfighter' is coming in 2027, and it has nothing to do with the Starfighter games - Space</td><td>2025-04-18</td><td>Fran Ruiz</td><td>https://www.space.com/entertainment/space-movies-shows/ryan-goslings-new-star-wars-movie-is-called-starfighter-its-coming-in-2027-and-it-has-nothing-to-do-with-the-starfighter-games</td><td>This is a dummy content for the URL.</td><td>4</td><td>0.0</td><td>0.0</td></tr><tr><td>Bleacher Report</td><td>Updated WWE WrestleMania 41 Card and Predictions for Match Order - Bleacher Report</td><td>2025-04-18</td><td>Mike Chiari</td><td>https://bleacherreport.com/articles/25184838-updated-wwe-wrestlemania-41-card-and-predictions-match-order</td><td>This is a dummy content for the URL.</td><td>4</td><td>0.0</td><td>0.0</td></tr><tr><td>Rolling Stone</td><td>Gene Hackman Poked Fun at Alzheimer's in Notes Left for Wife Betsy Arakawa Before Death - Rolling Stone</td><td>2025-04-18</td><td>Jon Blistein</td><td>http://www.rollingstone.com/tv-movies/tv-movie-news/gene-hackman-betsy-arakawa-notes-investigation-unsealed-1235320511/</td><td>This is a dummy content for the URL.</td><td>4</td><td>0.0</td><td>0.0</td></tr><tr><td>Interview</td><td>“Humans Can Be Very Depressing”: David Cronenberg, By Jim Jarmusch - Interview Magazine</td><td>2025-04-18</td><td>Emily Sandstrom</td><td>https://www.interviewmagazine.com/film/david-cronenberg-by-jim-jarmusch</td><td>This is a dummy content for the URL.</td><td>4</td><td>0.0</td><td>0.0</td></tr><tr><td>Deadline</td><td>Patrick Adiarte Dies: ‘M*A*S*H’ Actor Was 82 - Deadline</td><td>2025-04-18</td><td>Caroline Frost</td><td>http://deadline.com/2025/04/patrick-adiarte-dead-mash-actor-82-1236371712/</td><td>This is a dummy content for the URL.</td><td>4</td><td>0.0</td><td>0.0</td></tr><tr><td>CNYcentral.com</td><td>Metallica concert will impact Syracuse's economy by $15 million - WSTM</td><td>2025-04-18</td><td>Hannah Devanny</td><td>https://cnycentral.com/news/local/metallica-concert-will-impact-syracuses-economy-by-15-million-dome-hotels-visit-easter</td><td>This is a dummy content for the URL.</td><td>4</td><td>0.0</td><td>0.0</td></tr><tr><td>Deadline</td><td>‘Law & Order’s Maura Tierney Talks Crossover With ‘SVU’ & Its Unexpected Tie To ‘ER’ - Deadline</td><td>2025-04-18</td><td>Lynette Rice</td><td>http://deadline.com/2025/04/law-and-orders-svu-maura-tierney-explains-crossover-1236371324/</td><td>This is a dummy content for the URL.</td><td>4</td><td>0.0</td><td>0.0</td></tr><tr><td>TVInsider</td><td>'Ghosts' Star Asher Grodman on Welcoming Trevor's Daughter Abby in Latest Surprise Twist (Exclusive) - TV Insider</td><td>2025-04-18</td><td>Meaghan Darwish</td><td>https://www.tvinsider.com/1187151/ghosts-season-4-trevor-daughter-abby-asher-grodman/</td><td>This is a dummy content for the URL.</td><td>4</td><td>0.0</td><td>0.0</td></tr><tr><td>Cageside Seats</td><td>Rumor Roundup: Becky Lynch return, Bayley sympathy, Rey Mysterio injury, AAA, more! - Cageside Seats</td><td>2025-04-21</td><td>Randall Ortman</td><td>https://www.cagesideseats.com/2025/4/21/24412839/rumor-roundup-april-21-2025-becky-lynch-return-bayley-sympathy-rey-mysterio-injury-aaa-deal</td><td>This is a dummy content for the URL.</td><td>4</td><td>0.0</td><td>0.0</td></tr><tr><td>CBS Sports</td><td>WWE WrestleMania 41 results, grades: John Cena wins record 17th world title, ends Cody Rhodes' year-long reign - CBS Sports</td><td>2025-04-21</td><td>Brent Brookhouse</td><td>https://www.cbssports.com/wwe/news/wwe-wrestlemania-41-results-grades-john-cena-wins-record-17th-world-title-ends-cody-rhodes-year-long-reign/live/</td><td>This is a dummy content for the URL.</td><td>4</td><td>0.0</td><td>0.0</td></tr><tr><td>Variety</td><td>Pedro Pascal Speaks Out After ‘The Last of Us’ Twist and Says ‘I’m in Active Denial’; Bella Ramsey ‘Sobbed’ Reading It: A ‘Brilliant Achievement’ If It’s ‘Painful for People’ - Variety</td><td>2025-04-21</td><td>Zack Sharf</td><td>https://variety.com/2025/tv/news/pedro-pascal-bella-ramsey-joel-death-last-of-us-1236373640/</td><td>This is a dummy content for the URL.</td><td>4</td><td>0.0</td><td>0.0</td></tr><tr><td>Just Jared</td><td>Kristen Stewart & Dylan Meyer Tie the Knot on Easter Sunday, Wedding Details Revealed! - Just Jared</td><td>2025-04-21</td><td>null</td><td>https://www.justjared.com/2025/04/20/kristen-stewart-dylan-meyer-tie-the-knot-on-easter-sunday-wedding-details-revealed/</td><td>This is a dummy content for the URL.</td><td>4</td><td>0.0</td><td>0.0</td></tr><tr><td>Yahoo Entertainment</td><td>WWE WrestleMania 41 Night 2 live results: Updates, winners and losers, highlights, grades and analysis - Yahoo Sports</td><td>2025-04-21</td><td>Anthony Sulla-Heffinger</td><td>https://sports.yahoo.com/wrestling/live/wwe-wrestlemania-41-night-2-results-grades-analysis-john-cena-beats-cody-rhodes-in-lackluster-headliner-the-rock-no-shows-080034111.html</td><td>This is a dummy content for the URL.</td><td>4</td><td>0.0</td><td>0.0</td></tr><tr><td>CBS Sports</td><td>'Stone Cold' Steve Austin crashes ATV into barricade at WWE WrestleMania 41, nearly hits fan at ringside - CBS Sports</td><td>2025-04-21</td><td></td><td>https://www.cbssports.com/wwe/news/stone-cold-steve-austin-crashes-atv-into-barricade-at-wwe-wrestlemania-41-nearly-hits-fan-at-ringside/</td><td>This is a dummy content for the URL.</td><td>4</td><td>0.0</td><td>0.0</td></tr><tr><td>Nodq.com</td><td>Results of AJ Styles vs. Logan Paul at WWE WrestleMania 41 Sunday - NoDQ.com</td><td>2025-04-21</td><td>Aaron Rift</td><td>https://nodq.com/news/results-of-aj-styles-vs-logan-paul-at-wwe-wrestlemania-41-sunday/</td><td>This is a dummy content for the URL.</td><td>4</td><td>0.0</td><td>0.0</td></tr><tr><td>Cageside Seats</td><td>TNA Champion answers Randy Orton’s open challenge at WrestleMania 41 - Cageside Seats</td><td>2025-04-21</td><td>Geno Mrosko</td><td>https://www.cagesideseats.com/wwe/2025/4/20/24412664/wrestlemania-41-results-tna-champion-joe-hendry-randy-orton-open-challenge</td><td>This is a dummy content for the URL.</td><td>4</td><td>0.0</td><td>0.0</td></tr><tr><td>Hollywood Reporter</td><td>Bowen Yang Says Aimee Lou Wood’s Criticism of ‘White Lotus’ Parody on ‘SNL’ Is “Completely Valid” - The Hollywood Reporter</td><td>2025-04-21</td><td>Carly Thomas</td><td>http://www.hollywoodreporter.com/tv/tv-news/bowen-yang-reacts-aimee-lou-wood-criticism-white-lotus-snl-1236196342/</td><td>This is a dummy content for the URL.</td><td>4</td><td>0.0</td><td>0.0</td></tr><tr><td>Vulture</td><td>Elizabeth Hurley and Billy Ray Cyrus Hard Launch With Easter IG Post - Vulture</td><td>2025-04-21</td><td>Bethy Squires</td><td>http://www.vulture.com/article/elizabeth-hurley-billy-ray-cyrus-dating.html</td><td>This is a dummy content for the URL.</td><td>4</td><td>0.0</td><td>0.0</td></tr><tr><td>Cageside Seats</td><td>Dominik Mysterio wins the Intercontinental championship at WrestleMania 41 - Cageside Seats</td><td>2025-04-21</td><td>Geno Mrosko</td><td>https://www.cagesideseats.com/wwe/2025/4/20/24412666/dominik-mysterio-wins-intercontinental-championship-wrestlemania-41-finn-balor-bron-breakker-penta</td><td>This is a dummy content for the URL.</td><td>4</td><td>0.0</td><td>0.0</td></tr><tr><td>Nodq.com</td><td>Results of Drew McIntyre vs. Damian Priest at WWE WrestleMania 41 Sunday - NoDQ.com</td><td>2025-04-20</td><td>Aaron Rift</td><td>https://nodq.com/news/results-of-drew-mcintyre-vs-damian-priest-at-wwe-wrestlemania-41-sunday/</td><td>This is a dummy content for the URL.</td><td>4</td><td>0.0</td><td>0.0</td></tr><tr><td>Entertainment Weekly</td><td>'Sinners' sinks its teeth into the top spot at the Easter weekend domestic box office - Entertainment Weekly</td><td>2025-04-20</td><td>https://www.facebook.com/entertainmentweekly</td><td>https://ew.com/sinners-takes-top-spot-at-the-easter-weekend-domestic-box-office-11718589</td><td>This is a dummy content for the URL.</td><td>4</td><td>0.0</td><td>0.0</td></tr><tr><td>Page Six</td><td>Margot Robbie flaunts fit physique during Australian beach outing with husband Tom Ackerley - Yahoo</td><td>2025-04-20</td><td>Vanessa Serna</td><td>https://pagesix.com/2025/04/20/celebrity-news/margot-robbie-flaunts-fit-physique-during-australian-beach-outing/?utm_source=yahoo&amp;utm_campaign=pagesix&amp;utm_medium=referral</td><td>This is a dummy content for the URL.</td><td>4</td><td>0.0</td><td>0.0</td></tr><tr><td>Variety</td><td>Rhea Ripley, Bianca Belair and Iyo Sky on Their WrestleMania Match - Variety</td><td>2025-04-20</td><td>Lauren Coates</td><td>https://variety.com/2025/tv/news/rhea-ripley-bianca-belair-iyo-sky-interview-wrestlemania-41-1236372227/</td><td>This is a dummy content for the URL.</td><td>4</td><td>0.0</td><td>0.0</td></tr><tr><td>Wrestlezone.com</td><td>Tiffany Stratton Provides Update On Her Teeth Following WWE WrestleMania 41 - Wrestlezone</td><td>2025-04-20</td><td>Matt Black</td><td>http://www.wrestlezone.com/news/1555314-tiffany-stratton-provides-update-on-her-teeth-following-wwe-wrestlemania-41</td><td>This is a dummy content for the URL.</td><td>4</td><td>0.0</td><td>0.0</td></tr><tr><td>Page Six</td><td>Joe Rogan mocks space ‘guru’ Katy Perry and all-female Blue Origin flight: ‘Very profound’ - Page Six</td><td>2025-04-20</td><td>Vanessa Serna</td><td>https://pagesix.com/2025/04/20/celebrity-news/joe-rogan-mocks-space-guru-katy-perry-and-all-female-blue-origin-flight/</td><td>This is a dummy content for the URL.</td><td>4</td><td>0.0</td><td>0.0</td></tr><tr><td>Deadline</td><td>King Charles Extends Olive Branch To Disgraced Brother Prince Andrew At Easter Church Service - Deadline</td><td>2025-04-20</td><td>Caroline Frost</td><td>http://deadline.com/2025/04/king-charles-camilla-easter-church-service-prince-andrew-1236372562/</td><td>This is a dummy content for the URL.</td><td>4</td><td>0.0</td><td>0.0</td></tr><tr><td>syracuse.com</td><td>Metallica slays record Syracuse crowd with intensity, hits (review, photos, setlist) - Syracuse.com</td><td>2025-04-20</td><td>Geoff Herbert | gherbert@syracuse.com</td><td>https://www.syracuse.com/entertainment/2025/04/metallica-slays-record-syracuse-crowd-with-intensity-hits-review-photos-setlist.html</td><td>This is a dummy content for the URL.</td><td>4</td><td>0.0</td><td>0.0</td></tr><tr><td>Ringside News</td><td>Jey Uso’s WrestleMania 41 Victory Backfires Online With 2-to-1 Dislike Ratio - Ringside News</td><td>2025-04-20</td><td>Subhojeet Mukherjee</td><td>https://www.ringsidenews.com/2025/04/20/jey-usos-wrestlemania-41-victory-backfires-online-with-2-to-1-dislike-ratio/</td><td>This is a dummy content for the URL.</td><td>4</td><td>0.0</td><td>0.0</td></tr><tr><td>USA Today</td><td>Meet Taurus, the Zodiac's loyal bull: The sign's personality traits, dates - USA Today</td><td>2025-04-20</td><td>Olivia Munson</td><td>https://www.usatoday.com/story/life/2025/04/20/taurus-zodiac-sign-traits-personality-dates/77780642007/</td><td>This is a dummy content for the URL.</td><td>4</td><td>0.0</td><td>0.0</td></tr><tr><td>Yahoo Entertainment</td><td>WWE WrestleMania 41 Night 2 results, grades, analysis: John Cena beats Cody Rhodes in lackluster headliner; The Rock no-shows - Yahoo Sports</td><td>2025-04-21</td><td>Anthony Sulla-Heffinger</td><td>https://sports.yahoo.com/wrestling/live/wwe-wrestlemania-41-night-2-results-grades-analysis-john-cena-beats-cody-rhodes-in-lackluster-headliner-the-rock-no-shows-080034111.html</td><td>This is a dummy content for the URL.</td><td>4</td><td>0.0</td><td>0.0</td></tr><tr><td>CBS Sports</td><td>'Stone Cold' Steve Austin crashes ATV into barricade at WWE WrestleMania 41, nearly hits fan at ringside - CBS Sports</td><td>2025-04-21</td><td></td><td>https://www.cbssports.com/wwe/news/stone-cold-steve-austin-crashes-atv-into-barricade-at-wwe-wrestlemania-41-nearly-hits-fan-at-ringside/</td><td>This is a dummy content for the URL.</td><td>4</td><td>0.0</td><td>0.0</td></tr><tr><td>CBS Sports</td><td>WWE WrestleMania 41 results: Live updates, grades, Night 2 recap, highlights, 2025 match card, start time - CBS Sports</td><td>2025-04-21</td><td>Brent Brookhouse</td><td>https://www.cbssports.com/wwe/news/wwe-wrestlemania-41-results-grades-john-cena-wins-record-17th-world-title-ends-cody-rhodes-year-long-reign/live/</td><td>This is a dummy content for the URL.</td><td>4</td><td>0.0</td><td>0.0</td></tr><tr><td>Hollywood Reporter</td><td>Bowen Yang Says Aimee Lou Wood’s Criticism of ‘White Lotus’ Parody on ‘SNL’ Is “Completely Valid” - The Hollywood Reporter</td><td>2025-04-21</td><td>Carly Thomas</td><td>http://www.hollywoodreporter.com/tv/tv-news/bowen-yang-reacts-aimee-lou-wood-criticism-white-lotus-snl-1236196342/</td><td>This is a dummy content for the URL.</td><td>4</td><td>0.0</td><td>0.0</td></tr><tr><td>Cageside Seats</td><td>Dominik Mysterio wins the Intercontinental championship at WrestleMania 41 - Cageside Seats</td><td>2025-04-21</td><td>Geno Mrosko</td><td>https://www.cagesideseats.com/wwe/2025/4/20/24412666/dominik-mysterio-wins-intercontinental-championship-wrestlemania-41-finn-balor-bron-breakker-penta</td><td>This is a dummy content for the URL.</td><td>4</td><td>0.0</td><td>0.0</td></tr><tr><td>Nodq.com</td><td>Results of Drew McIntyre vs. Damian Priest at WWE WrestleMania 41 Sunday - NoDQ.com</td><td>2025-04-20</td><td>Aaron Rift</td><td>https://nodq.com/news/results-of-drew-mcintyre-vs-damian-priest-at-wwe-wrestlemania-41-sunday/</td><td>This is a dummy content for the URL.</td><td>4</td><td>0.0</td><td>0.0</td></tr><tr><td>Wrestling Inc.</td><td>Major Metal Band To Play Damian Priest To The Ring At WWE WrestleMania 41 Night 2 - Wrestling Inc.</td><td>2025-04-20</td><td>Daisy Ruth</td><td>https://www.wrestlinginc.com/1839069/major-metal-band-play-damian-priest-ring-wwe-wrestlemania-41-night-2/</td><td>This is a dummy content for the URL.</td><td>4</td><td>0.0</td><td>0.0</td></tr><tr><td>Billboard</td><td>Billy Ray Cyrus & Elizabeth Hurley Share a Kiss in Instagram Easter Photo - Billboard</td><td>2025-04-20</td><td>Ashley Iasimone</td><td>http://www.billboard.com/music/music-news/billy-ray-cyrus-elizabeth-hurley-kiss-photo-easter-1235950960/</td><td>This is a dummy content for the URL.</td><td>4</td><td>0.0</td><td>0.0</td></tr><tr><td>Wrestletalk.com</td><td>Randy Orton WWE WrestleMania 41 Match Update - WrestleTalk</td><td>2025-04-20</td><td>Liam</td><td>https://wrestletalk.com/news/randy-orton-wwe-wrestlemania-41-match/</td><td>This is a dummy content for the URL.</td><td>4</td><td>0.0</td><td>0.0</td></tr><tr><td>Variety</td><td>Rhea Ripley, Bianca Belair and Iyo Sky on Their WrestleMania Match - Variety</td><td>2025-04-20</td><td>Lauren Coates</td><td>https://variety.com/2025/tv/news/rhea-ripley-bianca-belair-iyo-sky-interview-wrestlemania-41-1236372227/</td><td>This is a dummy content for the URL.</td><td>4</td><td>0.0</td><td>0.0</td></tr><tr><td>411mania.com</td><td>More Details on WWE’s Acquisition of AAA, Note on Alberto El Patron - 411MANIA</td><td>2025-04-20</td><td>null</td><td>https://411mania.com/wrestling/more-wwe-acquisition-aaa-note-alberto-el-patron/</td><td>This is a dummy content for the URL.</td><td>4</td><td>0.0</td><td>0.0</td></tr><tr><td>Page Six</td><td>Joe Rogan mocks space ‘guru’ Katy Perry and all-female Blue Origin flight: ‘Very profound’ - Page Six</td><td>2025-04-20</td><td>Vanessa Serna</td><td>https://pagesix.com/2025/04/20/celebrity-news/joe-rogan-mocks-space-guru-katy-perry-and-all-female-blue-origin-flight/</td><td>This is a dummy content for the URL.</td><td>4</td><td>0.0</td><td>0.0</td></tr><tr><td>Boxoffice Pro</td><td>Weekend Box Office: SINNERS Busts MINECRAFT’s Blocks to Land #1 Spot - boxofficepro.com</td><td>2025-04-20</td><td>Boxoffice Staff</td><td>https://www.boxofficepro.com/weekend-box-office-sinners-busts-minecrafts-blocks-to-land-1-spot/</td><td>This is a dummy content for the URL.</td><td>4</td><td>0.0</td><td>0.0</td></tr><tr><td>Cageside Seats</td><td>Tiffany Stratton confirms she still has her teeth after WrestleMania 41 - Cageside Seats</td><td>2025-04-20</td><td>Geno Mrosko</td><td>https://www.cagesideseats.com/wwe/2025/4/20/24412402/tiffany-stratton-teeth-wrestlemania-41-charlotte-flair-match</td><td>This is a dummy content for the URL.</td><td>4</td><td>0.0</td><td>0.0</td></tr><tr><td>Men's Journal</td><td>Jennifer Garner Makes Decision on Possibly Getting Back With Ben Affleck - Yahoo</td><td>2025-04-20</td><td>Andrew Holleran</td><td>https://www.mensjournal.com/entertainment/jennifer-garner-makes-decision-on-possibly-getting-back-with-ben-affleck</td><td>This is a dummy content for the URL.</td><td>4</td><td>0.0</td><td>0.0</td></tr><tr><td>SEScoops</td><td>A Step Slower: John Cena Gets Candid About Wrestling Retirement Before Final WrestleMania - SEScoops</td><td>2025-04-20</td><td>https://www.facebook.com/authoranutosh/</td><td>https://www.sescoops.com/news/wwe/john-cena-wrestling-retirement-final-wrestlemania/</td><td>This is a dummy content for the URL.</td><td>4</td><td>0.0</td><td>0.0</td></tr><tr><td>Deadline</td><td>King Charles Extends Olive Branch To Disgraced Brother Prince Andrew At Easter Church Service - Deadline</td><td>2025-04-20</td><td>Caroline Frost</td><td>http://deadline.com/2025/04/king-charles-camilla-easter-church-service-prince-andrew-1236372562/</td><td>This is a dummy content for the URL.</td><td>4</td><td>0.0</td><td>0.0</td></tr><tr><td>syracuse.com</td><td>Metallica slays record Syracuse crowd with intensity, hits (review, photos, setlist) - Syracuse.com</td><td>2025-04-20</td><td>Geoff Herbert | gherbert@syracuse.com</td><td>https://www.syracuse.com/entertainment/2025/04/metallica-slays-record-syracuse-crowd-with-intensity-hits-review-photos-setlist.html</td><td>This is a dummy content for the URL.</td><td>4</td><td>0.0</td><td>0.0</td></tr><tr><td>New York Post</td><td>Actress Darryl Hannah claims first Trump administration tried ‘every trick’ to mess up hubby Neil Young while applying for citizenship: report - Yahoo</td><td>2025-04-20</td><td>Shane Galvin</td><td>https://nypost.com/2025/04/20/entertainment/actress-darryl-hannah-claims-hubby-neil-young-was-harassed-by-trump-admin-while-applying-for-citizenship-report/?utm_source=yahoo&amp;utm_campaign=nypost&amp;utm_medium=referral</td><td>This is a dummy content for the URL.</td><td>4</td><td>0.0</td><td>0.0</td></tr><tr><td>Wrestling Inc.</td><td>WWE NXT Stand & Deliver 2025: 3 Things We Hated And 3 Things We Loved - Wrestling Inc.</td><td>2025-04-20</td><td>Wrestling Inc. Staff</td><td>https://www.wrestlinginc.com/1838584/wwe-nxt-stand-deliver-2025-3-things-we-hated-3-things-we-loved/</td><td>This is a dummy content for the URL.</td><td>4</td><td>0.0</td><td>0.0</td></tr><tr><td>Nodq.com</td><td>Results of Jade Cargill vs. Naomi at WWE WrestleMania 41 Saturday - NoDQ.com</td><td>2025-04-20</td><td>Aaron Rift</td><td>https://nodq.com/news/results-of-jade-cargill-vs-naomi-at-wwe-wrestlemania-41-saturday/</td><td>This is a dummy content for the URL.</td><td>4</td><td>0.0</td><td>0.0</td></tr></tbody></table></div>"
      ]
     },
     "metadata": {
      "application/vnd.databricks.v1+output": {
       "addedWidgets": {},
       "aggData": [],
       "aggError": "",
       "aggOverflow": false,
       "aggSchema": [],
       "aggSeriesLimitReached": false,
       "aggType": "",
       "arguments": {},
       "columnCustomDisplayInfos": {},
       "data": [
        [
         "Cageside Seats",
         "WWE NXT Stand & Deliver 2025 results, live streaming match coverage - Cageside Seats",
         "2025-04-19",
         "Claire Elizabeth",
         "https://www.cagesideseats.com/wwe/2025/4/19/24410997/wwe-nxt-stand-deliver-2025-results-live-streaming-match-coverage",
         "This is a dummy content for the URL.",
         4,
         "0.0",
         0.0
        ],
        [
         "CNN",
         "Why the 20-year-old ‘Pride & Prejudice’ film still bewitches audiences today - CNN",
         "2025-04-19",
         "Leah Asmelash",
         "https://www.cnn.com/2025/04/19/entertainment/pride-prejudice-film-20th-anniversary-cec/index.html",
         "This is a dummy content for the URL.",
         4,
         "0.0",
         0.0
        ],
        [
         "Variety",
         "Box Office: ‘Sinners’ Stokes $19.2 Million Opening Day, ‘A Minecraft Movie’ Still Looks to Block Off No. 1 in Third Weekend - Variety",
         "2025-04-19",
         "J. Kim Murphy",
         "https://variety.com/2025/film/news/box-office-sinners-opening-day-minecraft-no1-1236372989/",
         "This is a dummy content for the URL.",
         4,
         "0.0",
         0.0
        ],
        [
         "Hollywood Reporter",
         "Harvey Weinstein’s Last Stand - The Hollywood Reporter",
         "2025-04-19",
         "Winston Cho",
         "http://www.hollywoodreporter.com/news/general-news/harvey-weinstein-new-trial-1236190862/",
         "This is a dummy content for the URL.",
         4,
         "0.0",
         0.0
        ],
        [
         "Bleacher Report",
         "Final Picks for Cena, Rhodes, Rock, Reigns and WWE WrestleMania 41 Match Card - Bleacher Report",
         "2025-04-19",
         "Donald Wood",
         "https://bleacherreport.com/articles/25187437-final-picks-cena-rhodes-rock-reigns-and-wwe-wrestlemania-41-match-card",
         "This is a dummy content for the URL.",
         4,
         "0.0",
         0.0
        ],
        [
         "Politico",
         "The WrestleMania Presidency - Yahoo Home",
         "2025-04-19",
         "Zach Montellaro",
         "https://www.politico.com/news/magazine/2025/04/19/donald-trump-pro-wrestling-wwe-00298303",
         "This is a dummy content for the URL.",
         4,
         "0.0",
         0.0
        ],
        [
         "Wrestletalk.com",
         "What Happened In Triple H WWE Hall Of Fame 2025 Hour Long Speech - WrestleTalk",
         "2025-04-19",
         "Sanchez Taylor",
         "https://wrestletalk.com/news/triple-h-wwe-hall-of-fame-2025-speech/",
         "This is a dummy content for the URL.",
         4,
         "0.0",
         0.0
        ],
        [
         "Variety",
         "Lady Gaga Apologizes for Mic Malfunctions During Coachella Weekend 2 Set: ‘At Least You Know I Sing Live’ - Variety",
         "2025-04-19",
         "Thania Garcia",
         "https://variety.com/2025/music/news/lady-gaga-apologizes-broken-mic-coachella-weekend-2-i-sing-live-1236373171/",
         "This is a dummy content for the URL.",
         4,
         "0.0",
         0.0
        ],
        [
         "Tom's Guide",
         "5 best new movies to stream this weekend on Netflix, Hulu, Max, and more - Tom's Guide",
         "2025-04-19",
         "Alyse Stanley",
         "https://www.tomsguide.com/entertainment/streaming/movies-to-stream-this-weekend-april-18-2025",
         "This is a dummy content for the URL.",
         4,
         "0.0",
         0.0
        ],
        [
         "Polygon",
         "Star Wars Zero Company, a turn-based game at the end of the Clone Wars, gets full reveal - Polygon",
         "2025-04-19",
         "Maddy Myers",
         "https://www.polygon.com/star-wars/560074/star-wars-zero-company-xcom-game-reveal",
         "This is a dummy content for the URL.",
         4,
         "0.0",
         0.0
        ],
        [
         "Hollywood Reporter",
         "Star Wars Celebration: Hayden Christensen Returning as Anakin Skywalker for ‘Ahsoka’ Season Two - The Hollywood Reporter",
         "2025-04-19",
         "Borys Kit, Abid Rahman",
         "http://www.hollywoodreporter.com/tv/tv-news/hayden-christensen-anakin-skywalker-ahsoka-season-2-1236195948/",
         "This is a dummy content for the URL.",
         4,
         "0.0",
         0.0
        ],
        [
         "Cageside Seats",
         "Rumor Roundup: Rey Mysterio injury, Trump at WrestleMania, WWE expansion, more! - Cageside Seats",
         "2025-04-19",
         "Randall Ortman",
         "https://www.cagesideseats.com/2025/4/19/24411577/rumor-roundup-rey-mysterio-leg-injury-wrestlemania-41-winners-trump-chelsea-green-rusev-orton-omos",
         "This is a dummy content for the URL.",
         4,
         "0.0",
         0.0
        ],
        [
         "Associated Press",
         "Universal Epic Universe is the theme park resort’s biggest bang yet in Florida - AP News",
         "2025-04-19",
         "Mike Schneider",
         "https://apnews.com/article/universal-epic-universe-florida-tourism-theme-park-666ce27bfca95cfa4d682f826cc327b5",
         "This is a dummy content for the URL.",
         4,
         "0.0",
         0.0
        ],
        [
         "Cageside Seats",
         "Cody Rhodes lays out Cena again after getting booed on SmackDown - Cageside Seats",
         "2025-04-19",
         "Cain A. Knight",
         "https://www.cagesideseats.com/wwe/2025/4/18/24411637/wwe-wrestlemania-smackdown-2025-cody-rhodes-booed-stands-tall-over-john-cena-final-promo-go-home",
         "This is a dummy content for the URL.",
         4,
         "0.0",
         0.0
        ],
        [
         "SheKnows",
         "Adios, Liam? Plus, We Have Big Questions About Next Week’s Forrester Fashion Show! - Soaps.com",
         "2025-04-19",
         "Richard Simms",
         "https://soaps.sheknows.com/the-bold-and-the-beautiful/soapbox/778014/who-will-save-liam/",
         "This is a dummy content for the URL.",
         4,
         "0.0",
         0.0
        ],
        [
         "Entertainment Weekly",
         "Liza Minnelli performs for first time in years with lip-sync to 'Ring Them Bells' at RuPaul's Drag Race finale - Entertainment Weekly",
         "2025-04-19",
         "https://www.facebook.com/entertainmentweekly",
         "https://ew.com/liza-minnelli-performs-rupauls-drag-race-finale-11718398",
         "This is a dummy content for the URL.",
         4,
         "0.0",
         0.0
        ],
        [
         "Wrestlezone.com",
         "Randy Orton’s WWE WrestleMania 41 Match Revealed - Wrestlezone",
         "2025-04-19",
         "Matt Black",
         "http://www.wrestlezone.com/news/1555036-randy-ortons-wwe-wrestlemania-41-match-revealed",
         "This is a dummy content for the URL.",
         4,
         "0.0",
         0.0
        ],
        [
         "Rolling Stone",
         "Post Malone’s Ex-Fiancée Files for Custody of Their Daughter - Rolling Stone",
         "2025-04-19",
         "Tomás Mier, Nancy Dillon",
         "http://www.rollingstone.com/music/music-news/post-malone-ex-fiancee-custody-daughter-1235321261/",
         "This is a dummy content for the URL.",
         4,
         "0.0",
         0.0
        ],
        [
         "Programminginsider.com",
         "Thursday Ratings: 'Matlock' on CBS Hits Series-High in Adults 18-49 with Inaugural Season Finale and Tops All Prime Time Telecasts - Programming Insider",
         "2025-04-18",
         "Douglas Pucci",
         "https://programminginsider.com/thursday-ratings-matlock-on-cbs-hits-series-high-in-adults-18-49-with-inaugural-season-finale-and-tops-all-prime-time-telecasts/",
         "This is a dummy content for the URL.",
         4,
         "0.0",
         0.0
        ],
        [
         "Cageside Seats",
         "WWE announces the opening matches for both nights of WrestleMania 41 - Cageside Seats",
         "2025-04-18",
         "Sean Rueter",
         "https://www.cagesideseats.com/wwe/2025/4/18/24411529/wwe-wrestlemania-41-opening-matches-both-nights-world-titles-iyo-rhea-bianca-jey-gunther",
         "This is a dummy content for the URL.",
         4,
         "0.0",
         0.0
        ],
        [
         "Just Jared",
         "Machine Gun Kelly & Megan Fox Seen Out Together for First Time Since Welcoming Daughter - Just Jared",
         "2025-04-18",
         null,
         "https://www.justjared.com/2025/04/18/machine-gun-kelly-megan-fox-seen-out-together-for-first-time-since-welcoming-daughter/",
         "This is a dummy content for the URL.",
         4,
         "0.0",
         0.0
        ],
        [
         "Hollywood Reporter",
         "Jacob Elordi “Was Going to Take a Break” Before ‘Wuthering Heights’ Director Texted Him - The Hollywood Reporter",
         "2025-04-18",
         "Lexi Carson",
         "http://www.hollywoodreporter.com/movies/movie-news/jacob-elordi-take-break-before-wuthering-heights-1236195489/",
         "This is a dummy content for the URL.",
         4,
         "0.0",
         0.0
        ],
        [
         "Ringside News",
         "Spoiler: Opening Revealed for April 18 WWE SmackDown - Ringside News",
         "2025-04-18",
         "Steve Carrier",
         "https://www.ringsidenews.com/2025/04/18/spoiler-opening-revealed-for-april-18-wwe-smackdown/",
         "This is a dummy content for the URL.",
         4,
         "0.0",
         0.0
        ],
        [
         "Space.com",
         "Star Wars Celebration reveals new footage about Sigourney Weaver's 'The Mandalorian & Grogu' character - Space",
         "2025-04-18",
         "Fran Ruiz",
         "https://www.space.com/entertainment/space-movies-shows/star-wars-celebration-reveals-new-footage-about-sigourney-weavers-the-mandalorian-and-grogu-character",
         "This is a dummy content for the URL.",
         4,
         "0.0",
         0.0
        ],
        [
         "Ars Technica",
         "Trump official to Katy Perry and Bezos’ fiancée: “You cannot identify as an astronaut” - Ars Technica",
         "2025-04-18",
         "Eric Berger",
         "https://arstechnica.com/space/2025/04/so-is-katy-perry-now-an-astronaut-or-what/",
         "This is a dummy content for the URL.",
         4,
         "0.0",
         0.0
        ],
        [
         "Deadline",
         "'9-1-1' Cast Say Goodbye To Co-Star Following Character's Death: Oliver Stark, Jennifer Love Hewitt & More Pay Tribute To Actor - Deadline",
         "2025-04-18",
         "Armando Tinoco",
         "http://deadline.com/2025/04/9-1-1-cast-goodbye-character-death-oliver-stark-jennifer-love-hewitt-1236372010/",
         "This is a dummy content for the URL.",
         4,
         "0.0",
         0.0
        ],
        [
         "Wrestling Inc.",
         "Opening Match For Night One WWE Of WrestleMania 41 Revealed - Wrestling Inc.",
         "2025-04-18",
         "Brie Coder",
         "https://www.wrestlinginc.com/1837895/opening-match-for-night-one-wwe-of-wrestlemania-41-revealed/",
         "This is a dummy content for the URL.",
         4,
         "0.0",
         0.0
        ],
        [
         "/FILM",
         "Ryan Gosling's Star Wars Movie Is Finally Taking The Franchise Somewhere New - SlashFilm",
         "2025-04-18",
         "Ryan Scott",
         "https://www.slashfilm.com/1837876/ryan-gosling-star-wars-starfighter-movie-franchise-direction/",
         "This is a dummy content for the URL.",
         4,
         "0.0",
         0.0
        ],
        [
         "CNN",
         "‘Sinners’ director Ryan Coogler takes us to film school in 10 minutes - CNN",
         "2025-04-18",
         "Quincy Bowie",
         "https://www.cnn.com/2025/04/18/entertainment/sinners-director-ryan-coogler-film-school/index.html",
         "This is a dummy content for the URL.",
         4,
         "0.0",
         0.0
        ],
        [
         "BBC News",
         "Blue Origin flight: Wendy's praises Katy Perry after 'can we send her back' tweet - BBC",
         "2025-04-18",
         null,
         "https://www.bbc.com/news/articles/ckgek8engwmo",
         "This is a dummy content for the URL.",
         4,
         "0.0",
         0.0
        ],
        [
         "OregonLive",
         "Oscar-nominated child star charged with cocaine possession and public drunkenness - OregonLive.com",
         "2025-04-18",
         "The Associated Press",
         "https://www.oregonlive.com/nation/2025/04/oscar-nominated-child-star-charged-with-cocaine-possession-and-public-drunkenness.html",
         "This is a dummy content for the URL.",
         4,
         "0.0",
         0.0
        ],
        [
         "Variety",
         "'Gutfeld!' Comedian Tyler Fischer Claims 'Woke' Fox News Banned Him - Variety",
         "2025-04-18",
         "Todd Spangler",
         "https://variety.com/2025/tv/news/gutfeld-tyler-fischer-claims-fox-news-banned-full-woke-1236372694/",
         "This is a dummy content for the URL.",
         4,
         "0.0",
         0.0
        ],
        [
         "Deadline",
         "Sean ‘Diddy’ Combs Loses Trial Delay Bid In Sex Trafficking Case; Warner Bros Discovery Comes Up Short In Keeping Docuseries Outtakes Out Of Case - Deadline",
         "2025-04-18",
         "Dominic Patten, Sean Piccoli",
         "http://deadline.com/2025/04/diddy-rape-trial-delay-denied-1236371795/",
         "This is a dummy content for the URL.",
         4,
         "0.0",
         0.0
        ],
        [
         "NPR",
         "John Cena's the bad guy in his final WrestleMania. Here's why that's a big deal - NPR",
         "2025-04-18",
         "",
         "https://www.npr.org/2025/04/18/nx-s1-5366023/john-cena-wrestlemania-cody-rhodes",
         "This is a dummy content for the URL.",
         4,
         "0.0",
         0.0
        ],
        [
         "CinemaBlend",
         "SNL’s Bowen Yang Explained Why Aimee Lou Wood’s Reaction To The White Lotus Sketch Was ‘Completely Valid’ - Cinemablend",
         "2025-04-18",
         "Heidi Venable",
         "https://www.cinemablend.com/television/snl-bowen-yang-why-aimee-lou-wood-reaction-white-lotus-sketch-completely-valid",
         "This is a dummy content for the URL.",
         4,
         "0.0",
         0.0
        ],
        [
         "Page Six",
         "Drew Carey, 66, and OnlyFans star, 37, spotted on lunch date 5 years after his ex-fiancée’s murder - Page Six",
         "2025-04-18",
         "Riley Cardoza",
         "https://pagesix.com/2025/04/18/celebrity-news/drew-carey-onlyfans-star-niki-skyler-spotted-on-lunch-date/",
         "This is a dummy content for the URL.",
         4,
         "0.0",
         0.0
        ],
        [
         "Rolling Stone",
         "Gene Hackman Poked Fun at Alzheimer's in Notes Left for Wife Betsy Arakawa Before Death - Rolling Stone",
         "2025-04-18",
         "Jon Blistein",
         "http://www.rollingstone.com/tv-movies/tv-movie-news/gene-hackman-betsy-arakawa-notes-investigation-unsealed-1235320511/",
         "This is a dummy content for the URL.",
         4,
         "0.0",
         0.0
        ],
        [
         "Entertainment Weekly",
         "Bowen Yang says there was 'no hesitation' to bare it all for Wedding Banquet nude scene: 'It just felt so integral' - ew.com",
         "2025-04-18",
         "https://www.facebook.com/entertainmentweekly",
         "https://ew.com/bowen-yang-the-wedding-banquet-nude-butt-scene-11716610",
         "This is a dummy content for the URL.",
         4,
         "0.0",
         0.0
        ],
        [
         "The Ringer",
         "Bret Hart Remembers the Night Everything Changed - The Ringer",
         "2025-04-18",
         null,
         "https://www.theringer.com/2025/04/18/wwe/bret-hart-wwe-immortal-moment-award-hall-of-fame-wwe-wrestlemania-13",
         "This is a dummy content for the URL.",
         4,
         "0.0",
         0.0
        ],
        [
         "Cageside Seats",
         "WWE NXT Stand & Deliver 2025 results, live streaming match coverage - Cageside Seats",
         "2025-04-19",
         "Claire Elizabeth",
         "https://www.cagesideseats.com/wwe/2025/4/19/24410997/wwe-nxt-stand-deliver-2025-results-live-streaming-match-coverage",
         "This is a dummy content for the URL.",
         4,
         "0.0",
         0.0
        ],
        [
         "CNN",
         "Why the 20-year-old ‘Pride & Prejudice’ film still bewitches audiences today - CNN",
         "2025-04-19",
         "Leah Asmelash",
         "https://www.cnn.com/2025/04/19/entertainment/pride-prejudice-film-20th-anniversary-cec/index.html",
         "This is a dummy content for the URL.",
         4,
         "0.0",
         0.0
        ],
        [
         "Variety",
         "Box Office: ‘Sinners’ Stokes $19.2 Million Opening Day, ‘A Minecraft Movie’ Still Looks to Block Off No. 1 in Third Weekend - Variety",
         "2025-04-19",
         "J. Kim Murphy",
         "https://variety.com/2025/film/news/box-office-sinners-opening-day-minecraft-no1-1236372989/",
         "This is a dummy content for the URL.",
         4,
         "0.0",
         0.0
        ],
        [
         "Hollywood Reporter",
         "Harvey Weinstein’s Last Stand - The Hollywood Reporter",
         "2025-04-19",
         "Winston Cho",
         "http://www.hollywoodreporter.com/news/general-news/harvey-weinstein-new-trial-1236190862/",
         "This is a dummy content for the URL.",
         4,
         "0.0",
         0.0
        ],
        [
         "Bleacher Report",
         "Final Picks for Cena, Rhodes, Rock, Reigns and WWE WrestleMania 41 Match Card - Bleacher Report",
         "2025-04-19",
         "Donald Wood",
         "https://bleacherreport.com/articles/25187437-final-picks-cena-rhodes-rock-reigns-and-wwe-wrestlemania-41-match-card",
         "This is a dummy content for the URL.",
         4,
         "0.0",
         0.0
        ],
        [
         "Politico",
         "The WrestleMania Presidency - Yahoo Home",
         "2025-04-19",
         "Zach Montellaro",
         "https://www.politico.com/news/magazine/2025/04/19/donald-trump-pro-wrestling-wwe-00298303",
         "This is a dummy content for the URL.",
         4,
         "0.0",
         0.0
        ],
        [
         "Wrestletalk.com",
         "What Happened In Triple H WWE Hall Of Fame 2025 Hour Long Speech - WrestleTalk",
         "2025-04-19",
         "Sanchez Taylor",
         "https://wrestletalk.com/news/triple-h-wwe-hall-of-fame-2025-speech/",
         "This is a dummy content for the URL.",
         4,
         "0.0",
         0.0
        ],
        [
         "Variety",
         "Lady Gaga Apologizes for Mic Malfunctions During Coachella Weekend 2 Set: ‘At Least You Know I Sing Live’ - Variety",
         "2025-04-19",
         "Thania Garcia",
         "https://variety.com/2025/music/news/lady-gaga-apologizes-broken-mic-coachella-weekend-2-i-sing-live-1236373171/",
         "This is a dummy content for the URL.",
         4,
         "0.0",
         0.0
        ],
        [
         "Tom's Guide",
         "5 best new movies to stream this weekend on Netflix, Hulu, Max, and more - Tom's Guide",
         "2025-04-19",
         "Alyse Stanley",
         "https://www.tomsguide.com/entertainment/streaming/movies-to-stream-this-weekend-april-18-2025",
         "This is a dummy content for the URL.",
         4,
         "0.0",
         0.0
        ],
        [
         "Polygon",
         "Star Wars Zero Company, a turn-based game at the end of the Clone Wars, gets full reveal - Polygon",
         "2025-04-19",
         "Maddy Myers",
         "https://www.polygon.com/star-wars/560074/star-wars-zero-company-xcom-game-reveal",
         "This is a dummy content for the URL.",
         4,
         "0.0",
         0.0
        ],
        [
         "Hollywood Reporter",
         "Star Wars Celebration: Hayden Christensen Returning as Anakin Skywalker for ‘Ahsoka’ Season Two - The Hollywood Reporter",
         "2025-04-19",
         "Borys Kit, Abid Rahman",
         "http://www.hollywoodreporter.com/tv/tv-news/hayden-christensen-anakin-skywalker-ahsoka-season-2-1236195948/",
         "This is a dummy content for the URL.",
         4,
         "0.0",
         0.0
        ],
        [
         "Cageside Seats",
         "Rumor Roundup: Rey Mysterio injury, Trump at WrestleMania, WWE expansion, more! - Cageside Seats",
         "2025-04-19",
         "Randall Ortman",
         "https://www.cagesideseats.com/2025/4/19/24411577/rumor-roundup-rey-mysterio-leg-injury-wrestlemania-41-winners-trump-chelsea-green-rusev-orton-omos",
         "This is a dummy content for the URL.",
         4,
         "0.0",
         0.0
        ],
        [
         "Associated Press",
         "Universal Epic Universe is the theme park resort’s biggest bang yet in Florida - AP News",
         "2025-04-19",
         "Mike Schneider",
         "https://apnews.com/article/universal-epic-universe-florida-tourism-theme-park-666ce27bfca95cfa4d682f826cc327b5",
         "This is a dummy content for the URL.",
         4,
         "0.0",
         0.0
        ],
        [
         "Cageside Seats",
         "Cody Rhodes lays out Cena again after getting booed on SmackDown - Cageside Seats",
         "2025-04-19",
         "Cain A. Knight",
         "https://www.cagesideseats.com/wwe/2025/4/18/24411637/wwe-wrestlemania-smackdown-2025-cody-rhodes-booed-stands-tall-over-john-cena-final-promo-go-home",
         "This is a dummy content for the URL.",
         4,
         "0.0",
         0.0
        ],
        [
         "SheKnows",
         "Adios, Liam? Plus, We Have Big Questions About Next Week’s Forrester Fashion Show! - Soaps.com",
         "2025-04-19",
         "Richard Simms",
         "https://soaps.sheknows.com/the-bold-and-the-beautiful/soapbox/778014/who-will-save-liam/",
         "This is a dummy content for the URL.",
         4,
         "0.0",
         0.0
        ],
        [
         "Entertainment Weekly",
         "Liza Minnelli performs for first time in years with lip-sync to 'Ring Them Bells' at RuPaul's Drag Race finale - Entertainment Weekly",
         "2025-04-19",
         "https://www.facebook.com/entertainmentweekly",
         "https://ew.com/liza-minnelli-performs-rupauls-drag-race-finale-11718398",
         "This is a dummy content for the URL.",
         4,
         "0.0",
         0.0
        ],
        [
         "Wrestlezone.com",
         "Randy Orton’s WWE WrestleMania 41 Match Revealed - Wrestlezone",
         "2025-04-19",
         "Matt Black",
         "http://www.wrestlezone.com/news/1555036-randy-ortons-wwe-wrestlemania-41-match-revealed",
         "This is a dummy content for the URL.",
         4,
         "0.0",
         0.0
        ],
        [
         "Rolling Stone",
         "Post Malone’s Ex-Fiancée Files for Custody of Their Daughter - Rolling Stone",
         "2025-04-19",
         "Tomás Mier, Nancy Dillon",
         "http://www.rollingstone.com/music/music-news/post-malone-ex-fiancee-custody-daughter-1235321261/",
         "This is a dummy content for the URL.",
         4,
         "0.0",
         0.0
        ],
        [
         "Programminginsider.com",
         "Thursday Ratings: 'Matlock' on CBS Hits Series-High in Adults 18-49 with Inaugural Season Finale and Tops All Prime Time Telecasts - Programming Insider",
         "2025-04-18",
         "Douglas Pucci",
         "https://programminginsider.com/thursday-ratings-matlock-on-cbs-hits-series-high-in-adults-18-49-with-inaugural-season-finale-and-tops-all-prime-time-telecasts/",
         "This is a dummy content for the URL.",
         4,
         "0.0",
         0.0
        ],
        [
         "Cageside Seats",
         "WWE announces the opening matches for both nights of WrestleMania 41 - Cageside Seats",
         "2025-04-18",
         "Sean Rueter",
         "https://www.cagesideseats.com/wwe/2025/4/18/24411529/wwe-wrestlemania-41-opening-matches-both-nights-world-titles-iyo-rhea-bianca-jey-gunther",
         "This is a dummy content for the URL.",
         4,
         "0.0",
         0.0
        ],
        [
         "Just Jared",
         "Machine Gun Kelly & Megan Fox Seen Out Together for First Time Since Welcoming Daughter - Just Jared",
         "2025-04-18",
         null,
         "https://www.justjared.com/2025/04/18/machine-gun-kelly-megan-fox-seen-out-together-for-first-time-since-welcoming-daughter/",
         "This is a dummy content for the URL.",
         4,
         "0.0",
         0.0
        ],
        [
         "Hollywood Reporter",
         "Jacob Elordi “Was Going to Take a Break” Before ‘Wuthering Heights’ Director Texted Him - The Hollywood Reporter",
         "2025-04-18",
         "Lexi Carson",
         "http://www.hollywoodreporter.com/movies/movie-news/jacob-elordi-take-break-before-wuthering-heights-1236195489/",
         "This is a dummy content for the URL.",
         4,
         "0.0",
         0.0
        ],
        [
         "Ringside News",
         "Spoiler: Opening Revealed for April 18 WWE SmackDown - Ringside News",
         "2025-04-18",
         "Steve Carrier",
         "https://www.ringsidenews.com/2025/04/18/spoiler-opening-revealed-for-april-18-wwe-smackdown/",
         "This is a dummy content for the URL.",
         4,
         "0.0",
         0.0
        ],
        [
         "Space.com",
         "Star Wars Celebration reveals new footage about Sigourney Weaver's 'The Mandalorian & Grogu' character - Space",
         "2025-04-18",
         "Fran Ruiz",
         "https://www.space.com/entertainment/space-movies-shows/star-wars-celebration-reveals-new-footage-about-sigourney-weavers-the-mandalorian-and-grogu-character",
         "This is a dummy content for the URL.",
         4,
         "0.0",
         0.0
        ],
        [
         "Ars Technica",
         "Trump official to Katy Perry and Bezos’ fiancée: “You cannot identify as an astronaut” - Ars Technica",
         "2025-04-18",
         "Eric Berger",
         "https://arstechnica.com/space/2025/04/so-is-katy-perry-now-an-astronaut-or-what/",
         "This is a dummy content for the URL.",
         4,
         "0.0",
         0.0
        ],
        [
         "Deadline",
         "'9-1-1' Cast Say Goodbye To Co-Star Following Character's Death: Oliver Stark, Jennifer Love Hewitt & More Pay Tribute To Actor - Deadline",
         "2025-04-18",
         "Armando Tinoco",
         "http://deadline.com/2025/04/9-1-1-cast-goodbye-character-death-oliver-stark-jennifer-love-hewitt-1236372010/",
         "This is a dummy content for the URL.",
         4,
         "0.0",
         0.0
        ],
        [
         "Wrestling Inc.",
         "Opening Match For Night One WWE Of WrestleMania 41 Revealed - Wrestling Inc.",
         "2025-04-18",
         "Brie Coder",
         "https://www.wrestlinginc.com/1837895/opening-match-for-night-one-wwe-of-wrestlemania-41-revealed/",
         "This is a dummy content for the URL.",
         4,
         "0.0",
         0.0
        ],
        [
         "/FILM",
         "Ryan Gosling's Star Wars Movie Is Finally Taking The Franchise Somewhere New - SlashFilm",
         "2025-04-18",
         "Ryan Scott",
         "https://www.slashfilm.com/1837876/ryan-gosling-star-wars-starfighter-movie-franchise-direction/",
         "This is a dummy content for the URL.",
         4,
         "0.0",
         0.0
        ],
        [
         "CNN",
         "‘Sinners’ director Ryan Coogler takes us to film school in 10 minutes - CNN",
         "2025-04-18",
         "Quincy Bowie",
         "https://www.cnn.com/2025/04/18/entertainment/sinners-director-ryan-coogler-film-school/index.html",
         "This is a dummy content for the URL.",
         4,
         "0.0",
         0.0
        ],
        [
         "BBC News",
         "Blue Origin flight: Wendy's praises Katy Perry after 'can we send her back' tweet - BBC",
         "2025-04-18",
         null,
         "https://www.bbc.com/news/articles/ckgek8engwmo",
         "This is a dummy content for the URL.",
         4,
         "0.0",
         0.0
        ],
        [
         "OregonLive",
         "Oscar-nominated child star charged with cocaine possession and public drunkenness - OregonLive.com",
         "2025-04-18",
         "The Associated Press",
         "https://www.oregonlive.com/nation/2025/04/oscar-nominated-child-star-charged-with-cocaine-possession-and-public-drunkenness.html",
         "This is a dummy content for the URL.",
         4,
         "0.0",
         0.0
        ],
        [
         "Variety",
         "'Gutfeld!' Comedian Tyler Fischer Claims 'Woke' Fox News Banned Him - Variety",
         "2025-04-18",
         "Todd Spangler",
         "https://variety.com/2025/tv/news/gutfeld-tyler-fischer-claims-fox-news-banned-full-woke-1236372694/",
         "This is a dummy content for the URL.",
         4,
         "0.0",
         0.0
        ],
        [
         "Deadline",
         "Sean ‘Diddy’ Combs Loses Trial Delay Bid In Sex Trafficking Case; Warner Bros Discovery Comes Up Short In Keeping Docuseries Outtakes Out Of Case - Deadline",
         "2025-04-18",
         "Dominic Patten, Sean Piccoli",
         "http://deadline.com/2025/04/diddy-rape-trial-delay-denied-1236371795/",
         "This is a dummy content for the URL.",
         4,
         "0.0",
         0.0
        ],
        [
         "NPR",
         "John Cena's the bad guy in his final WrestleMania. Here's why that's a big deal - NPR",
         "2025-04-18",
         "",
         "https://www.npr.org/2025/04/18/nx-s1-5366023/john-cena-wrestlemania-cody-rhodes",
         "This is a dummy content for the URL.",
         4,
         "0.0",
         0.0
        ],
        [
         "CinemaBlend",
         "SNL’s Bowen Yang Explained Why Aimee Lou Wood’s Reaction To The White Lotus Sketch Was ‘Completely Valid’ - Cinemablend",
         "2025-04-18",
         "Heidi Venable",
         "https://www.cinemablend.com/television/snl-bowen-yang-why-aimee-lou-wood-reaction-white-lotus-sketch-completely-valid",
         "This is a dummy content for the URL.",
         4,
         "0.0",
         0.0
        ],
        [
         "Page Six",
         "Drew Carey, 66, and OnlyFans star, 37, spotted on lunch date 5 years after his ex-fiancée’s murder - Page Six",
         "2025-04-18",
         "Riley Cardoza",
         "https://pagesix.com/2025/04/18/celebrity-news/drew-carey-onlyfans-star-niki-skyler-spotted-on-lunch-date/",
         "This is a dummy content for the URL.",
         4,
         "0.0",
         0.0
        ],
        [
         "Rolling Stone",
         "Gene Hackman Poked Fun at Alzheimer's in Notes Left for Wife Betsy Arakawa Before Death - Rolling Stone",
         "2025-04-18",
         "Jon Blistein",
         "http://www.rollingstone.com/tv-movies/tv-movie-news/gene-hackman-betsy-arakawa-notes-investigation-unsealed-1235320511/",
         "This is a dummy content for the URL.",
         4,
         "0.0",
         0.0
        ],
        [
         "Entertainment Weekly",
         "Bowen Yang says there was 'no hesitation' to bare it all for Wedding Banquet nude scene: 'It just felt so integral' - ew.com",
         "2025-04-18",
         "https://www.facebook.com/entertainmentweekly",
         "https://ew.com/bowen-yang-the-wedding-banquet-nude-butt-scene-11716610",
         "This is a dummy content for the URL.",
         4,
         "0.0",
         0.0
        ],
        [
         "The Ringer",
         "Bret Hart Remembers the Night Everything Changed - The Ringer",
         "2025-04-18",
         null,
         "https://www.theringer.com/2025/04/18/wwe/bret-hart-wwe-immortal-moment-award-hall-of-fame-wwe-wrestlemania-13",
         "This is a dummy content for the URL.",
         4,
         "0.0",
         0.0
        ],
        [
         "Cageside Seats",
         "Mercedes Moné sent Bayley a message after she lost her WrestleMania spot - cagesideseats.com",
         "2025-04-20",
         "Sean Rueter",
         "https://www.cagesideseats.com/2025/4/20/24412282/mercedes-mone-sent-bayley-message-after-pulled-wrestlemania-41-injury-angle-not-hurt",
         "This is a dummy content for the URL.",
         4,
         "0.0",
         0.0
        ],
        [
         "Yahoo Entertainment",
         "WWE WrestleMania 41 Night 1 results, grades, analysis: Seth Rollins stuns CM Punk, Roman Reigns with Paul Heyman betrayals - Yahoo Sports",
         "2025-04-20",
         "Anthony Sulla-Heffinger",
         "https://sports.yahoo.com/wrestling/live/wwe-wrestlemania-41-night-1-results-grades-analysis-seth-rollins-stuns-cm-punk-roman-reigns-with-paul-heyman-betrayals-060051805.html",
         "This is a dummy content for the URL.",
         4,
         "0.0",
         0.0
        ],
        [
         "The Globe And Mail",
         "Your daily horoscope: April 20, 2025 - The Globe and Mail",
         "2025-04-20",
         "Sally Brompton",
         "https://www.theglobeandmail.com/life/horoscopes/article-your-daily-horoscope-april-20-2025/",
         "This is a dummy content for the URL.",
         4,
         "0.0",
         0.0
        ],
        [
         "syracuse.com",
         "Metallica breaks Dome attendance record at Syracuse concert (setlist, photos) - Syracuse.com",
         "2025-04-20",
         "Geoff Herbert | gherbert@syracuse.com",
         "https://www.syracuse.com/entertainment/2025/04/metallica-breaks-dome-attendance-record-at-syracuse-concert-setlist-photos.html",
         "This is a dummy content for the URL.",
         4,
         "0.0",
         0.0
        ],
        [
         "411mania.com",
         "WWE Gives Update On Roman Reigns Following WrestleMania 41 - 411MANIA",
         "2025-04-20",
         null,
         "https://411mania.com/wrestling/wwe-update-roman-reigns-wrestlemania-41/",
         "This is a dummy content for the URL.",
         4,
         "0.0",
         0.0
        ],
        [
         "Variety",
         "Lucasfilm Reveals ‘The Ninth Jedi’ Series at Star Wars Celebration in Tokyo - Variety",
         "2025-04-20",
         "William Earl",
         "https://variety.com/2025/tv/news/lucasfilm-ninth-jedi-series-star-wars-celebration-tokyo-1236373355/",
         "This is a dummy content for the URL.",
         4,
         "0.0",
         0.0
        ],
        [
         "Wrestling Inc.",
         "WWE Hall Of Fame Class Of 2025 (Minus Lex Luger) Honored On Stage At WrestleMania 41 - Wrestling Inc.",
         "2025-04-20",
         "Max Everett",
         "https://www.wrestlinginc.com/1838599/wwe-hall-fame-class-2025-minus-lex-luger-honored-stage-wrestlemania-41/",
         "This is a dummy content for the URL.",
         4,
         "0.0",
         0.0
        ],
        [
         "Cageside Seats",
         "Living Colour plays CM Punk to the ring for his long-awaited WrestleMania main event - Cageside Seats",
         "2025-04-20",
         "Sean Rueter",
         "https://www.cagesideseats.com/wwe/2025/4/19/24412232/living-colour-live-cult-of-personality-entrance-cm-punk-wrestlemania-41-video-first-main-event",
         "This is a dummy content for the URL.",
         4,
         "0.0",
         0.0
        ],
        [
         "TMZ",
         "George Kittle Chugs Full Beer At WrestleMania, Jelly Roll and Lil Yachty In Crowd - TMZ",
         "2025-04-20",
         "TMZ Staff",
         "https://www.tmz.com/2025/04/19/george-kittle-chugs-full-beer-wrestlemania/",
         "This is a dummy content for the URL.",
         4,
         "0.0",
         0.0
        ],
        [
         "Deadline",
         "Bowen Yang Says Aimee Lou Wood's Reaction To 'SNL' Parody Is 'Valid' - Deadline",
         "2025-04-20",
         "Natalie Oganesyan",
         "http://deadline.com/2025/04/bowen-yang-aimee-lou-wood-snl-parody-valid-1236372519/",
         "This is a dummy content for the URL.",
         4,
         "0.0",
         0.0
        ],
        [
         "Deadline",
         "'9-1-1's Aisha Hinds Pens Emotional Farewell Letter To Co-Star Following Character's Death & Show Exit: \"I Celebrate His Commitment & Contribution\" - Deadline",
         "2025-04-20",
         "Armando Tinoco",
         "http://deadline.com/2025/04/911-aisha-hinds-farewell-letter-peter-krause-death-exit-1236372522/",
         "This is a dummy content for the URL.",
         4,
         "0.0",
         0.0
        ],
        [
         "NBCSports.com",
         "Kendrick Lamar's Super Bowl halftime show becomes an issue in Drake's Not Like Us lawsuit - NBC Sports",
         "2025-04-20",
         "Mike Florio",
         "https://www.nbcsports.com/nfl/profootballtalk/rumor-mill/news/super-bowl-halftime-show-becomes-an-issue-in-drakes-not-like-us-lawsuit",
         "This is a dummy content for the URL.",
         4,
         "0.0",
         0.0
        ],
        [
         "Deadline",
         "Olivia Williams Details Harrowing Pancreatic Cancer Journey Where She Was Called “Crazy” Amid Misdiagnoses - Deadline",
         "2025-04-20",
         "Natalie Oganesyan",
         "http://deadline.com/2025/04/olivia-williams-pancreatic-cancer-misdiagnoses-1236372478/",
         "This is a dummy content for the URL.",
         4,
         "0.0",
         0.0
        ],
        [
         "Nodq.com",
         "Results of War Raiders vs. New Day at WWE WrestleMania 41 Saturday - NoDQ.com",
         "2025-04-20",
         "Aaron Rift",
         "https://nodq.com/news/results-of-war-raiders-vs-new-day-at-wwe-wrestlemania-41-saturday/",
         "This is a dummy content for the URL.",
         4,
         "0.0",
         0.0
        ],
        [
         "CBS Sports",
         "WWE WrestleMania 41 results: Jey Uso wins world heavyweight title, breakthrough continues to silence doubters - CBS Sports",
         "2025-04-19",
         "",
         "https://www.cbssports.com/wwe/news/wwe-wrestlemania-41-results-jey-uso-wins-world-heavyweight-title-breakthrough-continues-to-silence-doubters/",
         "This is a dummy content for the URL.",
         4,
         "0.0",
         0.0
        ],
        [
         "Nodq.com",
         "Results of Gunther vs. Jey Uso at WWE WrestleMania 41 Saturday - NoDQ.com",
         "2025-04-19",
         "Aaron Rift",
         "https://nodq.com/news/results-of-gunther-vs-jey-uso-at-wwe-wrestlemania-41-saturday/",
         "This is a dummy content for the URL.",
         4,
         "0.0",
         0.0
        ],
        [
         "Cageside Seats",
         "Rey Mysterio injured, out of WrestleMania 41 match with El Grande Americano - Cageside Seats",
         "2025-04-19",
         "Geno Mrosko",
         "https://www.cagesideseats.com/wwe/2025/4/19/24412141/rey-mysterio-injured-wrestlemania-41-match-el-grande-americano-rey-fenix-wwe",
         "This is a dummy content for the URL.",
         4,
         "0.0",
         0.0
        ],
        [
         "Wrestling Inc.",
         "WWE Announces Acquisition Of Lucha Libre AAA, Worlds Collide Show Set For June - Wrestling Inc.",
         "2025-04-19",
         "Max Everett",
         "https://www.wrestlinginc.com/1838544/wwe-announces-acquisition-lucha-libre-aaa-worlds-collide-show-set-june/",
         "This is a dummy content for the URL.",
         4,
         "0.0",
         0.0
        ],
        [
         "Just Jared",
         "Colin Farrell Shares Why He’s Placing His Son with Angelman Syndrome in Long-Term Care Facility - Just Jared",
         "2025-04-19",
         null,
         "https://www.justjared.com/2025/04/19/colin-farrell-shares-why-hes-placing-his-son-with-angelman-syndrome-in-long-term-care-facility/",
         "This is a dummy content for the URL.",
         4,
         "0.0",
         0.0
        ],
        [
         "Yahoo Entertainment",
         "Kanye West And Bianca Censori's Relationship Takes New Turn With Latest Sighting After 'Dumping' Claims - Yahoo",
         "2025-04-19",
         "Favour Adegoke",
         "https://www.yahoo.com/entertainment/articles/kanye-west-bianca-censoris-relationship-203059271.html",
         "This is a dummy content for the URL.",
         4,
         "0.0",
         0.0
        ],
        [
         "Nodq.com",
         "Results of The D’Angelo Family vs. DarkState at WWE NXT Stand and Deliver 2025 - NoDQ.com",
         "2025-04-19",
         "Aaron Rift",
         "https://nodq.com/news/results-of-the-dangelo-family-vs-darkstate-at-wwe-nxt-stand-and-deliver-2025/",
         "This is a dummy content for the URL.",
         4,
         "0.0",
         0.0
        ],
        [
         "Page Six",
         "'RHOC' alum Lydia McLaughlin 'devastated' after brother is fatally shot by police during traffic stop - Page Six",
         "2025-04-19",
         "Eileen Reslen",
         "https://pagesix.com/2025/04/19/celebrity-news/rhoc-alum-lydia-mclaughlin-devastated-after-brother-is-fatally-shot-by-police-during-traffic-stop/",
         "This is a dummy content for the URL.",
         4,
         "0.0",
         0.0
        ],
        [
         "Variety",
         "Hayden Christensen Returns as Anakin Skywalker for ‘Ahsoka’ Season 2 - Variety",
         "2025-04-19",
         "Jack Dunn",
         "https://variety.com/2025/film/news/hayden-christensen-anakin-skywalker-ahsoka-season-2-1236373255/",
         "This is a dummy content for the URL.",
         4,
         "0.0",
         0.0
        ],
        [
         "Page Six",
         "Ivanka Trump and sister-in-law Karlie Kloss seen in good spirits at Costa Rica family vacation despite rumored feud - Page Six",
         "2025-04-19",
         "BreAnna Bell",
         "https://pagesix.com/2025/04/19/celebrity-news/ivanka-trump-and-karlie-kloss-seen-in-good-spirits-at-costa-rica-family-vacation-despite-rumored-feud/",
         "This is a dummy content for the URL.",
         4,
         "0.0",
         0.0
        ],
        [
         "Buzzfeed",
         "Haley Joel Osment Apologized For Making Antisemitic Remarks During His Recent Arrest - BuzzFeed",
         "2025-04-19",
         "Larry Fitzmaurice",
         "https://www.buzzfeed.com/larryfitzmaurice/haley-joel-osment-antisemitism-apology",
         "This is a dummy content for the URL.",
         4,
         "0.0",
         0.0
        ],
        [
         "Rock Paper Shotgun",
         "Star Wars Zero Company looks like XCOM in a galaxy far, far away in its first trailer - Rock Paper Shotgun",
         "2025-04-19",
         "Oisin Kuhnke",
         "https://www.rockpapershotgun.com/star-wars-zero-company-looks-like-xcom-in-a-galaxy-far-far-away-in-its-first-trailer",
         "This is a dummy content for the URL.",
         4,
         "0.0",
         0.0
        ],
        [
         "SheKnows",
         "One of Taylor Swift’s Inner Circle Gave Heartbreaking Insight As To Why She’s Laying Low - SheKnows",
         "2025-04-19",
         "Maggie Clancy",
         "https://www.sheknows.com/entertainment/articles/1234869359/gracie-abrams-taylor-swift-privacy/",
         "This is a dummy content for the URL.",
         4,
         "0.0",
         0.0
        ],
        [
         "Figure Four Online",
         "NXT Stand & Deliver live results: Five title matches - F4W/WON",
         "2025-04-19",
         "Marc Quill",
         "https://www.f4wonline.com/news/nxt/nxt-results/wwe-nxt-stand-deliver-live-results-oba-femi-trick-williams-jevon-evans/",
         "This is a dummy content for the URL.",
         4,
         "0.0",
         0.0
        ],
        [
         "CNN",
         "Why the 20-year-old ‘Pride & Prejudice’ film still bewitches audiences today - CNN",
         "2025-04-19",
         "Leah Asmelash",
         "https://www.cnn.com/2025/04/19/entertainment/pride-prejudice-film-20th-anniversary-cec/index.html",
         "This is a dummy content for the URL.",
         4,
         "0.0",
         0.0
        ],
        [
         "Variety",
         "Box Office: 'Sinners' Scores Solid Opening Day, 'Minecraft' Still No. 1 - Variety",
         "2025-04-19",
         "J. Kim Murphy",
         "https://variety.com/2025/film/news/box-office-sinners-opening-day-minecraft-no1-1236372989/",
         "This is a dummy content for the URL.",
         4,
         "0.0",
         0.0
        ],
        [
         "Polygon",
         "An animated episode of Doctor Who was a dream come true for its creators - Polygon",
         "2025-04-19",
         "Susana Polo",
         "https://www.polygon.com/tv/561655/doctor-who-animated-episode-sequence-how-mr-ring-a-ding",
         "This is a dummy content for the URL.",
         4,
         "0.0",
         0.0
        ],
        [
         "Rolling Stone",
         "Zak Is Back, the Who’s Pete Townshend Says: ‘Not Being Asked to Step Down’ - Rolling Stone",
         "2025-04-19",
         "Althea Legaspi",
         "http://www.rollingstone.com/music/music-news/zak-starkey-back-the-who-pete-townshend-1235321402/",
         "This is a dummy content for the URL.",
         4,
         "0.0",
         0.0
        ],
        [
         "Outkick.com",
         "Katy Perry Goes To Space, Lizzo Gives Her Take On Tariffs, And Waffle House Innovates - OutKick",
         "2025-04-19",
         "Matt Reigle",
         "https://www.outkick.com/culture/katy-perry-space-lizzo-tariffs-waffle-house",
         "This is a dummy content for the URL.",
         4,
         "0.0",
         0.0
        ],
        [
         "Hollywood Reporter",
         "Harvey Weinstein’s Last Stand - The Hollywood Reporter",
         "2025-04-19",
         "Winston Cho",
         "http://www.hollywoodreporter.com/news/general-news/harvey-weinstein-new-trial-1236190862/",
         "This is a dummy content for the URL.",
         4,
         "0.0",
         0.0
        ],
        [
         "Politico",
         "The WrestleMania Presidency - Yahoo Home",
         "2025-04-19",
         "Zach Montellaro",
         "https://www.politico.com/news/magazine/2025/04/19/donald-trump-pro-wrestling-wwe-00298303",
         "This is a dummy content for the URL.",
         4,
         "0.0",
         0.0
        ],
        [
         "Variety",
         "Lady Gaga Apologizes for Mic Malfunctions During Coachella Weekend 2 Set: ‘At Least You Know I Sing Live’ - Variety",
         "2025-04-19",
         "Thania Garcia",
         "https://variety.com/2025/music/news/lady-gaga-apologizes-broken-mic-coachella-weekend-2-i-sing-live-1236373171/",
         "This is a dummy content for the URL.",
         4,
         "0.0",
         0.0
        ],
        [
         "Associated Press",
         "Universal Epic Universe is the theme park resort’s biggest bang yet in Florida - AP News",
         "2025-04-19",
         "Mike Schneider",
         "https://apnews.com/article/universal-epic-universe-florida-tourism-theme-park-666ce27bfca95cfa4d682f826cc327b5",
         "This is a dummy content for the URL.",
         4,
         "0.0",
         0.0
        ],
        [
         "Hollywood Reporter",
         "Star Wars Celebration: Diego Luna, Tony Gilroy and Adria Arjona Premiere ‘Andor’ Season Two for Fans - The Hollywood Reporter",
         "2025-04-19",
         "Borys Kit, Abid Rahman, Patrick Brzeski",
         "http://www.hollywoodreporter.com/tv/tv-news/star-wars-celebration-diego-luna-andor-season-two-premiere-1236195839/",
         "This is a dummy content for the URL.",
         4,
         "0.0",
         0.0
        ],
        [
         "Cageside Seats",
         "Mercedes Moné sent Bayley a message after she lost her WrestleMania spot - cagesideseats.com",
         "2025-04-20",
         "Sean Rueter",
         "https://www.cagesideseats.com/2025/4/20/24412282/mercedes-mone-sent-bayley-message-after-pulled-wrestlemania-41-injury-angle-not-hurt",
         "This is a dummy content for the URL.",
         4,
         "0.0",
         0.0
        ],
        [
         "Yahoo Entertainment",
         "WWE WrestleMania 41 Night 1 results, grades, analysis: Seth Rollins stuns CM Punk, Roman Reigns with Paul Heyman betrayals - Yahoo Sports",
         "2025-04-20",
         "Anthony Sulla-Heffinger",
         "https://sports.yahoo.com/wrestling/live/wwe-wrestlemania-41-night-1-results-grades-analysis-seth-rollins-stuns-cm-punk-roman-reigns-with-paul-heyman-betrayals-060051805.html",
         "This is a dummy content for the URL.",
         4,
         "0.0",
         0.0
        ],
        [
         "The Globe And Mail",
         "Your daily horoscope: April 20, 2025 - The Globe and Mail",
         "2025-04-20",
         "Sally Brompton",
         "https://www.theglobeandmail.com/life/horoscopes/article-your-daily-horoscope-april-20-2025/",
         "This is a dummy content for the URL.",
         4,
         "0.0",
         0.0
        ],
        [
         "syracuse.com",
         "Metallica breaks Dome attendance record at Syracuse concert (setlist, photos) - Syracuse.com",
         "2025-04-20",
         "Geoff Herbert | gherbert@syracuse.com",
         "https://www.syracuse.com/entertainment/2025/04/metallica-breaks-dome-attendance-record-at-syracuse-concert-setlist-photos.html",
         "This is a dummy content for the URL.",
         4,
         "0.0",
         0.0
        ],
        [
         "411mania.com",
         "WWE Gives Update On Roman Reigns Following WrestleMania 41 - 411MANIA",
         "2025-04-20",
         null,
         "https://411mania.com/wrestling/wwe-update-roman-reigns-wrestlemania-41/",
         "This is a dummy content for the URL.",
         4,
         "0.0",
         0.0
        ],
        [
         "Variety",
         "Lucasfilm Reveals ‘The Ninth Jedi’ Series at Star Wars Celebration in Tokyo - Variety",
         "2025-04-20",
         "William Earl",
         "https://variety.com/2025/tv/news/lucasfilm-ninth-jedi-series-star-wars-celebration-tokyo-1236373355/",
         "This is a dummy content for the URL.",
         4,
         "0.0",
         0.0
        ],
        [
         "Wrestling Inc.",
         "WWE Hall Of Fame Class Of 2025 (Minus Lex Luger) Honored On Stage At WrestleMania 41 - Wrestling Inc.",
         "2025-04-20",
         "Max Everett",
         "https://www.wrestlinginc.com/1838599/wwe-hall-fame-class-2025-minus-lex-luger-honored-stage-wrestlemania-41/",
         "This is a dummy content for the URL.",
         4,
         "0.0",
         0.0
        ],
        [
         "Cageside Seats",
         "Living Colour plays CM Punk to the ring for his long-awaited WrestleMania main event - Cageside Seats",
         "2025-04-20",
         "Sean Rueter",
         "https://www.cagesideseats.com/wwe/2025/4/19/24412232/living-colour-live-cult-of-personality-entrance-cm-punk-wrestlemania-41-video-first-main-event",
         "This is a dummy content for the URL.",
         4,
         "0.0",
         0.0
        ],
        [
         "TMZ",
         "George Kittle Chugs Full Beer At WrestleMania, Jelly Roll and Lil Yachty In Crowd - TMZ",
         "2025-04-20",
         "TMZ Staff",
         "https://www.tmz.com/2025/04/19/george-kittle-chugs-full-beer-wrestlemania/",
         "This is a dummy content for the URL.",
         4,
         "0.0",
         0.0
        ],
        [
         "Deadline",
         "Bowen Yang Says Aimee Lou Wood's Reaction To 'SNL' Parody Is 'Valid' - Deadline",
         "2025-04-20",
         "Natalie Oganesyan",
         "http://deadline.com/2025/04/bowen-yang-aimee-lou-wood-snl-parody-valid-1236372519/",
         "This is a dummy content for the URL.",
         4,
         "0.0",
         0.0
        ],
        [
         "Deadline",
         "'9-1-1's Aisha Hinds Pens Emotional Farewell Letter To Co-Star Following Character's Death & Show Exit: \"I Celebrate His Commitment & Contribution\" - Deadline",
         "2025-04-20",
         "Armando Tinoco",
         "http://deadline.com/2025/04/911-aisha-hinds-farewell-letter-peter-krause-death-exit-1236372522/",
         "This is a dummy content for the URL.",
         4,
         "0.0",
         0.0
        ],
        [
         "NBCSports.com",
         "Kendrick Lamar's Super Bowl halftime show becomes an issue in Drake's Not Like Us lawsuit - NBC Sports",
         "2025-04-20",
         "Mike Florio",
         "https://www.nbcsports.com/nfl/profootballtalk/rumor-mill/news/super-bowl-halftime-show-becomes-an-issue-in-drakes-not-like-us-lawsuit",
         "This is a dummy content for the URL.",
         4,
         "0.0",
         0.0
        ],
        [
         "Deadline",
         "Olivia Williams Details Harrowing Pancreatic Cancer Journey Where She Was Called “Crazy” Amid Misdiagnoses - Deadline",
         "2025-04-20",
         "Natalie Oganesyan",
         "http://deadline.com/2025/04/olivia-williams-pancreatic-cancer-misdiagnoses-1236372478/",
         "This is a dummy content for the URL.",
         4,
         "0.0",
         0.0
        ],
        [
         "Nodq.com",
         "Results of War Raiders vs. New Day at WWE WrestleMania 41 Saturday - NoDQ.com",
         "2025-04-20",
         "Aaron Rift",
         "https://nodq.com/news/results-of-war-raiders-vs-new-day-at-wwe-wrestlemania-41-saturday/",
         "This is a dummy content for the URL.",
         4,
         "0.0",
         0.0
        ],
        [
         "CBS Sports",
         "WWE WrestleMania 41 results: Jey Uso wins world heavyweight title, breakthrough continues to silence doubters - CBS Sports",
         "2025-04-19",
         "",
         "https://www.cbssports.com/wwe/news/wwe-wrestlemania-41-results-jey-uso-wins-world-heavyweight-title-breakthrough-continues-to-silence-doubters/",
         "This is a dummy content for the URL.",
         4,
         "0.0",
         0.0
        ],
        [
         "Nodq.com",
         "Results of Gunther vs. Jey Uso at WWE WrestleMania 41 Saturday - NoDQ.com",
         "2025-04-19",
         "Aaron Rift",
         "https://nodq.com/news/results-of-gunther-vs-jey-uso-at-wwe-wrestlemania-41-saturday/",
         "This is a dummy content for the URL.",
         4,
         "0.0",
         0.0
        ],
        [
         "Cageside Seats",
         "Rey Mysterio injured, out of WrestleMania 41 match with El Grande Americano - Cageside Seats",
         "2025-04-19",
         "Geno Mrosko",
         "https://www.cagesideseats.com/wwe/2025/4/19/24412141/rey-mysterio-injured-wrestlemania-41-match-el-grande-americano-rey-fenix-wwe",
         "This is a dummy content for the URL.",
         4,
         "0.0",
         0.0
        ],
        [
         "Wrestling Inc.",
         "WWE Announces Acquisition Of Lucha Libre AAA, Worlds Collide Show Set For June - Wrestling Inc.",
         "2025-04-19",
         "Max Everett",
         "https://www.wrestlinginc.com/1838544/wwe-announces-acquisition-lucha-libre-aaa-worlds-collide-show-set-june/",
         "This is a dummy content for the URL.",
         4,
         "0.0",
         0.0
        ],
        [
         "Just Jared",
         "Colin Farrell Shares Why He’s Placing His Son with Angelman Syndrome in Long-Term Care Facility - Just Jared",
         "2025-04-19",
         null,
         "https://www.justjared.com/2025/04/19/colin-farrell-shares-why-hes-placing-his-son-with-angelman-syndrome-in-long-term-care-facility/",
         "This is a dummy content for the URL.",
         4,
         "0.0",
         0.0
        ],
        [
         "Yahoo Entertainment",
         "Kanye West And Bianca Censori's Relationship Takes New Turn With Latest Sighting After 'Dumping' Claims - Yahoo",
         "2025-04-19",
         "Favour Adegoke",
         "https://www.yahoo.com/entertainment/articles/kanye-west-bianca-censoris-relationship-203059271.html",
         "This is a dummy content for the URL.",
         4,
         "0.0",
         0.0
        ],
        [
         "Nodq.com",
         "Results of The D’Angelo Family vs. DarkState at WWE NXT Stand and Deliver 2025 - NoDQ.com",
         "2025-04-19",
         "Aaron Rift",
         "https://nodq.com/news/results-of-the-dangelo-family-vs-darkstate-at-wwe-nxt-stand-and-deliver-2025/",
         "This is a dummy content for the URL.",
         4,
         "0.0",
         0.0
        ],
        [
         "Page Six",
         "'RHOC' alum Lydia McLaughlin 'devastated' after brother is fatally shot by police during traffic stop - Page Six",
         "2025-04-19",
         "Eileen Reslen",
         "https://pagesix.com/2025/04/19/celebrity-news/rhoc-alum-lydia-mclaughlin-devastated-after-brother-is-fatally-shot-by-police-during-traffic-stop/",
         "This is a dummy content for the URL.",
         4,
         "0.0",
         0.0
        ],
        [
         "Variety",
         "Hayden Christensen Returns as Anakin Skywalker for ‘Ahsoka’ Season 2 - Variety",
         "2025-04-19",
         "Jack Dunn",
         "https://variety.com/2025/film/news/hayden-christensen-anakin-skywalker-ahsoka-season-2-1236373255/",
         "This is a dummy content for the URL.",
         4,
         "0.0",
         0.0
        ],
        [
         "Page Six",
         "Ivanka Trump and sister-in-law Karlie Kloss seen in good spirits at Costa Rica family vacation despite rumored feud - Page Six",
         "2025-04-19",
         "BreAnna Bell",
         "https://pagesix.com/2025/04/19/celebrity-news/ivanka-trump-and-karlie-kloss-seen-in-good-spirits-at-costa-rica-family-vacation-despite-rumored-feud/",
         "This is a dummy content for the URL.",
         4,
         "0.0",
         0.0
        ],
        [
         "Buzzfeed",
         "Haley Joel Osment Apologized For Making Antisemitic Remarks During His Recent Arrest - BuzzFeed",
         "2025-04-19",
         "Larry Fitzmaurice",
         "https://www.buzzfeed.com/larryfitzmaurice/haley-joel-osment-antisemitism-apology",
         "This is a dummy content for the URL.",
         4,
         "0.0",
         0.0
        ],
        [
         "Rock Paper Shotgun",
         "Star Wars Zero Company looks like XCOM in a galaxy far, far away in its first trailer - Rock Paper Shotgun",
         "2025-04-19",
         "Oisin Kuhnke",
         "https://www.rockpapershotgun.com/star-wars-zero-company-looks-like-xcom-in-a-galaxy-far-far-away-in-its-first-trailer",
         "This is a dummy content for the URL.",
         4,
         "0.0",
         0.0
        ],
        [
         "SheKnows",
         "One of Taylor Swift’s Inner Circle Gave Heartbreaking Insight As To Why She’s Laying Low - SheKnows",
         "2025-04-19",
         "Maggie Clancy",
         "https://www.sheknows.com/entertainment/articles/1234869359/gracie-abrams-taylor-swift-privacy/",
         "This is a dummy content for the URL.",
         4,
         "0.0",
         0.0
        ],
        [
         "Figure Four Online",
         "NXT Stand & Deliver live results: Five title matches - F4W/WON",
         "2025-04-19",
         "Marc Quill",
         "https://www.f4wonline.com/news/nxt/nxt-results/wwe-nxt-stand-deliver-live-results-oba-femi-trick-williams-jevon-evans/",
         "This is a dummy content for the URL.",
         4,
         "0.0",
         0.0
        ],
        [
         "CNN",
         "Why the 20-year-old ‘Pride & Prejudice’ film still bewitches audiences today - CNN",
         "2025-04-19",
         "Leah Asmelash",
         "https://www.cnn.com/2025/04/19/entertainment/pride-prejudice-film-20th-anniversary-cec/index.html",
         "This is a dummy content for the URL.",
         4,
         "0.0",
         0.0
        ],
        [
         "Variety",
         "Box Office: 'Sinners' Scores Solid Opening Day, 'Minecraft' Still No. 1 - Variety",
         "2025-04-19",
         "J. Kim Murphy",
         "https://variety.com/2025/film/news/box-office-sinners-opening-day-minecraft-no1-1236372989/",
         "This is a dummy content for the URL.",
         4,
         "0.0",
         0.0
        ],
        [
         "Polygon",
         "An animated episode of Doctor Who was a dream come true for its creators - Polygon",
         "2025-04-19",
         "Susana Polo",
         "https://www.polygon.com/tv/561655/doctor-who-animated-episode-sequence-how-mr-ring-a-ding",
         "This is a dummy content for the URL.",
         4,
         "0.0",
         0.0
        ],
        [
         "Rolling Stone",
         "Zak Is Back, the Who’s Pete Townshend Says: ‘Not Being Asked to Step Down’ - Rolling Stone",
         "2025-04-19",
         "Althea Legaspi",
         "http://www.rollingstone.com/music/music-news/zak-starkey-back-the-who-pete-townshend-1235321402/",
         "This is a dummy content for the URL.",
         4,
         "0.0",
         0.0
        ],
        [
         "Outkick.com",
         "Katy Perry Goes To Space, Lizzo Gives Her Take On Tariffs, And Waffle House Innovates - OutKick",
         "2025-04-19",
         "Matt Reigle",
         "https://www.outkick.com/culture/katy-perry-space-lizzo-tariffs-waffle-house",
         "This is a dummy content for the URL.",
         4,
         "0.0",
         0.0
        ],
        [
         "Hollywood Reporter",
         "Harvey Weinstein’s Last Stand - The Hollywood Reporter",
         "2025-04-19",
         "Winston Cho",
         "http://www.hollywoodreporter.com/news/general-news/harvey-weinstein-new-trial-1236190862/",
         "This is a dummy content for the URL.",
         4,
         "0.0",
         0.0
        ],
        [
         "Politico",
         "The WrestleMania Presidency - Yahoo Home",
         "2025-04-19",
         "Zach Montellaro",
         "https://www.politico.com/news/magazine/2025/04/19/donald-trump-pro-wrestling-wwe-00298303",
         "This is a dummy content for the URL.",
         4,
         "0.0",
         0.0
        ],
        [
         "Variety",
         "Lady Gaga Apologizes for Mic Malfunctions During Coachella Weekend 2 Set: ‘At Least You Know I Sing Live’ - Variety",
         "2025-04-19",
         "Thania Garcia",
         "https://variety.com/2025/music/news/lady-gaga-apologizes-broken-mic-coachella-weekend-2-i-sing-live-1236373171/",
         "This is a dummy content for the URL.",
         4,
         "0.0",
         0.0
        ],
        [
         "Associated Press",
         "Universal Epic Universe is the theme park resort’s biggest bang yet in Florida - AP News",
         "2025-04-19",
         "Mike Schneider",
         "https://apnews.com/article/universal-epic-universe-florida-tourism-theme-park-666ce27bfca95cfa4d682f826cc327b5",
         "This is a dummy content for the URL.",
         4,
         "0.0",
         0.0
        ],
        [
         "Hollywood Reporter",
         "Star Wars Celebration: Diego Luna, Tony Gilroy and Adria Arjona Premiere ‘Andor’ Season Two for Fans - The Hollywood Reporter",
         "2025-04-19",
         "Borys Kit, Abid Rahman, Patrick Brzeski",
         "http://www.hollywoodreporter.com/tv/tv-news/star-wars-celebration-diego-luna-andor-season-two-premiere-1236195839/",
         "This is a dummy content for the URL.",
         4,
         "0.0",
         0.0
        ],
        [
         "Cageside Seats",
         "Mercedes Moné sent Bayley a message after she lost her WrestleMania spot - cagesideseats.com",
         "2025-04-20",
         "Sean Rueter",
         "https://www.cagesideseats.com/2025/4/20/24412282/mercedes-mone-sent-bayley-message-after-pulled-wrestlemania-41-injury-angle-not-hurt",
         "This is a dummy content for the URL.",
         4,
         "0.0",
         0.0
        ],
        [
         "Yahoo Entertainment",
         "WWE WrestleMania 41 Night 1 results, grades, analysis: Seth Rollins stuns CM Punk, Roman Reigns with Paul Heyman betrayals - Yahoo Sports",
         "2025-04-20",
         "Anthony Sulla-Heffinger",
         "https://sports.yahoo.com/wrestling/live/wwe-wrestlemania-41-night-1-results-grades-analysis-seth-rollins-stuns-cm-punk-roman-reigns-with-paul-heyman-betrayals-060051805.html",
         "This is a dummy content for the URL.",
         4,
         "0.0",
         0.0
        ],
        [
         "The Globe And Mail",
         "Your daily horoscope: April 20, 2025 - The Globe and Mail",
         "2025-04-20",
         "Sally Brompton",
         "https://www.theglobeandmail.com/life/horoscopes/article-your-daily-horoscope-april-20-2025/",
         "This is a dummy content for the URL.",
         4,
         "0.0",
         0.0
        ],
        [
         "syracuse.com",
         "Metallica breaks Dome attendance record at Syracuse concert (setlist, photos) - Syracuse.com",
         "2025-04-20",
         "Geoff Herbert | gherbert@syracuse.com",
         "https://www.syracuse.com/entertainment/2025/04/metallica-breaks-dome-attendance-record-at-syracuse-concert-setlist-photos.html",
         "This is a dummy content for the URL.",
         4,
         "0.0",
         0.0
        ],
        [
         "411mania.com",
         "WWE Gives Update On Roman Reigns Following WrestleMania 41 - 411MANIA",
         "2025-04-20",
         null,
         "https://411mania.com/wrestling/wwe-update-roman-reigns-wrestlemania-41/",
         "This is a dummy content for the URL.",
         4,
         "0.0",
         0.0
        ],
        [
         "Variety",
         "Lucasfilm Reveals ‘The Ninth Jedi’ Series at Star Wars Celebration in Tokyo - Variety",
         "2025-04-20",
         "William Earl",
         "https://variety.com/2025/tv/news/lucasfilm-ninth-jedi-series-star-wars-celebration-tokyo-1236373355/",
         "This is a dummy content for the URL.",
         4,
         "0.0",
         0.0
        ],
        [
         "Wrestling Inc.",
         "WWE Hall Of Fame Class Of 2025 (Minus Lex Luger) Honored On Stage At WrestleMania 41 - Wrestling Inc.",
         "2025-04-20",
         "Max Everett",
         "https://www.wrestlinginc.com/1838599/wwe-hall-fame-class-2025-minus-lex-luger-honored-stage-wrestlemania-41/",
         "This is a dummy content for the URL.",
         4,
         "0.0",
         0.0
        ],
        [
         "Cageside Seats",
         "Living Colour plays CM Punk to the ring for his long-awaited WrestleMania main event - Cageside Seats",
         "2025-04-20",
         "Sean Rueter",
         "https://www.cagesideseats.com/wwe/2025/4/19/24412232/living-colour-live-cult-of-personality-entrance-cm-punk-wrestlemania-41-video-first-main-event",
         "This is a dummy content for the URL.",
         4,
         "0.0",
         0.0
        ],
        [
         "TMZ",
         "George Kittle Chugs Full Beer At WrestleMania, Jelly Roll and Lil Yachty In Crowd - TMZ",
         "2025-04-20",
         "TMZ Staff",
         "https://www.tmz.com/2025/04/19/george-kittle-chugs-full-beer-wrestlemania/",
         "This is a dummy content for the URL.",
         4,
         "0.0",
         0.0
        ],
        [
         "Deadline",
         "Bowen Yang Says Aimee Lou Wood's Reaction To 'SNL' Parody Is 'Valid' - Deadline",
         "2025-04-20",
         "Natalie Oganesyan",
         "http://deadline.com/2025/04/bowen-yang-aimee-lou-wood-snl-parody-valid-1236372519/",
         "This is a dummy content for the URL.",
         4,
         "0.0",
         0.0
        ],
        [
         "Deadline",
         "'9-1-1's Aisha Hinds Pens Emotional Farewell Letter To Co-Star Following Character's Death & Show Exit: \"I Celebrate His Commitment & Contribution\" - Deadline",
         "2025-04-20",
         "Armando Tinoco",
         "http://deadline.com/2025/04/911-aisha-hinds-farewell-letter-peter-krause-death-exit-1236372522/",
         "This is a dummy content for the URL.",
         4,
         "0.0",
         0.0
        ],
        [
         "NBCSports.com",
         "Kendrick Lamar's Super Bowl halftime show becomes an issue in Drake's Not Like Us lawsuit - NBC Sports",
         "2025-04-20",
         "Mike Florio",
         "https://www.nbcsports.com/nfl/profootballtalk/rumor-mill/news/super-bowl-halftime-show-becomes-an-issue-in-drakes-not-like-us-lawsuit",
         "This is a dummy content for the URL.",
         4,
         "0.0",
         0.0
        ],
        [
         "Deadline",
         "Olivia Williams Details Harrowing Pancreatic Cancer Journey Where She Was Called “Crazy” Amid Misdiagnoses - Deadline",
         "2025-04-20",
         "Natalie Oganesyan",
         "http://deadline.com/2025/04/olivia-williams-pancreatic-cancer-misdiagnoses-1236372478/",
         "This is a dummy content for the URL.",
         4,
         "0.0",
         0.0
        ],
        [
         "Nodq.com",
         "Results of War Raiders vs. New Day at WWE WrestleMania 41 Saturday - NoDQ.com",
         "2025-04-20",
         "Aaron Rift",
         "https://nodq.com/news/results-of-war-raiders-vs-new-day-at-wwe-wrestlemania-41-saturday/",
         "This is a dummy content for the URL.",
         4,
         "0.0",
         0.0
        ],
        [
         "CBS Sports",
         "WWE WrestleMania 41 results: Jey Uso wins world heavyweight title, breakthrough continues to silence doubters - CBS Sports",
         "2025-04-19",
         "",
         "https://www.cbssports.com/wwe/news/wwe-wrestlemania-41-results-jey-uso-wins-world-heavyweight-title-breakthrough-continues-to-silence-doubters/",
         "This is a dummy content for the URL.",
         4,
         "0.0",
         0.0
        ],
        [
         "Nodq.com",
         "Results of Gunther vs. Jey Uso at WWE WrestleMania 41 Saturday - NoDQ.com",
         "2025-04-19",
         "Aaron Rift",
         "https://nodq.com/news/results-of-gunther-vs-jey-uso-at-wwe-wrestlemania-41-saturday/",
         "This is a dummy content for the URL.",
         4,
         "0.0",
         0.0
        ],
        [
         "Cageside Seats",
         "Rey Mysterio injured, out of WrestleMania 41 match with El Grande Americano - Cageside Seats",
         "2025-04-19",
         "Geno Mrosko",
         "https://www.cagesideseats.com/wwe/2025/4/19/24412141/rey-mysterio-injured-wrestlemania-41-match-el-grande-americano-rey-fenix-wwe",
         "This is a dummy content for the URL.",
         4,
         "0.0",
         0.0
        ],
        [
         "Wrestling Inc.",
         "WWE Announces Acquisition Of Lucha Libre AAA, Worlds Collide Show Set For June - Wrestling Inc.",
         "2025-04-19",
         "Max Everett",
         "https://www.wrestlinginc.com/1838544/wwe-announces-acquisition-lucha-libre-aaa-worlds-collide-show-set-june/",
         "This is a dummy content for the URL.",
         4,
         "0.0",
         0.0
        ],
        [
         "Just Jared",
         "Colin Farrell Shares Why He’s Placing His Son with Angelman Syndrome in Long-Term Care Facility - Just Jared",
         "2025-04-19",
         null,
         "https://www.justjared.com/2025/04/19/colin-farrell-shares-why-hes-placing-his-son-with-angelman-syndrome-in-long-term-care-facility/",
         "This is a dummy content for the URL.",
         4,
         "0.0",
         0.0
        ],
        [
         "Yahoo Entertainment",
         "Kanye West And Bianca Censori's Relationship Takes New Turn With Latest Sighting After 'Dumping' Claims - Yahoo",
         "2025-04-19",
         "Favour Adegoke",
         "https://www.yahoo.com/entertainment/articles/kanye-west-bianca-censoris-relationship-203059271.html",
         "This is a dummy content for the URL.",
         4,
         "0.0",
         0.0
        ],
        [
         "Nodq.com",
         "Results of The D’Angelo Family vs. DarkState at WWE NXT Stand and Deliver 2025 - NoDQ.com",
         "2025-04-19",
         "Aaron Rift",
         "https://nodq.com/news/results-of-the-dangelo-family-vs-darkstate-at-wwe-nxt-stand-and-deliver-2025/",
         "This is a dummy content for the URL.",
         4,
         "0.0",
         0.0
        ],
        [
         "Page Six",
         "'RHOC' alum Lydia McLaughlin 'devastated' after brother is fatally shot by police during traffic stop - Page Six",
         "2025-04-19",
         "Eileen Reslen",
         "https://pagesix.com/2025/04/19/celebrity-news/rhoc-alum-lydia-mclaughlin-devastated-after-brother-is-fatally-shot-by-police-during-traffic-stop/",
         "This is a dummy content for the URL.",
         4,
         "0.0",
         0.0
        ],
        [
         "Variety",
         "Hayden Christensen Returns as Anakin Skywalker for ‘Ahsoka’ Season 2 - Variety",
         "2025-04-19",
         "Jack Dunn",
         "https://variety.com/2025/film/news/hayden-christensen-anakin-skywalker-ahsoka-season-2-1236373255/",
         "This is a dummy content for the URL.",
         4,
         "0.0",
         0.0
        ],
        [
         "Page Six",
         "Ivanka Trump and sister-in-law Karlie Kloss seen in good spirits at Costa Rica family vacation despite rumored feud - Page Six",
         "2025-04-19",
         "BreAnna Bell",
         "https://pagesix.com/2025/04/19/celebrity-news/ivanka-trump-and-karlie-kloss-seen-in-good-spirits-at-costa-rica-family-vacation-despite-rumored-feud/",
         "This is a dummy content for the URL.",
         4,
         "0.0",
         0.0
        ],
        [
         "Buzzfeed",
         "Haley Joel Osment Apologized For Making Antisemitic Remarks During His Recent Arrest - BuzzFeed",
         "2025-04-19",
         "Larry Fitzmaurice",
         "https://www.buzzfeed.com/larryfitzmaurice/haley-joel-osment-antisemitism-apology",
         "This is a dummy content for the URL.",
         4,
         "0.0",
         0.0
        ],
        [
         "Rock Paper Shotgun",
         "Star Wars Zero Company looks like XCOM in a galaxy far, far away in its first trailer - Rock Paper Shotgun",
         "2025-04-19",
         "Oisin Kuhnke",
         "https://www.rockpapershotgun.com/star-wars-zero-company-looks-like-xcom-in-a-galaxy-far-far-away-in-its-first-trailer",
         "This is a dummy content for the URL.",
         4,
         "0.0",
         0.0
        ],
        [
         "SheKnows",
         "One of Taylor Swift’s Inner Circle Gave Heartbreaking Insight As To Why She’s Laying Low - SheKnows",
         "2025-04-19",
         "Maggie Clancy",
         "https://www.sheknows.com/entertainment/articles/1234869359/gracie-abrams-taylor-swift-privacy/",
         "This is a dummy content for the URL.",
         4,
         "0.0",
         0.0
        ],
        [
         "Figure Four Online",
         "NXT Stand & Deliver live results: Five title matches - F4W/WON",
         "2025-04-19",
         "Marc Quill",
         "https://www.f4wonline.com/news/nxt/nxt-results/wwe-nxt-stand-deliver-live-results-oba-femi-trick-williams-jevon-evans/",
         "This is a dummy content for the URL.",
         4,
         "0.0",
         0.0
        ],
        [
         "CNN",
         "Why the 20-year-old ‘Pride & Prejudice’ film still bewitches audiences today - CNN",
         "2025-04-19",
         "Leah Asmelash",
         "https://www.cnn.com/2025/04/19/entertainment/pride-prejudice-film-20th-anniversary-cec/index.html",
         "This is a dummy content for the URL.",
         4,
         "0.0",
         0.0
        ],
        [
         "Variety",
         "Box Office: 'Sinners' Scores Solid Opening Day, 'Minecraft' Still No. 1 - Variety",
         "2025-04-19",
         "J. Kim Murphy",
         "https://variety.com/2025/film/news/box-office-sinners-opening-day-minecraft-no1-1236372989/",
         "This is a dummy content for the URL.",
         4,
         "0.0",
         0.0
        ],
        [
         "Polygon",
         "An animated episode of Doctor Who was a dream come true for its creators - Polygon",
         "2025-04-19",
         "Susana Polo",
         "https://www.polygon.com/tv/561655/doctor-who-animated-episode-sequence-how-mr-ring-a-ding",
         "This is a dummy content for the URL.",
         4,
         "0.0",
         0.0
        ],
        [
         "Rolling Stone",
         "Zak Is Back, the Who’s Pete Townshend Says: ‘Not Being Asked to Step Down’ - Rolling Stone",
         "2025-04-19",
         "Althea Legaspi",
         "http://www.rollingstone.com/music/music-news/zak-starkey-back-the-who-pete-townshend-1235321402/",
         "This is a dummy content for the URL.",
         4,
         "0.0",
         0.0
        ],
        [
         "Outkick.com",
         "Katy Perry Goes To Space, Lizzo Gives Her Take On Tariffs, And Waffle House Innovates - OutKick",
         "2025-04-19",
         "Matt Reigle",
         "https://www.outkick.com/culture/katy-perry-space-lizzo-tariffs-waffle-house",
         "This is a dummy content for the URL.",
         4,
         "0.0",
         0.0
        ],
        [
         "Hollywood Reporter",
         "Harvey Weinstein’s Last Stand - The Hollywood Reporter",
         "2025-04-19",
         "Winston Cho",
         "http://www.hollywoodreporter.com/news/general-news/harvey-weinstein-new-trial-1236190862/",
         "This is a dummy content for the URL.",
         4,
         "0.0",
         0.0
        ],
        [
         "Politico",
         "The WrestleMania Presidency - Yahoo Home",
         "2025-04-19",
         "Zach Montellaro",
         "https://www.politico.com/news/magazine/2025/04/19/donald-trump-pro-wrestling-wwe-00298303",
         "This is a dummy content for the URL.",
         4,
         "0.0",
         0.0
        ],
        [
         "Variety",
         "Lady Gaga Apologizes for Mic Malfunctions During Coachella Weekend 2 Set: ‘At Least You Know I Sing Live’ - Variety",
         "2025-04-19",
         "Thania Garcia",
         "https://variety.com/2025/music/news/lady-gaga-apologizes-broken-mic-coachella-weekend-2-i-sing-live-1236373171/",
         "This is a dummy content for the URL.",
         4,
         "0.0",
         0.0
        ],
        [
         "Associated Press",
         "Universal Epic Universe is the theme park resort’s biggest bang yet in Florida - AP News",
         "2025-04-19",
         "Mike Schneider",
         "https://apnews.com/article/universal-epic-universe-florida-tourism-theme-park-666ce27bfca95cfa4d682f826cc327b5",
         "This is a dummy content for the URL.",
         4,
         "0.0",
         0.0
        ],
        [
         "Hollywood Reporter",
         "Star Wars Celebration: Diego Luna, Tony Gilroy and Adria Arjona Premiere ‘Andor’ Season Two for Fans - The Hollywood Reporter",
         "2025-04-19",
         "Borys Kit, Abid Rahman, Patrick Brzeski",
         "http://www.hollywoodreporter.com/tv/tv-news/star-wars-celebration-diego-luna-andor-season-two-premiere-1236195839/",
         "This is a dummy content for the URL.",
         4,
         "0.0",
         0.0
        ],
        [
         "Cageside Seats",
         "WrestleMania 41 start time, match card: Night one - Cageside Seats",
         "2025-04-19",
         "Geno Mrosko",
         "https://www.cagesideseats.com/wwe/2025/4/19/24410067/wrestlemania-41-start-time-match-card-night-one",
         "This is a dummy content for the URL.",
         4,
         "0.0",
         0.0
        ],
        [
         "Politico",
         "The WrestleMania Presidency - Yahoo Home",
         "2025-04-19",
         "Zach Montellaro",
         "https://www.politico.com/news/magazine/2025/04/19/donald-trump-pro-wrestling-wwe-00298303",
         "This is a dummy content for the URL.",
         4,
         "0.0",
         0.0
        ],
        [
         "Variety",
         "Lady Gaga Apologizes for Mic Malfunctions During Coachella Weekend 2 Set: ‘At Least You Know I Sing Live’ - Variety",
         "2025-04-19",
         "Thania Garcia",
         "https://variety.com/2025/music/news/lady-gaga-apologizes-broken-mic-coachella-weekend-2-i-sing-live-1236373171/",
         "This is a dummy content for the URL.",
         4,
         "0.0",
         0.0
        ],
        [
         "Associated Press",
         "Universal Epic Universe is the theme park resort’s biggest bang yet in Florida - AP News",
         "2025-04-19",
         "Mike Schneider",
         "https://apnews.com/article/universal-epic-universe-florida-tourism-theme-park-666ce27bfca95cfa4d682f826cc327b5",
         "This is a dummy content for the URL.",
         4,
         "0.0",
         0.0
        ],
        [
         "The A.V. Club",
         "Mrs. Doubtfire's Matthew Lawrence expresses bad hope for an AI Robin Williams - AV Club",
         "2025-04-19",
         null,
         "https://www.avclub.com/matthew-laurence-robin-williams-artificial-intelligence-voice",
         "This is a dummy content for the URL.",
         4,
         "0.0",
         0.0
        ],
        [
         "Cageside Seats",
         "Cody Rhodes lays out Cena again after getting booed on SmackDown - Cageside Seats",
         "2025-04-19",
         "Cain A. Knight",
         "https://www.cagesideseats.com/wwe/2025/4/18/24411637/wwe-wrestlemania-smackdown-2025-cody-rhodes-booed-stands-tall-over-john-cena-final-promo-go-home",
         "This is a dummy content for the URL.",
         4,
         "0.0",
         0.0
        ],
        [
         "SheKnows",
         "Adios, Liam? Plus, We Have Big Questions About Next Week’s Forrester Fashion Show! - Soaps.com",
         "2025-04-19",
         "Richard Simms",
         "https://soaps.sheknows.com/the-bold-and-the-beautiful/soapbox/778014/who-will-save-liam/",
         "This is a dummy content for the URL.",
         4,
         "0.0",
         0.0
        ],
        [
         "Cageside Seats",
         "Randy Orton issues a bold challenge for WrestleMania 41 - Cageside Seats",
         "2025-04-19",
         "Cain A. Knight",
         "https://www.cagesideseats.com/wwe/2025/4/18/24411639/randy-orton-issues-open-challenge-wrestlemania-41-sunday-anybody-rko-surprise-mystery-opponent-vegas",
         "This is a dummy content for the URL.",
         4,
         "0.0",
         0.0
        ],
        [
         "Rolling Stone",
         "Post Malone’s Ex-Fiancée Files for Custody of Their Daughter - Rolling Stone",
         "2025-04-19",
         "Tomás Mier, Nancy Dillon",
         "http://www.rollingstone.com/music/music-news/post-malone-ex-fiancee-custody-daughter-1235321261/",
         "This is a dummy content for the URL.",
         4,
         "0.0",
         0.0
        ],
        [
         "Entertainment Weekly",
         "Wendy's clarifies that it has 'a ton of respect' for Katy Perry, but doesn't apologize after social media beef - ew.com",
         "2025-04-18",
         "https://www.facebook.com/entertainmentweekly",
         "https://ew.com/wendy-s-says-it-has-a-ton-of-respect-for-katy-perry-after-viral-beef-11718341",
         "This is a dummy content for the URL.",
         4,
         "0.0",
         0.0
        ],
        [
         "Vulture",
         "Sinners’ Post-Credits Scene and Ending, Explained - Vulture",
         "2025-04-18",
         "Fran Hoepfner",
         "http://www.vulture.com/article/sinners-post-credits-scenes-explained.html",
         "This is a dummy content for the URL.",
         4,
         "0.0",
         0.0
        ],
        [
         "TODAY",
         "Is Katy Perry An Astronaut? No, Says The Secretary Of Transportation - TODAY.com",
         "2025-04-18",
         "Alex Portée",
         "https://www.today.com/news/are-katy-perry-gayle-king-real-astronauts-rcna201936",
         "This is a dummy content for the URL.",
         4,
         "0.0",
         0.0
        ],
        [
         "Polygon",
         "New Captain America, Companion on Max, and every movie new to streaming - Polygon",
         "2025-04-18",
         "Toussaint Egan, Petrana Radulovic",
         "https://www.polygon.com/entertainment/558549/new-movies-watch-streaming-captain-america-brave-new-world-companion-room-next-door-netflix",
         "This is a dummy content for the URL.",
         4,
         "0.0",
         0.0
        ],
        [
         "Variety",
         "‘Pride and Prejudice’ at 20: Director Joe Wright on Robert Altman’s Influence and How His Anarchist Punk Sister Inspired Keira Knightley’s Elizabeth Bennet - Variety",
         "2025-04-18",
         "Abigail Lee",
         "https://variety.com/2025/film/features/pride-and-prejudice-20-years-joe-wright-production-1236372277/",
         "This is a dummy content for the URL.",
         4,
         "0.0",
         0.0
        ],
        [
         "Programminginsider.com",
         "Thursday Ratings: 'Matlock' on CBS Hits Series-High in Adults 18-49 with Inaugural Season Finale and Tops All Prime Time Telecasts - Programming Insider",
         "2025-04-18",
         "Douglas Pucci",
         "https://programminginsider.com/thursday-ratings-matlock-on-cbs-hits-series-high-in-adults-18-49-with-inaugural-season-finale-and-tops-all-prime-time-telecasts/",
         "This is a dummy content for the URL.",
         4,
         "0.0",
         0.0
        ],
        [
         "Cageside Seats",
         "WWE announces the opening matches for both nights of WrestleMania 41 - Cageside Seats",
         "2025-04-18",
         "Sean Rueter",
         "https://www.cagesideseats.com/wwe/2025/4/18/24411529/wwe-wrestlemania-41-opening-matches-both-nights-world-titles-iyo-rhea-bianca-jey-gunther",
         "This is a dummy content for the URL.",
         4,
         "0.0",
         0.0
        ],
        [
         "USA Today",
         "Only 8 US theaters are showing 'Sinners' as director Ryan Coogler intended. Here's where. - USA Today",
         "2025-04-18",
         "Amaris Encinas",
         "https://www.usatoday.com/story/entertainment/movies/2025/04/18/sinners-imax-70mm-movie-theater-locations/83161185007/",
         "This is a dummy content for the URL.",
         4,
         "0.0",
         0.0
        ],
        [
         "Who What Wear",
         "Ralph Lauren's Fall 2025 Show Solidifies the Return to Modern Romance - Who What Wear",
         "2025-04-18",
         "Kristen Nichols",
         "https://www.whowhatwear.com/fashion/runway/ralph-lauren-fall-winter-2025",
         "This is a dummy content for the URL.",
         4,
         "0.0",
         0.0
        ],
        [
         "Ringside News",
         "Spoiler: Opening Revealed for April 18 WWE SmackDown - Ringside News",
         "2025-04-18",
         "Steve Carrier",
         "https://www.ringsidenews.com/2025/04/18/spoiler-opening-revealed-for-april-18-wwe-smackdown/",
         "This is a dummy content for the URL.",
         4,
         "0.0",
         0.0
        ],
        [
         "Space.com",
         "Star Wars Celebration reveals new footage about Sigourney Weaver's 'The Mandalorian & Grogu' character - Space",
         "2025-04-18",
         "Fran Ruiz",
         "https://www.space.com/entertainment/space-movies-shows/star-wars-celebration-reveals-new-footage-about-sigourney-weavers-the-mandalorian-and-grogu-character",
         "This is a dummy content for the URL.",
         4,
         "0.0",
         0.0
        ],
        [
         "Deadline",
         "'9-1-1' Cast Say Goodbye To Co-Star Following Character's Death: Oliver Stark, Jennifer Love Hewitt & More Pay Tribute To Actor - Deadline",
         "2025-04-18",
         "Armando Tinoco",
         "http://deadline.com/2025/04/9-1-1-cast-goodbye-character-death-oliver-stark-jennifer-love-hewitt-1236372010/",
         "This is a dummy content for the URL.",
         4,
         "0.0",
         0.0
        ],
        [
         "Wrestling Inc.",
         "Opening Match For Night One WWE Of WrestleMania 41 Revealed - Wrestling Inc.",
         "2025-04-18",
         "Brie Coder",
         "https://www.wrestlinginc.com/1837895/opening-match-for-night-one-wwe-of-wrestlemania-41-revealed/",
         "This is a dummy content for the URL.",
         4,
         "0.0",
         0.0
        ],
        [
         "NBC News",
         "Judge denies Sean 'Diddy' Combs' request for two-month trial delay - NBC News",
         "2025-04-18",
         "Janelle Griffith, Adam Reiss",
         "https://www.nbcnews.com/news/crime-courts/judge-denies-sean-diddy-combs-request-two-month-trial-delay-rcna201341",
         "This is a dummy content for the URL.",
         4,
         "0.0",
         0.0
        ],
        [
         "New York Post",
         "Martha Stewart takes dig at ‘astronaut’ Katy Perry after Blue Origin flight: ‘In case you spaced out’ - New York Post",
         "2025-04-18",
         "Whitney Vasquez",
         "https://nypost.com/2025/04/18/entertainment/martha-stewart-takes-dig-at-katy-perry-after-blue-origin-flight/",
         "This is a dummy content for the URL.",
         4,
         "0.0",
         0.0
        ],
        [
         "NPR",
         "John Cena's the bad guy in his final WrestleMania. Here's why that's a big deal - NPR",
         "2025-04-18",
         "",
         "https://www.npr.org/2025/04/18/nx-s1-5366023/john-cena-wrestlemania-cody-rhodes",
         "This is a dummy content for the URL.",
         4,
         "0.0",
         0.0
        ],
        [
         "CinemaBlend",
         "SNL’s Bowen Yang Explained Why Aimee Lou Wood’s Reaction To The White Lotus Sketch Was ‘Completely Valid’ - Yahoo",
         "2025-04-18",
         "Heidi Venable",
         "https://www.cinemablend.com/television/snl-bowen-yang-why-aimee-lou-wood-reaction-white-lotus-sketch-completely-valid",
         "This is a dummy content for the URL.",
         4,
         "0.0",
         0.0
        ],
        [
         "2news.com",
         "Haley Joel Osment charged after arrest at Mammoth Mountain - KTVN",
         "2025-04-18",
         "AP",
         "https://www.2news.com/news/haley-joel-osment-charged-after-arrest-at-mammoth-mountain/article_6130ad4b-ac85-4749-b5ae-30ede2bc479f.html",
         "This is a dummy content for the URL.",
         4,
         "0.0",
         0.0
        ],
        [
         "Space.com",
         "Ryan Gosling's new 'Star Wars' movie 'Starfighter' is coming in 2027, and it has nothing to do with the Starfighter games - Space",
         "2025-04-18",
         "Fran Ruiz",
         "https://www.space.com/entertainment/space-movies-shows/ryan-goslings-new-star-wars-movie-is-called-starfighter-its-coming-in-2027-and-it-has-nothing-to-do-with-the-starfighter-games",
         "This is a dummy content for the URL.",
         4,
         "0.0",
         0.0
        ],
        [
         "Rolling Stone",
         "Gene Hackman Poked Fun at Alzheimer's in Notes Left for Wife Betsy Arakawa Before Death - Rolling Stone",
         "2025-04-18",
         "Jon Blistein",
         "http://www.rollingstone.com/tv-movies/tv-movie-news/gene-hackman-betsy-arakawa-notes-investigation-unsealed-1235320511/",
         "This is a dummy content for the URL.",
         4,
         "0.0",
         0.0
        ],
        [
         "Entertainment Weekly",
         "Bowen Yang says there was 'no hesitation' to bare it all for Wedding Banquet nude scene: 'It just felt so integral' - ew.com",
         "2025-04-18",
         "https://www.facebook.com/entertainmentweekly",
         "https://ew.com/bowen-yang-the-wedding-banquet-nude-butt-scene-11716610",
         "This is a dummy content for the URL.",
         4,
         "0.0",
         0.0
        ],
        [
         "The Ringer",
         "Bret Hart Remembers the Night Everything Changed - The Ringer",
         "2025-04-18",
         null,
         "https://www.theringer.com/2025/04/18/wwe/bret-hart-wwe-immortal-moment-award-hall-of-fame-wwe-wrestlemania-13",
         "This is a dummy content for the URL.",
         4,
         "0.0",
         0.0
        ],
        [
         "CNYcentral.com",
         "Metallica concert will impact Syracuse's economy by $15 million - WSTM",
         "2025-04-18",
         "Hannah Devanny",
         "https://cnycentral.com/news/local/metallica-concert-will-impact-syracuses-economy-by-15-million-dome-hotels-visit-easter",
         "This is a dummy content for the URL.",
         4,
         "0.0",
         0.0
        ],
        [
         "Mashable",
         "Wordle today: The answer and hints for April 18, 2025 - Mashable",
         "2025-04-18",
         "Mashable Team",
         "https://mashable.com/article/wordle-today-answer-april-18-2025",
         "This is a dummy content for the URL.",
         4,
         "0.0",
         0.0
        ],
        [
         "TVInsider",
         "'Ghosts' Star Asher Grodman on Welcoming Trevor's Daughter Abby in Latest Surprise Twist (Exclusive) - TV Insider",
         "2025-04-18",
         "Meaghan Darwish",
         "https://www.tvinsider.com/1187151/ghosts-season-4-trevor-daughter-abby-asher-grodman/",
         "This is a dummy content for the URL.",
         4,
         "0.0",
         0.0
        ],
        [
         "Cageside Seats",
         "WrestleMania 41 start time, match card: Night one - Cageside Seats",
         "2025-04-19",
         "Geno Mrosko",
         "https://www.cagesideseats.com/wwe/2025/4/19/24410067/wrestlemania-41-start-time-match-card-night-one",
         "This is a dummy content for the URL.",
         4,
         "0.0",
         0.0
        ],
        [
         "Politico",
         "The WrestleMania Presidency - Yahoo Home",
         "2025-04-19",
         "Zach Montellaro",
         "https://www.politico.com/news/magazine/2025/04/19/donald-trump-pro-wrestling-wwe-00298303",
         "This is a dummy content for the URL.",
         4,
         "0.0",
         0.0
        ],
        [
         "Variety",
         "Lady Gaga Apologizes for Mic Malfunctions During Coachella Weekend 2 Set: ‘At Least You Know I Sing Live’ - Variety",
         "2025-04-19",
         "Thania Garcia",
         "https://variety.com/2025/music/news/lady-gaga-apologizes-broken-mic-coachella-weekend-2-i-sing-live-1236373171/",
         "This is a dummy content for the URL.",
         4,
         "0.0",
         0.0
        ],
        [
         "Associated Press",
         "Universal Epic Universe is the theme park resort’s biggest bang yet in Florida - AP News",
         "2025-04-19",
         "Mike Schneider",
         "https://apnews.com/article/universal-epic-universe-florida-tourism-theme-park-666ce27bfca95cfa4d682f826cc327b5",
         "This is a dummy content for the URL.",
         4,
         "0.0",
         0.0
        ],
        [
         "The A.V. Club",
         "Mrs. Doubtfire's Matthew Lawrence expresses bad hope for an AI Robin Williams - AV Club",
         "2025-04-19",
         null,
         "https://www.avclub.com/matthew-laurence-robin-williams-artificial-intelligence-voice",
         "This is a dummy content for the URL.",
         4,
         "0.0",
         0.0
        ],
        [
         "Cageside Seats",
         "Cody Rhodes lays out Cena again after getting booed on SmackDown - Cageside Seats",
         "2025-04-19",
         "Cain A. Knight",
         "https://www.cagesideseats.com/wwe/2025/4/18/24411637/wwe-wrestlemania-smackdown-2025-cody-rhodes-booed-stands-tall-over-john-cena-final-promo-go-home",
         "This is a dummy content for the URL.",
         4,
         "0.0",
         0.0
        ],
        [
         "SheKnows",
         "Adios, Liam? Plus, We Have Big Questions About Next Week’s Forrester Fashion Show! - Soaps.com",
         "2025-04-19",
         "Richard Simms",
         "https://soaps.sheknows.com/the-bold-and-the-beautiful/soapbox/778014/who-will-save-liam/",
         "This is a dummy content for the URL.",
         4,
         "0.0",
         0.0
        ],
        [
         "Cageside Seats",
         "Randy Orton issues a bold challenge for WrestleMania 41 - Cageside Seats",
         "2025-04-19",
         "Cain A. Knight",
         "https://www.cagesideseats.com/wwe/2025/4/18/24411639/randy-orton-issues-open-challenge-wrestlemania-41-sunday-anybody-rko-surprise-mystery-opponent-vegas",
         "This is a dummy content for the URL.",
         4,
         "0.0",
         0.0
        ],
        [
         "Rolling Stone",
         "Post Malone’s Ex-Fiancée Files for Custody of Their Daughter - Rolling Stone",
         "2025-04-19",
         "Tomás Mier, Nancy Dillon",
         "http://www.rollingstone.com/music/music-news/post-malone-ex-fiancee-custody-daughter-1235321261/",
         "This is a dummy content for the URL.",
         4,
         "0.0",
         0.0
        ],
        [
         "Entertainment Weekly",
         "Wendy's clarifies that it has 'a ton of respect' for Katy Perry, but doesn't apologize after social media beef - ew.com",
         "2025-04-18",
         "https://www.facebook.com/entertainmentweekly",
         "https://ew.com/wendy-s-says-it-has-a-ton-of-respect-for-katy-perry-after-viral-beef-11718341",
         "This is a dummy content for the URL.",
         4,
         "0.0",
         0.0
        ],
        [
         "Vulture",
         "Sinners’ Post-Credits Scene and Ending, Explained - Vulture",
         "2025-04-18",
         "Fran Hoepfner",
         "http://www.vulture.com/article/sinners-post-credits-scenes-explained.html",
         "This is a dummy content for the URL.",
         4,
         "0.0",
         0.0
        ],
        [
         "TODAY",
         "Is Katy Perry An Astronaut? No, Says The Secretary Of Transportation - TODAY.com",
         "2025-04-18",
         "Alex Portée",
         "https://www.today.com/news/are-katy-perry-gayle-king-real-astronauts-rcna201936",
         "This is a dummy content for the URL.",
         4,
         "0.0",
         0.0
        ],
        [
         "Polygon",
         "New Captain America, Companion on Max, and every movie new to streaming - Polygon",
         "2025-04-18",
         "Toussaint Egan, Petrana Radulovic",
         "https://www.polygon.com/entertainment/558549/new-movies-watch-streaming-captain-america-brave-new-world-companion-room-next-door-netflix",
         "This is a dummy content for the URL.",
         4,
         "0.0",
         0.0
        ],
        [
         "Variety",
         "‘Pride and Prejudice’ at 20: Director Joe Wright on Robert Altman’s Influence and How His Anarchist Punk Sister Inspired Keira Knightley’s Elizabeth Bennet - Variety",
         "2025-04-18",
         "Abigail Lee",
         "https://variety.com/2025/film/features/pride-and-prejudice-20-years-joe-wright-production-1236372277/",
         "This is a dummy content for the URL.",
         4,
         "0.0",
         0.0
        ],
        [
         "Programminginsider.com",
         "Thursday Ratings: 'Matlock' on CBS Hits Series-High in Adults 18-49 with Inaugural Season Finale and Tops All Prime Time Telecasts - Programming Insider",
         "2025-04-18",
         "Douglas Pucci",
         "https://programminginsider.com/thursday-ratings-matlock-on-cbs-hits-series-high-in-adults-18-49-with-inaugural-season-finale-and-tops-all-prime-time-telecasts/",
         "This is a dummy content for the URL.",
         4,
         "0.0",
         0.0
        ],
        [
         "Cageside Seats",
         "WWE announces the opening matches for both nights of WrestleMania 41 - Cageside Seats",
         "2025-04-18",
         "Sean Rueter",
         "https://www.cagesideseats.com/wwe/2025/4/18/24411529/wwe-wrestlemania-41-opening-matches-both-nights-world-titles-iyo-rhea-bianca-jey-gunther",
         "This is a dummy content for the URL.",
         4,
         "0.0",
         0.0
        ],
        [
         "USA Today",
         "Only 8 US theaters are showing 'Sinners' as director Ryan Coogler intended. Here's where. - USA Today",
         "2025-04-18",
         "Amaris Encinas",
         "https://www.usatoday.com/story/entertainment/movies/2025/04/18/sinners-imax-70mm-movie-theater-locations/83161185007/",
         "This is a dummy content for the URL.",
         4,
         "0.0",
         0.0
        ],
        [
         "Who What Wear",
         "Ralph Lauren's Fall 2025 Show Solidifies the Return to Modern Romance - Who What Wear",
         "2025-04-18",
         "Kristen Nichols",
         "https://www.whowhatwear.com/fashion/runway/ralph-lauren-fall-winter-2025",
         "This is a dummy content for the URL.",
         4,
         "0.0",
         0.0
        ],
        [
         "Ringside News",
         "Spoiler: Opening Revealed for April 18 WWE SmackDown - Ringside News",
         "2025-04-18",
         "Steve Carrier",
         "https://www.ringsidenews.com/2025/04/18/spoiler-opening-revealed-for-april-18-wwe-smackdown/",
         "This is a dummy content for the URL.",
         4,
         "0.0",
         0.0
        ],
        [
         "Space.com",
         "Star Wars Celebration reveals new footage about Sigourney Weaver's 'The Mandalorian & Grogu' character - Space",
         "2025-04-18",
         "Fran Ruiz",
         "https://www.space.com/entertainment/space-movies-shows/star-wars-celebration-reveals-new-footage-about-sigourney-weavers-the-mandalorian-and-grogu-character",
         "This is a dummy content for the URL.",
         4,
         "0.0",
         0.0
        ],
        [
         "Deadline",
         "'9-1-1' Cast Say Goodbye To Co-Star Following Character's Death: Oliver Stark, Jennifer Love Hewitt & More Pay Tribute To Actor - Deadline",
         "2025-04-18",
         "Armando Tinoco",
         "http://deadline.com/2025/04/9-1-1-cast-goodbye-character-death-oliver-stark-jennifer-love-hewitt-1236372010/",
         "This is a dummy content for the URL.",
         4,
         "0.0",
         0.0
        ],
        [
         "Wrestling Inc.",
         "Opening Match For Night One WWE Of WrestleMania 41 Revealed - Wrestling Inc.",
         "2025-04-18",
         "Brie Coder",
         "https://www.wrestlinginc.com/1837895/opening-match-for-night-one-wwe-of-wrestlemania-41-revealed/",
         "This is a dummy content for the URL.",
         4,
         "0.0",
         0.0
        ],
        [
         "NBC News",
         "Judge denies Sean 'Diddy' Combs' request for two-month trial delay - NBC News",
         "2025-04-18",
         "Janelle Griffith, Adam Reiss",
         "https://www.nbcnews.com/news/crime-courts/judge-denies-sean-diddy-combs-request-two-month-trial-delay-rcna201341",
         "This is a dummy content for the URL.",
         4,
         "0.0",
         0.0
        ],
        [
         "New York Post",
         "Martha Stewart takes dig at ‘astronaut’ Katy Perry after Blue Origin flight: ‘In case you spaced out’ - New York Post",
         "2025-04-18",
         "Whitney Vasquez",
         "https://nypost.com/2025/04/18/entertainment/martha-stewart-takes-dig-at-katy-perry-after-blue-origin-flight/",
         "This is a dummy content for the URL.",
         4,
         "0.0",
         0.0
        ],
        [
         "NPR",
         "John Cena's the bad guy in his final WrestleMania. Here's why that's a big deal - NPR",
         "2025-04-18",
         "",
         "https://www.npr.org/2025/04/18/nx-s1-5366023/john-cena-wrestlemania-cody-rhodes",
         "This is a dummy content for the URL.",
         4,
         "0.0",
         0.0
        ],
        [
         "CinemaBlend",
         "SNL’s Bowen Yang Explained Why Aimee Lou Wood’s Reaction To The White Lotus Sketch Was ‘Completely Valid’ - Yahoo",
         "2025-04-18",
         "Heidi Venable",
         "https://www.cinemablend.com/television/snl-bowen-yang-why-aimee-lou-wood-reaction-white-lotus-sketch-completely-valid",
         "This is a dummy content for the URL.",
         4,
         "0.0",
         0.0
        ],
        [
         "2news.com",
         "Haley Joel Osment charged after arrest at Mammoth Mountain - KTVN",
         "2025-04-18",
         "AP",
         "https://www.2news.com/news/haley-joel-osment-charged-after-arrest-at-mammoth-mountain/article_6130ad4b-ac85-4749-b5ae-30ede2bc479f.html",
         "This is a dummy content for the URL.",
         4,
         "0.0",
         0.0
        ],
        [
         "Space.com",
         "Ryan Gosling's new 'Star Wars' movie 'Starfighter' is coming in 2027, and it has nothing to do with the Starfighter games - Space",
         "2025-04-18",
         "Fran Ruiz",
         "https://www.space.com/entertainment/space-movies-shows/ryan-goslings-new-star-wars-movie-is-called-starfighter-its-coming-in-2027-and-it-has-nothing-to-do-with-the-starfighter-games",
         "This is a dummy content for the URL.",
         4,
         "0.0",
         0.0
        ],
        [
         "Rolling Stone",
         "Gene Hackman Poked Fun at Alzheimer's in Notes Left for Wife Betsy Arakawa Before Death - Rolling Stone",
         "2025-04-18",
         "Jon Blistein",
         "http://www.rollingstone.com/tv-movies/tv-movie-news/gene-hackman-betsy-arakawa-notes-investigation-unsealed-1235320511/",
         "This is a dummy content for the URL.",
         4,
         "0.0",
         0.0
        ],
        [
         "Entertainment Weekly",
         "Bowen Yang says there was 'no hesitation' to bare it all for Wedding Banquet nude scene: 'It just felt so integral' - ew.com",
         "2025-04-18",
         "https://www.facebook.com/entertainmentweekly",
         "https://ew.com/bowen-yang-the-wedding-banquet-nude-butt-scene-11716610",
         "This is a dummy content for the URL.",
         4,
         "0.0",
         0.0
        ],
        [
         "The Ringer",
         "Bret Hart Remembers the Night Everything Changed - The Ringer",
         "2025-04-18",
         null,
         "https://www.theringer.com/2025/04/18/wwe/bret-hart-wwe-immortal-moment-award-hall-of-fame-wwe-wrestlemania-13",
         "This is a dummy content for the URL.",
         4,
         "0.0",
         0.0
        ],
        [
         "CNYcentral.com",
         "Metallica concert will impact Syracuse's economy by $15 million - WSTM",
         "2025-04-18",
         "Hannah Devanny",
         "https://cnycentral.com/news/local/metallica-concert-will-impact-syracuses-economy-by-15-million-dome-hotels-visit-easter",
         "This is a dummy content for the URL.",
         4,
         "0.0",
         0.0
        ],
        [
         "Mashable",
         "Wordle today: The answer and hints for April 18, 2025 - Mashable",
         "2025-04-18",
         "Mashable Team",
         "https://mashable.com/article/wordle-today-answer-april-18-2025",
         "This is a dummy content for the URL.",
         4,
         "0.0",
         0.0
        ],
        [
         "TVInsider",
         "'Ghosts' Star Asher Grodman on Welcoming Trevor's Daughter Abby in Latest Surprise Twist (Exclusive) - TV Insider",
         "2025-04-18",
         "Meaghan Darwish",
         "https://www.tvinsider.com/1187151/ghosts-season-4-trevor-daughter-abby-asher-grodman/",
         "This is a dummy content for the URL.",
         4,
         "0.0",
         0.0
        ],
        [
         "Cageside Seats",
         "WrestleMania 41 start time, match card: Night one - Cageside Seats",
         "2025-04-19",
         "Geno Mrosko",
         "https://www.cagesideseats.com/wwe/2025/4/19/24410067/wrestlemania-41-start-time-match-card-night-one",
         "This is a dummy content for the URL.",
         4,
         "0.0",
         0.0
        ],
        [
         "Politico",
         "The WrestleMania Presidency - Yahoo Home",
         "2025-04-19",
         "Zach Montellaro",
         "https://www.politico.com/news/magazine/2025/04/19/donald-trump-pro-wrestling-wwe-00298303",
         "This is a dummy content for the URL.",
         4,
         "0.0",
         0.0
        ],
        [
         "Variety",
         "Lady Gaga Apologizes for Mic Malfunctions During Coachella Weekend 2 Set: ‘At Least You Know I Sing Live’ - Variety",
         "2025-04-19",
         "Thania Garcia",
         "https://variety.com/2025/music/news/lady-gaga-apologizes-broken-mic-coachella-weekend-2-i-sing-live-1236373171/",
         "This is a dummy content for the URL.",
         4,
         "0.0",
         0.0
        ],
        [
         "Associated Press",
         "Universal Epic Universe is the theme park resort’s biggest bang yet in Florida - AP News",
         "2025-04-19",
         "Mike Schneider",
         "https://apnews.com/article/universal-epic-universe-florida-tourism-theme-park-666ce27bfca95cfa4d682f826cc327b5",
         "This is a dummy content for the URL.",
         4,
         "0.0",
         0.0
        ],
        [
         "The A.V. Club",
         "Mrs. Doubtfire's Matthew Lawrence expresses bad hope for an AI Robin Williams - AV Club",
         "2025-04-19",
         null,
         "https://www.avclub.com/matthew-laurence-robin-williams-artificial-intelligence-voice",
         "This is a dummy content for the URL.",
         4,
         "0.0",
         0.0
        ],
        [
         "Cageside Seats",
         "Cody Rhodes lays out Cena again after getting booed on SmackDown - Cageside Seats",
         "2025-04-19",
         "Cain A. Knight",
         "https://www.cagesideseats.com/wwe/2025/4/18/24411637/wwe-wrestlemania-smackdown-2025-cody-rhodes-booed-stands-tall-over-john-cena-final-promo-go-home",
         "This is a dummy content for the URL.",
         4,
         "0.0",
         0.0
        ],
        [
         "SheKnows",
         "Adios, Liam? Plus, We Have Big Questions About Next Week’s Forrester Fashion Show! - Soaps.com",
         "2025-04-19",
         "Richard Simms",
         "https://soaps.sheknows.com/the-bold-and-the-beautiful/soapbox/778014/who-will-save-liam/",
         "This is a dummy content for the URL.",
         4,
         "0.0",
         0.0
        ],
        [
         "Cageside Seats",
         "Randy Orton issues a bold challenge for WrestleMania 41 - Cageside Seats",
         "2025-04-19",
         "Cain A. Knight",
         "https://www.cagesideseats.com/wwe/2025/4/18/24411639/randy-orton-issues-open-challenge-wrestlemania-41-sunday-anybody-rko-surprise-mystery-opponent-vegas",
         "This is a dummy content for the URL.",
         4,
         "0.0",
         0.0
        ],
        [
         "Rolling Stone",
         "Post Malone’s Ex-Fiancée Files for Custody of Their Daughter - Rolling Stone",
         "2025-04-19",
         "Tomás Mier, Nancy Dillon",
         "http://www.rollingstone.com/music/music-news/post-malone-ex-fiancee-custody-daughter-1235321261/",
         "This is a dummy content for the URL.",
         4,
         "0.0",
         0.0
        ],
        [
         "Entertainment Weekly",
         "Wendy's clarifies that it has 'a ton of respect' for Katy Perry, but doesn't apologize after social media beef - ew.com",
         "2025-04-18",
         "https://www.facebook.com/entertainmentweekly",
         "https://ew.com/wendy-s-says-it-has-a-ton-of-respect-for-katy-perry-after-viral-beef-11718341",
         "This is a dummy content for the URL.",
         4,
         "0.0",
         0.0
        ],
        [
         "Vulture",
         "Sinners’ Post-Credits Scene and Ending, Explained - Vulture",
         "2025-04-18",
         "Fran Hoepfner",
         "http://www.vulture.com/article/sinners-post-credits-scenes-explained.html",
         "This is a dummy content for the URL.",
         4,
         "0.0",
         0.0
        ],
        [
         "TODAY",
         "Is Katy Perry An Astronaut? No, Says The Secretary Of Transportation - TODAY.com",
         "2025-04-18",
         "Alex Portée",
         "https://www.today.com/news/are-katy-perry-gayle-king-real-astronauts-rcna201936",
         "This is a dummy content for the URL.",
         4,
         "0.0",
         0.0
        ],
        [
         "Polygon",
         "New Captain America, Companion on Max, and every movie new to streaming - Polygon",
         "2025-04-18",
         "Toussaint Egan, Petrana Radulovic",
         "https://www.polygon.com/entertainment/558549/new-movies-watch-streaming-captain-america-brave-new-world-companion-room-next-door-netflix",
         "This is a dummy content for the URL.",
         4,
         "0.0",
         0.0
        ],
        [
         "Variety",
         "‘Pride and Prejudice’ at 20: Director Joe Wright on Robert Altman’s Influence and How His Anarchist Punk Sister Inspired Keira Knightley’s Elizabeth Bennet - Variety",
         "2025-04-18",
         "Abigail Lee",
         "https://variety.com/2025/film/features/pride-and-prejudice-20-years-joe-wright-production-1236372277/",
         "This is a dummy content for the URL.",
         4,
         "0.0",
         0.0
        ],
        [
         "Programminginsider.com",
         "Thursday Ratings: 'Matlock' on CBS Hits Series-High in Adults 18-49 with Inaugural Season Finale and Tops All Prime Time Telecasts - Programming Insider",
         "2025-04-18",
         "Douglas Pucci",
         "https://programminginsider.com/thursday-ratings-matlock-on-cbs-hits-series-high-in-adults-18-49-with-inaugural-season-finale-and-tops-all-prime-time-telecasts/",
         "This is a dummy content for the URL.",
         4,
         "0.0",
         0.0
        ],
        [
         "Cageside Seats",
         "WWE announces the opening matches for both nights of WrestleMania 41 - Cageside Seats",
         "2025-04-18",
         "Sean Rueter",
         "https://www.cagesideseats.com/wwe/2025/4/18/24411529/wwe-wrestlemania-41-opening-matches-both-nights-world-titles-iyo-rhea-bianca-jey-gunther",
         "This is a dummy content for the URL.",
         4,
         "0.0",
         0.0
        ],
        [
         "USA Today",
         "Only 8 US theaters are showing 'Sinners' as director Ryan Coogler intended. Here's where. - USA Today",
         "2025-04-18",
         "Amaris Encinas",
         "https://www.usatoday.com/story/entertainment/movies/2025/04/18/sinners-imax-70mm-movie-theater-locations/83161185007/",
         "This is a dummy content for the URL.",
         4,
         "0.0",
         0.0
        ],
        [
         "Who What Wear",
         "Ralph Lauren's Fall 2025 Show Solidifies the Return to Modern Romance - Who What Wear",
         "2025-04-18",
         "Kristen Nichols",
         "https://www.whowhatwear.com/fashion/runway/ralph-lauren-fall-winter-2025",
         "This is a dummy content for the URL.",
         4,
         "0.0",
         0.0
        ],
        [
         "Ringside News",
         "Spoiler: Opening Revealed for April 18 WWE SmackDown - Ringside News",
         "2025-04-18",
         "Steve Carrier",
         "https://www.ringsidenews.com/2025/04/18/spoiler-opening-revealed-for-april-18-wwe-smackdown/",
         "This is a dummy content for the URL.",
         4,
         "0.0",
         0.0
        ],
        [
         "Space.com",
         "Star Wars Celebration reveals new footage about Sigourney Weaver's 'The Mandalorian & Grogu' character - Space",
         "2025-04-18",
         "Fran Ruiz",
         "https://www.space.com/entertainment/space-movies-shows/star-wars-celebration-reveals-new-footage-about-sigourney-weavers-the-mandalorian-and-grogu-character",
         "This is a dummy content for the URL.",
         4,
         "0.0",
         0.0
        ],
        [
         "Deadline",
         "'9-1-1' Cast Say Goodbye To Co-Star Following Character's Death: Oliver Stark, Jennifer Love Hewitt & More Pay Tribute To Actor - Deadline",
         "2025-04-18",
         "Armando Tinoco",
         "http://deadline.com/2025/04/9-1-1-cast-goodbye-character-death-oliver-stark-jennifer-love-hewitt-1236372010/",
         "This is a dummy content for the URL.",
         4,
         "0.0",
         0.0
        ],
        [
         "Wrestling Inc.",
         "Opening Match For Night One WWE Of WrestleMania 41 Revealed - Wrestling Inc.",
         "2025-04-18",
         "Brie Coder",
         "https://www.wrestlinginc.com/1837895/opening-match-for-night-one-wwe-of-wrestlemania-41-revealed/",
         "This is a dummy content for the URL.",
         4,
         "0.0",
         0.0
        ],
        [
         "NBC News",
         "Judge denies Sean 'Diddy' Combs' request for two-month trial delay - NBC News",
         "2025-04-18",
         "Janelle Griffith, Adam Reiss",
         "https://www.nbcnews.com/news/crime-courts/judge-denies-sean-diddy-combs-request-two-month-trial-delay-rcna201341",
         "This is a dummy content for the URL.",
         4,
         "0.0",
         0.0
        ],
        [
         "New York Post",
         "Martha Stewart takes dig at ‘astronaut’ Katy Perry after Blue Origin flight: ‘In case you spaced out’ - New York Post",
         "2025-04-18",
         "Whitney Vasquez",
         "https://nypost.com/2025/04/18/entertainment/martha-stewart-takes-dig-at-katy-perry-after-blue-origin-flight/",
         "This is a dummy content for the URL.",
         4,
         "0.0",
         0.0
        ],
        [
         "NPR",
         "John Cena's the bad guy in his final WrestleMania. Here's why that's a big deal - NPR",
         "2025-04-18",
         "",
         "https://www.npr.org/2025/04/18/nx-s1-5366023/john-cena-wrestlemania-cody-rhodes",
         "This is a dummy content for the URL.",
         4,
         "0.0",
         0.0
        ],
        [
         "CinemaBlend",
         "SNL’s Bowen Yang Explained Why Aimee Lou Wood’s Reaction To The White Lotus Sketch Was ‘Completely Valid’ - Yahoo",
         "2025-04-18",
         "Heidi Venable",
         "https://www.cinemablend.com/television/snl-bowen-yang-why-aimee-lou-wood-reaction-white-lotus-sketch-completely-valid",
         "This is a dummy content for the URL.",
         4,
         "0.0",
         0.0
        ],
        [
         "2news.com",
         "Haley Joel Osment charged after arrest at Mammoth Mountain - KTVN",
         "2025-04-18",
         "AP",
         "https://www.2news.com/news/haley-joel-osment-charged-after-arrest-at-mammoth-mountain/article_6130ad4b-ac85-4749-b5ae-30ede2bc479f.html",
         "This is a dummy content for the URL.",
         4,
         "0.0",
         0.0
        ],
        [
         "Space.com",
         "Ryan Gosling's new 'Star Wars' movie 'Starfighter' is coming in 2027, and it has nothing to do with the Starfighter games - Space",
         "2025-04-18",
         "Fran Ruiz",
         "https://www.space.com/entertainment/space-movies-shows/ryan-goslings-new-star-wars-movie-is-called-starfighter-its-coming-in-2027-and-it-has-nothing-to-do-with-the-starfighter-games",
         "This is a dummy content for the URL.",
         4,
         "0.0",
         0.0
        ],
        [
         "Rolling Stone",
         "Gene Hackman Poked Fun at Alzheimer's in Notes Left for Wife Betsy Arakawa Before Death - Rolling Stone",
         "2025-04-18",
         "Jon Blistein",
         "http://www.rollingstone.com/tv-movies/tv-movie-news/gene-hackman-betsy-arakawa-notes-investigation-unsealed-1235320511/",
         "This is a dummy content for the URL.",
         4,
         "0.0",
         0.0
        ],
        [
         "Entertainment Weekly",
         "Bowen Yang says there was 'no hesitation' to bare it all for Wedding Banquet nude scene: 'It just felt so integral' - ew.com",
         "2025-04-18",
         "https://www.facebook.com/entertainmentweekly",
         "https://ew.com/bowen-yang-the-wedding-banquet-nude-butt-scene-11716610",
         "This is a dummy content for the URL.",
         4,
         "0.0",
         0.0
        ],
        [
         "The Ringer",
         "Bret Hart Remembers the Night Everything Changed - The Ringer",
         "2025-04-18",
         null,
         "https://www.theringer.com/2025/04/18/wwe/bret-hart-wwe-immortal-moment-award-hall-of-fame-wwe-wrestlemania-13",
         "This is a dummy content for the URL.",
         4,
         "0.0",
         0.0
        ],
        [
         "CNYcentral.com",
         "Metallica concert will impact Syracuse's economy by $15 million - WSTM",
         "2025-04-18",
         "Hannah Devanny",
         "https://cnycentral.com/news/local/metallica-concert-will-impact-syracuses-economy-by-15-million-dome-hotels-visit-easter",
         "This is a dummy content for the URL.",
         4,
         "0.0",
         0.0
        ],
        [
         "Mashable",
         "Wordle today: The answer and hints for April 18, 2025 - Mashable",
         "2025-04-18",
         "Mashable Team",
         "https://mashable.com/article/wordle-today-answer-april-18-2025",
         "This is a dummy content for the URL.",
         4,
         "0.0",
         0.0
        ],
        [
         "TVInsider",
         "'Ghosts' Star Asher Grodman on Welcoming Trevor's Daughter Abby in Latest Surprise Twist (Exclusive) - TV Insider",
         "2025-04-18",
         "Meaghan Darwish",
         "https://www.tvinsider.com/1187151/ghosts-season-4-trevor-daughter-abby-asher-grodman/",
         "This is a dummy content for the URL.",
         4,
         "0.0",
         0.0
        ],
        [
         "Cageside Seats",
         "WrestleMania 41 start time, match card: Night one - Cageside Seats",
         "2025-04-19",
         "Geno Mrosko",
         "https://www.cagesideseats.com/wwe/2025/4/19/24410067/wrestlemania-41-start-time-match-card-night-one",
         "This is a dummy content for the URL.",
         4,
         "0.0",
         0.0
        ],
        [
         "Politico",
         "The WrestleMania Presidency - Yahoo Home",
         "2025-04-19",
         "Zach Montellaro",
         "https://www.politico.com/news/magazine/2025/04/19/donald-trump-pro-wrestling-wwe-00298303",
         "This is a dummy content for the URL.",
         4,
         "0.0",
         0.0
        ],
        [
         "Variety",
         "Lady Gaga Apologizes for Mic Malfunctions During Coachella Weekend 2 Set: ‘At Least You Know I Sing Live’ - Variety",
         "2025-04-19",
         "Thania Garcia",
         "https://variety.com/2025/music/news/lady-gaga-apologizes-broken-mic-coachella-weekend-2-i-sing-live-1236373171/",
         "This is a dummy content for the URL.",
         4,
         "0.0",
         0.0
        ],
        [
         "Associated Press",
         "Universal Epic Universe is the theme park resort’s biggest bang yet in Florida - AP News",
         "2025-04-19",
         "Mike Schneider",
         "https://apnews.com/article/universal-epic-universe-florida-tourism-theme-park-666ce27bfca95cfa4d682f826cc327b5",
         "This is a dummy content for the URL.",
         4,
         "0.0",
         0.0
        ],
        [
         "The A.V. Club",
         "Mrs. Doubtfire's Matthew Lawrence expresses bad hope for an AI Robin Williams - AV Club",
         "2025-04-19",
         null,
         "https://www.avclub.com/matthew-laurence-robin-williams-artificial-intelligence-voice",
         "This is a dummy content for the URL.",
         4,
         "0.0",
         0.0
        ],
        [
         "Cageside Seats",
         "Cody Rhodes lays out Cena again after getting booed on SmackDown - Cageside Seats",
         "2025-04-19",
         "Cain A. Knight",
         "https://www.cagesideseats.com/wwe/2025/4/18/24411637/wwe-wrestlemania-smackdown-2025-cody-rhodes-booed-stands-tall-over-john-cena-final-promo-go-home",
         "This is a dummy content for the URL.",
         4,
         "0.0",
         0.0
        ],
        [
         "SheKnows",
         "Adios, Liam? Plus, We Have Big Questions About Next Week’s Forrester Fashion Show! - Soaps.com",
         "2025-04-19",
         "Richard Simms",
         "https://soaps.sheknows.com/the-bold-and-the-beautiful/soapbox/778014/who-will-save-liam/",
         "This is a dummy content for the URL.",
         4,
         "0.0",
         0.0
        ],
        [
         "Cageside Seats",
         "Randy Orton issues a bold challenge for WrestleMania 41 - Cageside Seats",
         "2025-04-19",
         "Cain A. Knight",
         "https://www.cagesideseats.com/wwe/2025/4/18/24411639/randy-orton-issues-open-challenge-wrestlemania-41-sunday-anybody-rko-surprise-mystery-opponent-vegas",
         "This is a dummy content for the URL.",
         4,
         "0.0",
         0.0
        ],
        [
         "Rolling Stone",
         "Post Malone’s Ex-Fiancée Files for Custody of Their Daughter - Rolling Stone",
         "2025-04-19",
         "Tomás Mier, Nancy Dillon",
         "http://www.rollingstone.com/music/music-news/post-malone-ex-fiancee-custody-daughter-1235321261/",
         "This is a dummy content for the URL.",
         4,
         "0.0",
         0.0
        ],
        [
         "Entertainment Weekly",
         "Wendy's clarifies that it has 'a ton of respect' for Katy Perry, but doesn't apologize after social media beef - ew.com",
         "2025-04-18",
         "https://www.facebook.com/entertainmentweekly",
         "https://ew.com/wendy-s-says-it-has-a-ton-of-respect-for-katy-perry-after-viral-beef-11718341",
         "This is a dummy content for the URL.",
         4,
         "0.0",
         0.0
        ],
        [
         "Vulture",
         "Sinners’ Post-Credits Scene and Ending, Explained - Vulture",
         "2025-04-18",
         "Fran Hoepfner",
         "http://www.vulture.com/article/sinners-post-credits-scenes-explained.html",
         "This is a dummy content for the URL.",
         4,
         "0.0",
         0.0
        ],
        [
         "TODAY",
         "Is Katy Perry An Astronaut? No, Says The Secretary Of Transportation - TODAY.com",
         "2025-04-18",
         "Alex Portée",
         "https://www.today.com/news/are-katy-perry-gayle-king-real-astronauts-rcna201936",
         "This is a dummy content for the URL.",
         4,
         "0.0",
         0.0
        ],
        [
         "Polygon",
         "New Captain America, Companion on Max, and every movie new to streaming - Polygon",
         "2025-04-18",
         "Toussaint Egan, Petrana Radulovic",
         "https://www.polygon.com/entertainment/558549/new-movies-watch-streaming-captain-america-brave-new-world-companion-room-next-door-netflix",
         "This is a dummy content for the URL.",
         4,
         "0.0",
         0.0
        ],
        [
         "Variety",
         "‘Pride and Prejudice’ at 20: Director Joe Wright on Robert Altman’s Influence and How His Anarchist Punk Sister Inspired Keira Knightley’s Elizabeth Bennet - Variety",
         "2025-04-18",
         "Abigail Lee",
         "https://variety.com/2025/film/features/pride-and-prejudice-20-years-joe-wright-production-1236372277/",
         "This is a dummy content for the URL.",
         4,
         "0.0",
         0.0
        ],
        [
         "Programminginsider.com",
         "Thursday Ratings: 'Matlock' on CBS Hits Series-High in Adults 18-49 with Inaugural Season Finale and Tops All Prime Time Telecasts - Programming Insider",
         "2025-04-18",
         "Douglas Pucci",
         "https://programminginsider.com/thursday-ratings-matlock-on-cbs-hits-series-high-in-adults-18-49-with-inaugural-season-finale-and-tops-all-prime-time-telecasts/",
         "This is a dummy content for the URL.",
         4,
         "0.0",
         0.0
        ],
        [
         "Cageside Seats",
         "WWE announces the opening matches for both nights of WrestleMania 41 - Cageside Seats",
         "2025-04-18",
         "Sean Rueter",
         "https://www.cagesideseats.com/wwe/2025/4/18/24411529/wwe-wrestlemania-41-opening-matches-both-nights-world-titles-iyo-rhea-bianca-jey-gunther",
         "This is a dummy content for the URL.",
         4,
         "0.0",
         0.0
        ],
        [
         "USA Today",
         "Only 8 US theaters are showing 'Sinners' as director Ryan Coogler intended. Here's where. - USA Today",
         "2025-04-18",
         "Amaris Encinas",
         "https://www.usatoday.com/story/entertainment/movies/2025/04/18/sinners-imax-70mm-movie-theater-locations/83161185007/",
         "This is a dummy content for the URL.",
         4,
         "0.0",
         0.0
        ],
        [
         "Who What Wear",
         "Ralph Lauren's Fall 2025 Show Solidifies the Return to Modern Romance - Who What Wear",
         "2025-04-18",
         "Kristen Nichols",
         "https://www.whowhatwear.com/fashion/runway/ralph-lauren-fall-winter-2025",
         "This is a dummy content for the URL.",
         4,
         "0.0",
         0.0
        ],
        [
         "Ringside News",
         "Spoiler: Opening Revealed for April 18 WWE SmackDown - Ringside News",
         "2025-04-18",
         "Steve Carrier",
         "https://www.ringsidenews.com/2025/04/18/spoiler-opening-revealed-for-april-18-wwe-smackdown/",
         "This is a dummy content for the URL.",
         4,
         "0.0",
         0.0
        ],
        [
         "Space.com",
         "Star Wars Celebration reveals new footage about Sigourney Weaver's 'The Mandalorian & Grogu' character - Space",
         "2025-04-18",
         "Fran Ruiz",
         "https://www.space.com/entertainment/space-movies-shows/star-wars-celebration-reveals-new-footage-about-sigourney-weavers-the-mandalorian-and-grogu-character",
         "This is a dummy content for the URL.",
         4,
         "0.0",
         0.0
        ],
        [
         "Deadline",
         "'9-1-1' Cast Say Goodbye To Co-Star Following Character's Death: Oliver Stark, Jennifer Love Hewitt & More Pay Tribute To Actor - Deadline",
         "2025-04-18",
         "Armando Tinoco",
         "http://deadline.com/2025/04/9-1-1-cast-goodbye-character-death-oliver-stark-jennifer-love-hewitt-1236372010/",
         "This is a dummy content for the URL.",
         4,
         "0.0",
         0.0
        ],
        [
         "Wrestling Inc.",
         "Opening Match For Night One WWE Of WrestleMania 41 Revealed - Wrestling Inc.",
         "2025-04-18",
         "Brie Coder",
         "https://www.wrestlinginc.com/1837895/opening-match-for-night-one-wwe-of-wrestlemania-41-revealed/",
         "This is a dummy content for the URL.",
         4,
         "0.0",
         0.0
        ],
        [
         "NBC News",
         "Judge denies Sean 'Diddy' Combs' request for two-month trial delay - NBC News",
         "2025-04-18",
         "Janelle Griffith, Adam Reiss",
         "https://www.nbcnews.com/news/crime-courts/judge-denies-sean-diddy-combs-request-two-month-trial-delay-rcna201341",
         "This is a dummy content for the URL.",
         4,
         "0.0",
         0.0
        ],
        [
         "New York Post",
         "Martha Stewart takes dig at ‘astronaut’ Katy Perry after Blue Origin flight: ‘In case you spaced out’ - New York Post",
         "2025-04-18",
         "Whitney Vasquez",
         "https://nypost.com/2025/04/18/entertainment/martha-stewart-takes-dig-at-katy-perry-after-blue-origin-flight/",
         "This is a dummy content for the URL.",
         4,
         "0.0",
         0.0
        ],
        [
         "NPR",
         "John Cena's the bad guy in his final WrestleMania. Here's why that's a big deal - NPR",
         "2025-04-18",
         "",
         "https://www.npr.org/2025/04/18/nx-s1-5366023/john-cena-wrestlemania-cody-rhodes",
         "This is a dummy content for the URL.",
         4,
         "0.0",
         0.0
        ],
        [
         "CinemaBlend",
         "SNL’s Bowen Yang Explained Why Aimee Lou Wood’s Reaction To The White Lotus Sketch Was ‘Completely Valid’ - Yahoo",
         "2025-04-18",
         "Heidi Venable",
         "https://www.cinemablend.com/television/snl-bowen-yang-why-aimee-lou-wood-reaction-white-lotus-sketch-completely-valid",
         "This is a dummy content for the URL.",
         4,
         "0.0",
         0.0
        ],
        [
         "2news.com",
         "Haley Joel Osment charged after arrest at Mammoth Mountain - KTVN",
         "2025-04-18",
         "AP",
         "https://www.2news.com/news/haley-joel-osment-charged-after-arrest-at-mammoth-mountain/article_6130ad4b-ac85-4749-b5ae-30ede2bc479f.html",
         "This is a dummy content for the URL.",
         4,
         "0.0",
         0.0
        ],
        [
         "Space.com",
         "Ryan Gosling's new 'Star Wars' movie 'Starfighter' is coming in 2027, and it has nothing to do with the Starfighter games - Space",
         "2025-04-18",
         "Fran Ruiz",
         "https://www.space.com/entertainment/space-movies-shows/ryan-goslings-new-star-wars-movie-is-called-starfighter-its-coming-in-2027-and-it-has-nothing-to-do-with-the-starfighter-games",
         "This is a dummy content for the URL.",
         4,
         "0.0",
         0.0
        ],
        [
         "Rolling Stone",
         "Gene Hackman Poked Fun at Alzheimer's in Notes Left for Wife Betsy Arakawa Before Death - Rolling Stone",
         "2025-04-18",
         "Jon Blistein",
         "http://www.rollingstone.com/tv-movies/tv-movie-news/gene-hackman-betsy-arakawa-notes-investigation-unsealed-1235320511/",
         "This is a dummy content for the URL.",
         4,
         "0.0",
         0.0
        ],
        [
         "Entertainment Weekly",
         "Bowen Yang says there was 'no hesitation' to bare it all for Wedding Banquet nude scene: 'It just felt so integral' - ew.com",
         "2025-04-18",
         "https://www.facebook.com/entertainmentweekly",
         "https://ew.com/bowen-yang-the-wedding-banquet-nude-butt-scene-11716610",
         "This is a dummy content for the URL.",
         4,
         "0.0",
         0.0
        ],
        [
         "The Ringer",
         "Bret Hart Remembers the Night Everything Changed - The Ringer",
         "2025-04-18",
         null,
         "https://www.theringer.com/2025/04/18/wwe/bret-hart-wwe-immortal-moment-award-hall-of-fame-wwe-wrestlemania-13",
         "This is a dummy content for the URL.",
         4,
         "0.0",
         0.0
        ],
        [
         "CNYcentral.com",
         "Metallica concert will impact Syracuse's economy by $15 million - WSTM",
         "2025-04-18",
         "Hannah Devanny",
         "https://cnycentral.com/news/local/metallica-concert-will-impact-syracuses-economy-by-15-million-dome-hotels-visit-easter",
         "This is a dummy content for the URL.",
         4,
         "0.0",
         0.0
        ],
        [
         "Mashable",
         "Wordle today: The answer and hints for April 18, 2025 - Mashable",
         "2025-04-18",
         "Mashable Team",
         "https://mashable.com/article/wordle-today-answer-april-18-2025",
         "This is a dummy content for the URL.",
         4,
         "0.0",
         0.0
        ],
        [
         "TVInsider",
         "'Ghosts' Star Asher Grodman on Welcoming Trevor's Daughter Abby in Latest Surprise Twist (Exclusive) - TV Insider",
         "2025-04-18",
         "Meaghan Darwish",
         "https://www.tvinsider.com/1187151/ghosts-season-4-trevor-daughter-abby-asher-grodman/",
         "This is a dummy content for the URL.",
         4,
         "0.0",
         0.0
        ],
        [
         "Associated Press",
         "Universal Epic Universe is the theme park resort’s biggest bang yet in Florida - AP News",
         "2025-04-19",
         "Mike Schneider",
         "https://apnews.com/article/universal-epic-universe-florida-tourism-theme-park-666ce27bfca95cfa4d682f826cc327b5",
         "This is a dummy content for the URL.",
         4,
         "0.0",
         0.0
        ],
        [
         "Cageside Seats",
         "Cody Rhodes lays out Cena again after getting booed on SmackDown - Cageside Seats",
         "2025-04-19",
         "Cain A. Knight",
         "https://www.cagesideseats.com/wwe/2025/4/18/24411637/wwe-wrestlemania-smackdown-2025-cody-rhodes-booed-stands-tall-over-john-cena-final-promo-go-home",
         "This is a dummy content for the URL.",
         4,
         "0.0",
         0.0
        ],
        [
         "Cageside Seats",
         "Randy Orton issues a bold challenge for WrestleMania 41 - Cageside Seats",
         "2025-04-19",
         "Cain A. Knight",
         "https://www.cagesideseats.com/wwe/2025/4/18/24411639/randy-orton-issues-open-challenge-wrestlemania-41-sunday-anybody-rko-surprise-mystery-opponent-vegas",
         "This is a dummy content for the URL.",
         4,
         "0.0",
         0.0
        ],
        [
         "Rolling Stone",
         "Post Malone’s Ex-Fiancée Files for Custody of Their Daughter - Rolling Stone",
         "2025-04-19",
         "Tomás Mier, Nancy Dillon",
         "http://www.rollingstone.com/music/music-news/post-malone-ex-fiancee-custody-daughter-1235321261/",
         "This is a dummy content for the URL.",
         4,
         "0.0",
         0.0
        ],
        [
         "Vulture",
         "Sinners’ Post-Credits Scene and Ending, Explained - Vulture",
         "2025-04-18",
         "Fran Hoepfner",
         "http://www.vulture.com/article/sinners-post-credits-scenes-explained.html",
         "This is a dummy content for the URL.",
         4,
         "0.0",
         0.0
        ],
        [
         "TODAY",
         "Is Katy Perry An Astronaut? No, Says The Secretary Of Transportation - TODAY.com",
         "2025-04-18",
         "Alex Portée",
         "https://www.today.com/news/are-katy-perry-gayle-king-real-astronauts-rcna201936",
         "This is a dummy content for the URL.",
         4,
         "0.0",
         0.0
        ],
        [
         "Polygon",
         "New Captain America, Companion on Max, and every movie new to streaming - Polygon",
         "2025-04-18",
         "Toussaint Egan, Petrana Radulovic",
         "https://www.polygon.com/entertainment/558549/new-movies-watch-streaming-captain-america-brave-new-world-companion-room-next-door-netflix",
         "This is a dummy content for the URL.",
         4,
         "0.0",
         0.0
        ],
        [
         "Variety",
         "‘Pride and Prejudice’ at 20: Director Joe Wright on Robert Altman’s Influence and How His Anarchist Punk Sister Inspired Keira Knightley’s Elizabeth Bennet - Variety",
         "2025-04-18",
         "Abigail Lee",
         "https://variety.com/2025/film/features/pride-and-prejudice-20-years-joe-wright-production-1236372277/",
         "This is a dummy content for the URL.",
         4,
         "0.0",
         0.0
        ],
        [
         "Programminginsider.com",
         "Thursday Ratings: 'Matlock' on CBS Hits Series-High in Adults 18-49 with Inaugural Season Finale and Tops All Prime Time Telecasts - Programming Insider",
         "2025-04-18",
         "Douglas Pucci",
         "https://programminginsider.com/thursday-ratings-matlock-on-cbs-hits-series-high-in-adults-18-49-with-inaugural-season-finale-and-tops-all-prime-time-telecasts/",
         "This is a dummy content for the URL.",
         4,
         "0.0",
         0.0
        ],
        [
         "Cageside Seats",
         "WWE announces the opening matches for both nights of WrestleMania 41 - Cageside Seats",
         "2025-04-18",
         "Sean Rueter",
         "https://www.cagesideseats.com/wwe/2025/4/18/24411529/wwe-wrestlemania-41-opening-matches-both-nights-world-titles-iyo-rhea-bianca-jey-gunther",
         "This is a dummy content for the URL.",
         4,
         "0.0",
         0.0
        ],
        [
         "Who What Wear",
         "Ralph Lauren's Fall 2025 Show Solidifies the Return to Modern Romance - Who What Wear",
         "2025-04-18",
         "Kristen Nichols",
         "https://www.whowhatwear.com/fashion/runway/ralph-lauren-fall-winter-2025",
         "This is a dummy content for the URL.",
         4,
         "0.0",
         0.0
        ],
        [
         "Ringside News",
         "Spoiler: Opening Revealed for April 18 WWE SmackDown - Ringside News",
         "2025-04-18",
         "Steve Carrier",
         "https://www.ringsidenews.com/2025/04/18/spoiler-opening-revealed-for-april-18-wwe-smackdown/",
         "This is a dummy content for the URL.",
         4,
         "0.0",
         0.0
        ],
        [
         "Space.com",
         "Star Wars Celebration reveals new footage about Sigourney Weaver's 'The Mandalorian & Grogu' character - Space",
         "2025-04-18",
         "Fran Ruiz",
         "https://www.space.com/entertainment/space-movies-shows/star-wars-celebration-reveals-new-footage-about-sigourney-weavers-the-mandalorian-and-grogu-character",
         "This is a dummy content for the URL.",
         4,
         "0.0",
         0.0
        ],
        [
         "Deadline",
         "'9-1-1' Cast Say Goodbye To Co-Star Following Character's Death: Oliver Stark, Jennifer Love Hewitt & More Pay Tribute To Actor - Deadline",
         "2025-04-18",
         "Armando Tinoco",
         "http://deadline.com/2025/04/9-1-1-cast-goodbye-character-death-oliver-stark-jennifer-love-hewitt-1236372010/",
         "This is a dummy content for the URL.",
         4,
         "0.0",
         0.0
        ],
        [
         "Wrestling Inc.",
         "Opening Match For Night One WWE Of WrestleMania 41 Revealed - Wrestling Inc.",
         "2025-04-18",
         "Brie Coder",
         "https://www.wrestlinginc.com/1837895/opening-match-for-night-one-wwe-of-wrestlemania-41-revealed/",
         "This is a dummy content for the URL.",
         4,
         "0.0",
         0.0
        ],
        [
         "New York Post",
         "Martha Stewart takes dig at ‘astronaut’ Katy Perry after Blue Origin flight: ‘In case you spaced out’ - New York Post",
         "2025-04-18",
         "Whitney Vasquez",
         "https://nypost.com/2025/04/18/entertainment/martha-stewart-takes-dig-at-katy-perry-after-blue-origin-flight/",
         "This is a dummy content for the URL.",
         4,
         "0.0",
         0.0
        ],
        [
         "Deadline",
         "Sean ‘Diddy’ Combs Loses Trial Delay Bid In Sex Trafficking Case; Warner Bros Discovery Comes Up Short In Keeping Docuseries Outtakes Out Of Case - Deadline",
         "2025-04-18",
         "Dominic Patten, Sean Piccoli",
         "http://deadline.com/2025/04/diddy-rape-trial-delay-denied-1236371795/",
         "This is a dummy content for the URL.",
         4,
         "0.0",
         0.0
        ],
        [
         "NPR",
         "John Cena's the bad guy in his final WrestleMania. Here's why that's a big deal - NPR",
         "2025-04-18",
         "",
         "https://www.npr.org/2025/04/18/nx-s1-5366023/john-cena-wrestlemania-cody-rhodes",
         "This is a dummy content for the URL.",
         4,
         "0.0",
         0.0
        ],
        [
         "CinemaBlend",
         "SNL’s Bowen Yang Explained Why Aimee Lou Wood’s Reaction To The White Lotus Sketch Was ‘Completely Valid’ - Yahoo",
         "2025-04-18",
         "Heidi Venable",
         "https://www.cinemablend.com/television/snl-bowen-yang-why-aimee-lou-wood-reaction-white-lotus-sketch-completely-valid",
         "This is a dummy content for the URL.",
         4,
         "0.0",
         0.0
        ],
        [
         "Page Six",
         "Drew Carey, 66, and OnlyFans star, 37, spotted on lunch date 5 years after his ex-fiancée’s murder - Page Six",
         "2025-04-18",
         "Riley Cardoza",
         "https://pagesix.com/2025/04/18/celebrity-news/drew-carey-onlyfans-star-niki-skyler-spotted-on-lunch-date/",
         "This is a dummy content for the URL.",
         4,
         "0.0",
         0.0
        ],
        [
         "Space.com",
         "Ryan Gosling's new 'Star Wars' movie 'Starfighter' is coming in 2027, and it has nothing to do with the Starfighter games - Space",
         "2025-04-18",
         "Fran Ruiz",
         "https://www.space.com/entertainment/space-movies-shows/ryan-goslings-new-star-wars-movie-is-called-starfighter-its-coming-in-2027-and-it-has-nothing-to-do-with-the-starfighter-games",
         "This is a dummy content for the URL.",
         4,
         "0.0",
         0.0
        ],
        [
         "Bleacher Report",
         "Updated WWE WrestleMania 41 Card and Predictions for Match Order - Bleacher Report",
         "2025-04-18",
         "Mike Chiari",
         "https://bleacherreport.com/articles/25184838-updated-wwe-wrestlemania-41-card-and-predictions-match-order",
         "This is a dummy content for the URL.",
         4,
         "0.0",
         0.0
        ],
        [
         "Rolling Stone",
         "Gene Hackman Poked Fun at Alzheimer's in Notes Left for Wife Betsy Arakawa Before Death - Rolling Stone",
         "2025-04-18",
         "Jon Blistein",
         "http://www.rollingstone.com/tv-movies/tv-movie-news/gene-hackman-betsy-arakawa-notes-investigation-unsealed-1235320511/",
         "This is a dummy content for the URL.",
         4,
         "0.0",
         0.0
        ],
        [
         "Interview",
         "“Humans Can Be Very Depressing”: David Cronenberg, By Jim Jarmusch - Interview Magazine",
         "2025-04-18",
         "Emily Sandstrom",
         "https://www.interviewmagazine.com/film/david-cronenberg-by-jim-jarmusch",
         "This is a dummy content for the URL.",
         4,
         "0.0",
         0.0
        ],
        [
         "Entertainment Weekly",
         "Bowen Yang says there was 'no hesitation' to bare it all for Wedding Banquet nude scene: 'It just felt so integral' - ew.com",
         "2025-04-18",
         "https://www.facebook.com/entertainmentweekly",
         "https://ew.com/bowen-yang-the-wedding-banquet-nude-butt-scene-11716610",
         "This is a dummy content for the URL.",
         4,
         "0.0",
         0.0
        ],
        [
         "The Ringer",
         "Bret Hart Remembers the Night Everything Changed - The Ringer",
         "2025-04-18",
         null,
         "https://www.theringer.com/2025/04/18/wwe/bret-hart-wwe-immortal-moment-award-hall-of-fame-wwe-wrestlemania-13",
         "This is a dummy content for the URL.",
         4,
         "0.0",
         0.0
        ],
        [
         "The Cut",
         "Your Daily Horoscope, by Madame Clairevoyant: April 18, 2025 - The Cut",
         "2025-04-18",
         "Claire Comstock-Gay",
         "http://www.thecut.com/article/your-daily-horoscope-madame-clairevoyant-april-18-2025.html",
         "This is a dummy content for the URL.",
         4,
         "0.0",
         0.0
        ],
        [
         "CNYcentral.com",
         "Metallica concert will impact Syracuse's economy by $15 million - WSTM",
         "2025-04-18",
         "Hannah Devanny",
         "https://cnycentral.com/news/local/metallica-concert-will-impact-syracuses-economy-by-15-million-dome-hotels-visit-easter",
         "This is a dummy content for the URL.",
         4,
         "0.0",
         0.0
        ],
        [
         "Mashable",
         "Wordle today: The answer and hints for April 18, 2025 - Mashable",
         "2025-04-18",
         "Mashable Team",
         "https://mashable.com/article/wordle-today-answer-april-18-2025",
         "This is a dummy content for the URL.",
         4,
         "0.0",
         0.0
        ],
        [
         "TVInsider",
         "'Ghosts' Star Asher Grodman on Welcoming Trevor's Daughter Abby in Latest Surprise Twist (Exclusive) - TV Insider",
         "2025-04-18",
         "Meaghan Darwish",
         "https://www.tvinsider.com/1187151/ghosts-season-4-trevor-daughter-abby-asher-grodman/",
         "This is a dummy content for the URL.",
         4,
         "0.0",
         0.0
        ],
        [
         "Associated Press",
         "Universal Epic Universe is the theme park resort’s biggest bang yet in Florida - AP News",
         "2025-04-19",
         "Mike Schneider",
         "https://apnews.com/article/universal-epic-universe-florida-tourism-theme-park-666ce27bfca95cfa4d682f826cc327b5",
         "This is a dummy content for the URL.",
         4,
         "0.0",
         0.0
        ],
        [
         "Cageside Seats",
         "Cody Rhodes lays out Cena again after getting booed on SmackDown - Cageside Seats",
         "2025-04-19",
         "Cain A. Knight",
         "https://www.cagesideseats.com/wwe/2025/4/18/24411637/wwe-wrestlemania-smackdown-2025-cody-rhodes-booed-stands-tall-over-john-cena-final-promo-go-home",
         "This is a dummy content for the URL.",
         4,
         "0.0",
         0.0
        ],
        [
         "Cageside Seats",
         "Randy Orton issues a bold challenge for WrestleMania 41 - Cageside Seats",
         "2025-04-19",
         "Cain A. Knight",
         "https://www.cagesideseats.com/wwe/2025/4/18/24411639/randy-orton-issues-open-challenge-wrestlemania-41-sunday-anybody-rko-surprise-mystery-opponent-vegas",
         "This is a dummy content for the URL.",
         4,
         "0.0",
         0.0
        ],
        [
         "Rolling Stone",
         "Post Malone’s Ex-Fiancée Files for Custody of Their Daughter - Rolling Stone",
         "2025-04-19",
         "Tomás Mier, Nancy Dillon",
         "http://www.rollingstone.com/music/music-news/post-malone-ex-fiancee-custody-daughter-1235321261/",
         "This is a dummy content for the URL.",
         4,
         "0.0",
         0.0
        ],
        [
         "Vulture",
         "Sinners’ Post-Credits Scene and Ending, Explained - Vulture",
         "2025-04-18",
         "Fran Hoepfner",
         "http://www.vulture.com/article/sinners-post-credits-scenes-explained.html",
         "This is a dummy content for the URL.",
         4,
         "0.0",
         0.0
        ],
        [
         "TODAY",
         "Is Katy Perry An Astronaut? No, Says The Secretary Of Transportation - TODAY.com",
         "2025-04-18",
         "Alex Portée",
         "https://www.today.com/news/are-katy-perry-gayle-king-real-astronauts-rcna201936",
         "This is a dummy content for the URL.",
         4,
         "0.0",
         0.0
        ],
        [
         "Polygon",
         "New Captain America, Companion on Max, and every movie new to streaming - Polygon",
         "2025-04-18",
         "Toussaint Egan, Petrana Radulovic",
         "https://www.polygon.com/entertainment/558549/new-movies-watch-streaming-captain-america-brave-new-world-companion-room-next-door-netflix",
         "This is a dummy content for the URL.",
         4,
         "0.0",
         0.0
        ],
        [
         "Variety",
         "‘Pride and Prejudice’ at 20: Director Joe Wright on Robert Altman’s Influence and How His Anarchist Punk Sister Inspired Keira Knightley’s Elizabeth Bennet - Variety",
         "2025-04-18",
         "Abigail Lee",
         "https://variety.com/2025/film/features/pride-and-prejudice-20-years-joe-wright-production-1236372277/",
         "This is a dummy content for the URL.",
         4,
         "0.0",
         0.0
        ],
        [
         "Programminginsider.com",
         "Thursday Ratings: 'Matlock' on CBS Hits Series-High in Adults 18-49 with Inaugural Season Finale and Tops All Prime Time Telecasts - Programming Insider",
         "2025-04-18",
         "Douglas Pucci",
         "https://programminginsider.com/thursday-ratings-matlock-on-cbs-hits-series-high-in-adults-18-49-with-inaugural-season-finale-and-tops-all-prime-time-telecasts/",
         "This is a dummy content for the URL.",
         4,
         "0.0",
         0.0
        ],
        [
         "Cageside Seats",
         "WWE announces the opening matches for both nights of WrestleMania 41 - Cageside Seats",
         "2025-04-18",
         "Sean Rueter",
         "https://www.cagesideseats.com/wwe/2025/4/18/24411529/wwe-wrestlemania-41-opening-matches-both-nights-world-titles-iyo-rhea-bianca-jey-gunther",
         "This is a dummy content for the URL.",
         4,
         "0.0",
         0.0
        ],
        [
         "Who What Wear",
         "Ralph Lauren's Fall 2025 Show Solidifies the Return to Modern Romance - Who What Wear",
         "2025-04-18",
         "Kristen Nichols",
         "https://www.whowhatwear.com/fashion/runway/ralph-lauren-fall-winter-2025",
         "This is a dummy content for the URL.",
         4,
         "0.0",
         0.0
        ],
        [
         "Ringside News",
         "Spoiler: Opening Revealed for April 18 WWE SmackDown - Ringside News",
         "2025-04-18",
         "Steve Carrier",
         "https://www.ringsidenews.com/2025/04/18/spoiler-opening-revealed-for-april-18-wwe-smackdown/",
         "This is a dummy content for the URL.",
         4,
         "0.0",
         0.0
        ],
        [
         "Space.com",
         "Star Wars Celebration reveals new footage about Sigourney Weaver's 'The Mandalorian & Grogu' character - Space",
         "2025-04-18",
         "Fran Ruiz",
         "https://www.space.com/entertainment/space-movies-shows/star-wars-celebration-reveals-new-footage-about-sigourney-weavers-the-mandalorian-and-grogu-character",
         "This is a dummy content for the URL.",
         4,
         "0.0",
         0.0
        ],
        [
         "Deadline",
         "'9-1-1' Cast Say Goodbye To Co-Star Following Character's Death: Oliver Stark, Jennifer Love Hewitt & More Pay Tribute To Actor - Deadline",
         "2025-04-18",
         "Armando Tinoco",
         "http://deadline.com/2025/04/9-1-1-cast-goodbye-character-death-oliver-stark-jennifer-love-hewitt-1236372010/",
         "This is a dummy content for the URL.",
         4,
         "0.0",
         0.0
        ],
        [
         "Wrestling Inc.",
         "Opening Match For Night One WWE Of WrestleMania 41 Revealed - Wrestling Inc.",
         "2025-04-18",
         "Brie Coder",
         "https://www.wrestlinginc.com/1837895/opening-match-for-night-one-wwe-of-wrestlemania-41-revealed/",
         "This is a dummy content for the URL.",
         4,
         "0.0",
         0.0
        ],
        [
         "New York Post",
         "Martha Stewart takes dig at ‘astronaut’ Katy Perry after Blue Origin flight: ‘In case you spaced out’ - New York Post",
         "2025-04-18",
         "Whitney Vasquez",
         "https://nypost.com/2025/04/18/entertainment/martha-stewart-takes-dig-at-katy-perry-after-blue-origin-flight/",
         "This is a dummy content for the URL.",
         4,
         "0.0",
         0.0
        ],
        [
         "Deadline",
         "Sean ‘Diddy’ Combs Loses Trial Delay Bid In Sex Trafficking Case; Warner Bros Discovery Comes Up Short In Keeping Docuseries Outtakes Out Of Case - Deadline",
         "2025-04-18",
         "Dominic Patten, Sean Piccoli",
         "http://deadline.com/2025/04/diddy-rape-trial-delay-denied-1236371795/",
         "This is a dummy content for the URL.",
         4,
         "0.0",
         0.0
        ],
        [
         "NPR",
         "John Cena's the bad guy in his final WrestleMania. Here's why that's a big deal - NPR",
         "2025-04-18",
         "",
         "https://www.npr.org/2025/04/18/nx-s1-5366023/john-cena-wrestlemania-cody-rhodes",
         "This is a dummy content for the URL.",
         4,
         "0.0",
         0.0
        ],
        [
         "CinemaBlend",
         "SNL’s Bowen Yang Explained Why Aimee Lou Wood’s Reaction To The White Lotus Sketch Was ‘Completely Valid’ - Yahoo",
         "2025-04-18",
         "Heidi Venable",
         "https://www.cinemablend.com/television/snl-bowen-yang-why-aimee-lou-wood-reaction-white-lotus-sketch-completely-valid",
         "This is a dummy content for the URL.",
         4,
         "0.0",
         0.0
        ],
        [
         "Page Six",
         "Drew Carey, 66, and OnlyFans star, 37, spotted on lunch date 5 years after his ex-fiancée’s murder - Page Six",
         "2025-04-18",
         "Riley Cardoza",
         "https://pagesix.com/2025/04/18/celebrity-news/drew-carey-onlyfans-star-niki-skyler-spotted-on-lunch-date/",
         "This is a dummy content for the URL.",
         4,
         "0.0",
         0.0
        ],
        [
         "Space.com",
         "Ryan Gosling's new 'Star Wars' movie 'Starfighter' is coming in 2027, and it has nothing to do with the Starfighter games - Space",
         "2025-04-18",
         "Fran Ruiz",
         "https://www.space.com/entertainment/space-movies-shows/ryan-goslings-new-star-wars-movie-is-called-starfighter-its-coming-in-2027-and-it-has-nothing-to-do-with-the-starfighter-games",
         "This is a dummy content for the URL.",
         4,
         "0.0",
         0.0
        ],
        [
         "Bleacher Report",
         "Updated WWE WrestleMania 41 Card and Predictions for Match Order - Bleacher Report",
         "2025-04-18",
         "Mike Chiari",
         "https://bleacherreport.com/articles/25184838-updated-wwe-wrestlemania-41-card-and-predictions-match-order",
         "This is a dummy content for the URL.",
         4,
         "0.0",
         0.0
        ],
        [
         "Rolling Stone",
         "Gene Hackman Poked Fun at Alzheimer's in Notes Left for Wife Betsy Arakawa Before Death - Rolling Stone",
         "2025-04-18",
         "Jon Blistein",
         "http://www.rollingstone.com/tv-movies/tv-movie-news/gene-hackman-betsy-arakawa-notes-investigation-unsealed-1235320511/",
         "This is a dummy content for the URL.",
         4,
         "0.0",
         0.0
        ],
        [
         "Interview",
         "“Humans Can Be Very Depressing”: David Cronenberg, By Jim Jarmusch - Interview Magazine",
         "2025-04-18",
         "Emily Sandstrom",
         "https://www.interviewmagazine.com/film/david-cronenberg-by-jim-jarmusch",
         "This is a dummy content for the URL.",
         4,
         "0.0",
         0.0
        ],
        [
         "Entertainment Weekly",
         "Bowen Yang says there was 'no hesitation' to bare it all for Wedding Banquet nude scene: 'It just felt so integral' - ew.com",
         "2025-04-18",
         "https://www.facebook.com/entertainmentweekly",
         "https://ew.com/bowen-yang-the-wedding-banquet-nude-butt-scene-11716610",
         "This is a dummy content for the URL.",
         4,
         "0.0",
         0.0
        ],
        [
         "The Ringer",
         "Bret Hart Remembers the Night Everything Changed - The Ringer",
         "2025-04-18",
         null,
         "https://www.theringer.com/2025/04/18/wwe/bret-hart-wwe-immortal-moment-award-hall-of-fame-wwe-wrestlemania-13",
         "This is a dummy content for the URL.",
         4,
         "0.0",
         0.0
        ],
        [
         "The Cut",
         "Your Daily Horoscope, by Madame Clairevoyant: April 18, 2025 - The Cut",
         "2025-04-18",
         "Claire Comstock-Gay",
         "http://www.thecut.com/article/your-daily-horoscope-madame-clairevoyant-april-18-2025.html",
         "This is a dummy content for the URL.",
         4,
         "0.0",
         0.0
        ],
        [
         "CNYcentral.com",
         "Metallica concert will impact Syracuse's economy by $15 million - WSTM",
         "2025-04-18",
         "Hannah Devanny",
         "https://cnycentral.com/news/local/metallica-concert-will-impact-syracuses-economy-by-15-million-dome-hotels-visit-easter",
         "This is a dummy content for the URL.",
         4,
         "0.0",
         0.0
        ],
        [
         "Mashable",
         "Wordle today: The answer and hints for April 18, 2025 - Mashable",
         "2025-04-18",
         "Mashable Team",
         "https://mashable.com/article/wordle-today-answer-april-18-2025",
         "This is a dummy content for the URL.",
         4,
         "0.0",
         0.0
        ],
        [
         "TVInsider",
         "'Ghosts' Star Asher Grodman on Welcoming Trevor's Daughter Abby in Latest Surprise Twist (Exclusive) - TV Insider",
         "2025-04-18",
         "Meaghan Darwish",
         "https://www.tvinsider.com/1187151/ghosts-season-4-trevor-daughter-abby-asher-grodman/",
         "This is a dummy content for the URL.",
         4,
         "0.0",
         0.0
        ],
        [
         "Bleacher Report",
         "WWE WrestleMania 41 Night 1 Results, Winners, Live Grades, Reaction and Highlights - Bleacher Report",
         "2025-04-20",
         "Erik Beaston",
         "https://bleacherreport.com/articles/25188274-wwe-wrestlemania-41-night-1-results-winners-live-grades-reaction-and-highlights",
         "This is a dummy content for the URL.",
         4,
         "0.0",
         0.0
        ],
        [
         "ESPN",
         "WrestleMania 41 LIVE: Results and analysis for Reigns vs. Punk vs. Rollins - ESPN",
         "2025-04-20",
         "ESPN staff",
         "https://www.espn.com/wwe/story/_/id/44577473/wrestlemania-41-live-results-analysis-roman-reigns-cm-punk-seth-rollins-night-1",
         "This is a dummy content for the URL.",
         4,
         "0.0",
         0.0
        ],
        [
         "Wrestlezone.com",
         "Report: WWE NXT To Team With AAA For Worlds Collide Event This Summer - Wrestlezone",
         "2025-04-19",
         "Matt Black",
         "http://www.wrestlezone.com/news/1555198-report-wwe-nxt-to-team-with-aaa-for-worlds-collide-event-this-summer",
         "This is a dummy content for the URL.",
         4,
         "0.0",
         0.0
        ],
        [
         "Yahoo Entertainment",
         "Kanye West And Bianca Censori's Relationship Takes New Turn With Latest Sighting After 'Dumping' Claims - Yahoo",
         "2025-04-19",
         "Favour Adegoke",
         "https://www.yahoo.com/entertainment/articles/kanye-west-bianca-censoris-relationship-203059271.html",
         "This is a dummy content for the URL.",
         4,
         "0.0",
         0.0
        ],
        [
         "Gizmodo.com",
         "Ryan Coogler on Sinners ‘ Personal Post-Credits Scene - Gizmodo",
         "2025-04-19",
         "Justin Carter",
         "https://gizmodo.com/ryan-coogler-on-sinners-personal-post-credits-scene-2000591819",
         "This is a dummy content for the URL.",
         4,
         "0.0",
         0.0
        ],
        [
         "Deadline",
         "Hayden Christensen Prefers Playing Anakin’s “More Heroic Side” In ‘Ahsoka’ - Deadline",
         "2025-04-19",
         "Glenn Garner",
         "http://deadline.com/2025/04/hayden-christensen-playing-anakin-more-heroic-ahsoka-1236372409/",
         "This is a dummy content for the URL.",
         4,
         "0.0",
         0.0
        ],
        [
         "Nodq.com",
         "Results of The D’Angelo Family vs. DarkState at WWE NXT Stand and Deliver 2025 - NoDQ.com",
         "2025-04-19",
         "Aaron Rift",
         "https://nodq.com/news/results-of-the-dangelo-family-vs-darkstate-at-wwe-nxt-stand-and-deliver-2025/",
         "This is a dummy content for the URL.",
         4,
         "0.0",
         0.0
        ],
        [
         "Entertainment Weekly",
         "'The Crown' star Olivia Williams says she'll never be cancer-free due to late diagnosis: 'They told me I was menopausal' - Entertainment Weekly",
         "2025-04-19",
         "https://www.facebook.com/entertainmentweekly",
         "https://ew.com/the-crown-olivia-williams-will-never-be-cancer-free-due-to-late-diagnosis-11718462",
         "This is a dummy content for the URL.",
         4,
         "0.0",
         0.0
        ],
        [
         "New York Post",
         "Hugh Jackman calls out Ryan Reynolds over ‘Deadpool & Wolverine’ scene he cut him from - New York Post",
         "2025-04-19",
         "Alexandra Bellusci",
         "https://nypost.com/2025/04/19/entertainment/hugh-jackman-calls-out-ryan-reynolds-over-deadpool-amp-wolverine-scene/",
         "This is a dummy content for the URL.",
         4,
         "0.0",
         0.0
        ],
        [
         "Wrestling Inc.",
         "Huge Update On WWE WrestleMania 41 Status Of Becky Lynch After Hall Of Fame Appearance - Wrestling Inc.",
         "2025-04-19",
         "Daisy Ruth",
         "https://www.wrestlinginc.com/1838412/huge-update-wwe-wrestlemania-41-status-becky-lynch-hall-fame-appearance/",
         "This is a dummy content for the URL.",
         4,
         "0.0",
         0.0
        ],
        [
         "Page Six",
         "'RHOC' alum Lydia McLaughlin 'devastated' after brother is fatally shot by police during traffic stop - Page Six",
         "2025-04-19",
         "Eileen Reslen",
         "https://pagesix.com/2025/04/19/celebrity-news/rhoc-alum-lydia-mclaughlin-devastated-after-brother-is-fatally-shot-by-police-during-traffic-stop/",
         "This is a dummy content for the URL.",
         4,
         "0.0",
         0.0
        ],
        [
         "Page Six",
         "Ivanka Trump and sister-in-law Karlie Kloss seen in good spirits at Costa Rica family vacation despite rumored feud - Page Six",
         "2025-04-19",
         "BreAnna Bell",
         "https://pagesix.com/2025/04/19/celebrity-news/ivanka-trump-and-karlie-kloss-seen-in-good-spirits-at-costa-rica-family-vacation-despite-rumored-feud/",
         "This is a dummy content for the URL.",
         4,
         "0.0",
         0.0
        ],
        [
         "CNN",
         "Lady Gaga apologized for mic issues at Coachella set and flexed her talent - CNN",
         "2025-04-19",
         "Dan Heching",
         "https://www.cnn.com/2025/04/19/entertainment/lady-gaga-mic-issues-coachella/index.html",
         "This is a dummy content for the URL.",
         4,
         "0.0",
         0.0
        ],
        [
         "WhatCulture",
         "5 Ups & 4 Downs From WWE Hall Of Fame 2025 (Results & Review) - WhatCulture.com",
         "2025-04-19",
         "Scott Carlson",
         "https://whatculture.com/wwe/5-ups-4-downs-from-wwe-hall-of-fame-2025-results-review",
         "This is a dummy content for the URL.",
         4,
         "0.0",
         0.0
        ],
        [
         "Rock Paper Shotgun",
         "Star Wars Zero Company looks like XCOM in a galaxy far, far away in its first trailer - Rock Paper Shotgun",
         "2025-04-19",
         "Oisin Kuhnke",
         "https://www.rockpapershotgun.com/star-wars-zero-company-looks-like-xcom-in-a-galaxy-far-far-away-in-its-first-trailer",
         "This is a dummy content for the URL.",
         4,
         "0.0",
         0.0
        ],
        [
         "SheKnows",
         "One of Taylor Swift’s Inner Circle Gave Heartbreaking Insight As To Why She’s Laying Low - SheKnows",
         "2025-04-19",
         "Maggie Clancy",
         "https://www.sheknows.com/entertainment/articles/1234869359/gracie-abrams-taylor-swift-privacy/",
         "This is a dummy content for the URL.",
         4,
         "0.0",
         0.0
        ],
        [
         "Figure Four Online",
         "NXT Stand & Deliver live results: Five title matches - F4W/WON",
         "2025-04-19",
         "Marc Quill",
         "https://www.f4wonline.com/news/nxt/nxt-results/wwe-nxt-stand-deliver-live-results-oba-femi-trick-williams-jevon-evans/",
         "This is a dummy content for the URL.",
         4,
         "0.0",
         0.0
        ],
        [
         "CNN",
         "Why the 20-year-old ‘Pride & Prejudice’ film still bewitches audiences today - CNN",
         "2025-04-19",
         "Leah Asmelash",
         "https://www.cnn.com/2025/04/19/entertainment/pride-prejudice-film-20th-anniversary-cec/index.html",
         "This is a dummy content for the URL.",
         4,
         "0.0",
         0.0
        ],
        [
         "Polygon",
         "An animated episode of Doctor Who was a dream come true for its creators - Polygon",
         "2025-04-19",
         "Susana Polo",
         "https://www.polygon.com/tv/561655/doctor-who-animated-episode-sequence-how-mr-ring-a-ding",
         "This is a dummy content for the URL.",
         4,
         "0.0",
         0.0
        ],
        [
         "Outkick.com",
         "Katy Perry Goes To Space, Lizzo Gives Her Take On Tariffs, And Waffle House Innovates - OutKick",
         "2025-04-19",
         "Matt Reigle",
         "https://www.outkick.com/culture/katy-perry-space-lizzo-tariffs-waffle-house",
         "This is a dummy content for the URL.",
         4,
         "0.0",
         0.0
        ],
        [
         "Hollywood Reporter",
         "Harvey Weinstein’s Last Stand - The Hollywood Reporter",
         "2025-04-19",
         "Winston Cho",
         "http://www.hollywoodreporter.com/news/general-news/harvey-weinstein-new-trial-1236190862/",
         "This is a dummy content for the URL.",
         4,
         "0.0",
         0.0
        ],
        [
         "Politico",
         "The WrestleMania Presidency - Yahoo Home",
         "2025-04-19",
         "Zach Montellaro",
         "https://www.politico.com/news/magazine/2025/04/19/donald-trump-pro-wrestling-wwe-00298303",
         "This is a dummy content for the URL.",
         4,
         "0.0",
         0.0
        ],
        [
         "Cageside Seats",
         "Rumor Roundup: Rey Mysterio injury, Trump at WrestleMania, WWE expansion, more! - Cageside Seats",
         "2025-04-19",
         "Randall Ortman",
         "https://www.cagesideseats.com/2025/4/19/24411577/rumor-roundup-rey-mysterio-leg-injury-wrestlemania-41-winners-trump-chelsea-green-rusev-orton-omos",
         "This is a dummy content for the URL.",
         4,
         "0.0",
         0.0
        ],
        [
         "Associated Press",
         "Universal Epic Universe is the theme park resort’s biggest bang yet in Florida - AP News",
         "2025-04-19",
         "Mike Schneider",
         "https://apnews.com/article/universal-epic-universe-florida-tourism-theme-park-666ce27bfca95cfa4d682f826cc327b5",
         "This is a dummy content for the URL.",
         4,
         "0.0",
         0.0
        ],
        [
         "Cageside Seats",
         "Cody Rhodes lays out Cena again after getting booed on SmackDown - Cageside Seats",
         "2025-04-19",
         "Cain A. Knight",
         "https://www.cagesideseats.com/wwe/2025/4/18/24411637/wwe-wrestlemania-smackdown-2025-cody-rhodes-booed-stands-tall-over-john-cena-final-promo-go-home",
         "This is a dummy content for the URL.",
         4,
         "0.0",
         0.0
        ],
        [
         "SheKnows",
         "Adios, Liam? Plus, We Have Big Questions About Next Week’s Forrester Fashion Show! - Soaps.com",
         "2025-04-19",
         "Richard Simms",
         "https://soaps.sheknows.com/the-bold-and-the-beautiful/soapbox/778014/who-will-save-liam/",
         "This is a dummy content for the URL.",
         4,
         "0.0",
         0.0
        ],
        [
         "Entertainment Weekly",
         "Liza Minnelli performs for first time in years with lip-sync to 'Ring Them Bells' at RuPaul's Drag Race finale - Entertainment Weekly",
         "2025-04-19",
         "https://www.facebook.com/entertainmentweekly",
         "https://ew.com/liza-minnelli-performs-rupauls-drag-race-finale-11718398",
         "This is a dummy content for the URL.",
         4,
         "0.0",
         0.0
        ],
        [
         "Wrestlezone.com",
         "Randy Orton’s WWE WrestleMania 41 Match Revealed - Wrestlezone",
         "2025-04-19",
         "Matt Black",
         "http://www.wrestlezone.com/news/1555036-randy-ortons-wwe-wrestlemania-41-match-revealed",
         "This is a dummy content for the URL.",
         4,
         "0.0",
         0.0
        ],
        [
         "Associated Press",
         "Universal Epic Universe is the theme park resort’s biggest bang yet in Florida - AP News",
         "2025-04-19",
         "Mike Schneider",
         "https://apnews.com/article/universal-epic-universe-florida-tourism-theme-park-666ce27bfca95cfa4d682f826cc327b5",
         "This is a dummy content for the URL.",
         4,
         "0.0",
         0.0
        ],
        [
         "Cageside Seats",
         "Cody Rhodes lays out Cena again after getting booed on SmackDown - Cageside Seats",
         "2025-04-19",
         "Cain A. Knight",
         "https://www.cagesideseats.com/wwe/2025/4/18/24411637/wwe-wrestlemania-smackdown-2025-cody-rhodes-booed-stands-tall-over-john-cena-final-promo-go-home",
         "This is a dummy content for the URL.",
         4,
         "0.0",
         0.0
        ],
        [
         "Cageside Seats",
         "Randy Orton issues a bold challenge for WrestleMania 41 - Cageside Seats",
         "2025-04-19",
         "Cain A. Knight",
         "https://www.cagesideseats.com/wwe/2025/4/18/24411639/randy-orton-issues-open-challenge-wrestlemania-41-sunday-anybody-rko-surprise-mystery-opponent-vegas",
         "This is a dummy content for the URL.",
         4,
         "0.0",
         0.0
        ],
        [
         "Vulture",
         "Sinners’ Post-Credits Scene and Ending, Explained - Vulture",
         "2025-04-18",
         "Fran Hoepfner",
         "http://www.vulture.com/article/sinners-post-credits-scenes-explained.html",
         "This is a dummy content for the URL.",
         4,
         "0.0",
         0.0
        ],
        [
         "TODAY",
         "Is Katy Perry An Astronaut? No, Says The Secretary Of Transportation - TODAY.com",
         "2025-04-18",
         "Alex Portée",
         "https://www.today.com/news/are-katy-perry-gayle-king-real-astronauts-rcna201936",
         "This is a dummy content for the URL.",
         4,
         "0.0",
         0.0
        ],
        [
         "Ringside News",
         "WWE SmackDown Spoiler Lineup for April 18, 2025: Full Match Card and Backstage Notes Revealed - Ringside News",
         "2025-04-18",
         "Steve Carrier",
         "https://www.ringsidenews.com/2025/04/18/wwe-smackdown-spoiler-lineup-for-april-18-2025-full-match-card-and-backstage-notes-revealed/",
         "This is a dummy content for the URL.",
         4,
         "0.0",
         0.0
        ],
        [
         "Programminginsider.com",
         "Thursday Ratings: 'Matlock' on CBS Hits Series-High in Adults 18-49 with Inaugural Season Finale and Tops All Prime Time Telecasts - Programming Insider",
         "2025-04-18",
         "Douglas Pucci",
         "https://programminginsider.com/thursday-ratings-matlock-on-cbs-hits-series-high-in-adults-18-49-with-inaugural-season-finale-and-tops-all-prime-time-telecasts/",
         "This is a dummy content for the URL.",
         4,
         "0.0",
         0.0
        ],
        [
         "Cageside Seats",
         "WWE announces the opening matches for both nights of WrestleMania 41 - Cageside Seats",
         "2025-04-18",
         "Sean Rueter",
         "https://www.cagesideseats.com/wwe/2025/4/18/24411529/wwe-wrestlemania-41-opening-matches-both-nights-world-titles-iyo-rhea-bianca-jey-gunther",
         "This is a dummy content for the URL.",
         4,
         "0.0",
         0.0
        ],
        [
         "Space.com",
         "Star Wars Celebration reveals new footage about Sigourney Weaver's 'The Mandalorian & Grogu' character - Space",
         "2025-04-18",
         "Fran Ruiz",
         "https://www.space.com/entertainment/space-movies-shows/star-wars-celebration-reveals-new-footage-about-sigourney-weavers-the-mandalorian-and-grogu-character",
         "This is a dummy content for the URL.",
         4,
         "0.0",
         0.0
        ],
        [
         "Deadline",
         "'9-1-1' Cast Say Goodbye To Co-Star Following Character's Death: Oliver Stark, Jennifer Love Hewitt & More Pay Tribute To Actor - Deadline",
         "2025-04-18",
         "Armando Tinoco",
         "http://deadline.com/2025/04/9-1-1-cast-goodbye-character-death-oliver-stark-jennifer-love-hewitt-1236372010/",
         "This is a dummy content for the URL.",
         4,
         "0.0",
         0.0
        ],
        [
         "Variety",
         "Joan Chen and Youn Yuh-jung on Meeting for the First Time Filming ‘The Wedding Banquet’ and Wanting to Collaborate Again: ‘But We Better Hurry’ - Variety",
         "2025-04-18",
         "Jenelle Riley",
         "https://variety.com/2025/film/features/wedding-banquet-joan-chen-youn-yuh-jung-1236372887/",
         "This is a dummy content for the URL.",
         4,
         "0.0",
         0.0
        ],
        [
         "New York Post",
         "Martha Stewart takes dig at ‘astronaut’ Katy Perry after Blue Origin flight: ‘In case you spaced out’ - New York Post",
         "2025-04-18",
         "Whitney Vasquez",
         "https://nypost.com/2025/04/18/entertainment/martha-stewart-takes-dig-at-katy-perry-after-blue-origin-flight/",
         "This is a dummy content for the URL.",
         4,
         "0.0",
         0.0
        ],
        [
         "Deadline",
         "Sean ‘Diddy’ Combs Loses Trial Delay Bid In Sex Trafficking Case; Warner Bros Discovery Comes Up Short In Keeping Docuseries Outtakes Out Of Case - Deadline",
         "2025-04-18",
         "Dominic Patten, Sean Piccoli",
         "http://deadline.com/2025/04/diddy-rape-trial-delay-denied-1236371795/",
         "This is a dummy content for the URL.",
         4,
         "0.0",
         0.0
        ],
        [
         "NPR",
         "John Cena's the bad guy in his final WrestleMania. Here's why that's a big deal - NPR",
         "2025-04-18",
         "",
         "https://www.npr.org/2025/04/18/nx-s1-5366023/john-cena-wrestlemania-cody-rhodes",
         "This is a dummy content for the URL.",
         4,
         "0.0",
         0.0
        ],
        [
         "CinemaBlend",
         "SNL’s Bowen Yang Explained Why Aimee Lou Wood’s Reaction To The White Lotus Sketch Was ‘Completely Valid’ - Yahoo",
         "2025-04-18",
         "Heidi Venable",
         "https://www.cinemablend.com/television/snl-bowen-yang-why-aimee-lou-wood-reaction-white-lotus-sketch-completely-valid",
         "This is a dummy content for the URL.",
         4,
         "0.0",
         0.0
        ],
        [
         "Page Six",
         "Anne Hathaway sparks plastic surgery speculation with taut face at Ralph Lauren fashion show: ‘Money well spent’ - Yahoo",
         "2025-04-18",
         "Nicki Cox",
         "https://pagesix.com/2025/04/18/entertainment/anne-hathaway-sparks-plastic-surgery-speculation-with-taut-face-at-ralph-lauren-fashion-show/?utm_source=yahoo&amp;utm_campaign=pagesix&amp;utm_medium=referral",
         "This is a dummy content for the URL.",
         4,
         "0.0",
         0.0
        ],
        [
         "Page Six",
         "Drew Carey, 66, and OnlyFans star, 37, spotted on lunch date 5 years after his ex-fiancée’s murder - Page Six",
         "2025-04-18",
         "Riley Cardoza",
         "https://pagesix.com/2025/04/18/celebrity-news/drew-carey-onlyfans-star-niki-skyler-spotted-on-lunch-date/",
         "This is a dummy content for the URL.",
         4,
         "0.0",
         0.0
        ],
        [
         "Space.com",
         "Ryan Gosling's new 'Star Wars' movie 'Starfighter' is coming in 2027, and it has nothing to do with the Starfighter games - Space",
         "2025-04-18",
         "Fran Ruiz",
         "https://www.space.com/entertainment/space-movies-shows/ryan-goslings-new-star-wars-movie-is-called-starfighter-its-coming-in-2027-and-it-has-nothing-to-do-with-the-starfighter-games",
         "This is a dummy content for the URL.",
         4,
         "0.0",
         0.0
        ],
        [
         "Bleacher Report",
         "Updated WWE WrestleMania 41 Card and Predictions for Match Order - Bleacher Report",
         "2025-04-18",
         "Mike Chiari",
         "https://bleacherreport.com/articles/25184838-updated-wwe-wrestlemania-41-card-and-predictions-match-order",
         "This is a dummy content for the URL.",
         4,
         "0.0",
         0.0
        ],
        [
         "Rolling Stone",
         "Gene Hackman Poked Fun at Alzheimer's in Notes Left for Wife Betsy Arakawa Before Death - Rolling Stone",
         "2025-04-18",
         "Jon Blistein",
         "http://www.rollingstone.com/tv-movies/tv-movie-news/gene-hackman-betsy-arakawa-notes-investigation-unsealed-1235320511/",
         "This is a dummy content for the URL.",
         4,
         "0.0",
         0.0
        ],
        [
         "Interview",
         "“Humans Can Be Very Depressing”: David Cronenberg, By Jim Jarmusch - Interview Magazine",
         "2025-04-18",
         "Emily Sandstrom",
         "https://www.interviewmagazine.com/film/david-cronenberg-by-jim-jarmusch",
         "This is a dummy content for the URL.",
         4,
         "0.0",
         0.0
        ],
        [
         "Deadline",
         "Patrick Adiarte Dies: ‘M*A*S*H’ Actor Was 82 - Deadline",
         "2025-04-18",
         "Caroline Frost",
         "http://deadline.com/2025/04/patrick-adiarte-dead-mash-actor-82-1236371712/",
         "This is a dummy content for the URL.",
         4,
         "0.0",
         0.0
        ],
        [
         "CNYcentral.com",
         "Metallica concert will impact Syracuse's economy by $15 million - WSTM",
         "2025-04-18",
         "Hannah Devanny",
         "https://cnycentral.com/news/local/metallica-concert-will-impact-syracuses-economy-by-15-million-dome-hotels-visit-easter",
         "This is a dummy content for the URL.",
         4,
         "0.0",
         0.0
        ],
        [
         "Deadline",
         "‘Law & Order’s Maura Tierney Talks Crossover With ‘SVU’ & Its Unexpected Tie To ‘ER’ - Deadline",
         "2025-04-18",
         "Lynette Rice",
         "http://deadline.com/2025/04/law-and-orders-svu-maura-tierney-explains-crossover-1236371324/",
         "This is a dummy content for the URL.",
         4,
         "0.0",
         0.0
        ],
        [
         "TVInsider",
         "'Ghosts' Star Asher Grodman on Welcoming Trevor's Daughter Abby in Latest Surprise Twist (Exclusive) - TV Insider",
         "2025-04-18",
         "Meaghan Darwish",
         "https://www.tvinsider.com/1187151/ghosts-season-4-trevor-daughter-abby-asher-grodman/",
         "This is a dummy content for the URL.",
         4,
         "0.0",
         0.0
        ],
        [
         "Cageside Seats",
         "Rumor Roundup: Becky Lynch return, Bayley sympathy, Rey Mysterio injury, AAA, more! - Cageside Seats",
         "2025-04-21",
         "Randall Ortman",
         "https://www.cagesideseats.com/2025/4/21/24412839/rumor-roundup-april-21-2025-becky-lynch-return-bayley-sympathy-rey-mysterio-injury-aaa-deal",
         "This is a dummy content for the URL.",
         4,
         "0.0",
         0.0
        ],
        [
         "CBS Sports",
         "WWE WrestleMania 41 results, grades: John Cena wins record 17th world title, ends Cody Rhodes' year-long reign - CBS Sports",
         "2025-04-21",
         "Brent Brookhouse",
         "https://www.cbssports.com/wwe/news/wwe-wrestlemania-41-results-grades-john-cena-wins-record-17th-world-title-ends-cody-rhodes-year-long-reign/live/",
         "This is a dummy content for the URL.",
         4,
         "0.0",
         0.0
        ],
        [
         "Variety",
         "Pedro Pascal Speaks Out After ‘The Last of Us’ Twist and Says ‘I’m in Active Denial’; Bella Ramsey ‘Sobbed’ Reading It: A ‘Brilliant Achievement’ If It’s ‘Painful for People’ - Variety",
         "2025-04-21",
         "Zack Sharf",
         "https://variety.com/2025/tv/news/pedro-pascal-bella-ramsey-joel-death-last-of-us-1236373640/",
         "This is a dummy content for the URL.",
         4,
         "0.0",
         0.0
        ],
        [
         "Just Jared",
         "Kristen Stewart & Dylan Meyer Tie the Knot on Easter Sunday, Wedding Details Revealed! - Just Jared",
         "2025-04-21",
         null,
         "https://www.justjared.com/2025/04/20/kristen-stewart-dylan-meyer-tie-the-knot-on-easter-sunday-wedding-details-revealed/",
         "This is a dummy content for the URL.",
         4,
         "0.0",
         0.0
        ],
        [
         "Yahoo Entertainment",
         "WWE WrestleMania 41 Night 2 live results: Updates, winners and losers, highlights, grades and analysis - Yahoo Sports",
         "2025-04-21",
         "Anthony Sulla-Heffinger",
         "https://sports.yahoo.com/wrestling/live/wwe-wrestlemania-41-night-2-results-grades-analysis-john-cena-beats-cody-rhodes-in-lackluster-headliner-the-rock-no-shows-080034111.html",
         "This is a dummy content for the URL.",
         4,
         "0.0",
         0.0
        ],
        [
         "CBS Sports",
         "'Stone Cold' Steve Austin crashes ATV into barricade at WWE WrestleMania 41, nearly hits fan at ringside - CBS Sports",
         "2025-04-21",
         "",
         "https://www.cbssports.com/wwe/news/stone-cold-steve-austin-crashes-atv-into-barricade-at-wwe-wrestlemania-41-nearly-hits-fan-at-ringside/",
         "This is a dummy content for the URL.",
         4,
         "0.0",
         0.0
        ],
        [
         "Nodq.com",
         "Results of AJ Styles vs. Logan Paul at WWE WrestleMania 41 Sunday - NoDQ.com",
         "2025-04-21",
         "Aaron Rift",
         "https://nodq.com/news/results-of-aj-styles-vs-logan-paul-at-wwe-wrestlemania-41-sunday/",
         "This is a dummy content for the URL.",
         4,
         "0.0",
         0.0
        ],
        [
         "Cageside Seats",
         "TNA Champion answers Randy Orton’s open challenge at WrestleMania 41 - Cageside Seats",
         "2025-04-21",
         "Geno Mrosko",
         "https://www.cagesideseats.com/wwe/2025/4/20/24412664/wrestlemania-41-results-tna-champion-joe-hendry-randy-orton-open-challenge",
         "This is a dummy content for the URL.",
         4,
         "0.0",
         0.0
        ],
        [
         "Hollywood Reporter",
         "Bowen Yang Says Aimee Lou Wood’s Criticism of ‘White Lotus’ Parody on ‘SNL’ Is “Completely Valid” - The Hollywood Reporter",
         "2025-04-21",
         "Carly Thomas",
         "http://www.hollywoodreporter.com/tv/tv-news/bowen-yang-reacts-aimee-lou-wood-criticism-white-lotus-snl-1236196342/",
         "This is a dummy content for the URL.",
         4,
         "0.0",
         0.0
        ],
        [
         "Vulture",
         "Elizabeth Hurley and Billy Ray Cyrus Hard Launch With Easter IG Post - Vulture",
         "2025-04-21",
         "Bethy Squires",
         "http://www.vulture.com/article/elizabeth-hurley-billy-ray-cyrus-dating.html",
         "This is a dummy content for the URL.",
         4,
         "0.0",
         0.0
        ],
        [
         "Cageside Seats",
         "Dominik Mysterio wins the Intercontinental championship at WrestleMania 41 - Cageside Seats",
         "2025-04-21",
         "Geno Mrosko",
         "https://www.cagesideseats.com/wwe/2025/4/20/24412666/dominik-mysterio-wins-intercontinental-championship-wrestlemania-41-finn-balor-bron-breakker-penta",
         "This is a dummy content for the URL.",
         4,
         "0.0",
         0.0
        ],
        [
         "Nodq.com",
         "Results of Drew McIntyre vs. Damian Priest at WWE WrestleMania 41 Sunday - NoDQ.com",
         "2025-04-20",
         "Aaron Rift",
         "https://nodq.com/news/results-of-drew-mcintyre-vs-damian-priest-at-wwe-wrestlemania-41-sunday/",
         "This is a dummy content for the URL.",
         4,
         "0.0",
         0.0
        ],
        [
         "Entertainment Weekly",
         "'Sinners' sinks its teeth into the top spot at the Easter weekend domestic box office - Entertainment Weekly",
         "2025-04-20",
         "https://www.facebook.com/entertainmentweekly",
         "https://ew.com/sinners-takes-top-spot-at-the-easter-weekend-domestic-box-office-11718589",
         "This is a dummy content for the URL.",
         4,
         "0.0",
         0.0
        ],
        [
         "Page Six",
         "Margot Robbie flaunts fit physique during Australian beach outing with husband Tom Ackerley - Yahoo",
         "2025-04-20",
         "Vanessa Serna",
         "https://pagesix.com/2025/04/20/celebrity-news/margot-robbie-flaunts-fit-physique-during-australian-beach-outing/?utm_source=yahoo&amp;utm_campaign=pagesix&amp;utm_medium=referral",
         "This is a dummy content for the URL.",
         4,
         "0.0",
         0.0
        ],
        [
         "Variety",
         "Rhea Ripley, Bianca Belair and Iyo Sky on Their WrestleMania Match - Variety",
         "2025-04-20",
         "Lauren Coates",
         "https://variety.com/2025/tv/news/rhea-ripley-bianca-belair-iyo-sky-interview-wrestlemania-41-1236372227/",
         "This is a dummy content for the URL.",
         4,
         "0.0",
         0.0
        ],
        [
         "Wrestlezone.com",
         "Tiffany Stratton Provides Update On Her Teeth Following WWE WrestleMania 41 - Wrestlezone",
         "2025-04-20",
         "Matt Black",
         "http://www.wrestlezone.com/news/1555314-tiffany-stratton-provides-update-on-her-teeth-following-wwe-wrestlemania-41",
         "This is a dummy content for the URL.",
         4,
         "0.0",
         0.0
        ],
        [
         "Page Six",
         "Joe Rogan mocks space ‘guru’ Katy Perry and all-female Blue Origin flight: ‘Very profound’ - Page Six",
         "2025-04-20",
         "Vanessa Serna",
         "https://pagesix.com/2025/04/20/celebrity-news/joe-rogan-mocks-space-guru-katy-perry-and-all-female-blue-origin-flight/",
         "This is a dummy content for the URL.",
         4,
         "0.0",
         0.0
        ],
        [
         "Deadline",
         "King Charles Extends Olive Branch To Disgraced Brother Prince Andrew At Easter Church Service - Deadline",
         "2025-04-20",
         "Caroline Frost",
         "http://deadline.com/2025/04/king-charles-camilla-easter-church-service-prince-andrew-1236372562/",
         "This is a dummy content for the URL.",
         4,
         "0.0",
         0.0
        ],
        [
         "syracuse.com",
         "Metallica slays record Syracuse crowd with intensity, hits (review, photos, setlist) - Syracuse.com",
         "2025-04-20",
         "Geoff Herbert | gherbert@syracuse.com",
         "https://www.syracuse.com/entertainment/2025/04/metallica-slays-record-syracuse-crowd-with-intensity-hits-review-photos-setlist.html",
         "This is a dummy content for the URL.",
         4,
         "0.0",
         0.0
        ],
        [
         "Ringside News",
         "Jey Uso’s WrestleMania 41 Victory Backfires Online With 2-to-1 Dislike Ratio - Ringside News",
         "2025-04-20",
         "Subhojeet Mukherjee",
         "https://www.ringsidenews.com/2025/04/20/jey-usos-wrestlemania-41-victory-backfires-online-with-2-to-1-dislike-ratio/",
         "This is a dummy content for the URL.",
         4,
         "0.0",
         0.0
        ],
        [
         "USA Today",
         "Meet Taurus, the Zodiac's loyal bull: The sign's personality traits, dates - USA Today",
         "2025-04-20",
         "Olivia Munson",
         "https://www.usatoday.com/story/life/2025/04/20/taurus-zodiac-sign-traits-personality-dates/77780642007/",
         "This is a dummy content for the URL.",
         4,
         "0.0",
         0.0
        ],
        [
         "Yahoo Entertainment",
         "WWE WrestleMania 41 Night 2 results, grades, analysis: John Cena beats Cody Rhodes in lackluster headliner; The Rock no-shows - Yahoo Sports",
         "2025-04-21",
         "Anthony Sulla-Heffinger",
         "https://sports.yahoo.com/wrestling/live/wwe-wrestlemania-41-night-2-results-grades-analysis-john-cena-beats-cody-rhodes-in-lackluster-headliner-the-rock-no-shows-080034111.html",
         "This is a dummy content for the URL.",
         4,
         "0.0",
         0.0
        ],
        [
         "CBS Sports",
         "'Stone Cold' Steve Austin crashes ATV into barricade at WWE WrestleMania 41, nearly hits fan at ringside - CBS Sports",
         "2025-04-21",
         "",
         "https://www.cbssports.com/wwe/news/stone-cold-steve-austin-crashes-atv-into-barricade-at-wwe-wrestlemania-41-nearly-hits-fan-at-ringside/",
         "This is a dummy content for the URL.",
         4,
         "0.0",
         0.0
        ],
        [
         "CBS Sports",
         "WWE WrestleMania 41 results: Live updates, grades, Night 2 recap, highlights, 2025 match card, start time - CBS Sports",
         "2025-04-21",
         "Brent Brookhouse",
         "https://www.cbssports.com/wwe/news/wwe-wrestlemania-41-results-grades-john-cena-wins-record-17th-world-title-ends-cody-rhodes-year-long-reign/live/",
         "This is a dummy content for the URL.",
         4,
         "0.0",
         0.0
        ],
        [
         "Hollywood Reporter",
         "Bowen Yang Says Aimee Lou Wood’s Criticism of ‘White Lotus’ Parody on ‘SNL’ Is “Completely Valid” - The Hollywood Reporter",
         "2025-04-21",
         "Carly Thomas",
         "http://www.hollywoodreporter.com/tv/tv-news/bowen-yang-reacts-aimee-lou-wood-criticism-white-lotus-snl-1236196342/",
         "This is a dummy content for the URL.",
         4,
         "0.0",
         0.0
        ],
        [
         "Cageside Seats",
         "Dominik Mysterio wins the Intercontinental championship at WrestleMania 41 - Cageside Seats",
         "2025-04-21",
         "Geno Mrosko",
         "https://www.cagesideseats.com/wwe/2025/4/20/24412666/dominik-mysterio-wins-intercontinental-championship-wrestlemania-41-finn-balor-bron-breakker-penta",
         "This is a dummy content for the URL.",
         4,
         "0.0",
         0.0
        ],
        [
         "Nodq.com",
         "Results of Drew McIntyre vs. Damian Priest at WWE WrestleMania 41 Sunday - NoDQ.com",
         "2025-04-20",
         "Aaron Rift",
         "https://nodq.com/news/results-of-drew-mcintyre-vs-damian-priest-at-wwe-wrestlemania-41-sunday/",
         "This is a dummy content for the URL.",
         4,
         "0.0",
         0.0
        ],
        [
         "Wrestling Inc.",
         "Major Metal Band To Play Damian Priest To The Ring At WWE WrestleMania 41 Night 2 - Wrestling Inc.",
         "2025-04-20",
         "Daisy Ruth",
         "https://www.wrestlinginc.com/1839069/major-metal-band-play-damian-priest-ring-wwe-wrestlemania-41-night-2/",
         "This is a dummy content for the URL.",
         4,
         "0.0",
         0.0
        ],
        [
         "Billboard",
         "Billy Ray Cyrus & Elizabeth Hurley Share a Kiss in Instagram Easter Photo - Billboard",
         "2025-04-20",
         "Ashley Iasimone",
         "http://www.billboard.com/music/music-news/billy-ray-cyrus-elizabeth-hurley-kiss-photo-easter-1235950960/",
         "This is a dummy content for the URL.",
         4,
         "0.0",
         0.0
        ],
        [
         "Wrestletalk.com",
         "Randy Orton WWE WrestleMania 41 Match Update - WrestleTalk",
         "2025-04-20",
         "Liam",
         "https://wrestletalk.com/news/randy-orton-wwe-wrestlemania-41-match/",
         "This is a dummy content for the URL.",
         4,
         "0.0",
         0.0
        ],
        [
         "Variety",
         "Rhea Ripley, Bianca Belair and Iyo Sky on Their WrestleMania Match - Variety",
         "2025-04-20",
         "Lauren Coates",
         "https://variety.com/2025/tv/news/rhea-ripley-bianca-belair-iyo-sky-interview-wrestlemania-41-1236372227/",
         "This is a dummy content for the URL.",
         4,
         "0.0",
         0.0
        ],
        [
         "411mania.com",
         "More Details on WWE’s Acquisition of AAA, Note on Alberto El Patron - 411MANIA",
         "2025-04-20",
         null,
         "https://411mania.com/wrestling/more-wwe-acquisition-aaa-note-alberto-el-patron/",
         "This is a dummy content for the URL.",
         4,
         "0.0",
         0.0
        ],
        [
         "Page Six",
         "Joe Rogan mocks space ‘guru’ Katy Perry and all-female Blue Origin flight: ‘Very profound’ - Page Six",
         "2025-04-20",
         "Vanessa Serna",
         "https://pagesix.com/2025/04/20/celebrity-news/joe-rogan-mocks-space-guru-katy-perry-and-all-female-blue-origin-flight/",
         "This is a dummy content for the URL.",
         4,
         "0.0",
         0.0
        ],
        [
         "Boxoffice Pro",
         "Weekend Box Office: SINNERS Busts MINECRAFT’s Blocks to Land #1 Spot - boxofficepro.com",
         "2025-04-20",
         "Boxoffice Staff",
         "https://www.boxofficepro.com/weekend-box-office-sinners-busts-minecrafts-blocks-to-land-1-spot/",
         "This is a dummy content for the URL.",
         4,
         "0.0",
         0.0
        ],
        [
         "Cageside Seats",
         "Tiffany Stratton confirms she still has her teeth after WrestleMania 41 - Cageside Seats",
         "2025-04-20",
         "Geno Mrosko",
         "https://www.cagesideseats.com/wwe/2025/4/20/24412402/tiffany-stratton-teeth-wrestlemania-41-charlotte-flair-match",
         "This is a dummy content for the URL.",
         4,
         "0.0",
         0.0
        ],
        [
         "Men's Journal",
         "Jennifer Garner Makes Decision on Possibly Getting Back With Ben Affleck - Yahoo",
         "2025-04-20",
         "Andrew Holleran",
         "https://www.mensjournal.com/entertainment/jennifer-garner-makes-decision-on-possibly-getting-back-with-ben-affleck",
         "This is a dummy content for the URL.",
         4,
         "0.0",
         0.0
        ],
        [
         "SEScoops",
         "A Step Slower: John Cena Gets Candid About Wrestling Retirement Before Final WrestleMania - SEScoops",
         "2025-04-20",
         "https://www.facebook.com/authoranutosh/",
         "https://www.sescoops.com/news/wwe/john-cena-wrestling-retirement-final-wrestlemania/",
         "This is a dummy content for the URL.",
         4,
         "0.0",
         0.0
        ],
        [
         "Deadline",
         "King Charles Extends Olive Branch To Disgraced Brother Prince Andrew At Easter Church Service - Deadline",
         "2025-04-20",
         "Caroline Frost",
         "http://deadline.com/2025/04/king-charles-camilla-easter-church-service-prince-andrew-1236372562/",
         "This is a dummy content for the URL.",
         4,
         "0.0",
         0.0
        ],
        [
         "syracuse.com",
         "Metallica slays record Syracuse crowd with intensity, hits (review, photos, setlist) - Syracuse.com",
         "2025-04-20",
         "Geoff Herbert | gherbert@syracuse.com",
         "https://www.syracuse.com/entertainment/2025/04/metallica-slays-record-syracuse-crowd-with-intensity-hits-review-photos-setlist.html",
         "This is a dummy content for the URL.",
         4,
         "0.0",
         0.0
        ],
        [
         "New York Post",
         "Actress Darryl Hannah claims first Trump administration tried ‘every trick’ to mess up hubby Neil Young while applying for citizenship: report - Yahoo",
         "2025-04-20",
         "Shane Galvin",
         "https://nypost.com/2025/04/20/entertainment/actress-darryl-hannah-claims-hubby-neil-young-was-harassed-by-trump-admin-while-applying-for-citizenship-report/?utm_source=yahoo&amp;utm_campaign=nypost&amp;utm_medium=referral",
         "This is a dummy content for the URL.",
         4,
         "0.0",
         0.0
        ],
        [
         "Wrestling Inc.",
         "WWE NXT Stand & Deliver 2025: 3 Things We Hated And 3 Things We Loved - Wrestling Inc.",
         "2025-04-20",
         "Wrestling Inc. Staff",
         "https://www.wrestlinginc.com/1838584/wwe-nxt-stand-deliver-2025-3-things-we-hated-3-things-we-loved/",
         "This is a dummy content for the URL.",
         4,
         "0.0",
         0.0
        ],
        [
         "Nodq.com",
         "Results of Jade Cargill vs. Naomi at WWE WrestleMania 41 Saturday - NoDQ.com",
         "2025-04-20",
         "Aaron Rift",
         "https://nodq.com/news/results-of-jade-cargill-vs-naomi-at-wwe-wrestlemania-41-saturday/",
         "This is a dummy content for the URL.",
         4,
         "0.0",
         0.0
        ]
       ],
       "datasetInfos": [
        {
         "name": "_sqldf",
         "schema": {
          "fields": [
           {
            "metadata": {},
            "name": "source",
            "nullable": true,
            "type": "string"
           },
           {
            "metadata": {},
            "name": "title",
            "nullable": true,
            "type": "string"
           },
           {
            "metadata": {},
            "name": "date_posted",
            "nullable": true,
            "type": "date"
           },
           {
            "metadata": {},
            "name": "author",
            "nullable": true,
            "type": "string"
           },
           {
            "metadata": {},
            "name": "url",
            "nullable": true,
            "type": "string"
           },
           {
            "metadata": {},
            "name": "content",
            "nullable": true,
            "type": "string"
           },
           {
            "metadata": {},
            "name": "word_count",
            "nullable": true,
            "type": "integer"
           },
           {
            "metadata": {},
            "name": "sentiment",
            "nullable": true,
            "type": "string"
           },
           {
            "metadata": {},
            "name": "compound_score",
            "nullable": true,
            "type": "double"
           }
          ],
          "type": "struct"
         },
         "tableIdentifier": null,
         "typeStr": "pyspark.sql.connect.dataframe.DataFrame"
        }
       ],
       "dbfsResultPath": null,
       "isJsonSchema": true,
       "metadata": {
        "createTempViewForImplicitDf": true,
        "dataframeName": "_sqldf",
        "executionCount": 20
       },
       "overflow": false,
       "plotOptions": {
        "customPlotOptions": {},
        "displayType": "table",
        "pivotAggregation": null,
        "pivotColumns": null,
        "xColumns": null,
        "yColumns": null
       },
       "removedWidgets": [],
       "schema": [
        {
         "metadata": "{}",
         "name": "source",
         "type": "\"string\""
        },
        {
         "metadata": "{}",
         "name": "title",
         "type": "\"string\""
        },
        {
         "metadata": "{}",
         "name": "date_posted",
         "type": "\"date\""
        },
        {
         "metadata": "{}",
         "name": "author",
         "type": "\"string\""
        },
        {
         "metadata": "{}",
         "name": "url",
         "type": "\"string\""
        },
        {
         "metadata": "{}",
         "name": "content",
         "type": "\"string\""
        },
        {
         "metadata": "{}",
         "name": "word_count",
         "type": "\"integer\""
        },
        {
         "metadata": "{}",
         "name": "sentiment",
         "type": "\"string\""
        },
        {
         "metadata": "{}",
         "name": "compound_score",
         "type": "\"double\""
        }
       ],
       "type": "table"
      }
     },
     "output_type": "display_data"
    }
   ],
   "source": [
    "%sql\n",
    "select * from the_news.news_table"
   ]
  }
 ],
 "metadata": {
  "application/vnd.databricks.v1+notebook": {
   "computePreferences": null,
   "dashboards": [],
   "environmentMetadata": {
    "base_environment": "",
    "environment_version": "2"
   },
   "inputWidgetPreferences": null,
   "language": "python",
   "notebookMetadata": {
    "mostRecentlyExecutedCommandWithImplicitDF": {
     "commandId": 6154446715602188,
     "dataframes": [
      "_sqldf"
     ]
    },
    "pythonIndentUnit": 4
   },
   "notebookName": "Final_Project_-Automated-ETL-Pipeline-Using-Databricks",
   "widgets": {}
  },
  "language_info": {
   "name": "python"
  }
 },
 "nbformat": 4,
 "nbformat_minor": 0
}